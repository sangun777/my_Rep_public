{
 "cells": [
  {
   "cell_type": "markdown",
   "metadata": {},
   "source": [
    "# 9-11. 프로젝트 : 네이버 영화리뷰 감성분석 도전하기\n",
    "\n",
    "     * 한국어 텍스트의 감정분석\n",
    "     * 데이터셋은 네이버 영화의 댓글을 모아 구성된 Naver sentiment movie corpus"
   ]
  },
  {
   "cell_type": "markdown",
   "metadata": {},
   "source": [
    "## 1) 데이터 준비와 확인"
   ]
  },
  {
   "cell_type": "code",
   "execution_count": 1,
   "metadata": {},
   "outputs": [
    {
     "data": {
      "text/html": [
       "<div>\n",
       "<style scoped>\n",
       "    .dataframe tbody tr th:only-of-type {\n",
       "        vertical-align: middle;\n",
       "    }\n",
       "\n",
       "    .dataframe tbody tr th {\n",
       "        vertical-align: top;\n",
       "    }\n",
       "\n",
       "    .dataframe thead th {\n",
       "        text-align: right;\n",
       "    }\n",
       "</style>\n",
       "<table border=\"1\" class=\"dataframe\">\n",
       "  <thead>\n",
       "    <tr style=\"text-align: right;\">\n",
       "      <th></th>\n",
       "      <th>id</th>\n",
       "      <th>document</th>\n",
       "      <th>label</th>\n",
       "    </tr>\n",
       "  </thead>\n",
       "  <tbody>\n",
       "    <tr>\n",
       "      <th>0</th>\n",
       "      <td>9976970</td>\n",
       "      <td>아 더빙.. 진짜 짜증나네요 목소리</td>\n",
       "      <td>0</td>\n",
       "    </tr>\n",
       "    <tr>\n",
       "      <th>1</th>\n",
       "      <td>3819312</td>\n",
       "      <td>흠...포스터보고 초딩영화줄....오버연기조차 가볍지 않구나</td>\n",
       "      <td>1</td>\n",
       "    </tr>\n",
       "    <tr>\n",
       "      <th>2</th>\n",
       "      <td>10265843</td>\n",
       "      <td>너무재밓었다그래서보는것을추천한다</td>\n",
       "      <td>0</td>\n",
       "    </tr>\n",
       "    <tr>\n",
       "      <th>3</th>\n",
       "      <td>9045019</td>\n",
       "      <td>교도소 이야기구먼 ..솔직히 재미는 없다..평점 조정</td>\n",
       "      <td>0</td>\n",
       "    </tr>\n",
       "    <tr>\n",
       "      <th>4</th>\n",
       "      <td>6483659</td>\n",
       "      <td>사이몬페그의 익살스런 연기가 돋보였던 영화!스파이더맨에서 늙어보이기만 했던 커스틴 ...</td>\n",
       "      <td>1</td>\n",
       "    </tr>\n",
       "  </tbody>\n",
       "</table>\n",
       "</div>"
      ],
      "text/plain": [
       "         id                                           document  label\n",
       "0   9976970                                아 더빙.. 진짜 짜증나네요 목소리      0\n",
       "1   3819312                  흠...포스터보고 초딩영화줄....오버연기조차 가볍지 않구나      1\n",
       "2  10265843                                  너무재밓었다그래서보는것을추천한다      0\n",
       "3   9045019                      교도소 이야기구먼 ..솔직히 재미는 없다..평점 조정      0\n",
       "4   6483659  사이몬페그의 익살스런 연기가 돋보였던 영화!스파이더맨에서 늙어보이기만 했던 커스틴 ...      1"
      ]
     },
     "execution_count": 1,
     "metadata": {},
     "output_type": "execute_result"
    }
   ],
   "source": [
    "import pandas as pd\n",
    "import urllib.request\n",
    "%matplotlib inline\n",
    "\n",
    "import matplotlib.pyplot as plt\n",
    "import re\n",
    "from konlpy.tag import Okt\n",
    "from tensorflow import keras\n",
    "from tensorflow.keras.preprocessing.text import Tokenizer\n",
    "import numpy as np\n",
    "from tensorflow.keras.preprocessing.sequence import pad_sequences\n",
    "from collections import Counter\n",
    "\n",
    "# 데이터 읽어보기\n",
    "train_data = pd.read_table('~/aiffel/sentiment_classification/ratings_train.txt')\n",
    "test_data = pd.read_table('~/aiffel/sentiment_classification/ratings_test.txt')\n",
    "\n",
    "train_data.head()"
   ]
  },
  {
   "cell_type": "code",
   "execution_count": 2,
   "metadata": {},
   "outputs": [
    {
     "name": "stdout",
     "output_type": "stream",
     "text": [
      "train의 갯수 :  150000\n",
      "test의 갯수 :  50000\n"
     ]
    }
   ],
   "source": [
    "print(\"train의 갯수 : \", len(train_data))\n",
    "print(\"test의 갯수 : \", len(test_data))"
   ]
  },
  {
   "cell_type": "markdown",
   "metadata": {},
   "source": [
    "## 2) 데이터로더 구성\n",
    "\n",
    "    * 실습 때 다루었던 IMDB 데이터셋은 텍스트를 가공하여 imdb.data_loader() 메소드를 호출하면\n",
    "      숫자 인덱스로 변환된 텍스트와 word_to_index 딕셔너리까지 친절하게 제공했지만\n",
    "      \n",
    "    * 이번에 다루게 될 nsmc 데이터셋은 전혀 가공되지 않은 텍스트 파일로 이루어짐\n",
    "    \n",
    "    * 이것을 읽어서 imdb.data_loader()와 동일하게 동작하는 자신만의 data_loader를 만들어 보는 것으로 시작\n",
    "    \n",
    "    * data_loader 안에서는 다음을 수행해야 함\n",
    "        * 데이터의 중복 제거\n",
    "        * NaN 결측치 제거\n",
    "        * 한국어 토크나이저로 토큰화\n",
    "        * 불용어(Stopwords) 제거\n",
    "        * 사전 word_to_index 구성\n",
    "        * 텍스트 스트링을 사전 인덱스 스트링으로 변환\n",
    "        * X_train, y_train, X_test, y_test, word_to_index 리턴"
   ]
  },
  {
   "cell_type": "code",
   "execution_count": 14,
   "metadata": {},
   "outputs": [],
   "source": [
    "from konlpy.tag import Mecab\n",
    "tokenizer = Mecab()\n",
    "stopwords = ['의','가','이','은','들','는','좀','잘','걍','과','도','를','으로','자','에','와','한','하다']\n",
    "\n",
    "def load_data(train_data, test_data, num_words=10000):\n",
    "    \n",
    "    train_data.drop_duplicates(subset=['document'], inplace=True)   # 중복 제거\n",
    "    train_data = train_data.dropna(how='any')                       # 결측치 제거\n",
    "    test_data.drop_duplicates(subset=['document'], inplace=True)\n",
    "    test_data = test_data.dropna(how='any')\n",
    "    \n",
    "    X_train = []    # train_data에서 'document'열만 뽑아서 리스트로 변환\n",
    "    for sentence in train_data['document']:\n",
    "        temp_X = tokenizer.morphs(sentence)   # 토큰화 = 문자열 형태의 단어들을 요소로 하는 리스트 반환\n",
    "        temp_X = [word for word in temp_X if not word in stopwords] # 불용어 제거\n",
    "        X_train.append(temp_X)   # 리스트인 temp.X가 X_train의 한 요소로 들어감\n",
    "        \n",
    "    X_test = []\n",
    "    for sentence in test_data['document']:\n",
    "        temp_X = tokenizer.morphs(sentence)   # 토큰화 = 문자열 형태의 단어들을 요소로 하는 리스트 반환\n",
    "        temp_X = [word for word in temp_X if not word in stopwords] # 불용어 제거\n",
    "        X_test.append(temp_X)   # 리스트인 temp.X가 X_train의 한 요소로 들어감        \n",
    "    \n",
    "    words = np.concatenate(X_train).tolist() \n",
    "    # 왜 이런 형태로 썼는지는 모으겠음, 나중에 X_train이랑 words랑 뭐가 다른건지 print 해보면 좀 알듯\n",
    "    counter = Counter(words)                 \n",
    "    counter = counter.most_common(10000-4)\n",
    "    vocab = ['<PAD>', '<BOS>', '<UNK>', '<UNUSED>'] + [key for key,_ in counter]\n",
    "    word_to_index = {word:index for index, word in enumerate(vocab)}      # word : index 형태의 dict 생성\n",
    "    \n",
    "    def wordlist_to_indexlist(wordlist): # 입력 값인 wordlist에 있는 단어들을 index또는 <UNK> 로 변환해서 리스트에 담아 반환\n",
    "        return [word_to_index[word] if word in word_to_index else word_to_index['<UNK>'] for word in wordlist]\n",
    "    \n",
    "    X_train = list(map(wordlist_to_indexlist, X_train))\n",
    "    X_test = list(map(wordlist_to_indexlist, X_test))\n",
    "    \n",
    "    return X_train, np.array(list(train_data['label'])), X_test, np.array(list(test_data['label'])), word_to_index\n",
    "    \n",
    "X_train, y_train, X_test, y_test, word_to_index = load_data(train_data, test_data)"
   ]
  },
  {
   "cell_type": "code",
   "execution_count": 15,
   "metadata": {},
   "outputs": [],
   "source": [
    "# { word : index } 를 받아 { index : word } 로 뒤집음\n",
    "index_to_word = {index:word for word, index in word_to_index.items()}"
   ]
  },
  {
   "cell_type": "code",
   "execution_count": 16,
   "metadata": {},
   "outputs": [],
   "source": [
    "# 입력 : 문장 1개, 활용할 딕셔너리(데이터 사전)\n",
    "# 출력 : 단어 인덱스 리스트 벡터\n",
    "# 인 함수 정의\n",
    "def get_encoded_sentence(sentence, word_to_index):\n",
    "    return [word_to_index['<BOS>']]+[word_to_index[word] if word in word_to_index else word_to_index['<UNK>'] for word in sentence.split()]\n",
    "# .split() : 긴 문자열형 자료를 받아 짧은 단어의 문자열을 요소로 하는 리스트로 변경\n",
    "\n",
    "# 여러 개의 문장을 받아 한꺼번어 단어 인덱스 리스트 벡터로 변경(함수명 끝에 s 추가)\n",
    "def get_encoded_sentences(sentences, word_to_index):\n",
    "    return [get_encoded_sentence(sentence, word_to_index) for sentence in sentences]\n",
    "\n",
    "# 숫자 벡터를 입력 받아 원래 문장으로 바꿔 줌\n",
    "def get_decoded_sentence(encoded_sentence, index_to_word):\n",
    "    return ' '.join(index_to_word[index] if index in index_to_word else '<UNK>' for index in encoded_sentence[1:]) # [1:]를 통해 <BOS>를 제외\n",
    "    # ''.join() : ''안의 구분자를 기준으로 리스트를 문자열로 다시 합체(split의 반대 연산)\n",
    "    \n",
    "# 여러개의 숫자 벡터로 encode된 문장을 한꺼번에 원래대로 decode하는 함수입니다. \n",
    "def get_decoded_sentences(encoded_sentences, index_to_word):\n",
    "    return [get_decoded_sentence(encoded_sentence, index_to_word) for encoded_sentence in encoded_sentences]    "
   ]
  },
  {
   "cell_type": "markdown",
   "metadata": {},
   "source": [
    "## 3) 모델구성을 위한 데이터 분석 및 가공\n",
    "    * 데이터셋 내 문장 길이 분포\n",
    "    * 적절한 최대 문장 길이 지정\n",
    "    * keras.preprocessing.sequence.pad_sequences 을 활용한 패딩 추가\n"
   ]
  },
  {
   "cell_type": "markdown",
   "metadata": {},
   "source": [
    "### 3-1. 데이터 셋 내 문장 길이 분포 확인"
   ]
  },
  {
   "cell_type": "code",
   "execution_count": 22,
   "metadata": {},
   "outputs": [
    {
     "name": "stdout",
     "output_type": "stream",
     "text": [
      "문장길이 평균 :  15.969376315021577\n",
      "문장길이 최대 :  116\n",
      "문장길이 표준편차 :  12.843535456326455\n"
     ]
    }
   ],
   "source": [
    "# 전체 문장 데이터에 대한 리스트 생성\n",
    "total_data = X_train+X_test\n",
    "\n",
    "num_tokens = [len(tokens) for tokens in total_data]\n",
    "num_tokens = np.array(num_tokens)\n",
    "\n",
    "# 문장길이의 평균값, 최대값, 표준편차를 계산해 본다. \n",
    "print('문장길이 평균 : ', np.mean(num_tokens))\n",
    "print('문장길이 최대 : ', np.max(num_tokens))\n",
    "print('문장길이 표준편차 : ', np.std(num_tokens))"
   ]
  },
  {
   "cell_type": "markdown",
   "metadata": {},
   "source": [
    "### 3-2. 적절한 최대 문장 길이 지정"
   ]
  },
  {
   "cell_type": "code",
   "execution_count": 23,
   "metadata": {},
   "outputs": [
    {
     "name": "stdout",
     "output_type": "stream",
     "text": [
      "pad_sequences maxlen :  41\n",
      "전체 문장의 0.9342988343341575%가 maxlen 설정값 이내에 포함됨\n"
     ]
    }
   ],
   "source": [
    "# 최대 길이를 (평균 + 2*표준편차)로 지정\n",
    "max_tokens = np.mean(num_tokens) + 2 * np.std(num_tokens)\n",
    "maxlen = int(max_tokens)\n",
    "print('pad_sequences maxlen : ', maxlen)\n",
    "print('전체 문장의 {}%가 maxlen 설정값 이내에 포함됨'.format(np.sum(num_tokens < max_tokens) / len(num_tokens)))"
   ]
  },
  {
   "cell_type": "markdown",
   "metadata": {},
   "source": [
    "### 3-3. keras.preprocessing.sequence.pad_sequences 을 활용한 패딩 추가"
   ]
  },
  {
   "cell_type": "code",
   "execution_count": 24,
   "metadata": {},
   "outputs": [
    {
     "name": "stdout",
     "output_type": "stream",
     "text": [
      "(146182, 41)\n"
     ]
    }
   ],
   "source": [
    "# 앞쪽 (pre) padding 추가\n",
    "X_train = keras.preprocessing.sequence.pad_sequences(X_train, value=word_to_index[\"<PAD>\"], padding='pre', maxlen=maxlen)\n",
    "X_test = keras.preprocessing.sequence.pad_sequences(X_test, value=word_to_index[\"<PAD>\"], padding='pre', maxlen=maxlen)\n",
    "\n",
    "print(X_train.shape)"
   ]
  },
  {
   "cell_type": "markdown",
   "metadata": {},
   "source": [
    "##  모델구성 및 validation set 구성\n",
    "    "
   ]
  },
  {
   "cell_type": "markdown",
   "metadata": {},
   "source": [
    "* RNN 모델 구성"
   ]
  },
  {
   "cell_type": "markdown",
   "metadata": {},
   "source": [
    " * 모델 1"
   ]
  },
  {
   "cell_type": "code",
   "execution_count": 26,
   "metadata": {},
   "outputs": [
    {
     "name": "stdout",
     "output_type": "stream",
     "text": [
      "Model: \"sequential\"\n",
      "_________________________________________________________________\n",
      "Layer (type)                 Output Shape              Param #   \n",
      "=================================================================\n",
      "embedding (Embedding)        (None, None, 16)          160000    \n",
      "_________________________________________________________________\n",
      "lstm (LSTM)                  (None, 8)                 800       \n",
      "_________________________________________________________________\n",
      "dense (Dense)                (None, 8)                 72        \n",
      "_________________________________________________________________\n",
      "dense_1 (Dense)              (None, 1)                 9         \n",
      "=================================================================\n",
      "Total params: 160,881\n",
      "Trainable params: 160,881\n",
      "Non-trainable params: 0\n",
      "_________________________________________________________________\n"
     ]
    }
   ],
   "source": [
    "vocab_size = 10000    # 어휘 사전의 크기(10,000개의 단어)\n",
    "word_vector_dim = 16  # 워드 벡터의 차원수 (변경가능한 하이퍼파라미터)\n",
    "\n",
    "# model 설계\n",
    "model = keras.Sequential()\n",
    "\n",
    "# input_shape = (batch_size, input_length)\n",
    "model.add(keras.layers.Embedding(vocab_size, word_vector_dim, input_shape=(None,)))\n",
    "model.add(keras.layers.LSTM(8)) # LSTM state 벡터의 차원수 8\n",
    "model.add(keras.layers.Dense(8, activation = 'relu'))\n",
    "model.add(keras.layers.Dense(1, activation = 'sigmoid')) # 최종 출력은 긍/부정을 나타내는 1 dim\n",
    "\n",
    "model.summary()"
   ]
  },
  {
   "cell_type": "markdown",
   "metadata": {},
   "source": [
    " * 모델 2"
   ]
  },
  {
   "cell_type": "code",
   "execution_count": null,
   "metadata": {},
   "outputs": [],
   "source": [
    "vocab_size = 5000    # 어휘 사전의 크기\n",
    "word_vector_dim = 16  # 워드 벡터의 차원수 (변경가능한 하이퍼파라미터)\n",
    "\n",
    "# model 설계\n",
    "model = keras.Sequential()\n",
    "\n",
    "# input_shape = (batch_size, input_length)\n",
    "model.add(keras.layers.Embedding(vocab_size, word_vector_dim, input_shape=(None,)))\n",
    "model.add(keras.layers.LSTM(8)) # LSTM state 벡터의 차원수 8\n",
    "model.add(keras.layers.Dense(8, activation = 'relu'))\n",
    "model.add(keras.layers.Dense(1, activation = 'sigmoid')) # 최종 출력은 긍/부정을 나타내는 1 dim\n",
    "\n",
    "model.summary()"
   ]
  },
  {
   "cell_type": "markdown",
   "metadata": {},
   "source": [
    " * 모델 3"
   ]
  },
  {
   "cell_type": "code",
   "execution_count": null,
   "metadata": {},
   "outputs": [],
   "source": [
    "vocab_size = 10000    # 어휘 사전의 크기(10,000개의 단어)\n",
    "word_vector_dim = 32  # 워드 벡터의 차원수 (변경가능한 하이퍼파라미터)\n",
    "\n",
    "# model 설계\n",
    "model = keras.Sequential()\n",
    "\n",
    "# input_shape = (batch_size, input_length)\n",
    "model.add(keras.layers.Embedding(vocab_size, word_vector_dim, input_shape=(None,)))\n",
    "model.add(keras.layers.LSTM(8)) # LSTM state 벡터의 차원수 8\n",
    "model.add(keras.layers.Dense(8, activation = 'relu'))\n",
    "model.add(keras.layers.Dense(1, activation = 'sigmoid')) # 최종 출력은 긍/부정을 나타내는 1 dim\n",
    "\n",
    "model.summary()"
   ]
  },
  {
   "cell_type": "markdown",
   "metadata": {},
   "source": [
    "*  모델 훈련 전에 train 데이터 중 10000개를 Validation set으로 사용"
   ]
  },
  {
   "cell_type": "code",
   "execution_count": 28,
   "metadata": {},
   "outputs": [
    {
     "name": "stdout",
     "output_type": "stream",
     "text": [
      "(136182, 41)\n",
      "(136182,)\n"
     ]
    }
   ],
   "source": [
    "# validation set 10000건 분리\n",
    "X_val = X_train[:10000]   \n",
    "y_val = y_train[:10000]\n",
    "\n",
    "# validation set을 제외한 나머지 15000건\n",
    "partial_X_train = X_train[10000:]  \n",
    "partial_y_train = y_train[10000:]\n",
    "\n",
    "print(partial_X_train.shape)\n",
    "print(partial_y_train.shape)"
   ]
  },
  {
   "cell_type": "markdown",
   "metadata": {},
   "source": [
    "## 5. 모델 훈련"
   ]
  },
  {
   "cell_type": "code",
   "execution_count": 118,
   "metadata": {},
   "outputs": [
    {
     "name": "stdout",
     "output_type": "stream",
     "text": [
      "Epoch 1/20\n",
      "266/266 [==============================] - 5s 18ms/step - loss: 0.2386 - accuracy: 0.9051 - val_loss: 0.3645 - val_accuracy: 0.8457\n",
      "Epoch 2/20\n",
      "266/266 [==============================] - 5s 18ms/step - loss: 0.2194 - accuracy: 0.9136 - val_loss: 0.3684 - val_accuracy: 0.8495\n",
      "Epoch 3/20\n",
      "266/266 [==============================] - 5s 18ms/step - loss: 0.1999 - accuracy: 0.9234 - val_loss: 0.3850 - val_accuracy: 0.8496\n",
      "Epoch 4/20\n",
      "266/266 [==============================] - 5s 19ms/step - loss: 0.1816 - accuracy: 0.9314 - val_loss: 0.4081 - val_accuracy: 0.8449\n",
      "Epoch 5/20\n",
      "266/266 [==============================] - 5s 18ms/step - loss: 0.1620 - accuracy: 0.9406 - val_loss: 0.4329 - val_accuracy: 0.8467\n",
      "Epoch 6/20\n",
      "266/266 [==============================] - 5s 18ms/step - loss: 0.1478 - accuracy: 0.9463 - val_loss: 0.4601 - val_accuracy: 0.8443\n",
      "Epoch 7/20\n",
      "266/266 [==============================] - 5s 18ms/step - loss: 0.1304 - accuracy: 0.9541 - val_loss: 0.4960 - val_accuracy: 0.8438\n",
      "Epoch 8/20\n",
      "266/266 [==============================] - 5s 18ms/step - loss: 0.1154 - accuracy: 0.9606 - val_loss: 0.5444 - val_accuracy: 0.8392\n",
      "Epoch 9/20\n",
      "266/266 [==============================] - 5s 18ms/step - loss: 0.1024 - accuracy: 0.9656 - val_loss: 0.5567 - val_accuracy: 0.8404\n",
      "Epoch 10/20\n",
      "266/266 [==============================] - 5s 18ms/step - loss: 0.0940 - accuracy: 0.9686 - val_loss: 0.5999 - val_accuracy: 0.8370\n",
      "Epoch 11/20\n",
      "266/266 [==============================] - 5s 18ms/step - loss: 0.0832 - accuracy: 0.9728 - val_loss: 0.6902 - val_accuracy: 0.8396\n",
      "Epoch 12/20\n",
      "266/266 [==============================] - 5s 18ms/step - loss: 0.0750 - accuracy: 0.9761 - val_loss: 0.7049 - val_accuracy: 0.8391\n",
      "Epoch 13/20\n",
      "266/266 [==============================] - 5s 18ms/step - loss: 0.0732 - accuracy: 0.9760 - val_loss: 0.7111 - val_accuracy: 0.8345\n",
      "Epoch 14/20\n",
      "266/266 [==============================] - 5s 18ms/step - loss: 0.0656 - accuracy: 0.9788 - val_loss: 0.8047 - val_accuracy: 0.8336\n",
      "Epoch 15/20\n",
      "266/266 [==============================] - 5s 18ms/step - loss: 0.0640 - accuracy: 0.9789 - val_loss: 0.8064 - val_accuracy: 0.8346\n",
      "Epoch 16/20\n",
      "266/266 [==============================] - 5s 18ms/step - loss: 0.0563 - accuracy: 0.9819 - val_loss: 0.8822 - val_accuracy: 0.8363\n",
      "Epoch 17/20\n",
      "266/266 [==============================] - 5s 19ms/step - loss: 0.0521 - accuracy: 0.9834 - val_loss: 0.8856 - val_accuracy: 0.8334\n",
      "Epoch 18/20\n",
      "266/266 [==============================] - 5s 19ms/step - loss: 0.0542 - accuracy: 0.9823 - val_loss: 0.9241 - val_accuracy: 0.8293\n",
      "Epoch 19/20\n",
      "266/266 [==============================] - 5s 19ms/step - loss: 0.0501 - accuracy: 0.9838 - val_loss: 0.9444 - val_accuracy: 0.8353\n",
      "Epoch 20/20\n",
      "266/266 [==============================] - 5s 19ms/step - loss: 0.0460 - accuracy: 0.9851 - val_loss: 0.9504 - val_accuracy: 0.8329\n"
     ]
    }
   ],
   "source": [
    "model.compile(optimizer='adam', loss='binary_crossentropy', metrics=['accuracy'])\n",
    "\n",
    "epochs = 20\n",
    "\n",
    "history = model.fit(partial_X_train, partial_y_train, epochs=epochs, batch_size=512, validation_data=(X_val, y_val), verbose=1)"
   ]
  },
  {
   "cell_type": "markdown",
   "metadata": {},
   "source": [
    " * 모델 평가"
   ]
  },
  {
   "cell_type": "code",
   "execution_count": 119,
   "metadata": {},
   "outputs": [
    {
     "name": "stdout",
     "output_type": "stream",
     "text": [
      "1537/1537 - 2s - loss: 0.9982 - accuracy: 0.8285\n",
      "[0.9982187151908875, 0.8285086750984192]\n"
     ]
    }
   ],
   "source": [
    "results = model.evaluate(X_test, y_test, verbose=2)\n",
    "\n",
    "print(results)"
   ]
  },
  {
   "cell_type": "markdown",
   "metadata": {},
   "source": [
    " * history 저장"
   ]
  },
  {
   "cell_type": "code",
   "execution_count": 34,
   "metadata": {},
   "outputs": [
    {
     "name": "stdout",
     "output_type": "stream",
     "text": [
      "{'loss': [0.4880617558956146, 0.34317347407341003, 0.3238266706466675, 0.31401264667510986, 0.30750271677970886, 0.30206459760665894, 0.29557541012763977, 0.2899504005908966, 0.2833036482334137, 0.27498242259025574, 0.26502659916877747, 0.2537115514278412, 0.24228769540786743, 0.23095956444740295, 0.22045812010765076, 0.21016407012939453, 0.20226524770259857, 0.19287578761577606, 0.1850251704454422, 0.17921483516693115], 'accuracy': [0.7909194827079773, 0.8557445406913757, 0.8652538657188416, 0.8695569038391113, 0.8728833198547363, 0.8755048513412476, 0.8782291412353516, 0.8815628886222839, 0.8847498297691345, 0.8882010579109192, 0.89277583360672, 0.8976590037345886, 0.9034527540206909, 0.9078586101531982, 0.9125068187713623, 0.9164867401123047, 0.9199894070625305, 0.9240061044692993, 0.9277144074440002, 0.930497407913208], 'val_loss': [0.362880676984787, 0.3434344232082367, 0.3486690819263458, 0.3453727960586548, 0.34510552883148193, 0.3447306752204895, 0.3447627127170563, 0.3457898795604706, 0.3445139527320862, 0.3438411355018616, 0.3489459156990051, 0.3453561067581177, 0.354013592004776, 0.3640668988227844, 0.364635705947876, 0.39663463830947876, 0.39794033765792847, 0.40955594182014465, 0.4217752516269684, 0.4508619010448456], 'val_accuracy': [0.8468999862670898, 0.852400004863739, 0.8482000231742859, 0.8507999777793884, 0.8499000072479248, 0.8501999974250793, 0.8521000146865845, 0.8521000146865845, 0.8529000282287598, 0.8540999889373779, 0.8536999821662903, 0.8565999865531921, 0.8557000160217285, 0.8529000282287598, 0.8550000190734863, 0.8532999753952026, 0.8537999987602234, 0.8503999710083008, 0.8518000245094299, 0.8486999869346619]}\n",
      "dict_keys(['loss', 'accuracy', 'val_loss', 'val_accuracy'])\n"
     ]
    }
   ],
   "source": [
    "# history 변수에 저장된 history 값을 가져옴(dict 형태로 반환)\n",
    "history_dict = history.history\n",
    "\n",
    "print(history_dict)\n",
    "\n",
    "# 각 key 값은 epoch에 따른 그래프를 그려볼 수 있는 항목들 임\n",
    "print(history_dict.keys())"
   ]
  },
  {
   "cell_type": "markdown",
   "metadata": {},
   "source": [
    "## 6) Loss, Accuracy 그래프 시각화"
   ]
  },
  {
   "cell_type": "markdown",
   "metadata": {},
   "source": [
    " * Loss 그래프"
   ]
  },
  {
   "cell_type": "code",
   "execution_count": 35,
   "metadata": {},
   "outputs": [
    {
     "data": {
      "image/png": "[encoded data removed]",
      "text/plain": [
       "<Figure size 432x288 with 1 Axes>"
      ]
     },
     "metadata": {
      "needs_background": "light"
     },
     "output_type": "display_data"
    }
   ],
   "source": [
    "import matplotlib.pyplot as plt\n",
    "\n",
    "# train_data에 대한 acuuracy\n",
    "acc = history_dict['accuracy']\n",
    "\n",
    "# validation data에 대한 accuracy\n",
    "val_acc = history_dict['val_accuracy']\n",
    "\n",
    "loss = history_dict['loss']\n",
    "val_loss = history_dict['val_loss']\n",
    "\n",
    "index_epochs = range(1, len(acc)+1)\n",
    "\n",
    "# \"bo\"는 파란색 점을 나타냄\n",
    "plt.plot(index_epochs, loss, 'bo', label = 'Training loss')\n",
    "\n",
    "# \"b\"는 파란색 실선을 나타냄\n",
    "plt.plot(index_epochs, val_loss, 'b', label = 'Validation loss')\n",
    "\n",
    "# 그래프 제목 달기\n",
    "plt.title(\"Training and Validation loss\")\n",
    "\n",
    "# x축 설명\n",
    "plt.xlabel(\"Epochs\")\n",
    "\n",
    "# y축\n",
    "plt.ylabel(\"Loss\")\n",
    "\n",
    "# 범주 나타냄\n",
    "plt.legend()\n",
    "\n",
    "plt.show()\n",
    "\n",
    "\n"
   ]
  },
  {
   "cell_type": "markdown",
   "metadata": {},
   "source": [
    " * 정확도 그래프"
   ]
  },
  {
   "cell_type": "code",
   "execution_count": 37,
   "metadata": {},
   "outputs": [
    {
     "data": {
      "image/png": "[encoded data removed]",
      "text/plain": [
       "<Figure size 432x288 with 1 Axes>"
      ]
     },
     "metadata": {
      "needs_background": "light"
     },
     "output_type": "display_data"
    }
   ],
   "source": [
    "plt.clf()   # 그림을 초기화합니다\n",
    "\n",
    "plt.plot(index_epochs, acc, 'bo', label='Training acc')\n",
    "plt.plot(index_epochs, val_acc, 'b', label='Validation acc')\n",
    "plt.title('Training and validation accuracy')\n",
    "plt.xlabel('Epochs')\n",
    "plt.ylabel('Accuracy')\n",
    "plt.legend()\n",
    "\n",
    "plt.show()"
   ]
  },
  {
   "cell_type": "markdown",
   "metadata": {},
   "source": [
    "## 7) 학습된 Embedding 레이어 분석"
   ]
  },
  {
   "cell_type": "markdown",
   "metadata": {},
   "source": [
    " * Embedding 레이어를 통해 학습한 파라미터 저장"
   ]
  },
  {
   "cell_type": "code",
   "execution_count": 78,
   "metadata": {},
   "outputs": [],
   "source": [
    "import os\n",
    "\n",
    "embedding_layer = model.layers[0]\n",
    "weights = embedding_layer.get_weights()[0]\n",
    "\n",
    "# 학습한 Embedding 파라미터를 파일에 써서 저장 \n",
    "word2vec_file_path = os.getenv('HOME')+'/aiffel/sentiment_classification/word2vec_project.txt'\n",
    "f = open(word2vec_file_path, 'w')  # 경로변수에 저장된 경로, 이름으로 파일 생성됨\n",
    "f.write('{} {}\\n'.format(vocab_size-4, word_vector_dim))  # 몇개의 벡터를 얼마 사이즈로 기재할지 타이틀 작성\n",
    "\n",
    "# 단어 개수(에서 특수문자 4개는 제외하고)만큼의 워드 벡터를 파일에 기록\n",
    "vectors = model.get_weights()[0]\n",
    "for i in range(4,vocab_size):\n",
    "    # ' '.join(리스트) : 문자열을 요소로 같는 시퀀스를 하나의 문자열 형태로 변환, ' '안에 있는 space로 요소간 간격 구분\n",
    "    f.write('{} {}\\n'.format(index_to_word[i], ' '.join(map(str, list(vectors[i, :])))))\n",
    "f.close()"
   ]
  },
  {
   "cell_type": "code",
   "execution_count": 86,
   "metadata": {},
   "outputs": [
    {
     "data": {
      "text/plain": [
       "array([ 0.01795136,  0.02765736, -0.00060501, -0.17796525,  0.05553143,\n",
       "       -0.00102621, -0.12967764, -0.08320764,  0.01762472,  0.04350508,\n",
       "        0.03435821,  0.03406207, -0.00603202,  0.06729977, -0.01047537,\n",
       "       -0.08940864], dtype=float32)"
      ]
     },
     "execution_count": 86,
     "metadata": {},
     "output_type": "execute_result"
    }
   ],
   "source": [
    "from gensim.models.keyedvectors import Word2VecKeyedVectors\n",
    "\n",
    "word_vectors = Word2VecKeyedVectors.load_word2vec_format(word2vec_file_path, binary=False)\n",
    "vector = word_vectors['스토리']\n",
    "vector"
   ]
  },
  {
   "cell_type": "markdown",
   "metadata": {},
   "source": [
    " * 주어진 단어에 대하여 모델 안에서 유사단어 추출"
   ]
  },
  {
   "cell_type": "code",
   "execution_count": 87,
   "metadata": {},
   "outputs": [
    {
     "data": {
      "text/plain": [
       "[('귀한', 0.8904482126235962),\n",
       " ('중', 0.8771058320999146),\n",
       " ('호흡', 0.8533762693405151),\n",
       " ('근디', 0.8498660326004028),\n",
       " ('벅찬', 0.8287866115570068),\n",
       " ('마르소', 0.827488899230957),\n",
       " ('내심', 0.8235054016113281),\n",
       " ('특수', 0.8180931806564331),\n",
       " ('원주민', 0.816709041595459),\n",
       " ('2002', 0.8128539323806763)]"
      ]
     },
     "execution_count": 87,
     "metadata": {},
     "output_type": "execute_result"
    }
   ],
   "source": [
    "word_vectors.similar_by_word(\"이야기\")"
   ]
  },
  {
   "cell_type": "markdown",
   "metadata": {},
   "source": [
    "## 8) 한국어 Word2Vec 임베딩 활용하여 성능개선"
   ]
  },
  {
   "cell_type": "code",
   "execution_count": 94,
   "metadata": {},
   "outputs": [],
   "source": [
    "import gensim\n",
    "from gensim.models import KeyedVectors\n",
    "\n",
    "word2vec_path = os.getenv('HOME')+'/aiffel/sentiment_classification/ko.bin'\n",
    "word2vec = gensim.models.Word2Vec.load(word2vec_path)"
   ]
  },
  {
   "cell_type": "code",
   "execution_count": 96,
   "metadata": {},
   "outputs": [
    {
     "name": "stderr",
     "output_type": "stream",
     "text": [
      "/home/aiffel0042/anaconda3/envs/aiffel/lib/python3.7/site-packages/ipykernel_launcher.py:8: DeprecationWarning: Call to deprecated `__contains__` (Method will be removed in 4.0.0, use self.wv.__contains__() instead).\n",
      "  \n",
      "/home/aiffel0042/anaconda3/envs/aiffel/lib/python3.7/site-packages/ipykernel_launcher.py:9: DeprecationWarning: Call to deprecated `__getitem__` (Method will be removed in 4.0.0, use self.wv.__getitem__() instead).\n",
      "  if __name__ == '__main__':\n"
     ]
    }
   ],
   "source": [
    "vocab_size = 10000    # 어휘 사전의 크기입니다(10,000개의 단어)\n",
    "word_vector_dim = 200  # 워드 벡터의 차원수 (변경가능한 하이퍼파라미터)\n",
    "\n",
    "embedding_matrix = np.random.rand(vocab_size, word_vector_dim)\n",
    "\n",
    "# embedding_matrix에 Word2Vec 워드벡터를 단어 하나씩마다 차례차례 카피한다.\n",
    "for i in range(4,vocab_size):\n",
    "    if index_to_word[i] in word2vec:\n",
    "        embedding_matrix[i] = word2vec[index_to_word[i]]"
   ]
  },
  {
   "cell_type": "code",
   "execution_count": 304,
   "metadata": {},
   "outputs": [
    {
     "name": "stdout",
     "output_type": "stream",
     "text": [
      "Model: \"sequential_75\"\n",
      "_________________________________________________________________\n",
      "Layer (type)                 Output Shape              Param #   \n",
      "=================================================================\n",
      "embedding_75 (Embedding)     (None, 41, 200)           2000000   \n",
      "_________________________________________________________________\n",
      "conv1d_140 (Conv1D)          (None, 35, 16)            22416     \n",
      "_________________________________________________________________\n",
      "max_pooling1d_71 (MaxPooling (None, 7, 16)             0         \n",
      "_________________________________________________________________\n",
      "conv1d_141 (Conv1D)          (None, 1, 16)             1808      \n",
      "_________________________________________________________________\n",
      "global_max_pooling1d_59 (Glo (None, 16)                0         \n",
      "_________________________________________________________________\n",
      "dense_145 (Dense)            (None, 8)                 136       \n",
      "_________________________________________________________________\n",
      "dense_146 (Dense)            (None, 8)                 72        \n",
      "_________________________________________________________________\n",
      "dense_147 (Dense)            (None, 1)                 9         \n",
      "=================================================================\n",
      "Total params: 2,024,441\n",
      "Trainable params: 2,024,441\n",
      "Non-trainable params: 0\n",
      "_________________________________________________________________\n"
     ]
    }
   ],
   "source": [
    "from tensorflow import keras\n",
    "from keras.initializers import Constant\n",
    "\n",
    "vocab_size = 10000    # 어휘 사전의 크기입니다(10,000개의 단어)\n",
    "word_vector_dim = 200  # 워드 벡터의 차원수 (변경가능한 하이퍼파라미터)\n",
    "\n",
    "# 모델 구성\n",
    "model = keras.Sequential()\n",
    "model.add(keras.layers.Embedding(vocab_size, \n",
    "                                 word_vector_dim, \n",
    "                                 embeddings_initializer=Constant(embedding_matrix),  # 카피한 임베딩을 여기서 활용\n",
    "                                 input_length=maxlen, \n",
    "                                 trainable=True))   # trainable을 True로 주면 Fine-tuning\n",
    "\n",
    "model.add(keras.layers.Conv1D(16, 7, activation='relu'))\n",
    "model.add(keras.layers.MaxPooling1D(5))\n",
    "model.add(keras.layers.Conv1D(16, 7, activation='relu'))\n",
    "model.add(keras.layers.GlobalMaxPooling1D())\n",
    "model.add(keras.layers.Dense(8, activation='relu'))\n",
    "model.add(keras.layers.Dense(8, activation='relu'))\n",
    "model.add(keras.layers.Dense(1, activation='sigmoid')) \n",
    "\n",
    "model.summary()"
   ]
  },
  {
   "cell_type": "code",
   "execution_count": 305,
   "metadata": {},
   "outputs": [
    {
     "name": "stdout",
     "output_type": "stream",
     "text": [
      "Epoch 1/3\n",
      "2128/2128 [==============================] - 27s 13ms/step - loss: 0.4423 - accuracy: 0.7870 - val_loss: 0.3590 - val_accuracy: 0.8434\n",
      "Epoch 2/3\n",
      "2128/2128 [==============================] - 25s 12ms/step - loss: 0.3269 - accuracy: 0.8586 - val_loss: 0.3314 - val_accuracy: 0.8572\n",
      "Epoch 3/3\n",
      "2128/2128 [==============================] - 25s 12ms/step - loss: 0.2903 - accuracy: 0.8779 - val_loss: 0.3308 - val_accuracy: 0.8599\n"
     ]
    }
   ],
   "source": [
    "# 학습의 진행\n",
    "model.compile(optimizer='Adam',\n",
    "              loss='binary_crossentropy',\n",
    "              metrics=['accuracy'])\n",
    "              \n",
    "epochs=3  # 몇 epoch를 훈련하면 좋을지 결과를 보면서 바꾸어 봅시다. \n",
    "\n",
    "history = model.fit(partial_X_train,\n",
    "                    partial_y_train,\n",
    "                    epochs=epochs,\n",
    "                    batch_size=64,\n",
    "                    validation_data=(X_val, y_val),\n",
    "                    verbose=1)"
   ]
  },
  {
   "cell_type": "code",
   "execution_count": 306,
   "metadata": {},
   "outputs": [
    {
     "name": "stdout",
     "output_type": "stream",
     "text": [
      "1537/1537 - 2s - loss: 0.3414 - accuracy: 0.8532\n",
      "[0.34140872955322266, 0.853184700012207]\n"
     ]
    }
   ],
   "source": [
    "# 테스트셋을 통한 모델 평가\n",
    "results = model.evaluate(X_test,  y_test, verbose=2)\n",
    "\n",
    "print(results)"
   ]
  },
  {
   "cell_type": "markdown",
   "metadata": {},
   "source": [
    "# 결론\n",
    "\n",
    "    * Word2Vec를 사용하여 정확도 85% 이상을 달성 하였다.\n",
    "    * 모델의 Dense 레이어를 뒤쪽에 하나 추가하였을때, 정확도가 약간 향샹된 경향을 보였다.\n",
    "    * 모델 훈련시 batch size를 줄여나갈수록 학습 시간은 오래걸렸지만, 정확도는 향상되었다.\n",
    "    "
   ]
  }
 ],
 "metadata": {
  "kernelspec": {
   "display_name": "aiffel",
   "language": "python",
   "name": "aiffel"
  },
  "language_info": {
   "codemirror_mode": {
    "name": "ipython",
    "version": 3
   },
   "file_extension": ".py",
   "mimetype": "text/x-python",
   "name": "python",
   "nbconvert_exporter": "python",
   "pygments_lexer": "ipython3",
   "version": "3.7.6"
  }
 },
 "nbformat": 4,
 "nbformat_minor": 4
}
