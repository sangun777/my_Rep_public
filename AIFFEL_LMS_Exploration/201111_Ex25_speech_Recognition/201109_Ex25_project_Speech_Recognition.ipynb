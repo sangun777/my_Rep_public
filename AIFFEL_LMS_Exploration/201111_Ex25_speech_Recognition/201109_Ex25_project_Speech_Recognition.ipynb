{
 "cells": [
  {
   "cell_type": "markdown",
   "metadata": {},
   "source": [
    "## 25-2. 음성과 오디오 데이터"
   ]
  },
  {
   "cell_type": "markdown",
   "metadata": {},
   "source": [
    "위에서 언급한 오디오 데이터는 아날로그 데이터로서의 소리에 대한 설명이었습니다. 그러나 컴퓨터는 0과 1로만 이루어진 디지털 데이터만 취급 가능합니다. 우리가 흔히 볼 수 있는 소리들은 컴퓨터의 입력으로 들어가게 되면 어떤 과정을 거치게 될까요? 컴퓨터가 소리를 이해하는 과정을 살펴보겠습니다!\n",
    "\n",
    "연속적인 아날로그 신호 중 가장 단순한 형태인 사인 함수(sine function)를 수식으로 표현하면 아래와 같습니다.\n",
    "\n",
    "    * Asin(2*pi*f*t-theta)\n",
    "\n",
    "는 진폭(amplitude)으로 위, 아래로 움직이는 소리의 크기를 나타냅니다. 는 주파수(frequnecy)로, 초당 진동 횟수를 나타냅니다. 즉, 소리의 세기를 나타냅니다. 주파수가 높으면 빠르게 진동해 소리의 세기가 커지게 됩니다. 은 위상이고 는 시간으로 정의합니다. \n",
    "\n",
    "### 아날로그 신호의 표본화(Sampling)"
   ]
  },
  {
   "cell_type": "code",
   "execution_count": 1,
   "metadata": {},
   "outputs": [],
   "source": [
    "import numpy as np\n",
    "import matplotlib.pyplot as plt\n",
    "\n",
    "def single_tone(frequecy, sampling_rate=16000, duration=1):\n",
    "    t = np.linspace(0, duration, int(sampling_rate))\n",
    "    y = np.sin(2 * np.pi * frequecy * t)\n",
    "    return y\n",
    "\n",
    "y = single_tone(400)"
   ]
  },
  {
   "cell_type": "markdown",
   "metadata": {},
   "source": [
    "1 사이클 동안 나타나는 연속시간 연속크기 아날로그 신호인 간단한 사인함수를 그려보겠습니다."
   ]
  },
  {
   "cell_type": "code",
   "execution_count": 2,
   "metadata": {},
   "outputs": [
    {
     "data": {
      "image/png": "[encoded data removed]",
      "text/plain": [
       "<Figure size 432x288 with 1 Axes>"
      ]
     },
     "metadata": {
      "needs_background": "light"
     },
     "output_type": "display_data"
    }
   ],
   "source": [
    "plt.plot(y[:41])\n",
    "plt.show()"
   ]
  },
  {
   "cell_type": "markdown",
   "metadata": {},
   "source": [
    "시간축 방향에서 일정 간격으로 샘플을 추출하여 이산 신호(discrete signal)로 변환시키는 과정을 표본화(Sampling)라고 부릅니다. 아래 그래프는 1 사이클 동안 나타나는 이산시간 연속크기 신호를 한번 출력해보도록 하겠습니다."
   ]
  },
  {
   "cell_type": "code",
   "execution_count": 3,
   "metadata": {},
   "outputs": [
    {
     "name": "stderr",
     "output_type": "stream",
     "text": [
      "/home/aiffel0042/anaconda3/envs/aiffel/lib/python3.7/site-packages/ipykernel_launcher.py:1: UserWarning: In Matplotlib 3.3 individual lines on a stem plot will be added as a LineCollection instead of individual lines. This significantly improves the performance of a stem plot. To remove this warning and switch to the new behaviour, set the \"use_line_collection\" keyword argument to True.\n",
      "  \"\"\"Entry point for launching an IPython kernel.\n"
     ]
    },
    {
     "data": {
      "image/png": "[encoded data removed]",
      "text/plain": [
       "<Figure size 432x288 with 1 Axes>"
      ]
     },
     "metadata": {
      "needs_background": "light"
     },
     "output_type": "display_data"
    }
   ],
   "source": [
    "plt.stem(y[:41])\n",
    "plt.show()"
   ]
  },
  {
   "cell_type": "markdown",
   "metadata": {},
   "source": [
    "### Wave data 분석"
   ]
  },
  {
   "cell_type": "code",
   "execution_count": 4,
   "metadata": {},
   "outputs": [],
   "source": [
    "import numpy as np\n",
    "import os\n",
    "\n",
    "data_path = os.getenv(\"HOME\")+'/aiffel/speech_recognition/data/speech_wav_8000.npz'\n",
    "speech_data = np.load(data_path)"
   ]
  },
  {
   "cell_type": "markdown",
   "metadata": {},
   "source": [
    "### 데이터셋 살펴보기\n",
    "\n",
    " - npz 파일로 이뤄진 데이터이며, \n",
    " - 각각 데이터는 \"wav_vals\", \"label_vals\"로 저장되어있습니다."
   ]
  },
  {
   "cell_type": "code",
   "execution_count": 5,
   "metadata": {},
   "outputs": [
    {
     "name": "stdout",
     "output_type": "stream",
     "text": [
      "Wave data shape :  (50620, 8000)\n",
      "Label data shape :  (50620, 1)\n"
     ]
    }
   ],
   "source": [
    "print(\"Wave data shape : \", speech_data[\"wav_vals\"].shape)\n",
    "print(\"Label data shape : \", speech_data[\"label_vals\"].shape)"
   ]
  },
  {
   "cell_type": "code",
   "execution_count": 6,
   "metadata": {},
   "outputs": [
    {
     "data": {
      "text/plain": [
       "array([-1.27418665e-04, -1.12644804e-04, -1.86756923e-04, ...,\n",
       "       -1.62762426e-05, -4.93293861e-04, -3.55132594e-04], dtype=float32)"
      ]
     },
     "execution_count": 6,
     "metadata": {},
     "output_type": "execute_result"
    }
   ],
   "source": [
    "speech_data[\"wav_vals\"][0]"
   ]
  },
  {
   "cell_type": "code",
   "execution_count": 7,
   "metadata": {},
   "outputs": [
    {
     "data": {
      "text/plain": [
       "8000"
      ]
     },
     "execution_count": 7,
     "metadata": {},
     "output_type": "execute_result"
    }
   ],
   "source": [
    "len(speech_data[\"wav_vals\"][0])"
   ]
  },
  {
   "cell_type": "markdown",
   "metadata": {},
   "source": [
    "\n",
    "- 데이터셋은 1초 길이의 오디오 음성데이터 50620개로 이뤄져 있습니다.\n",
    "- 주어진 데이터의 원래 Sample rate는 16000이지만, 8000으로 re-sampling해 사용하겠습니다.\n",
    "- 모두 1초의 길이를 가지는 오디오 음성데이터이여서 각각 8000개의 sample data를 가지고 있습니다.\n",
    "\n",
    "### 데이터 확인"
   ]
  },
  {
   "cell_type": "code",
   "execution_count": 8,
   "metadata": {},
   "outputs": [
    {
     "name": "stdout",
     "output_type": "stream",
     "text": [
      "rand num :  19863\n",
      "Wave data shape :  (8000,)\n",
      "label :  ['yes']\n"
     ]
    },
    {
     "data": {
      "text/html": [
       "\n",
       "                <audio  controls=\"controls\" >\n",
       "                    <source src=\"data:audio/wav;base64,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\" type=\"audio/wav\" />\n",
       "                    Your browser does not support the audio element.\n",
       "                </audio>\n",
       "              "
      ],
      "text/plain": [
       "<IPython.lib.display.Audio object>"
      ]
     },
     "execution_count": 8,
     "metadata": {},
     "output_type": "execute_result"
    }
   ],
   "source": [
    "import IPython.display as ipd\n",
    "import random\n",
    "\n",
    "# 데이터 선택\n",
    "rand = random.randint(0, len(speech_data[\"wav_vals\"]))\n",
    "print(\"rand num : \", rand)\n",
    "\n",
    "sr = 8000 # 1초동안 재생되는 샘플의 갯수\n",
    "data = speech_data[\"wav_vals\"][rand]\n",
    "print(\"Wave data shape : \", data.shape)\n",
    "print(\"label : \", speech_data[\"label_vals\"][rand])\n",
    "\n",
    "ipd.Audio(data, rate=sr)"
   ]
  },
  {
   "cell_type": "markdown",
   "metadata": {},
   "source": [
    "## 25-3. Train/Test 데이터셋 구성하기"
   ]
  },
  {
   "cell_type": "markdown",
   "metadata": {},
   "source": [
    "Label data 처리\n",
    "\n",
    "현재 단어의 정답은 Text 형태로 이뤄져있습니다. 학습을 위해서는 Text 데이터를 학습가능한 형태로 만들어줘야 합니다.\n",
    "\n",
    "아래는 구분해야할 label 목록입니다.\n",
    "\n",
    "['yes', 'no', 'up', 'down', 'left', 'right', 'on', 'off', 'stop', 'go' ]\n",
    "\n",
    "이외 데이터들은 'unknown', 'silence'로 분류되어 있습니다."
   ]
  },
  {
   "cell_type": "code",
   "execution_count": 9,
   "metadata": {},
   "outputs": [],
   "source": [
    "target_list = ['yes', 'no', 'up', 'down', 'left', 'right', 'on', 'off', 'stop', 'go']\n",
    "\n",
    "label_value = target_list\n",
    "label_value.append('unknown')\n",
    "label_value.append('silence')\n",
    "\n",
    "new_label_value = dict()\n",
    "for i, l in enumerate(label_value):\n",
    "    new_label_value[l] = i\n",
    "label_value = new_label_value"
   ]
  },
  {
   "cell_type": "markdown",
   "metadata": {},
   "source": [
    "Text 이루어진 데이터를 학습에 사용하기 위해서 index 형태로 바꿔주는 작업을 하겠습니다.\n",
    "int로 이뤄진 index 작업을 통해서 Label data를 더 쉽게 사용할 수 있습니다."
   ]
  },
  {
   "cell_type": "code",
   "execution_count": 10,
   "metadata": {},
   "outputs": [],
   "source": [
    "temp = []\n",
    "for v in speech_data[\"label_vals\"]:\n",
    "    temp.append(label_value[v[0]])\n",
    "label_data = np.array(temp)"
   ]
  },
  {
   "cell_type": "markdown",
   "metadata": {},
   "source": [
    "### 학습을 위한 데이터 분리\n",
    "\n",
    "sklearn의 train_test_split 함수를 이용해 train data와 test data를 분리하겠습니다.\n",
    "test_size의 인자를 조절해주면, 설정해 준 값만큼 Test dataset의 비율을 조정할 수 있습니다."
   ]
  },
  {
   "cell_type": "code",
   "execution_count": 11,
   "metadata": {},
   "outputs": [
    {
     "name": "stdout",
     "output_type": "stream",
     "text": [
      "[[ 2.2814428e-03  2.8821588e-03 -2.0103923e-03 ...  1.0771671e-03\n",
      "  -9.7122975e-05 -4.3639541e-03]\n",
      " [-3.2785512e-04 -6.4946583e-04 -6.0845783e-04 ...  6.1840308e-04\n",
      "   3.3623099e-04  6.5465458e-04]\n",
      " [ 3.8253441e-02 -1.7335197e-02 -2.4574589e-02 ... -1.3974822e-02\n",
      "   2.2620312e-03 -7.8699760e-02]\n",
      " ...\n",
      " [ 1.3956986e-02  2.0168167e-02  1.3741632e-02 ...  1.8445546e-02\n",
      "   2.3620570e-02  1.7845092e-02]\n",
      " [-3.2113265e-04 -4.8635132e-04 -6.5334997e-04 ...  7.0958759e-04\n",
      "   1.2375372e-03  1.1411059e-03]\n",
      " [ 1.5140572e-04  3.8526847e-04  3.0712545e-05 ... -4.9273782e-05\n",
      "  -2.1782360e-04 -2.1258678e-04]]\n"
     ]
    }
   ],
   "source": [
    "from sklearn.model_selection import train_test_split\n",
    "\n",
    "sr = 8000\n",
    "train_wav, test_wav, train_label, test_label = train_test_split(speech_data[\"wav_vals\"], \n",
    "                                                                label_data, \n",
    "                                                                test_size=0.1,\n",
    "                                                                shuffle=True)\n",
    "print(train_wav)\n",
    "\n",
    "train_wav = train_wav.reshape([-1, sr, 1]) # add channel for CNN\n",
    "test_wav = test_wav.reshape([-1, sr, 1])"
   ]
  },
  {
   "cell_type": "markdown",
   "metadata": {},
   "source": [
    "### 데이터셋을 확인"
   ]
  },
  {
   "cell_type": "code",
   "execution_count": 12,
   "metadata": {},
   "outputs": [
    {
     "name": "stdout",
     "output_type": "stream",
     "text": [
      "train data :  (45558, 8000, 1)\n",
      "train labels :  (45558,)\n",
      "test data :  (5062, 8000, 1)\n",
      "test labels :  (5062,)\n"
     ]
    }
   ],
   "source": [
    "print(\"train data : \", train_wav.shape)\n",
    "print(\"train labels : \", train_label.shape)\n",
    "print(\"test data : \", test_wav.shape)\n",
    "print(\"test labels : \", test_label.shape)"
   ]
  },
  {
   "cell_type": "markdown",
   "metadata": {},
   "source": [
    "### Hyper-parameters setting\n",
    "\n",
    "- 학습을 위한 하이퍼파라미터를 설정해줍니다.\n",
    "- 모델 체크포인트 저장을 위한 체크포인트의 경로를 설정해줍니다.\n",
    "- 후에 모델 체크포인트 Callback 함수를 설정하거나, 모델을 불러올때 사용합니다."
   ]
  },
  {
   "cell_type": "code",
   "execution_count": 13,
   "metadata": {},
   "outputs": [
    {
     "data": {
      "text/plain": [
       "'/home/aiffel0042/aiffel/speech_recognition/models/wav'"
      ]
     },
     "execution_count": 13,
     "metadata": {},
     "output_type": "execute_result"
    }
   ],
   "source": [
    "batch_size = 128\n",
    "max_epochs = 10\n",
    "\n",
    "# the save point\n",
    "checkpoint_dir = os.getenv('HOME')+'/aiffel/speech_recognition/models/wav'\n",
    "\n",
    "checkpoint_dir"
   ]
  },
  {
   "cell_type": "markdown",
   "metadata": {},
   "source": [
    "### Data setting\n",
    "\n",
    "tf.data.Dataset을 이용해서 데이터셋을 구성해주겠습니다.\n",
    "from_tensor_slices 함수에 return 받길 원하는 데이터를 튜플 (data, label) 형태로 넣어서 사용할 수 있습니다.\n",
    "\n",
    "map 함수는 dataset이 데이터를 불러올때마다 동작해주는 일종의 데이터 전처리 함수입니다.\n",
    "첫번째 map 함수는 from_tensor_slice 에 입력한 튜플 형태로 데이터를 받으며 return 값으로 어떤 데이터를 반환할지 결정합니다.\n",
    "map 함수는 중첩해서 사용이 가능합니다."
   ]
  },
  {
   "cell_type": "code",
   "execution_count": 14,
   "metadata": {},
   "outputs": [],
   "source": [
    "def one_hot_label(wav, label):\n",
    "    label = tf.one_hot(label, depth=12)\n",
    "    return wav, label"
   ]
  },
  {
   "cell_type": "markdown",
   "metadata": {},
   "source": [
    "- tf.data.Dataset 함수를 구성\n",
    "\n",
    "- batch는 dataset에서 제공하는 튜플 형태의 데이터를 얼마나 가져올지 결정하는 함수"
   ]
  },
  {
   "cell_type": "code",
   "execution_count": 15,
   "metadata": {},
   "outputs": [
    {
     "name": "stdout",
     "output_type": "stream",
     "text": [
      "<BatchDataset shapes: ((None, 8000, 1), (None, 12)), types: (tf.float32, tf.float32)>\n",
      "<BatchDataset shapes: ((None, 8000, 1), (None, 12)), types: (tf.float32, tf.float32)>\n"
     ]
    }
   ],
   "source": [
    "import tensorflow as tf\n",
    "\n",
    "# for train\n",
    "train_dataset = tf.data.Dataset.from_tensor_slices((train_wav, train_label))\n",
    "train_dataset = train_dataset.map(one_hot_label)\n",
    "train_dataset = train_dataset.repeat().batch(batch_size=batch_size)\n",
    "print(train_dataset)\n",
    "\n",
    "# for test\n",
    "test_dataset = tf.data.Dataset.from_tensor_slices((test_wav, test_label))\n",
    "test_dataset = test_dataset.map(one_hot_label)\n",
    "test_dataset = test_dataset.batch(batch_size=batch_size)\n",
    "print(test_dataset)\n"
   ]
  },
  {
   "cell_type": "markdown",
   "metadata": {},
   "source": [
    "## 25-4. Wave classification 모델 구현\n",
    "\n",
    "### Model\n",
    "\n",
    "- Audio 데이터는 1차원 데이터이기 때문에 데이터 형식에 맞도록 모델을 구성해주어야 합니다.\n",
    "- Conv1D layer를 이용해서 모델을 구성해보겠습니다.\n",
    "- Conv, batch norm, dropout, dense layer 등을 이용해 모델을 구성해보도록 하죠."
   ]
  },
  {
   "cell_type": "code",
   "execution_count": 16,
   "metadata": {},
   "outputs": [
    {
     "name": "stdout",
     "output_type": "stream",
     "text": [
      "Model: \"functional_1\"\n",
      "_________________________________________________________________\n",
      "Layer (type)                 Output Shape              Param #   \n",
      "=================================================================\n",
      "input_1 (InputLayer)         [(None, 8000, 1)]         0         \n",
      "_________________________________________________________________\n",
      "conv1d (Conv1D)              (None, 8000, 32)          320       \n",
      "_________________________________________________________________\n",
      "conv1d_1 (Conv1D)            (None, 8000, 32)          9248      \n",
      "_________________________________________________________________\n",
      "max_pooling1d (MaxPooling1D) (None, 4000, 32)          0         \n",
      "_________________________________________________________________\n",
      "conv1d_2 (Conv1D)            (None, 4000, 64)          18496     \n",
      "_________________________________________________________________\n",
      "conv1d_3 (Conv1D)            (None, 4000, 64)          36928     \n",
      "_________________________________________________________________\n",
      "max_pooling1d_1 (MaxPooling1 (None, 2000, 64)          0         \n",
      "_________________________________________________________________\n",
      "conv1d_4 (Conv1D)            (None, 2000, 128)         73856     \n",
      "_________________________________________________________________\n",
      "conv1d_5 (Conv1D)            (None, 2000, 128)         147584    \n",
      "_________________________________________________________________\n",
      "conv1d_6 (Conv1D)            (None, 2000, 128)         147584    \n",
      "_________________________________________________________________\n",
      "max_pooling1d_2 (MaxPooling1 (None, 1000, 128)         0         \n",
      "_________________________________________________________________\n",
      "conv1d_7 (Conv1D)            (None, 1000, 256)         295168    \n",
      "_________________________________________________________________\n",
      "conv1d_8 (Conv1D)            (None, 1000, 256)         590080    \n",
      "_________________________________________________________________\n",
      "conv1d_9 (Conv1D)            (None, 1000, 256)         590080    \n",
      "_________________________________________________________________\n",
      "max_pooling1d_3 (MaxPooling1 (None, 500, 256)          0         \n",
      "_________________________________________________________________\n",
      "dropout (Dropout)            (None, 500, 256)          0         \n",
      "_________________________________________________________________\n",
      "flatten (Flatten)            (None, 128000)            0         \n",
      "_________________________________________________________________\n",
      "dense (Dense)                (None, 256)               32768256  \n",
      "_________________________________________________________________\n",
      "batch_normalization (BatchNo (None, 256)               1024      \n",
      "_________________________________________________________________\n",
      "activation (Activation)      (None, 256)               0         \n",
      "_________________________________________________________________\n",
      "dense_1 (Dense)              (None, 12)                3084      \n",
      "=================================================================\n",
      "Total params: 34,681,708\n",
      "Trainable params: 34,681,196\n",
      "Non-trainable params: 512\n",
      "_________________________________________________________________\n"
     ]
    }
   ],
   "source": [
    "from tensorflow.keras import layers\n",
    "\n",
    "input_tensor = layers.Input(shape=(sr, 1))\n",
    "\n",
    "x = layers.Conv1D(32, 9, padding='same', activation='relu')(input_tensor)\n",
    "x = layers.Conv1D(32, 9, padding='same', activation='relu')(x)\n",
    "x = layers.MaxPool1D()(x)\n",
    "\n",
    "x = layers.Conv1D(64, 9, padding='same', activation='relu')(x)\n",
    "x = layers.Conv1D(64, 9, padding='same', activation='relu')(x)\n",
    "x = layers.MaxPool1D()(x)\n",
    "\n",
    "x = layers.Conv1D(128, 9, padding='same', activation='relu')(x)\n",
    "x = layers.Conv1D(128, 9, padding='same', activation='relu')(x)\n",
    "x = layers.Conv1D(128, 9, padding='same', activation='relu')(x)\n",
    "x = layers.MaxPool1D()(x)\n",
    "\n",
    "x = layers.Conv1D(256, 9, padding='same', activation='relu')(x)\n",
    "x = layers.Conv1D(256, 9, padding='same', activation='relu')(x)\n",
    "x = layers.Conv1D(256, 9, padding='same', activation='relu')(x)\n",
    "x = layers.MaxPool1D()(x)\n",
    "x = layers.Dropout(0.3)(x)\n",
    "\n",
    "x = layers.Flatten()(x)\n",
    "x = layers.Dense(256)(x)\n",
    "x = layers.BatchNormalization()(x)\n",
    "x = layers.Activation('relu')(x)\n",
    "\n",
    "output_tensor = layers.Dense(12)(x)\n",
    "\n",
    "model_wav = tf.keras.Model(input_tensor, output_tensor)\n",
    "\n",
    "model_wav.summary()"
   ]
  },
  {
   "cell_type": "markdown",
   "metadata": {},
   "source": [
    "### Loss\n",
    "\n",
    " - 현재 라벨이 될 수 있는 12개의 단어 class를 가지고 있습니다.\n",
    " - 해당 class를 구분하기 위해서는 multi-class classification이 필요\n",
    " - 이를 수행하기 위한 Loss로 Categorical Cross-Entropy loss를 사용"
   ]
  },
  {
   "cell_type": "code",
   "execution_count": 17,
   "metadata": {},
   "outputs": [],
   "source": [
    "optimizer=tf.keras.optimizers.Adam(1e-4)\n",
    "model_wav.compile(loss=tf.keras.losses.CategoricalCrossentropy(from_logits=True),\n",
    "             optimizer=optimizer,\n",
    "             metrics=['accuracy'])"
   ]
  },
  {
   "cell_type": "markdown",
   "metadata": {},
   "source": [
    "### Training\n",
    "\n",
    "### Callback\n",
    "\n",
    "    - model.fit 함수를 이용할 때, callback 함수를 이용해서 학습 중간 중간 원하는 동작을 하도록 설정할 수 있습니다.\n",
    "    - 모델을 재사용하기위해서 모델 가중치를 저장하는 callback 함수를 추가해보겠습니다.\n",
    "\n",
    "Model Checkpoint callback은 모델을 학습을 진행하며, fit 함수내 다양한 인자를 지정해 모니터하며 동작하게 설정할 수 있습니다.\n",
    "현재 모델은 validation loss를 모니터하며, loss가 낮아지면 모델 파라미터를 저장하도록 구성되어 있습니다."
   ]
  },
  {
   "cell_type": "code",
   "execution_count": 18,
   "metadata": {},
   "outputs": [],
   "source": [
    "cp_callback = tf.keras.callbacks.ModelCheckpoint(checkpoint_dir,\n",
    "                                                 save_weights_only=True,\n",
    "                                                 monitor='val_loss',\n",
    "                                                 mode='auto',\n",
    "                                                 save_best_only=True,\n",
    "                                                 verbose=1)"
   ]
  },
  {
   "cell_type": "code",
   "execution_count": null,
   "metadata": {},
   "outputs": [],
   "source": [
    "#30분 내외 소요\n",
    "history_wav = model_wav.fit(train_dataset, epochs=max_epochs,\n",
    "                    steps_per_epoch=len(train_wav) // batch_size,\n",
    "                    validation_data=test_dataset,\n",
    "                    validation_steps=len(test_wav) // batch_size,\n",
    "                    callbacks=[cp_callback]\n",
    "                    )"
   ]
  },
  {
   "cell_type": "markdown",
   "metadata": {},
   "source": [
    "### 학습 결과 Plot\n",
    "\n",
    "model.fit 함수는 학습 동안의 결과를 return해줍니다.\n",
    "return 값을 기반으로 loss와 accuracy를 그래프로 표현하겠습니다.\n",
    "fit 함수에서 전달 받은 Loss와 Accuracy의 값을 이용해 모델이 어떻게 학습되고 있는지 볼 수 있습니다.\n",
    "train loss와 val_loss의 차이가 커지는 경우 오버피팅이 일어나는 것이기 때문에 이를 수정할 필요가 있습니다.\n",
    "\n",
    "출력된 그래프를 기반으로 모델의 학습이 어떻게 진행됐는지 확인해볼 수 있습니다."
   ]
  },
  {
   "cell_type": "code",
   "execution_count": 40,
   "metadata": {},
   "outputs": [
    {
     "ename": "TypeError",
     "evalue": "'History' object is not subscriptable",
     "output_type": "error",
     "traceback": [
      "\u001b[0;31m---------------------------------------------------------------------------\u001b[0m",
      "\u001b[0;31mTypeError\u001b[0m                                 Traceback (most recent call last)",
      "\u001b[0;32m<ipython-input-40-9b0b4a58e1e5>\u001b[0m in \u001b[0;36m<module>\u001b[0;34m\u001b[0m\n\u001b[1;32m      1\u001b[0m \u001b[0;32mimport\u001b[0m \u001b[0mmatplotlib\u001b[0m\u001b[0;34m.\u001b[0m\u001b[0mpyplot\u001b[0m \u001b[0;32mas\u001b[0m \u001b[0mplt\u001b[0m\u001b[0;34m\u001b[0m\u001b[0;34m\u001b[0m\u001b[0m\n\u001b[1;32m      2\u001b[0m \u001b[0;34m\u001b[0m\u001b[0m\n\u001b[0;32m----> 3\u001b[0;31m \u001b[0macc\u001b[0m \u001b[0;34m=\u001b[0m \u001b[0mhistory_wav\u001b[0m\u001b[0;34m.\u001b[0m\u001b[0mhistory\u001b[0m\u001b[0;34m[\u001b[0m\u001b[0;34m'accuracy'\u001b[0m\u001b[0;34m]\u001b[0m\u001b[0;34m\u001b[0m\u001b[0;34m\u001b[0m\u001b[0m\n\u001b[0m\u001b[1;32m      4\u001b[0m \u001b[0mval_acc\u001b[0m \u001b[0;34m=\u001b[0m \u001b[0mhistory_wav\u001b[0m\u001b[0;34m.\u001b[0m\u001b[0mhistory\u001b[0m\u001b[0;34m[\u001b[0m\u001b[0;34m'val_accuracy'\u001b[0m\u001b[0;34m]\u001b[0m\u001b[0;34m\u001b[0m\u001b[0;34m\u001b[0m\u001b[0m\n\u001b[1;32m      5\u001b[0m \u001b[0;34m\u001b[0m\u001b[0m\n",
      "\u001b[0;31mTypeError\u001b[0m: 'History' object is not subscriptable"
     ]
    }
   ],
   "source": [
    "import matplotlib.pyplot as plt\n",
    "\n",
    "acc = history_wav.history['accuracy']\n",
    "val_acc = history_wav.history['val_accuracy']\n",
    "\n",
    "loss=history_wav.history['loss']\n",
    "val_loss=history_wav.history['val_loss']\n",
    "\n",
    "epochs_range = range(len(acc))\n",
    "\n",
    "plt.figure(figsize=(8, 8))\n",
    "plt.subplot(1, 2, 1)\n",
    "plt.plot(epochs_range, acc, label='Training Accuracy')\n",
    "plt.plot(epochs_range, val_acc, label='Validation Accuracy')\n",
    "plt.legend(loc='lower right')\n",
    "plt.title('Training and Validation Accuracy')\n",
    "\n",
    "plt.subplot(1, 2, 2)\n",
    "plt.plot(epochs_range, loss, label='Training Loss')\n",
    "plt.plot(epochs_range, val_loss, label='Validation Loss')\n",
    "plt.legend(loc='upper right')\n",
    "plt.title('Training and Validation Loss')\n",
    "plt.show()"
   ]
  },
  {
   "cell_type": "markdown",
   "metadata": {},
   "source": [
    "### Evaluation\n",
    "\n",
    "Test dataset을 이용해서 모델의 성능을 평가합니다.\n",
    "\n",
    "실습삼아 checkpoint callback 함수가 저장한 weight를 다시 불러와서 테스트 준비를 해보겠습니다."
   ]
  },
  {
   "cell_type": "code",
   "execution_count": 40,
   "metadata": {},
   "outputs": [
    {
     "data": {
      "text/plain": [
       "<tensorflow.python.training.tracking.util.CheckpointLoadStatus at 0x7f3f4c533cd0>"
      ]
     },
     "execution_count": 40,
     "metadata": {},
     "output_type": "execute_result"
    }
   ],
   "source": [
    "model_wav.load_weights(checkpoint_dir)"
   ]
  },
  {
   "cell_type": "markdown",
   "metadata": {},
   "source": [
    "Test data을 이용하여 모델의 예측값과 실제값이 얼마나 일치하는지 확인하겠습니다."
   ]
  },
  {
   "cell_type": "code",
   "execution_count": 41,
   "metadata": {},
   "outputs": [
    {
     "name": "stdout",
     "output_type": "stream",
     "text": [
      "40/40 [==============================] - 10s 248ms/step - loss: 0.3260 - accuracy: 0.9034\n"
     ]
    }
   ],
   "source": [
    "results = model_wav.evaluate(test_dataset)"
   ]
  },
  {
   "cell_type": "code",
   "execution_count": 42,
   "metadata": {},
   "outputs": [
    {
     "name": "stdout",
     "output_type": "stream",
     "text": [
      "loss value: 0.326\n",
      "accuracy value: 90.3398%\n"
     ]
    }
   ],
   "source": [
    "# loss\n",
    "print(\"loss value: {:.3f}\".format(results[0]))\n",
    "# accuracy\n",
    "print(\"accuracy value: {:.4f}%\".format(results[1]*100))"
   ]
  },
  {
   "cell_type": "markdown",
   "metadata": {},
   "source": [
    "### Model Test\n",
    "\n",
    "Test data 셋을 골라 직접 들어보고 모델의 예측이 맞는지 확인해보아요."
   ]
  },
  {
   "cell_type": "code",
   "execution_count": 43,
   "metadata": {},
   "outputs": [
    {
     "name": "stdout",
     "output_type": "stream",
     "text": [
      "label :  left\n"
     ]
    },
    {
     "data": {
      "text/html": [
       "\n",
       "                <audio  controls=\"controls\" >\n",
       "                    <source src=\"data:audio/wav;base64,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\" type=\"audio/wav\" />\n",
       "                    Your browser does not support the audio element.\n",
       "                </audio>\n",
       "              "
      ],
      "text/plain": [
       "<IPython.lib.display.Audio object>"
      ]
     },
     "execution_count": 43,
     "metadata": {},
     "output_type": "execute_result"
    }
   ],
   "source": [
    "inv_label_value = {v: k for k, v in label_value.items()}\n",
    "batch_index = np.random.choice(len(test_wav), size=1, replace=False)\n",
    "\n",
    "batch_xs = test_wav[batch_index]\n",
    "batch_ys = test_label[batch_index]\n",
    "y_pred_ = model_wav(batch_xs, training=False)\n",
    "\n",
    "print(\"label : \", str(inv_label_value[batch_ys[0]]))\n",
    "\n",
    "ipd.Audio(batch_xs.reshape(8000,), rate=8000)"
   ]
  },
  {
   "cell_type": "code",
   "execution_count": 44,
   "metadata": {},
   "outputs": [
    {
     "name": "stdout",
     "output_type": "stream",
     "text": [
      "y_pred: left\n"
     ]
    }
   ],
   "source": [
    "if np.argmax(y_pred_) == test_label[i]:\n",
    "    print(\"y_pred: \" + str(inv_label_value[np.argmax(y_pred_)]))\n",
    "else:\n",
    "    print(\"y_pred: \" + str(inv_label_value[np.argmax(y_pred_)]))"
   ]
  },
  {
   "cell_type": "markdown",
   "metadata": {},
   "source": [
    "## 25-5. Skip-Connection model을 추가\n",
    "\n",
    "\n",
    "### Skip-Connection model 구현\n",
    "\n",
    "이전 스텝에서 우리는 Conv1D 기반의 간단한 분류 모델을 구현해서 학습 및 테스트를 진행해 보았습니다. 간단한 모델임에도 정확도가 나쁘지 않았을 것입니다.\n",
    "\n",
    "하지만 여러분들은 이미지처리 모델을 다루면서 ResNet 등 skip-connection을 활용한 모델들이 훨씬 안정적으로 높은 성능을 낼 수 있음을 배워왔을 것입니다. 그렇다면 이번 음성처리 모델에 적용해도 비슷한 개선 효과를 낼 수 있지 않을까요?\n",
    "\n",
    "기존의 모델을 skip-connection이 추가된 모델로 변경해 학습을 진행해보겠습니다.\n",
    "[ResNet 논문에 나오는 Skip-connection 개념]\n",
    "\n",
    "그림에서 보듯이 위쪽의 데이터가 레이어를 뛰어넘어 레이어를 통과한 값에 더해주는 형식으로 구현됨을 확인할 수 있습니다.\n",
    "Concat을 이용한 방식으로 구현하면 됩니다.\n",
    "\n",
    "tf.concat([#layer output tensor, layer output tensor#], axis=#)\n",
    "\n",
    "우리가 사용하는 데이터가 1차원 audio 데이터이기 때문에 1차원 데이터를 처리하는 모델을 구성해보겠습니다"
   ]
  },
  {
   "cell_type": "code",
   "execution_count": 45,
   "metadata": {},
   "outputs": [
    {
     "name": "stdout",
     "output_type": "stream",
     "text": [
      "Model: \"functional_5\"\n",
      "__________________________________________________________________________________________________\n",
      "Layer (type)                    Output Shape         Param #     Connected to                     \n",
      "==================================================================================================\n",
      "input_3 (InputLayer)            [(None, 8000, 1)]    0                                            \n",
      "__________________________________________________________________________________________________\n",
      "conv1d_20 (Conv1D)              (None, 8000, 32)     320         input_3[0][0]                    \n",
      "__________________________________________________________________________________________________\n",
      "conv1d_21 (Conv1D)              (None, 8000, 32)     9248        conv1d_20[0][0]                  \n",
      "__________________________________________________________________________________________________\n",
      "max_pooling1d_8 (MaxPooling1D)  (None, 4000, 32)     0           conv1d_21[0][0]                  \n",
      "__________________________________________________________________________________________________\n",
      "conv1d_22 (Conv1D)              (None, 4000, 64)     18496       max_pooling1d_8[0][0]            \n",
      "__________________________________________________________________________________________________\n",
      "conv1d_23 (Conv1D)              (None, 4000, 64)     36928       conv1d_22[0][0]                  \n",
      "__________________________________________________________________________________________________\n",
      "tf_op_layer_concat (TensorFlowO [(None, 4000, 96)]   0           conv1d_23[0][0]                  \n",
      "                                                                 max_pooling1d_8[0][0]            \n",
      "__________________________________________________________________________________________________\n",
      "max_pooling1d_9 (MaxPooling1D)  (None, 2000, 96)     0           tf_op_layer_concat[0][0]         \n",
      "__________________________________________________________________________________________________\n",
      "conv1d_24 (Conv1D)              (None, 2000, 128)    110720      max_pooling1d_9[0][0]            \n",
      "__________________________________________________________________________________________________\n",
      "conv1d_25 (Conv1D)              (None, 2000, 128)    147584      conv1d_24[0][0]                  \n",
      "__________________________________________________________________________________________________\n",
      "conv1d_26 (Conv1D)              (None, 2000, 128)    147584      conv1d_25[0][0]                  \n",
      "__________________________________________________________________________________________________\n",
      "tf_op_layer_concat_1 (TensorFlo [(None, 2000, 224)]  0           conv1d_26[0][0]                  \n",
      "                                                                 max_pooling1d_9[0][0]            \n",
      "__________________________________________________________________________________________________\n",
      "max_pooling1d_10 (MaxPooling1D) (None, 1000, 224)    0           tf_op_layer_concat_1[0][0]       \n",
      "__________________________________________________________________________________________________\n",
      "conv1d_27 (Conv1D)              (None, 1000, 256)    516352      max_pooling1d_10[0][0]           \n",
      "__________________________________________________________________________________________________\n",
      "conv1d_28 (Conv1D)              (None, 1000, 256)    590080      conv1d_27[0][0]                  \n",
      "__________________________________________________________________________________________________\n",
      "conv1d_29 (Conv1D)              (None, 1000, 256)    590080      conv1d_28[0][0]                  \n",
      "__________________________________________________________________________________________________\n",
      "tf_op_layer_concat_2 (TensorFlo [(None, 1000, 480)]  0           conv1d_29[0][0]                  \n",
      "                                                                 max_pooling1d_10[0][0]           \n",
      "__________________________________________________________________________________________________\n",
      "max_pooling1d_11 (MaxPooling1D) (None, 500, 480)     0           tf_op_layer_concat_2[0][0]       \n",
      "__________________________________________________________________________________________________\n",
      "dropout_2 (Dropout)             (None, 500, 480)     0           max_pooling1d_11[0][0]           \n",
      "__________________________________________________________________________________________________\n",
      "flatten_2 (Flatten)             (None, 240000)       0           dropout_2[0][0]                  \n",
      "__________________________________________________________________________________________________\n",
      "dense_4 (Dense)                 (None, 256)          61440256    flatten_2[0][0]                  \n",
      "__________________________________________________________________________________________________\n",
      "batch_normalization_2 (BatchNor (None, 256)          1024        dense_4[0][0]                    \n",
      "__________________________________________________________________________________________________\n",
      "activation_2 (Activation)       (None, 256)          0           batch_normalization_2[0][0]      \n",
      "__________________________________________________________________________________________________\n",
      "dense_5 (Dense)                 (None, 12)           3084        activation_2[0][0]               \n",
      "==================================================================================================\n",
      "Total params: 63,611,756\n",
      "Trainable params: 63,611,244\n",
      "Non-trainable params: 512\n",
      "__________________________________________________________________________________________________\n"
     ]
    }
   ],
   "source": [
    "input_tensor = layers.Input(shape=(sr, 1))\n",
    "\n",
    "x = layers.Conv1D(32, 9, padding='same', activation='relu')(input_tensor)\n",
    "x = layers.Conv1D(32, 9, padding='same', activation='relu')(x)\n",
    "skip_1 = layers.MaxPool1D()(x)\n",
    "\n",
    "x = layers.Conv1D(64, 9, padding='same', activation='relu')(skip_1)\n",
    "x = layers.Conv1D(64, 9, padding='same', activation='relu')(x)\n",
    "x = tf.concat([x, skip_1], -1)\n",
    "skip_2 = layers.MaxPool1D()(x)\n",
    "\n",
    "x = layers.Conv1D(128, 9, padding='same', activation='relu')(skip_2)\n",
    "x = layers.Conv1D(128, 9, padding='same', activation='relu')(x)\n",
    "x = layers.Conv1D(128, 9, padding='same', activation='relu')(x)\n",
    "x = tf.concat([x, skip_2], -1)\n",
    "skip_3 = layers.MaxPool1D()(x)\n",
    "\n",
    "x = layers.Conv1D(256, 9, padding='same', activation='relu')(skip_3)\n",
    "x = layers.Conv1D(256, 9, padding='same', activation='relu')(x)\n",
    "x = layers.Conv1D(256, 9, padding='same', activation='relu')(x)\n",
    "x = tf.concat([x, skip_3], -1)\n",
    "x = layers.MaxPool1D()(x)\n",
    "x = layers.Dropout(0.3)(x)\n",
    "\n",
    "x = layers.Flatten()(x)\n",
    "x = layers.Dense(256)(x)\n",
    "x = layers.BatchNormalization()(x)\n",
    "x = layers.Activation('relu')(x)\n",
    "\n",
    "output_tensor = layers.Dense(12)(x)\n",
    "\n",
    "model_wav_skip = tf.keras.Model(input_tensor, output_tensor)\n",
    "\n",
    "model_wav_skip.summary()"
   ]
  },
  {
   "cell_type": "markdown",
   "metadata": {},
   "source": [
    "모델 구성만 달라졌을 뿐, 그 외 Task구성이나 데이터셋 구성, 훈련 과정은 동일합니다."
   ]
  },
  {
   "cell_type": "code",
   "execution_count": 46,
   "metadata": {},
   "outputs": [],
   "source": [
    "optimizer=tf.keras.optimizers.Adam(1e-4)\n",
    "model_wav_skip.compile(loss=tf.keras.losses.CategoricalCrossentropy(from_logits=True),\n",
    "             optimizer=optimizer,\n",
    "             metrics=['accuracy'])"
   ]
  },
  {
   "cell_type": "code",
   "execution_count": 47,
   "metadata": {},
   "outputs": [],
   "source": [
    "# the save point\n",
    "checkpoint_dir = os.getenv('HOME')+'/aiffel/speech_recognition/models/wav_skip'\n",
    "\n",
    "cp_callback = tf.keras.callbacks.ModelCheckpoint(checkpoint_dir,\n",
    "                                                 save_weights_only=True,\n",
    "                                                 monitor='val_loss',\n",
    "                                                 mode='auto',\n",
    "                                                 save_best_only=True,\n",
    "                                                 verbose=1)"
   ]
  },
  {
   "cell_type": "code",
   "execution_count": 49,
   "metadata": {},
   "outputs": [
    {
     "name": "stdout",
     "output_type": "stream",
     "text": [
      "Epoch 1/10\n",
      "  2/355 [..............................] - ETA: 2:00 - loss: 1.9698 - accuracy: 0.3867WARNING:tensorflow:Callbacks method `on_train_batch_end` is slow compared to the batch time (batch time: 0.1244s vs `on_train_batch_end` time: 0.2750s). Check your callbacks.\n",
      "355/355 [==============================] - ETA: 0s - loss: 1.1619 - accuracy: 0.6366\n",
      "Epoch 00001: val_loss improved from inf to 1.04689, saving model to /home/aiffel0042/aiffel/speech_recognition/models/wav_skip\n",
      "355/355 [==============================] - 151s 425ms/step - loss: 1.1619 - accuracy: 0.6366 - val_loss: 1.0469 - val_accuracy: 0.6965\n",
      "Epoch 2/10\n",
      "355/355 [==============================] - ETA: 0s - loss: 0.6523 - accuracy: 0.8154\n",
      "Epoch 00002: val_loss improved from 1.04689 to 0.57867, saving model to /home/aiffel0042/aiffel/speech_recognition/models/wav_skip\n",
      "355/355 [==============================] - 152s 429ms/step - loss: 0.6523 - accuracy: 0.8154 - val_loss: 0.5787 - val_accuracy: 0.8241\n",
      "Epoch 3/10\n",
      "355/355 [==============================] - ETA: 0s - loss: 0.4285 - accuracy: 0.8916\n",
      "Epoch 00003: val_loss improved from 0.57867 to 0.41844, saving model to /home/aiffel0042/aiffel/speech_recognition/models/wav_skip\n",
      "355/355 [==============================] - 152s 429ms/step - loss: 0.4285 - accuracy: 0.8916 - val_loss: 0.4184 - val_accuracy: 0.8784\n",
      "Epoch 4/10\n",
      "355/355 [==============================] - ETA: 0s - loss: 0.2763 - accuracy: 0.9391\n",
      "Epoch 00004: val_loss improved from 0.41844 to 0.40780, saving model to /home/aiffel0042/aiffel/speech_recognition/models/wav_skip\n",
      "355/355 [==============================] - 152s 428ms/step - loss: 0.2763 - accuracy: 0.9391 - val_loss: 0.4078 - val_accuracy: 0.8750\n",
      "Epoch 5/10\n",
      "355/355 [==============================] - ETA: 0s - loss: 0.1848 - accuracy: 0.9629\n",
      "Epoch 00005: val_loss improved from 0.40780 to 0.37713, saving model to /home/aiffel0042/aiffel/speech_recognition/models/wav_skip\n",
      "355/355 [==============================] - 152s 427ms/step - loss: 0.1848 - accuracy: 0.9629 - val_loss: 0.3771 - val_accuracy: 0.8886\n",
      "Epoch 6/10\n",
      "355/355 [==============================] - ETA: 0s - loss: 0.1242 - accuracy: 0.9772\n",
      "Epoch 00006: val_loss did not improve from 0.37713\n",
      "355/355 [==============================] - 151s 425ms/step - loss: 0.1242 - accuracy: 0.9772 - val_loss: 0.4006 - val_accuracy: 0.8862\n",
      "Epoch 7/10\n",
      "355/355 [==============================] - ETA: 0s - loss: 0.0896 - accuracy: 0.9833\n",
      "Epoch 00007: val_loss improved from 0.37713 to 0.29418, saving model to /home/aiffel0042/aiffel/speech_recognition/models/wav_skip\n",
      "355/355 [==============================] - 152s 428ms/step - loss: 0.0896 - accuracy: 0.9833 - val_loss: 0.2942 - val_accuracy: 0.9169\n",
      "Epoch 8/10\n",
      "355/355 [==============================] - ETA: 0s - loss: 0.0674 - accuracy: 0.9875\n",
      "Epoch 00008: val_loss improved from 0.29418 to 0.26853, saving model to /home/aiffel0042/aiffel/speech_recognition/models/wav_skip\n",
      "355/355 [==============================] - 152s 428ms/step - loss: 0.0674 - accuracy: 0.9875 - val_loss: 0.2685 - val_accuracy: 0.9219\n",
      "Epoch 9/10\n",
      "355/355 [==============================] - ETA: 0s - loss: 0.0525 - accuracy: 0.9903\n",
      "Epoch 00009: val_loss improved from 0.26853 to 0.25665, saving model to /home/aiffel0042/aiffel/speech_recognition/models/wav_skip\n",
      "355/355 [==============================] - 152s 427ms/step - loss: 0.0525 - accuracy: 0.9903 - val_loss: 0.2567 - val_accuracy: 0.9323\n",
      "Epoch 10/10\n",
      "355/355 [==============================] - ETA: 0s - loss: 0.0439 - accuracy: 0.9917\n",
      "Epoch 00010: val_loss did not improve from 0.25665\n",
      "355/355 [==============================] - 150s 424ms/step - loss: 0.0439 - accuracy: 0.9917 - val_loss: 0.2897 - val_accuracy: 0.9213\n"
     ]
    }
   ],
   "source": [
    "#30분 내외 소요\n",
    "history_wav_skip = model_wav_skip.fit(train_dataset, epochs=max_epochs,\n",
    "                    steps_per_epoch=len(train_wav) // batch_size,\n",
    "                    validation_data=test_dataset,\n",
    "                    validation_steps=len(test_wav) // batch_size,\n",
    "                    callbacks=[cp_callback]\n",
    "                    )"
   ]
  },
  {
   "cell_type": "code",
   "execution_count": 50,
   "metadata": {},
   "outputs": [],
   "source": [
    "model_skip_path = os.getenv(\"HOME\")+'/aiffel/speech_recognition/history_wav_skip_model.h5'\n",
    "model_wav_skip.save(model_skip_path)  #학습한 모델을 저장"
   ]
  },
  {
   "cell_type": "markdown",
   "metadata": {},
   "source": [
    "학습결과의 시각화 및 evaluation 과정도 동일"
   ]
  },
  {
   "cell_type": "code",
   "execution_count": 51,
   "metadata": {},
   "outputs": [
    {
     "data": {
      "image/png": "[encoded data removed]",
      "text/plain": [
       "<Figure size 576x576 with 2 Axes>"
      ]
     },
     "metadata": {
      "needs_background": "light"
     },
     "output_type": "display_data"
    }
   ],
   "source": [
    "import matplotlib.pyplot as plt\n",
    "\n",
    "acc = history_wav_skip.history['accuracy']\n",
    "val_acc = history_wav_skip.history['val_accuracy']\n",
    "\n",
    "loss=history_wav_skip.history['loss']\n",
    "val_loss=history_wav_skip.history['val_loss']\n",
    "\n",
    "epochs_range = range(len(acc))\n",
    "\n",
    "plt.figure(figsize=(8, 8))\n",
    "plt.subplot(1, 2, 1)\n",
    "plt.plot(epochs_range, acc, label='Training Accuracy')\n",
    "plt.plot(epochs_range, val_acc, label='Validation Accuracy')\n",
    "plt.legend(loc='lower right')\n",
    "plt.title('Training and Validation Accuracy')\n",
    "\n",
    "plt.subplot(1, 2, 2)\n",
    "plt.plot(epochs_range, loss, label='Training Loss')\n",
    "plt.plot(epochs_range, val_loss, label='Validation Loss')\n",
    "plt.legend(loc='upper right')\n",
    "plt.title('Training and Validation Loss')\n",
    "plt.show()"
   ]
  },
  {
   "cell_type": "code",
   "execution_count": 52,
   "metadata": {},
   "outputs": [
    {
     "name": "stdout",
     "output_type": "stream",
     "text": [
      "40/40 [==============================] - 6s 140ms/step - loss: 0.2545 - accuracy: 0.9330\n",
      "loss value: 0.254\n",
      "accuracy value: 93.3030%\n"
     ]
    }
   ],
   "source": [
    "# Evaluation \n",
    "\n",
    "model_wav_skip.load_weights(checkpoint_dir)\n",
    "results = model_wav_skip.evaluate(test_dataset)\n",
    "\n",
    "# loss\n",
    "print(\"loss value: {:.3f}\".format(results[0]))\n",
    "# accuracy\n",
    "print(\"accuracy value: {:.4f}%\".format(results[1]*100))"
   ]
  },
  {
   "cell_type": "code",
   "execution_count": 53,
   "metadata": {},
   "outputs": [
    {
     "name": "stdout",
     "output_type": "stream",
     "text": [
      "label :  no\n"
     ]
    },
    {
     "data": {
      "text/html": [
       "\n",
       "                <audio  controls=\"controls\" >\n",
       "                    <source src=\"data:audio/wav;base64,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\" type=\"audio/wav\" />\n",
       "                    Your browser does not support the audio element.\n",
       "                </audio>\n",
       "              "
      ],
      "text/plain": [
       "<IPython.lib.display.Audio object>"
      ]
     },
     "execution_count": 53,
     "metadata": {},
     "output_type": "execute_result"
    }
   ],
   "source": [
    "# Test \n",
    "\n",
    "inv_label_value = {v: k for k, v in label_value.items()}\n",
    "batch_index = np.random.choice(len(test_wav), size=1, replace=False)\n",
    "\n",
    "batch_xs = test_wav[batch_index]\n",
    "batch_ys = test_label[batch_index]\n",
    "y_pred_ = model_wav_skip(batch_xs, training=False)\n",
    "\n",
    "print(\"label : \", str(inv_label_value[batch_ys[0]]))\n",
    "\n",
    "ipd.Audio(batch_xs.reshape(8000,), rate=8000)"
   ]
  },
  {
   "cell_type": "code",
   "execution_count": 55,
   "metadata": {},
   "outputs": [
    {
     "name": "stdout",
     "output_type": "stream",
     "text": [
      "y_pred: no\n"
     ]
    }
   ],
   "source": [
    "if np.argmax(y_pred_) == test_label[i]:\n",
    "    print(\"y_pred: \" + str(inv_label_value[np.argmax(y_pred_)]))\n",
    "else:\n",
    "    print(\"y_pred: \" + str(inv_label_value[np.argmax(y_pred_)]))"
   ]
  },
  {
   "cell_type": "markdown",
   "metadata": {},
   "source": [
    "### 25-6. Spectrogram"
   ]
  },
  {
   "cell_type": "markdown",
   "metadata": {},
   "source": [
    "- Step2에서 사용한 샘플데이터를 이용하여 스펙트로그램을 생성\n",
    "- 파이썬에서 제공하는 FFT 관련 라이브러리인 librosa를 설치"
   ]
  },
  {
   "cell_type": "code",
   "execution_count": 16,
   "metadata": {},
   "outputs": [],
   "source": [
    "import librosa\n",
    "\n",
    "def wav2spec(wav, fft_size=258): # spectrogram shape을 맞추기위해서 size 변형\n",
    "    D = np.abs(librosa.stft(wav, n_fft=fft_size))\n",
    "    return D"
   ]
  },
  {
   "cell_type": "code",
   "execution_count": 27,
   "metadata": {},
   "outputs": [],
   "source": [
    "librosa.stft??"
   ]
  },
  {
   "cell_type": "code",
   "execution_count": 17,
   "metadata": {},
   "outputs": [
    {
     "name": "stdout",
     "output_type": "stream",
     "text": [
      "Waveform shape :  (8000,)\n",
      "Spectrogram shape :  (130, 126)\n"
     ]
    }
   ],
   "source": [
    "# 위에서 뽑았던 sample data\n",
    "spec = wav2spec(data)\n",
    "print(\"Waveform shape : \",data.shape)\n",
    "print(\"Spectrogram shape : \",spec.shape)"
   ]
  },
  {
   "cell_type": "code",
   "execution_count": 26,
   "metadata": {},
   "outputs": [
    {
     "data": {
      "text/plain": [
       "numpy.ndarray"
      ]
     },
     "execution_count": 26,
     "metadata": {},
     "output_type": "execute_result"
    }
   ],
   "source": [
    "type(spec)"
   ]
  },
  {
   "cell_type": "code",
   "execution_count": 27,
   "metadata": {},
   "outputs": [],
   "source": [
    "li = []\n",
    "li.append(spec)"
   ]
  },
  {
   "cell_type": "code",
   "execution_count": 29,
   "metadata": {},
   "outputs": [],
   "source": [
    "li.append(spec)"
   ]
  },
  {
   "cell_type": "code",
   "execution_count": 31,
   "metadata": {},
   "outputs": [
    {
     "data": {
      "text/plain": [
       "2"
      ]
     },
     "execution_count": 31,
     "metadata": {},
     "output_type": "execute_result"
    }
   ],
   "source": [
    "len(li)"
   ]
  },
  {
   "cell_type": "markdown",
   "metadata": {},
   "source": [
    "- 1차원의 Waveform 데이터가 2차원의 Spectrogram 데이터로 변환되었습니다.\n",
    "\n",
    "- 그렇다면 방금 변환된 Spectrogram을 출력"
   ]
  },
  {
   "cell_type": "code",
   "execution_count": 18,
   "metadata": {},
   "outputs": [
    {
     "data": {
      "image/png": "[encoded data removed]",
      "text/plain": [
       "<Figure size 432x288 with 2 Axes>"
      ]
     },
     "metadata": {
      "needs_background": "light"
     },
     "output_type": "display_data"
    }
   ],
   "source": [
    "import librosa.display\n",
    "\n",
    "librosa.display.specshow(librosa.amplitude_to_db(spec, ref=np.max), x_axis='time')\n",
    "plt.title('Power spectrogram')\n",
    "plt.colorbar(format='%+2.0f dB')\n",
    "plt.xticks(range(0, 1))\n",
    "plt.tight_layout()\n",
    "plt.show()"
   ]
  },
  {
   "cell_type": "code",
   "execution_count": 19,
   "metadata": {},
   "outputs": [
    {
     "data": {
      "image/png": "[encoded data removed]",
      "text/plain": [
       "<Figure size 432x288 with 1 Axes>"
      ]
     },
     "metadata": {
      "needs_background": "light"
     },
     "output_type": "display_data"
    }
   ],
   "source": [
    "librosa.display.specshow(librosa.amplitude_to_db(spec, ref=np.max), x_axis='time')\n",
    "plt.title('Power spectrogram')\n",
    "# plt.colorbar(format='%+2.0f dB')\n",
    "plt.xticks(range(0, 1))\n",
    "plt.tight_layout()\n",
    "plt.show()"
   ]
  },
  {
   "cell_type": "markdown",
   "metadata": {},
   "source": [
    "## 25-7. 프로젝트: Spectrogram classification 모델 구현\n",
    "\n",
    "- 오늘 실습에서 1차원 Waveform 데이터를 입력받아 Text 라벨을 출력하는 모델을 기본 버전과 Skip-connection 버전으로 나누어 학습시켜 보았습니다. \n",
    "\n",
    "- 이번에는 2차원 Spectrogram 데이터를 입력받아 Text 라벨을 출력하는 모델 만들기\n",
    "- 본 버전과 Skip-connection 버전으로 나누어 학습 시키기\n",
    "- 모델 구조를 제외하고는 실습에서 제시된 것과 거의 동일하게 진행될 것"
   ]
  },
  {
   "cell_type": "markdown",
   "metadata": {},
   "source": [
    "    1. 데이터 처리와 분류\n",
    "        - 라벨 데이터 처리하기\n",
    "        - sklearn의 rain_test_split함수를 이용하여 train, test 분리 "
   ]
  },
  {
   "cell_type": "markdown",
   "metadata": {},
   "source": [
    "* 1차원 Waveform 데이터를 Spectrogram 데이터로 변환"
   ]
  },
  {
   "cell_type": "code",
   "execution_count": 20,
   "metadata": {},
   "outputs": [
    {
     "data": {
      "text/plain": [
       "50620"
      ]
     },
     "execution_count": 20,
     "metadata": {},
     "output_type": "execute_result"
    }
   ],
   "source": [
    "len(speech_data[\"wav_vals\"])"
   ]
  },
  {
   "cell_type": "code",
   "execution_count": 23,
   "metadata": {},
   "outputs": [
    {
     "data": {
      "text/plain": [
       "numpy.ndarray"
      ]
     },
     "execution_count": 23,
     "metadata": {},
     "output_type": "execute_result"
    }
   ],
   "source": [
    "type(speech_data[\"wav_vals\"])"
   ]
  },
  {
   "cell_type": "code",
   "execution_count": 31,
   "metadata": {},
   "outputs": [
    {
     "data": {
      "application/vnd.jupyter.widget-view+json": {
       "model_id": "97040730efbe4edeab60e3ef74d9da59",
       "version_major": 2,
       "version_minor": 0
      },
      "text/plain": [
       "HBox(children=(FloatProgress(value=0.0, max=500.0), HTML(value='')))"
      ]
     },
     "metadata": {},
     "output_type": "display_data"
    },
    {
     "name": "stdout",
     "output_type": "stream",
     "text": [
      "\n"
     ]
    }
   ],
   "source": [
    "from tqdm.notebook import tqdm\n",
    "\n",
    "# spectrogram data 생성\n",
    "# 시간이 너무 오래 걸려서 50620개 data 중 500개만 뽑아서 수행\n",
    "spec_list = []\n",
    "\n",
    "for i in tqdm(range(500)):\n",
    "    spec_list.append(wav2spec(speech_data[\"wav_vals\"][i]))"
   ]
  },
  {
   "cell_type": "code",
   "execution_count": 38,
   "metadata": {},
   "outputs": [],
   "source": [
    "spec_arr = np.array(spec_list)"
   ]
  },
  {
   "cell_type": "code",
   "execution_count": 39,
   "metadata": {},
   "outputs": [
    {
     "data": {
      "text/plain": [
       "500"
      ]
     },
     "execution_count": 39,
     "metadata": {},
     "output_type": "execute_result"
    }
   ],
   "source": [
    "len(spec_arr)"
   ]
  },
  {
   "cell_type": "code",
   "execution_count": 34,
   "metadata": {},
   "outputs": [
    {
     "data": {
      "text/plain": [
       "500"
      ]
     },
     "execution_count": 34,
     "metadata": {},
     "output_type": "execute_result"
    }
   ],
   "source": [
    "label_data_500 = label_data[:500]\n",
    "len(label_data_500)"
   ]
  },
  {
   "cell_type": "code",
   "execution_count": 40,
   "metadata": {},
   "outputs": [],
   "source": [
    "train_spec, test_spec, train_spec_label, test_spec_label = train_test_split(spec_arr, label_data_500, test_size=0.1, shuffle=True)"
   ]
  },
  {
   "cell_type": "markdown",
   "metadata": {},
   "source": [
    "### 데이터셋 확인"
   ]
  },
  {
   "cell_type": "code",
   "execution_count": 41,
   "metadata": {},
   "outputs": [
    {
     "name": "stdout",
     "output_type": "stream",
     "text": [
      "train_spec :  (450, 130, 126)\n",
      "train_spec_label :  (450,)\n",
      "test_spec :  (50, 130, 126)\n",
      "test_spec_label :  (50,)\n"
     ]
    }
   ],
   "source": [
    "print(\"train_spec : \", train_spec.shape)\n",
    "print(\"train_spec_label : \", train_spec_label.shape)\n",
    "print(\"test_spec : \", test_spec.shape)\n",
    "print(\"test_spec_label : \", test_spec_label.shape)"
   ]
  },
  {
   "cell_type": "markdown",
   "metadata": {},
   "source": [
    "    2. 학습을 위한 하이퍼파라미터 설정"
   ]
  },
  {
   "cell_type": "code",
   "execution_count": 42,
   "metadata": {},
   "outputs": [
    {
     "data": {
      "text/plain": [
       "'/home/aiffel0042/aiffel/speech_recognition/models/spec'"
      ]
     },
     "execution_count": 42,
     "metadata": {},
     "output_type": "execute_result"
    }
   ],
   "source": [
    "batch_size = 50\n",
    "max_epochs = 10\n",
    "\n",
    "# the save point\n",
    "spec_checkpoint_dir = os.getenv('HOME')+'/aiffel/speech_recognition/models/spec'\n",
    "\n",
    "spec_checkpoint_dir"
   ]
  },
  {
   "cell_type": "code",
   "execution_count": 43,
   "metadata": {},
   "outputs": [],
   "source": [
    "def one_hot_label(wav, label):\n",
    "    label = tf.one_hot(label, depth=12)\n",
    "    return wav, label"
   ]
  },
  {
   "cell_type": "markdown",
   "metadata": {},
   "source": [
    "    3. 데이터셋 구성\n",
    "        - tf.data.Dataset을 이용\n",
    "        - from_tensor_slices 함수에 return 받길 원하는 데이터를 튜플 (data, label) 형태로 넣어서 사용\n",
    "        - map과 batch를 이용한 데이터 전처리 "
   ]
  },
  {
   "cell_type": "code",
   "execution_count": 45,
   "metadata": {},
   "outputs": [
    {
     "name": "stdout",
     "output_type": "stream",
     "text": [
      "<BatchDataset shapes: ((None, None, 8000, 1), (None, None, 12)), types: (tf.float32, tf.float32)>\n",
      "<BatchDataset shapes: ((None, None, 8000, 1), (None, None, 12)), types: (tf.float32, tf.float32)>\n"
     ]
    }
   ],
   "source": [
    "import tensorflow as tf\n",
    "\n",
    "# for train\n",
    "spec_train_dataset = tf.data.Dataset.from_tensor_slices((train_spec, train_spec_label))\n",
    "spec_train_dataset = train_dataset.repeat().batch(batch_size=batch_size)\n",
    "print(spec_train_dataset)\n",
    "\n",
    "# for test\n",
    "spec_test_dataset = tf.data.Dataset.from_tensor_slices((test_spec, test_spec_label))\n",
    "spec_test_dataset = test_dataset.batch(batch_size=batch_size)\n",
    "print(spec_test_dataset)\n"
   ]
  },
  {
   "cell_type": "markdown",
   "metadata": {},
   "source": [
    "4. 2차원 Spectrogram 데이터를 처리하는 모델 구성\n",
    "\n",
    "    - 2차원 Spectrogram 데이터의 시간축 방향으로 Conv1D layer를 적용, \n",
    "    - 혹은 Conv2D layer를 적용 가능\n",
    "\n",
    "        * batchnorm, dropout, dense layer 등을 이용\n",
    "        * 12개의 단어 class를 구분하는 loss를 사용하고 Adam optimizer를 사용\n",
    "        * 모델 가중치를 저장하는 checkpoint callback 함수 추가\n",
    "\n",
    "    4-1. 학습 후, 학습이 어떻게 진행됐는지 그래프로 출력\n",
    "        * loss, accuracy를 그래프로 표현 \n",
    "\n",
    "    4-2. Test dataset을 이용해서 모델의 성능을 평가\n",
    "        * 저장한 weight 불러오기\n",
    "        * 모델의 예측값과 정답값이 얼마나 일치하는지 확인"
   ]
  },
  {
   "cell_type": "code",
   "execution_count": 57,
   "metadata": {},
   "outputs": [
    {
     "name": "stdout",
     "output_type": "stream",
     "text": [
      "Model: \"functional_3\"\n",
      "_________________________________________________________________\n",
      "Layer (type)                 Output Shape              Param #   \n",
      "=================================================================\n",
      "input_3 (InputLayer)         [(None, 130, 126, 1)]     0         \n",
      "_________________________________________________________________\n",
      "conv2d_11 (Conv2D)           (None, 130, 126, 32)      320       \n",
      "_________________________________________________________________\n",
      "conv2d_12 (Conv2D)           (None, 130, 126, 32)      9248      \n",
      "_________________________________________________________________\n",
      "max_pooling2d_4 (MaxPooling2 (None, 65, 63, 32)        0         \n",
      "_________________________________________________________________\n",
      "conv2d_13 (Conv2D)           (None, 65, 63, 64)        18496     \n",
      "_________________________________________________________________\n",
      "conv2d_14 (Conv2D)           (None, 65, 63, 64)        36928     \n",
      "_________________________________________________________________\n",
      "max_pooling2d_5 (MaxPooling2 (None, 32, 31, 64)        0         \n",
      "_________________________________________________________________\n",
      "conv2d_15 (Conv2D)           (None, 32, 31, 128)       73856     \n",
      "_________________________________________________________________\n",
      "conv2d_16 (Conv2D)           (None, 32, 31, 128)       147584    \n",
      "_________________________________________________________________\n",
      "conv2d_17 (Conv2D)           (None, 32, 31, 128)       147584    \n",
      "_________________________________________________________________\n",
      "max_pooling2d_6 (MaxPooling2 (None, 16, 15, 128)       0         \n",
      "_________________________________________________________________\n",
      "conv2d_18 (Conv2D)           (None, 16, 15, 256)       295168    \n",
      "_________________________________________________________________\n",
      "conv2d_19 (Conv2D)           (None, 16, 15, 256)       590080    \n",
      "_________________________________________________________________\n",
      "conv2d_20 (Conv2D)           (None, 16, 15, 256)       590080    \n",
      "_________________________________________________________________\n",
      "max_pooling2d_7 (MaxPooling2 (None, 8, 7, 256)         0         \n",
      "_________________________________________________________________\n",
      "dropout_1 (Dropout)          (None, 8, 7, 256)         0         \n",
      "_________________________________________________________________\n",
      "flatten_1 (Flatten)          (None, 14336)             0         \n",
      "_________________________________________________________________\n",
      "dense_2 (Dense)              (None, 256)               3670272   \n",
      "_________________________________________________________________\n",
      "batch_normalization_1 (Batch (None, 256)               1024      \n",
      "_________________________________________________________________\n",
      "activation_1 (Activation)    (None, 256)               0         \n",
      "_________________________________________________________________\n",
      "dense_3 (Dense)              (None, 12)                3084      \n",
      "=================================================================\n",
      "Total params: 5,583,724\n",
      "Trainable params: 5,583,212\n",
      "Non-trainable params: 512\n",
      "_________________________________________________________________\n"
     ]
    }
   ],
   "source": [
    "from tensorflow.keras import layers\n",
    "\n",
    "input_tensor_spec = layers.Input(shape=(130, 126, 1))\n",
    "\n",
    "x = layers.Conv2D(32, 3, padding='same', activation='relu')(input_tensor_spec)\n",
    "x = layers.Conv2D(32, 3, padding='same', activation='relu')(x)\n",
    "x = layers.MaxPool2D()(x)\n",
    "\n",
    "x = layers.Conv2D(64, 3, padding='same', activation='relu')(x)\n",
    "x = layers.Conv2D(64, 3, padding='same', activation='relu')(x)\n",
    "x = layers.MaxPool2D()(x)\n",
    "\n",
    "x = layers.Conv2D(128, 3, padding='same', activation='relu')(x)\n",
    "x = layers.Conv2D(128, 3, padding='same', activation='relu')(x)\n",
    "x = layers.Conv2D(128, 3, padding='same', activation='relu')(x)\n",
    "x = layers.MaxPool2D()(x)\n",
    "\n",
    "x = layers.Conv2D(256, 3, padding='same', activation='relu')(x)\n",
    "x = layers.Conv2D(256, 3, padding='same', activation='relu')(x)\n",
    "x = layers.Conv2D(256, 3, padding='same', activation='relu')(x)\n",
    "x = layers.MaxPool2D()(x)\n",
    "x = layers.Dropout(0.3)(x)\n",
    "\n",
    "x = layers.Flatten()(x)\n",
    "x = layers.Dense(256)(x)\n",
    "x = layers.BatchNormalization()(x)\n",
    "x = layers.Activation('relu')(x)\n",
    "\n",
    "output_tensor_spec = layers.Dense(12)(x)\n",
    "\n",
    "model_spec = tf.keras.Model(input_tensor_spec, output_tensor_spec)\n",
    "\n",
    "model_spec.summary()"
   ]
  },
  {
   "cell_type": "code",
   "execution_count": 59,
   "metadata": {},
   "outputs": [],
   "source": [
    "optimizer=tf.keras.optimizers.Adam(1e-4)\n",
    "model_spec.compile(loss=tf.keras.losses.CategoricalCrossentropy(from_logits=True),\n",
    "             optimizer=optimizer,\n",
    "             metrics=['accuracy'])"
   ]
  },
  {
   "cell_type": "code",
   "execution_count": 53,
   "metadata": {},
   "outputs": [],
   "source": [
    "checkpoint_dir_spec = os.getenv('HOME')+'/aiffel/speech_recognition/models/spec_skip'\n",
    "cp_callback = tf.keras.callbacks.ModelCheckpoint(checkpoint_dir_spec,\n",
    "                                                 save_weights_only=True,\n",
    "                                                 monitor='val_loss',\n",
    "                                                 mode='auto',\n",
    "                                                 save_best_only=True,\n",
    "                                                 verbose=1)"
   ]
  },
  {
   "cell_type": "code",
   "execution_count": 56,
   "metadata": {},
   "outputs": [
    {
     "data": {
      "text/plain": [
       "50"
      ]
     },
     "execution_count": 56,
     "metadata": {},
     "output_type": "execute_result"
    }
   ],
   "source": [
    "len(test_spec)"
   ]
  },
  {
   "cell_type": "code",
   "execution_count": 60,
   "metadata": {},
   "outputs": [
    {
     "name": "stdout",
     "output_type": "stream",
     "text": [
      "Epoch 1/10\n",
      "WARNING:tensorflow:Model was constructed with shape (None, 130, 126, 1) for input Tensor(\"input_3:0\", shape=(None, 130, 126, 1), dtype=float32), but it was called on an input with incompatible shape (None, None, 8000, 1).\n"
     ]
    },
    {
     "ename": "ValueError",
     "evalue": "in user code:\n\n    /home/aiffel0042/anaconda3/envs/aiffel/lib/python3.7/site-packages/tensorflow/python/keras/engine/training.py:806 train_function  *\n        return step_function(self, iterator)\n    /home/aiffel0042/anaconda3/envs/aiffel/lib/python3.7/site-packages/tensorflow/python/keras/engine/training.py:796 step_function  **\n        outputs = model.distribute_strategy.run(run_step, args=(data,))\n    /home/aiffel0042/anaconda3/envs/aiffel/lib/python3.7/site-packages/tensorflow/python/distribute/distribute_lib.py:1211 run\n        return self._extended.call_for_each_replica(fn, args=args, kwargs=kwargs)\n    /home/aiffel0042/anaconda3/envs/aiffel/lib/python3.7/site-packages/tensorflow/python/distribute/distribute_lib.py:2585 call_for_each_replica\n        return self._call_for_each_replica(fn, args, kwargs)\n    /home/aiffel0042/anaconda3/envs/aiffel/lib/python3.7/site-packages/tensorflow/python/distribute/distribute_lib.py:2945 _call_for_each_replica\n        return fn(*args, **kwargs)\n    /home/aiffel0042/anaconda3/envs/aiffel/lib/python3.7/site-packages/tensorflow/python/keras/engine/training.py:789 run_step  **\n        outputs = model.train_step(data)\n    /home/aiffel0042/anaconda3/envs/aiffel/lib/python3.7/site-packages/tensorflow/python/keras/engine/training.py:749 train_step\n        y, y_pred, sample_weight, regularization_losses=self.losses)\n    /home/aiffel0042/anaconda3/envs/aiffel/lib/python3.7/site-packages/tensorflow/python/keras/engine/compile_utils.py:204 __call__\n        loss_value = loss_obj(y_t, y_p, sample_weight=sw)\n    /home/aiffel0042/anaconda3/envs/aiffel/lib/python3.7/site-packages/tensorflow/python/keras/losses.py:149 __call__\n        losses = ag_call(y_true, y_pred)\n    /home/aiffel0042/anaconda3/envs/aiffel/lib/python3.7/site-packages/tensorflow/python/keras/losses.py:253 call  **\n        return ag_fn(y_true, y_pred, **self._fn_kwargs)\n    /home/aiffel0042/anaconda3/envs/aiffel/lib/python3.7/site-packages/tensorflow/python/util/dispatch.py:201 wrapper\n        return target(*args, **kwargs)\n    /home/aiffel0042/anaconda3/envs/aiffel/lib/python3.7/site-packages/tensorflow/python/keras/losses.py:1535 categorical_crossentropy\n        return K.categorical_crossentropy(y_true, y_pred, from_logits=from_logits)\n    /home/aiffel0042/anaconda3/envs/aiffel/lib/python3.7/site-packages/tensorflow/python/util/dispatch.py:201 wrapper\n        return target(*args, **kwargs)\n    /home/aiffel0042/anaconda3/envs/aiffel/lib/python3.7/site-packages/tensorflow/python/keras/backend.py:4687 categorical_crossentropy\n        target.shape.assert_is_compatible_with(output.shape)\n    /home/aiffel0042/anaconda3/envs/aiffel/lib/python3.7/site-packages/tensorflow/python/framework/tensor_shape.py:1134 assert_is_compatible_with\n        raise ValueError(\"Shapes %s and %s are incompatible\" % (self, other))\n\n    ValueError: Shapes (None, None, 12) and (None, 12) are incompatible\n",
     "output_type": "error",
     "traceback": [
      "\u001b[0;31m---------------------------------------------------------------------------\u001b[0m",
      "\u001b[0;31mValueError\u001b[0m                                Traceback (most recent call last)",
      "\u001b[0;32m<ipython-input-60-0f96865eb55b>\u001b[0m in \u001b[0;36m<module>\u001b[0;34m\u001b[0m\n\u001b[1;32m      3\u001b[0m                     \u001b[0msteps_per_epoch\u001b[0m\u001b[0;34m=\u001b[0m\u001b[0mlen\u001b[0m\u001b[0;34m(\u001b[0m\u001b[0mtrain_spec\u001b[0m\u001b[0;34m)\u001b[0m \u001b[0;34m//\u001b[0m \u001b[0mbatch_size\u001b[0m\u001b[0;34m,\u001b[0m\u001b[0;34m\u001b[0m\u001b[0;34m\u001b[0m\u001b[0m\n\u001b[1;32m      4\u001b[0m                     \u001b[0mvalidation_data\u001b[0m\u001b[0;34m=\u001b[0m\u001b[0mspec_test_dataset\u001b[0m\u001b[0;34m,\u001b[0m\u001b[0;34m\u001b[0m\u001b[0;34m\u001b[0m\u001b[0m\n\u001b[0;32m----> 5\u001b[0;31m                     \u001b[0mvalidation_steps\u001b[0m\u001b[0;34m=\u001b[0m\u001b[0mlen\u001b[0m\u001b[0;34m(\u001b[0m\u001b[0mtest_spec\u001b[0m\u001b[0;34m)\u001b[0m \u001b[0;34m//\u001b[0m \u001b[0mbatch_size\u001b[0m\u001b[0;34m\u001b[0m\u001b[0;34m\u001b[0m\u001b[0m\n\u001b[0m\u001b[1;32m      6\u001b[0m                     )\n",
      "\u001b[0;32m~/anaconda3/envs/aiffel/lib/python3.7/site-packages/tensorflow/python/keras/engine/training.py\u001b[0m in \u001b[0;36m_method_wrapper\u001b[0;34m(self, *args, **kwargs)\u001b[0m\n\u001b[1;32m    106\u001b[0m   \u001b[0;32mdef\u001b[0m \u001b[0m_method_wrapper\u001b[0m\u001b[0;34m(\u001b[0m\u001b[0mself\u001b[0m\u001b[0;34m,\u001b[0m \u001b[0;34m*\u001b[0m\u001b[0margs\u001b[0m\u001b[0;34m,\u001b[0m \u001b[0;34m**\u001b[0m\u001b[0mkwargs\u001b[0m\u001b[0;34m)\u001b[0m\u001b[0;34m:\u001b[0m\u001b[0;34m\u001b[0m\u001b[0;34m\u001b[0m\u001b[0m\n\u001b[1;32m    107\u001b[0m     \u001b[0;32mif\u001b[0m \u001b[0;32mnot\u001b[0m \u001b[0mself\u001b[0m\u001b[0;34m.\u001b[0m\u001b[0m_in_multi_worker_mode\u001b[0m\u001b[0;34m(\u001b[0m\u001b[0;34m)\u001b[0m\u001b[0;34m:\u001b[0m  \u001b[0;31m# pylint: disable=protected-access\u001b[0m\u001b[0;34m\u001b[0m\u001b[0;34m\u001b[0m\u001b[0m\n\u001b[0;32m--> 108\u001b[0;31m       \u001b[0;32mreturn\u001b[0m \u001b[0mmethod\u001b[0m\u001b[0;34m(\u001b[0m\u001b[0mself\u001b[0m\u001b[0;34m,\u001b[0m \u001b[0;34m*\u001b[0m\u001b[0margs\u001b[0m\u001b[0;34m,\u001b[0m \u001b[0;34m**\u001b[0m\u001b[0mkwargs\u001b[0m\u001b[0;34m)\u001b[0m\u001b[0;34m\u001b[0m\u001b[0;34m\u001b[0m\u001b[0m\n\u001b[0m\u001b[1;32m    109\u001b[0m \u001b[0;34m\u001b[0m\u001b[0m\n\u001b[1;32m    110\u001b[0m     \u001b[0;31m# Running inside `run_distribute_coordinator` already.\u001b[0m\u001b[0;34m\u001b[0m\u001b[0;34m\u001b[0m\u001b[0;34m\u001b[0m\u001b[0m\n",
      "\u001b[0;32m~/anaconda3/envs/aiffel/lib/python3.7/site-packages/tensorflow/python/keras/engine/training.py\u001b[0m in \u001b[0;36mfit\u001b[0;34m(self, x, y, batch_size, epochs, verbose, callbacks, validation_split, validation_data, shuffle, class_weight, sample_weight, initial_epoch, steps_per_epoch, validation_steps, validation_batch_size, validation_freq, max_queue_size, workers, use_multiprocessing)\u001b[0m\n\u001b[1;32m   1096\u001b[0m                 batch_size=batch_size):\n\u001b[1;32m   1097\u001b[0m               \u001b[0mcallbacks\u001b[0m\u001b[0;34m.\u001b[0m\u001b[0mon_train_batch_begin\u001b[0m\u001b[0;34m(\u001b[0m\u001b[0mstep\u001b[0m\u001b[0;34m)\u001b[0m\u001b[0;34m\u001b[0m\u001b[0;34m\u001b[0m\u001b[0m\n\u001b[0;32m-> 1098\u001b[0;31m               \u001b[0mtmp_logs\u001b[0m \u001b[0;34m=\u001b[0m \u001b[0mtrain_function\u001b[0m\u001b[0;34m(\u001b[0m\u001b[0miterator\u001b[0m\u001b[0;34m)\u001b[0m\u001b[0;34m\u001b[0m\u001b[0;34m\u001b[0m\u001b[0m\n\u001b[0m\u001b[1;32m   1099\u001b[0m               \u001b[0;32mif\u001b[0m \u001b[0mdata_handler\u001b[0m\u001b[0;34m.\u001b[0m\u001b[0mshould_sync\u001b[0m\u001b[0;34m:\u001b[0m\u001b[0;34m\u001b[0m\u001b[0;34m\u001b[0m\u001b[0m\n\u001b[1;32m   1100\u001b[0m                 \u001b[0mcontext\u001b[0m\u001b[0;34m.\u001b[0m\u001b[0masync_wait\u001b[0m\u001b[0;34m(\u001b[0m\u001b[0;34m)\u001b[0m\u001b[0;34m\u001b[0m\u001b[0;34m\u001b[0m\u001b[0m\n",
      "\u001b[0;32m~/anaconda3/envs/aiffel/lib/python3.7/site-packages/tensorflow/python/eager/def_function.py\u001b[0m in \u001b[0;36m__call__\u001b[0;34m(self, *args, **kwds)\u001b[0m\n\u001b[1;32m    778\u001b[0m       \u001b[0;32melse\u001b[0m\u001b[0;34m:\u001b[0m\u001b[0;34m\u001b[0m\u001b[0;34m\u001b[0m\u001b[0m\n\u001b[1;32m    779\u001b[0m         \u001b[0mcompiler\u001b[0m \u001b[0;34m=\u001b[0m \u001b[0;34m\"nonXla\"\u001b[0m\u001b[0;34m\u001b[0m\u001b[0;34m\u001b[0m\u001b[0m\n\u001b[0;32m--> 780\u001b[0;31m         \u001b[0mresult\u001b[0m \u001b[0;34m=\u001b[0m \u001b[0mself\u001b[0m\u001b[0;34m.\u001b[0m\u001b[0m_call\u001b[0m\u001b[0;34m(\u001b[0m\u001b[0;34m*\u001b[0m\u001b[0margs\u001b[0m\u001b[0;34m,\u001b[0m \u001b[0;34m**\u001b[0m\u001b[0mkwds\u001b[0m\u001b[0;34m)\u001b[0m\u001b[0;34m\u001b[0m\u001b[0;34m\u001b[0m\u001b[0m\n\u001b[0m\u001b[1;32m    781\u001b[0m \u001b[0;34m\u001b[0m\u001b[0m\n\u001b[1;32m    782\u001b[0m       \u001b[0mnew_tracing_count\u001b[0m \u001b[0;34m=\u001b[0m \u001b[0mself\u001b[0m\u001b[0;34m.\u001b[0m\u001b[0m_get_tracing_count\u001b[0m\u001b[0;34m(\u001b[0m\u001b[0;34m)\u001b[0m\u001b[0;34m\u001b[0m\u001b[0;34m\u001b[0m\u001b[0m\n",
      "\u001b[0;32m~/anaconda3/envs/aiffel/lib/python3.7/site-packages/tensorflow/python/eager/def_function.py\u001b[0m in \u001b[0;36m_call\u001b[0;34m(self, *args, **kwds)\u001b[0m\n\u001b[1;32m    821\u001b[0m       \u001b[0;31m# This is the first call of __call__, so we have to initialize.\u001b[0m\u001b[0;34m\u001b[0m\u001b[0;34m\u001b[0m\u001b[0;34m\u001b[0m\u001b[0m\n\u001b[1;32m    822\u001b[0m       \u001b[0minitializers\u001b[0m \u001b[0;34m=\u001b[0m \u001b[0;34m[\u001b[0m\u001b[0;34m]\u001b[0m\u001b[0;34m\u001b[0m\u001b[0;34m\u001b[0m\u001b[0m\n\u001b[0;32m--> 823\u001b[0;31m       \u001b[0mself\u001b[0m\u001b[0;34m.\u001b[0m\u001b[0m_initialize\u001b[0m\u001b[0;34m(\u001b[0m\u001b[0margs\u001b[0m\u001b[0;34m,\u001b[0m \u001b[0mkwds\u001b[0m\u001b[0;34m,\u001b[0m \u001b[0madd_initializers_to\u001b[0m\u001b[0;34m=\u001b[0m\u001b[0minitializers\u001b[0m\u001b[0;34m)\u001b[0m\u001b[0;34m\u001b[0m\u001b[0;34m\u001b[0m\u001b[0m\n\u001b[0m\u001b[1;32m    824\u001b[0m     \u001b[0;32mfinally\u001b[0m\u001b[0;34m:\u001b[0m\u001b[0;34m\u001b[0m\u001b[0;34m\u001b[0m\u001b[0m\n\u001b[1;32m    825\u001b[0m       \u001b[0;31m# At this point we know that the initialization is complete (or less\u001b[0m\u001b[0;34m\u001b[0m\u001b[0;34m\u001b[0m\u001b[0;34m\u001b[0m\u001b[0m\n",
      "\u001b[0;32m~/anaconda3/envs/aiffel/lib/python3.7/site-packages/tensorflow/python/eager/def_function.py\u001b[0m in \u001b[0;36m_initialize\u001b[0;34m(self, args, kwds, add_initializers_to)\u001b[0m\n\u001b[1;32m    695\u001b[0m     self._concrete_stateful_fn = (\n\u001b[1;32m    696\u001b[0m         self._stateful_fn._get_concrete_function_internal_garbage_collected(  # pylint: disable=protected-access\n\u001b[0;32m--> 697\u001b[0;31m             *args, **kwds))\n\u001b[0m\u001b[1;32m    698\u001b[0m \u001b[0;34m\u001b[0m\u001b[0m\n\u001b[1;32m    699\u001b[0m     \u001b[0;32mdef\u001b[0m \u001b[0minvalid_creator_scope\u001b[0m\u001b[0;34m(\u001b[0m\u001b[0;34m*\u001b[0m\u001b[0munused_args\u001b[0m\u001b[0;34m,\u001b[0m \u001b[0;34m**\u001b[0m\u001b[0munused_kwds\u001b[0m\u001b[0;34m)\u001b[0m\u001b[0;34m:\u001b[0m\u001b[0;34m\u001b[0m\u001b[0;34m\u001b[0m\u001b[0m\n",
      "\u001b[0;32m~/anaconda3/envs/aiffel/lib/python3.7/site-packages/tensorflow/python/eager/function.py\u001b[0m in \u001b[0;36m_get_concrete_function_internal_garbage_collected\u001b[0;34m(self, *args, **kwargs)\u001b[0m\n\u001b[1;32m   2853\u001b[0m       \u001b[0margs\u001b[0m\u001b[0;34m,\u001b[0m \u001b[0mkwargs\u001b[0m \u001b[0;34m=\u001b[0m \u001b[0;32mNone\u001b[0m\u001b[0;34m,\u001b[0m \u001b[0;32mNone\u001b[0m\u001b[0;34m\u001b[0m\u001b[0;34m\u001b[0m\u001b[0m\n\u001b[1;32m   2854\u001b[0m     \u001b[0;32mwith\u001b[0m \u001b[0mself\u001b[0m\u001b[0;34m.\u001b[0m\u001b[0m_lock\u001b[0m\u001b[0;34m:\u001b[0m\u001b[0;34m\u001b[0m\u001b[0;34m\u001b[0m\u001b[0m\n\u001b[0;32m-> 2855\u001b[0;31m       \u001b[0mgraph_function\u001b[0m\u001b[0;34m,\u001b[0m \u001b[0m_\u001b[0m\u001b[0;34m,\u001b[0m \u001b[0m_\u001b[0m \u001b[0;34m=\u001b[0m \u001b[0mself\u001b[0m\u001b[0;34m.\u001b[0m\u001b[0m_maybe_define_function\u001b[0m\u001b[0;34m(\u001b[0m\u001b[0margs\u001b[0m\u001b[0;34m,\u001b[0m \u001b[0mkwargs\u001b[0m\u001b[0;34m)\u001b[0m\u001b[0;34m\u001b[0m\u001b[0;34m\u001b[0m\u001b[0m\n\u001b[0m\u001b[1;32m   2856\u001b[0m     \u001b[0;32mreturn\u001b[0m \u001b[0mgraph_function\u001b[0m\u001b[0;34m\u001b[0m\u001b[0;34m\u001b[0m\u001b[0m\n\u001b[1;32m   2857\u001b[0m \u001b[0;34m\u001b[0m\u001b[0m\n",
      "\u001b[0;32m~/anaconda3/envs/aiffel/lib/python3.7/site-packages/tensorflow/python/eager/function.py\u001b[0m in \u001b[0;36m_maybe_define_function\u001b[0;34m(self, args, kwargs)\u001b[0m\n\u001b[1;32m   3211\u001b[0m \u001b[0;34m\u001b[0m\u001b[0m\n\u001b[1;32m   3212\u001b[0m       \u001b[0mself\u001b[0m\u001b[0;34m.\u001b[0m\u001b[0m_function_cache\u001b[0m\u001b[0;34m.\u001b[0m\u001b[0mmissed\u001b[0m\u001b[0;34m.\u001b[0m\u001b[0madd\u001b[0m\u001b[0;34m(\u001b[0m\u001b[0mcall_context_key\u001b[0m\u001b[0;34m)\u001b[0m\u001b[0;34m\u001b[0m\u001b[0;34m\u001b[0m\u001b[0m\n\u001b[0;32m-> 3213\u001b[0;31m       \u001b[0mgraph_function\u001b[0m \u001b[0;34m=\u001b[0m \u001b[0mself\u001b[0m\u001b[0;34m.\u001b[0m\u001b[0m_create_graph_function\u001b[0m\u001b[0;34m(\u001b[0m\u001b[0margs\u001b[0m\u001b[0;34m,\u001b[0m \u001b[0mkwargs\u001b[0m\u001b[0;34m)\u001b[0m\u001b[0;34m\u001b[0m\u001b[0;34m\u001b[0m\u001b[0m\n\u001b[0m\u001b[1;32m   3214\u001b[0m       \u001b[0mself\u001b[0m\u001b[0;34m.\u001b[0m\u001b[0m_function_cache\u001b[0m\u001b[0;34m.\u001b[0m\u001b[0mprimary\u001b[0m\u001b[0;34m[\u001b[0m\u001b[0mcache_key\u001b[0m\u001b[0;34m]\u001b[0m \u001b[0;34m=\u001b[0m \u001b[0mgraph_function\u001b[0m\u001b[0;34m\u001b[0m\u001b[0;34m\u001b[0m\u001b[0m\n\u001b[1;32m   3215\u001b[0m       \u001b[0;32mreturn\u001b[0m \u001b[0mgraph_function\u001b[0m\u001b[0;34m,\u001b[0m \u001b[0margs\u001b[0m\u001b[0;34m,\u001b[0m \u001b[0mkwargs\u001b[0m\u001b[0;34m\u001b[0m\u001b[0;34m\u001b[0m\u001b[0m\n",
      "\u001b[0;32m~/anaconda3/envs/aiffel/lib/python3.7/site-packages/tensorflow/python/eager/function.py\u001b[0m in \u001b[0;36m_create_graph_function\u001b[0;34m(self, args, kwargs, override_flat_arg_shapes)\u001b[0m\n\u001b[1;32m   3073\u001b[0m             \u001b[0marg_names\u001b[0m\u001b[0;34m=\u001b[0m\u001b[0marg_names\u001b[0m\u001b[0;34m,\u001b[0m\u001b[0;34m\u001b[0m\u001b[0;34m\u001b[0m\u001b[0m\n\u001b[1;32m   3074\u001b[0m             \u001b[0moverride_flat_arg_shapes\u001b[0m\u001b[0;34m=\u001b[0m\u001b[0moverride_flat_arg_shapes\u001b[0m\u001b[0;34m,\u001b[0m\u001b[0;34m\u001b[0m\u001b[0;34m\u001b[0m\u001b[0m\n\u001b[0;32m-> 3075\u001b[0;31m             capture_by_value=self._capture_by_value),\n\u001b[0m\u001b[1;32m   3076\u001b[0m         \u001b[0mself\u001b[0m\u001b[0;34m.\u001b[0m\u001b[0m_function_attributes\u001b[0m\u001b[0;34m,\u001b[0m\u001b[0;34m\u001b[0m\u001b[0;34m\u001b[0m\u001b[0m\n\u001b[1;32m   3077\u001b[0m         \u001b[0mfunction_spec\u001b[0m\u001b[0;34m=\u001b[0m\u001b[0mself\u001b[0m\u001b[0;34m.\u001b[0m\u001b[0mfunction_spec\u001b[0m\u001b[0;34m,\u001b[0m\u001b[0;34m\u001b[0m\u001b[0;34m\u001b[0m\u001b[0m\n",
      "\u001b[0;32m~/anaconda3/envs/aiffel/lib/python3.7/site-packages/tensorflow/python/framework/func_graph.py\u001b[0m in \u001b[0;36mfunc_graph_from_py_func\u001b[0;34m(name, python_func, args, kwargs, signature, func_graph, autograph, autograph_options, add_control_dependencies, arg_names, op_return_value, collections, capture_by_value, override_flat_arg_shapes)\u001b[0m\n\u001b[1;32m    984\u001b[0m         \u001b[0m_\u001b[0m\u001b[0;34m,\u001b[0m \u001b[0moriginal_func\u001b[0m \u001b[0;34m=\u001b[0m \u001b[0mtf_decorator\u001b[0m\u001b[0;34m.\u001b[0m\u001b[0munwrap\u001b[0m\u001b[0;34m(\u001b[0m\u001b[0mpython_func\u001b[0m\u001b[0;34m)\u001b[0m\u001b[0;34m\u001b[0m\u001b[0;34m\u001b[0m\u001b[0m\n\u001b[1;32m    985\u001b[0m \u001b[0;34m\u001b[0m\u001b[0m\n\u001b[0;32m--> 986\u001b[0;31m       \u001b[0mfunc_outputs\u001b[0m \u001b[0;34m=\u001b[0m \u001b[0mpython_func\u001b[0m\u001b[0;34m(\u001b[0m\u001b[0;34m*\u001b[0m\u001b[0mfunc_args\u001b[0m\u001b[0;34m,\u001b[0m \u001b[0;34m**\u001b[0m\u001b[0mfunc_kwargs\u001b[0m\u001b[0;34m)\u001b[0m\u001b[0;34m\u001b[0m\u001b[0;34m\u001b[0m\u001b[0m\n\u001b[0m\u001b[1;32m    987\u001b[0m \u001b[0;34m\u001b[0m\u001b[0m\n\u001b[1;32m    988\u001b[0m       \u001b[0;31m# invariant: `func_outputs` contains only Tensors, CompositeTensors,\u001b[0m\u001b[0;34m\u001b[0m\u001b[0;34m\u001b[0m\u001b[0;34m\u001b[0m\u001b[0m\n",
      "\u001b[0;32m~/anaconda3/envs/aiffel/lib/python3.7/site-packages/tensorflow/python/eager/def_function.py\u001b[0m in \u001b[0;36mwrapped_fn\u001b[0;34m(*args, **kwds)\u001b[0m\n\u001b[1;32m    598\u001b[0m         \u001b[0;31m# __wrapped__ allows AutoGraph to swap in a converted function. We give\u001b[0m\u001b[0;34m\u001b[0m\u001b[0;34m\u001b[0m\u001b[0;34m\u001b[0m\u001b[0m\n\u001b[1;32m    599\u001b[0m         \u001b[0;31m# the function a weak reference to itself to avoid a reference cycle.\u001b[0m\u001b[0;34m\u001b[0m\u001b[0;34m\u001b[0m\u001b[0;34m\u001b[0m\u001b[0m\n\u001b[0;32m--> 600\u001b[0;31m         \u001b[0;32mreturn\u001b[0m \u001b[0mweak_wrapped_fn\u001b[0m\u001b[0;34m(\u001b[0m\u001b[0;34m)\u001b[0m\u001b[0;34m.\u001b[0m\u001b[0m__wrapped__\u001b[0m\u001b[0;34m(\u001b[0m\u001b[0;34m*\u001b[0m\u001b[0margs\u001b[0m\u001b[0;34m,\u001b[0m \u001b[0;34m**\u001b[0m\u001b[0mkwds\u001b[0m\u001b[0;34m)\u001b[0m\u001b[0;34m\u001b[0m\u001b[0;34m\u001b[0m\u001b[0m\n\u001b[0m\u001b[1;32m    601\u001b[0m     \u001b[0mweak_wrapped_fn\u001b[0m \u001b[0;34m=\u001b[0m \u001b[0mweakref\u001b[0m\u001b[0;34m.\u001b[0m\u001b[0mref\u001b[0m\u001b[0;34m(\u001b[0m\u001b[0mwrapped_fn\u001b[0m\u001b[0;34m)\u001b[0m\u001b[0;34m\u001b[0m\u001b[0;34m\u001b[0m\u001b[0m\n\u001b[1;32m    602\u001b[0m \u001b[0;34m\u001b[0m\u001b[0m\n",
      "\u001b[0;32m~/anaconda3/envs/aiffel/lib/python3.7/site-packages/tensorflow/python/framework/func_graph.py\u001b[0m in \u001b[0;36mwrapper\u001b[0;34m(*args, **kwargs)\u001b[0m\n\u001b[1;32m    971\u001b[0m           \u001b[0;32mexcept\u001b[0m \u001b[0mException\u001b[0m \u001b[0;32mas\u001b[0m \u001b[0me\u001b[0m\u001b[0;34m:\u001b[0m  \u001b[0;31m# pylint:disable=broad-except\u001b[0m\u001b[0;34m\u001b[0m\u001b[0;34m\u001b[0m\u001b[0m\n\u001b[1;32m    972\u001b[0m             \u001b[0;32mif\u001b[0m \u001b[0mhasattr\u001b[0m\u001b[0;34m(\u001b[0m\u001b[0me\u001b[0m\u001b[0;34m,\u001b[0m \u001b[0;34m\"ag_error_metadata\"\u001b[0m\u001b[0;34m)\u001b[0m\u001b[0;34m:\u001b[0m\u001b[0;34m\u001b[0m\u001b[0;34m\u001b[0m\u001b[0m\n\u001b[0;32m--> 973\u001b[0;31m               \u001b[0;32mraise\u001b[0m \u001b[0me\u001b[0m\u001b[0;34m.\u001b[0m\u001b[0mag_error_metadata\u001b[0m\u001b[0;34m.\u001b[0m\u001b[0mto_exception\u001b[0m\u001b[0;34m(\u001b[0m\u001b[0me\u001b[0m\u001b[0;34m)\u001b[0m\u001b[0;34m\u001b[0m\u001b[0;34m\u001b[0m\u001b[0m\n\u001b[0m\u001b[1;32m    974\u001b[0m             \u001b[0;32melse\u001b[0m\u001b[0;34m:\u001b[0m\u001b[0;34m\u001b[0m\u001b[0;34m\u001b[0m\u001b[0m\n\u001b[1;32m    975\u001b[0m               \u001b[0;32mraise\u001b[0m\u001b[0;34m\u001b[0m\u001b[0;34m\u001b[0m\u001b[0m\n",
      "\u001b[0;31mValueError\u001b[0m: in user code:\n\n    /home/aiffel0042/anaconda3/envs/aiffel/lib/python3.7/site-packages/tensorflow/python/keras/engine/training.py:806 train_function  *\n        return step_function(self, iterator)\n    /home/aiffel0042/anaconda3/envs/aiffel/lib/python3.7/site-packages/tensorflow/python/keras/engine/training.py:796 step_function  **\n        outputs = model.distribute_strategy.run(run_step, args=(data,))\n    /home/aiffel0042/anaconda3/envs/aiffel/lib/python3.7/site-packages/tensorflow/python/distribute/distribute_lib.py:1211 run\n        return self._extended.call_for_each_replica(fn, args=args, kwargs=kwargs)\n    /home/aiffel0042/anaconda3/envs/aiffel/lib/python3.7/site-packages/tensorflow/python/distribute/distribute_lib.py:2585 call_for_each_replica\n        return self._call_for_each_replica(fn, args, kwargs)\n    /home/aiffel0042/anaconda3/envs/aiffel/lib/python3.7/site-packages/tensorflow/python/distribute/distribute_lib.py:2945 _call_for_each_replica\n        return fn(*args, **kwargs)\n    /home/aiffel0042/anaconda3/envs/aiffel/lib/python3.7/site-packages/tensorflow/python/keras/engine/training.py:789 run_step  **\n        outputs = model.train_step(data)\n    /home/aiffel0042/anaconda3/envs/aiffel/lib/python3.7/site-packages/tensorflow/python/keras/engine/training.py:749 train_step\n        y, y_pred, sample_weight, regularization_losses=self.losses)\n    /home/aiffel0042/anaconda3/envs/aiffel/lib/python3.7/site-packages/tensorflow/python/keras/engine/compile_utils.py:204 __call__\n        loss_value = loss_obj(y_t, y_p, sample_weight=sw)\n    /home/aiffel0042/anaconda3/envs/aiffel/lib/python3.7/site-packages/tensorflow/python/keras/losses.py:149 __call__\n        losses = ag_call(y_true, y_pred)\n    /home/aiffel0042/anaconda3/envs/aiffel/lib/python3.7/site-packages/tensorflow/python/keras/losses.py:253 call  **\n        return ag_fn(y_true, y_pred, **self._fn_kwargs)\n    /home/aiffel0042/anaconda3/envs/aiffel/lib/python3.7/site-packages/tensorflow/python/util/dispatch.py:201 wrapper\n        return target(*args, **kwargs)\n    /home/aiffel0042/anaconda3/envs/aiffel/lib/python3.7/site-packages/tensorflow/python/keras/losses.py:1535 categorical_crossentropy\n        return K.categorical_crossentropy(y_true, y_pred, from_logits=from_logits)\n    /home/aiffel0042/anaconda3/envs/aiffel/lib/python3.7/site-packages/tensorflow/python/util/dispatch.py:201 wrapper\n        return target(*args, **kwargs)\n    /home/aiffel0042/anaconda3/envs/aiffel/lib/python3.7/site-packages/tensorflow/python/keras/backend.py:4687 categorical_crossentropy\n        target.shape.assert_is_compatible_with(output.shape)\n    /home/aiffel0042/anaconda3/envs/aiffel/lib/python3.7/site-packages/tensorflow/python/framework/tensor_shape.py:1134 assert_is_compatible_with\n        raise ValueError(\"Shapes %s and %s are incompatible\" % (self, other))\n\n    ValueError: Shapes (None, None, 12) and (None, 12) are incompatible\n"
     ]
    }
   ],
   "source": [
    "#30분 내외 소요\n",
    "history_spec = model_spec.fit(spec_train_dataset, epochs=max_epochs,\n",
    "                    steps_per_epoch=len(train_spec) // batch_size,\n",
    "                    validation_data=spec_test_dataset,\n",
    "                    validation_steps=len(test_spec) // batch_size\n",
    "                    )"
   ]
  },
  {
   "cell_type": "code",
   "execution_count": null,
   "metadata": {},
   "outputs": [],
   "source": []
  }
 ],
 "metadata": {
  "kernelspec": {
   "display_name": "aiffel",
   "language": "python",
   "name": "aiffel"
  },
  "language_info": {
   "codemirror_mode": {
    "name": "ipython",
    "version": 3
   },
   "file_extension": ".py",
   "mimetype": "text/x-python",
   "name": "python",
   "nbconvert_exporter": "python",
   "pygments_lexer": "ipython3",
   "version": "3.7.6"
  }
 },
 "nbformat": 4,
 "nbformat_minor": 4
}
