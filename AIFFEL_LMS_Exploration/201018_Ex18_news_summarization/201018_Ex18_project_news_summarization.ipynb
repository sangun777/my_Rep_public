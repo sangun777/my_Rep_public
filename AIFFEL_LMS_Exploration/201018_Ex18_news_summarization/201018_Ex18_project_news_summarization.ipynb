{
 "cells": [
  {
   "cell_type": "markdown",
   "metadata": {},
   "source": [
    "# 18-13. 프로젝트: 뉴스기사 요약해보기"
   ]
  },
  {
   "cell_type": "markdown",
   "metadata": {},
   "source": [
    "## Step 1. 데이터 수집하기\n",
    "\n",
    "* 데이터는 아래 링크에 있는 뉴스 기사 데이터(newssummarymore.csv)를 사용하세요.\n",
    "* sunnysai12345/News_Summary\n",
    "* https://github.com/sunnysai12345/News_Summary"
   ]
  },
  {
   "cell_type": "code",
   "execution_count": 1,
   "metadata": {},
   "outputs": [],
   "source": [
    "import pandas as pd\n",
    "import urllib.request\n",
    "\n",
    "# urllib.request.urlretrieve(\"https://raw.githubusercontent.com/sunnysai12345/News_Summary/master/news_summary_more.csv\", filename=\"news_summary_more.csv\")\n",
    "data = pd.read_csv('news_summary_more.csv', encoding='iso-8859-1')"
   ]
  },
  {
   "cell_type": "code",
   "execution_count": 2,
   "metadata": {},
   "outputs": [
    {
     "data": {
      "text/html": [
       "<div>\n",
       "<style scoped>\n",
       "    .dataframe tbody tr th:only-of-type {\n",
       "        vertical-align: middle;\n",
       "    }\n",
       "\n",
       "    .dataframe tbody tr th {\n",
       "        vertical-align: top;\n",
       "    }\n",
       "\n",
       "    .dataframe thead th {\n",
       "        text-align: right;\n",
       "    }\n",
       "</style>\n",
       "<table border=\"1\" class=\"dataframe\">\n",
       "  <thead>\n",
       "    <tr style=\"text-align: right;\">\n",
       "      <th></th>\n",
       "      <th>headlines</th>\n",
       "      <th>text</th>\n",
       "    </tr>\n",
       "  </thead>\n",
       "  <tbody>\n",
       "    <tr>\n",
       "      <th>24474</th>\n",
       "      <td>Google Chrome now marks all HTTP sites as 'not...</td>\n",
       "      <td>Google has updated its Chrome browser to inclu...</td>\n",
       "    </tr>\n",
       "    <tr>\n",
       "      <th>73189</th>\n",
       "      <td>Took me 3 yrs to convince B'wood I can be glam...</td>\n",
       "      <td>Taapsee Pannu has said it took her three years...</td>\n",
       "    </tr>\n",
       "    <tr>\n",
       "      <th>40539</th>\n",
       "      <td>India announces 30-day free visa for Indonesia...</td>\n",
       "      <td>Prime Minister Narendra Modi on Wednesday anno...</td>\n",
       "    </tr>\n",
       "    <tr>\n",
       "      <th>98219</th>\n",
       "      <td>Why are crushed stones placed along railway tr...</td>\n",
       "      <td>The crushed stones placed along the railway tr...</td>\n",
       "    </tr>\n",
       "    <tr>\n",
       "      <th>6848</th>\n",
       "      <td>Release date of Nutan's granddaughter's debut ...</td>\n",
       "      <td>The release date of Nutan's granddaughter and ...</td>\n",
       "    </tr>\n",
       "    <tr>\n",
       "      <th>20128</th>\n",
       "      <td>We speak daily: Kangana denies tiff with 'Mani...</td>\n",
       "      <td>Denying rumours of her tiff with her upcoming ...</td>\n",
       "    </tr>\n",
       "    <tr>\n",
       "      <th>93472</th>\n",
       "      <td>Teaser of Star Wars: The Last Jedi released</td>\n",
       "      <td>The teaser of 'Star Wars: The Last Jedi' was r...</td>\n",
       "    </tr>\n",
       "    <tr>\n",
       "      <th>83255</th>\n",
       "      <td>Ravi Shastri to apply for India head coach post</td>\n",
       "      <td>Former cricketer Ravi Shastri has confirmed he...</td>\n",
       "    </tr>\n",
       "    <tr>\n",
       "      <th>33690</th>\n",
       "      <td>Jong-un allows S Korean head to cross line, 'v...</td>\n",
       "      <td>During the on-going Korea Summit, South Korean...</td>\n",
       "    </tr>\n",
       "    <tr>\n",
       "      <th>5231</th>\n",
       "      <td>We wanted Kumble to continue as coach, he want...</td>\n",
       "      <td>Ex-India batsman and BCCI's Cricket Advisory C...</td>\n",
       "    </tr>\n",
       "  </tbody>\n",
       "</table>\n",
       "</div>"
      ],
      "text/plain": [
       "                                               headlines  \\\n",
       "24474  Google Chrome now marks all HTTP sites as 'not...   \n",
       "73189  Took me 3 yrs to convince B'wood I can be glam...   \n",
       "40539  India announces 30-day free visa for Indonesia...   \n",
       "98219  Why are crushed stones placed along railway tr...   \n",
       "6848   Release date of Nutan's granddaughter's debut ...   \n",
       "20128  We speak daily: Kangana denies tiff with 'Mani...   \n",
       "93472        Teaser of Star Wars: The Last Jedi released   \n",
       "83255    Ravi Shastri to apply for India head coach post   \n",
       "33690  Jong-un allows S Korean head to cross line, 'v...   \n",
       "5231   We wanted Kumble to continue as coach, he want...   \n",
       "\n",
       "                                                    text  \n",
       "24474  Google has updated its Chrome browser to inclu...  \n",
       "73189  Taapsee Pannu has said it took her three years...  \n",
       "40539  Prime Minister Narendra Modi on Wednesday anno...  \n",
       "98219  The crushed stones placed along the railway tr...  \n",
       "6848   The release date of Nutan's granddaughter and ...  \n",
       "20128  Denying rumours of her tiff with her upcoming ...  \n",
       "93472  The teaser of 'Star Wars: The Last Jedi' was r...  \n",
       "83255  Former cricketer Ravi Shastri has confirmed he...  \n",
       "33690  During the on-going Korea Summit, South Korean...  \n",
       "5231   Ex-India batsman and BCCI's Cricket Advisory C...  "
      ]
     },
     "execution_count": 2,
     "metadata": {},
     "output_type": "execute_result"
    }
   ],
   "source": [
    "data.sample(10)"
   ]
  },
  {
   "cell_type": "markdown",
   "metadata": {},
   "source": [
    "* 이 데이터는 기사의 본문에 해당되는 text와 headlines 두 가지 열로 구성됨"
   ]
  },
  {
   "cell_type": "markdown",
   "metadata": {},
   "source": [
    "추상적 요약을 하는 경우에는 \n",
    "* text를 본문, headlines를 이미 요약된 데이터로 삼아서 모델을 학습할 수 있어요. \n",
    "\n",
    "추출적 요약을 하는 경우에는 \n",
    "* 오직 text열만을 사용하세요."
   ]
  },
  {
   "cell_type": "markdown",
   "metadata": {},
   "source": [
    "## Step 2. 데이터 전처리하기 (추상적 요약)\n",
    "\n",
    "* 실습에서 사용된 전처리를 참고하여 각자 필요하다고 생각하는 전처리를 추가 사용하여 텍스트를 정규화 또는 정제해 보세요. \n",
    "* 만약, 불용어 제거를 선택한다면 상대적으로 길이가 짧은 요약 데이터에 대해서도 불용어를 제거하는 것이 좋을지 고민해보세요"
   ]
  },
  {
   "cell_type": "code",
   "execution_count": 3,
   "metadata": {},
   "outputs": [
    {
     "name": "stderr",
     "output_type": "stream",
     "text": [
      "[nltk_data] Downloading package stopwords to\n",
      "[nltk_data]     /home/aiffel0042/nltk_data...\n",
      "[nltk_data]   Package stopwords is already up-to-date!\n"
     ]
    }
   ],
   "source": [
    "# 패키지 호출\n",
    "import nltk\n",
    "nltk.download('stopwords')\n",
    "\n",
    "import numpy as np\n",
    "import os\n",
    "import re\n",
    "import matplotlib.pyplot as plt\n",
    "from nltk.corpus import stopwords\n",
    "from bs4 import BeautifulSoup \n",
    "from tensorflow.keras.preprocessing.text import Tokenizer \n",
    "from tensorflow.keras.preprocessing.sequence import pad_sequences"
   ]
  },
  {
   "cell_type": "markdown",
   "metadata": {},
   "source": [
    "### 데이터 전처리 - 중복 제거, NULL 제거"
   ]
  },
  {
   "cell_type": "code",
   "execution_count": 4,
   "metadata": {},
   "outputs": [
    {
     "name": "stdout",
     "output_type": "stream",
     "text": [
      "전체 data 수 :  98401\n"
     ]
    }
   ],
   "source": [
    "# 전체 data 수 확인\n",
    "print('전체 data 수 : ', len(data))"
   ]
  },
  {
   "cell_type": "code",
   "execution_count": 5,
   "metadata": {},
   "outputs": [
    {
     "name": "stdout",
     "output_type": "stream",
     "text": [
      "headlines 열에서 중복을 배제한 유일한 샘플의 수 : 98280\n",
      "text 열에서 중복을 배제한 유일한 샘플의 수 : 98360\n"
     ]
    }
   ],
   "source": [
    "# 각 열별 유일한 샘플 수 확인\n",
    "print('headlines 열에서 중복을 배제한 유일한 샘플의 수 :', data['headlines'].nunique())\n",
    "print('text 열에서 중복을 배제한 유일한 샘플의 수 :', data['text'].nunique())"
   ]
  },
  {
   "cell_type": "code",
   "execution_count": 6,
   "metadata": {},
   "outputs": [
    {
     "name": "stdout",
     "output_type": "stream",
     "text": [
      "중복 제거 후 전체 샘플수 : 98262\n"
     ]
    }
   ],
   "source": [
    "# 중복 값 제거\n",
    "data.drop_duplicates(subset = ['headlines'], inplace = True)\n",
    "data.drop_duplicates(subset = ['text'], inplace = True)\n",
    "\n",
    "# 중복 제거 후 전체 data갯수 확인\n",
    "print('중복 제거 후 전체 샘플수 :', len(data))"
   ]
  },
  {
   "cell_type": "code",
   "execution_count": 7,
   "metadata": {},
   "outputs": [
    {
     "name": "stdout",
     "output_type": "stream",
     "text": [
      "headlines    0\n",
      "text         0\n",
      "dtype: int64\n"
     ]
    }
   ],
   "source": [
    "# 열별 null 갯수 확인 \n",
    "print(data.isnull().sum())"
   ]
  },
  {
   "cell_type": "markdown",
   "metadata": {},
   "source": [
    "=> 제거할 null 없음"
   ]
  },
  {
   "cell_type": "markdown",
   "metadata": {},
   "source": [
    "### 텍스트 정규화, 불용어 제거"
   ]
  },
  {
   "cell_type": "markdown",
   "metadata": {},
   "source": [
    "### 텍스트 정규화(text normalization)\n",
    "\n",
    "* 기계 학습 전에 '같은 의미 다른 표현 단어'를 미리 같은 표현으로 통일시켜주는 것\n",
    "* 예시 'it'll'은 'it will'과 같고, 'mustn't과 'must not'은 사실 같은 표현\n",
    "\n",
    "* 여기서는 텍스트 정규화를 위한 사전(dictionary)을 아래와 같이 구성\n",
    "* 이 사전은 아래의 링크에서 참고하여 만들었어요. 정규화 사전 출처 : https://stackoverflow.com/questions/19790188/expanding-english-language-contractions-in-python"
   ]
  },
  {
   "cell_type": "code",
   "execution_count": 8,
   "metadata": {},
   "outputs": [
    {
     "name": "stdout",
     "output_type": "stream",
     "text": [
      "정규화 사전의 수:  120\n"
     ]
    }
   ],
   "source": [
    "contractions = {\"ain't\": \"is not\", \"aren't\": \"are not\",\"can't\": \"cannot\", \"'cause\": \"because\", \"could've\": \"could have\", \"couldn't\": \"could not\",\n",
    "                           \"didn't\": \"did not\",  \"doesn't\": \"does not\", \"don't\": \"do not\", \"hadn't\": \"had not\", \"hasn't\": \"has not\", \"haven't\": \"have not\",\n",
    "                           \"he'd\": \"he would\",\"he'll\": \"he will\", \"he's\": \"he is\", \"how'd\": \"how did\", \"how'd'y\": \"how do you\", \"how'll\": \"how will\", \"how's\": \"how is\",\n",
    "                           \"I'd\": \"I would\", \"I'd've\": \"I would have\", \"I'll\": \"I will\", \"I'll've\": \"I will have\",\"I'm\": \"I am\", \"I've\": \"I have\", \"i'd\": \"i would\",\n",
    "                           \"i'd've\": \"i would have\", \"i'll\": \"i will\",  \"i'll've\": \"i will have\",\"i'm\": \"i am\", \"i've\": \"i have\", \"isn't\": \"is not\", \"it'd\": \"it would\",\n",
    "                           \"it'd've\": \"it would have\", \"it'll\": \"it will\", \"it'll've\": \"it will have\",\"it's\": \"it is\", \"let's\": \"let us\", \"ma'am\": \"madam\",\n",
    "                           \"mayn't\": \"may not\", \"might've\": \"might have\",\"mightn't\": \"might not\",\"mightn't've\": \"might not have\", \"must've\": \"must have\",\n",
    "                           \"mustn't\": \"must not\", \"mustn't've\": \"must not have\", \"needn't\": \"need not\", \"needn't've\": \"need not have\",\"o'clock\": \"of the clock\",\n",
    "                           \"oughtn't\": \"ought not\", \"oughtn't've\": \"ought not have\", \"shan't\": \"shall not\", \"sha'n't\": \"shall not\", \"shan't've\": \"shall not have\",\n",
    "                           \"she'd\": \"she would\", \"she'd've\": \"she would have\", \"she'll\": \"she will\", \"she'll've\": \"she will have\", \"she's\": \"she is\",\n",
    "                           \"should've\": \"should have\", \"shouldn't\": \"should not\", \"shouldn't've\": \"should not have\", \"so've\": \"so have\",\"so's\": \"so as\",\n",
    "                           \"this's\": \"this is\",\"that'd\": \"that would\", \"that'd've\": \"that would have\", \"that's\": \"that is\", \"there'd\": \"there would\",\n",
    "                           \"there'd've\": \"there would have\", \"there's\": \"there is\", \"here's\": \"here is\",\"they'd\": \"they would\", \"they'd've\": \"they would have\",\n",
    "                           \"they'll\": \"they will\", \"they'll've\": \"they will have\", \"they're\": \"they are\", \"they've\": \"they have\", \"to've\": \"to have\",\n",
    "                           \"wasn't\": \"was not\", \"we'd\": \"we would\", \"we'd've\": \"we would have\", \"we'll\": \"we will\", \"we'll've\": \"we will have\", \"we're\": \"we are\",\n",
    "                           \"we've\": \"we have\", \"weren't\": \"were not\", \"what'll\": \"what will\", \"what'll've\": \"what will have\", \"what're\": \"what are\",\n",
    "                           \"what's\": \"what is\", \"what've\": \"what have\", \"when's\": \"when is\", \"when've\": \"when have\", \"where'd\": \"where did\", \"where's\": \"where is\",\n",
    "                           \"where've\": \"where have\", \"who'll\": \"who will\", \"who'll've\": \"who will have\", \"who's\": \"who is\", \"who've\": \"who have\",\n",
    "                           \"why's\": \"why is\", \"why've\": \"why have\", \"will've\": \"will have\", \"won't\": \"will not\", \"won't've\": \"will not have\",\n",
    "                           \"would've\": \"would have\", \"wouldn't\": \"would not\", \"wouldn't've\": \"would not have\", \"y'all\": \"you all\",\n",
    "                           \"y'all'd\": \"you all would\",\"y'all'd've\": \"you all would have\",\"y'all're\": \"you all are\",\"y'all've\": \"you all have\",\n",
    "                           \"you'd\": \"you would\", \"you'd've\": \"you would have\", \"you'll\": \"you will\", \"you'll've\": \"you will have\",\n",
    "                           \"you're\": \"you are\", \"you've\": \"you have\"}\n",
    "\n",
    "print(\"정규화 사전의 수: \",len(contractions))"
   ]
  },
  {
   "cell_type": "markdown",
   "metadata": {},
   "source": [
    "\n",
    "### 불용어(stopwords) 제거\n",
    "\n",
    "* 불용어 : 텍스트에는 자주 등장하지만 자연어 처리를 할 때 실질적으로 별 도움이 되지 않는 단어\n",
    "* 여기서는 NLTK에서 제공하는 불용어 리스트를 참조해, 샘플에서 불용어를 제거할 것\n"
   ]
  },
  {
   "cell_type": "code",
   "execution_count": 9,
   "metadata": {},
   "outputs": [
    {
     "name": "stdout",
     "output_type": "stream",
     "text": [
      "불용어 개수 : 179\n",
      "['i', 'me', 'my', 'myself', 'we', 'our', 'ours', 'ourselves', 'you', \"you're\", \"you've\", \"you'll\", \"you'd\", 'your', 'yours', 'yourself', 'yourselves', 'he', 'him', 'his', 'himself', 'she', \"she's\", 'her', 'hers', 'herself', 'it', \"it's\", 'its', 'itself', 'they', 'them', 'their', 'theirs', 'themselves', 'what', 'which', 'who', 'whom', 'this', 'that', \"that'll\", 'these', 'those', 'am', 'is', 'are', 'was', 'were', 'be', 'been', 'being', 'have', 'has', 'had', 'having', 'do', 'does', 'did', 'doing', 'a', 'an', 'the', 'and', 'but', 'if', 'or', 'because', 'as', 'until', 'while', 'of', 'at', 'by', 'for', 'with', 'about', 'against', 'between', 'into', 'through', 'during', 'before', 'after', 'above', 'below', 'to', 'from', 'up', 'down', 'in', 'out', 'on', 'off', 'over', 'under', 'again', 'further', 'then', 'once', 'here', 'there', 'when', 'where', 'why', 'how', 'all', 'any', 'both', 'each', 'few', 'more', 'most', 'other', 'some', 'such', 'no', 'nor', 'not', 'only', 'own', 'same', 'so', 'than', 'too', 'very', 's', 't', 'can', 'will', 'just', 'don', \"don't\", 'should', \"should've\", 'now', 'd', 'll', 'm', 'o', 're', 've', 'y', 'ain', 'aren', \"aren't\", 'couldn', \"couldn't\", 'didn', \"didn't\", 'doesn', \"doesn't\", 'hadn', \"hadn't\", 'hasn', \"hasn't\", 'haven', \"haven't\", 'isn', \"isn't\", 'ma', 'mightn', \"mightn't\", 'mustn', \"mustn't\", 'needn', \"needn't\", 'shan', \"shan't\", 'shouldn', \"shouldn't\", 'wasn', \"wasn't\", 'weren', \"weren't\", 'won', \"won't\", 'wouldn', \"wouldn't\"]\n"
     ]
    }
   ],
   "source": [
    "print('불용어 개수 :', len(stopwords.words('english') ))\n",
    "print(stopwords.words('english'))"
   ]
  },
  {
   "cell_type": "markdown",
   "metadata": {},
   "source": [
    "* 텍스트 정규화, 불용어 제거 수행하는 전처리 함수 설계"
   ]
  },
  {
   "cell_type": "code",
   "execution_count": 10,
   "metadata": {},
   "outputs": [],
   "source": [
    "# 데이터 전처리 함수\n",
    "# 함수의 2번째 인자를 False로 설정하면 불용어는 제거되지 않음\n",
    "def preprocess_sentence(sentence, remove_stopwords=True):\n",
    "    sentence = sentence.lower() # 텍스트 소문자화\n",
    "    sentence = BeautifulSoup(sentence, \"lxml\").text # <br />, <a href = ...> 등의 html 태그 제거\n",
    "    sentence = re.sub(r'\\([^)]*\\)', '', sentence) # 괄호로 닫힌 문자열 (...) 제거 Ex) my husband (and myself!) for => my husband for\n",
    "    sentence = re.sub('\"','', sentence) # 쌍따옴표 \" 제거\n",
    "    sentence = ' '.join([contractions[t] if t in contractions else t for t in sentence.split(\" \")]) # 약어 정규화\n",
    "#     sentence = re.sub(r\"'s\\b\",\"\",sentence) # 소유격 제거. Ex) roland's -> roland\n",
    "    sentence = re.sub(\"[^a-zA-Z0-9.',]\", \" \", sentence) # 영어,숫자 외 문자(특수문자 등) 공백으로 변환\n",
    "    sentence = re.sub('[m]{2,}', 'mm', sentence) # m이 3개 이상이면 2개로 변경. Ex) ummmmmmm yeah -> umm yeah\n",
    "    \n",
    "    # 불용어 제거 (text)\n",
    "    if remove_stopwords:\n",
    "        tokens = ' '.join(word for word in sentence.split() if not word in stopwords.words('english') if len(word) > 1)\n",
    "    # 불용어 미제거 (headlines)\n",
    "    else:\n",
    "        tokens = ' '.join(word for word in sentence.split() if len(word) > 1)\n",
    "    return tokens"
   ]
  },
  {
   "cell_type": "code",
   "execution_count": 11,
   "metadata": {},
   "outputs": [
    {
     "data": {
      "text/plain": [
       "[\"saurav kant, alumnus upgrad iiit b's pg program machine learning artificial intelligence, sr systems engineer infosys almost years work experience. program upgrad's 360 degree career support helped transition data scientist tech mahindra 90 salary hike. upgrad's online power learning powered lakh careers.\",\n",
       " \"kunal shah's credit card bill payment platform, cred, gave users chance win free food swiggy one year. pranav kaushik, delhi techie, bagged reward spending 2000 cred coins. users get one cred coin per rupee bill paid, used avail rewards brands like ixigo, bookmyshow, ubereats, cult.fit more.\",\n",
       " \"new zealand defeated india wickets fourth odi hamilton thursday win first match five match odi series. india lost international match rohit sharma's captaincy 12 consecutive victories dating back march 2018. match witnessed india getting 92, seventh lowest total odi cricket history.\",\n",
       " 'aegon life iterm insurance plan, customers enjoy tax benefits premiums paid save 46,800 taxes. plan provides life cover age 100 years. also, customers options insure critical illnesses, disability accidental death benefit rider life cover age 80 years.',\n",
       " \"speaking sexual harassment allegations rajkumar hirani, sonam kapoor said, known hirani many years...what true, metoo movement get derailed. metoo movement, always believe woman. case, need reserve judgment, added. hirani accused assistant worked 'sanju'.\"]"
      ]
     },
     "execution_count": 11,
     "metadata": {},
     "output_type": "execute_result"
    }
   ],
   "source": [
    "# data[text]에 대하여 함수 실행\n",
    "\n",
    "clean_text = []\n",
    "\n",
    "# 전체 text 데이터에 대한 전처리 : 10분 이상 시간이 걸릴 수 있음. \n",
    "for s in data['text']:\n",
    "    clean_text.append(preprocess_sentence(s))\n",
    "\n",
    "# 전처리 후 출력\n",
    "clean_text[:5]"
   ]
  },
  {
   "cell_type": "code",
   "execution_count": 12,
   "metadata": {},
   "outputs": [
    {
     "data": {
      "text/plain": [
       "['upgrad learner switches to career in ml al with 90 salary hike',\n",
       " 'delhi techie wins free food from swiggy for one year on cred',\n",
       " \"new zealand end rohit sharma led india's 12 match winning streak\",\n",
       " 'aegon life iterm insurance plan helps customers save tax',\n",
       " 'have known hirani for yrs, what if metoo claims are not true sonam']"
      ]
     },
     "execution_count": 12,
     "metadata": {},
     "output_type": "execute_result"
    }
   ],
   "source": [
    "# data[headlines]에 대하여 함수 실행\n",
    "clean_headlines = []\n",
    "\n",
    "# 전체 data[headlines] 데이터에 대한 전처리 : 5분 이상 시간이 걸릴 수 있음. \n",
    "for s in data['headlines']:\n",
    "    clean_headlines.append(preprocess_sentence(s, False))\n",
    "    # headlines에 대해서 전처리 함수를 호출해줄 때는, 불용어 제거를 수행하지 않는다는 의미에서 두번째 인자로 False를 넣음\n",
    "    \n",
    "clean_headlines[:5]"
   ]
  },
  {
   "cell_type": "code",
   "execution_count": 13,
   "metadata": {},
   "outputs": [],
   "source": [
    "# 다시 data 변수에 넣어주기\n",
    "data['text'] = clean_text\n",
    "data['headlines'] = clean_headlines"
   ]
  },
  {
   "cell_type": "markdown",
   "metadata": {},
   "source": [
    "### 전처리(정규화, 불용어 제거) 후 NULL 값 재확인 및 제거"
   ]
  },
  {
   "cell_type": "code",
   "execution_count": 14,
   "metadata": {},
   "outputs": [
    {
     "data": {
      "text/plain": [
       "headlines    0\n",
       "text         0\n",
       "dtype: int64"
      ]
     },
     "execution_count": 14,
     "metadata": {},
     "output_type": "execute_result"
    }
   ],
   "source": [
    "# 빈 값('')을 Null 값으로 변환\n",
    "data.replace('', np.nan, inplace=True)\n",
    "\n",
    "# Null 값 존재 재확인\n",
    "data.isnull().sum()"
   ]
  },
  {
   "cell_type": "markdown",
   "metadata": {},
   "source": [
    "=> Null 없음"
   ]
  },
  {
   "cell_type": "markdown",
   "metadata": {},
   "source": [
    "### 샘플 최대 길이 설정"
   ]
  },
  {
   "cell_type": "code",
   "execution_count": 15,
   "metadata": {},
   "outputs": [
    {
     "name": "stdout",
     "output_type": "stream",
     "text": [
      "헤드라인의 최소 길이 : 1\n",
      "헤드라인의 최대 길이 : 16\n",
      "헤드라인의 평균 길이 : 9.57175713907716\n",
      "텍스트의 최소 길이 : 1\n",
      "텍스트의 최대 길이 : 57\n",
      "텍스트의 평균 길이 : 36.61832651482771\n"
     ]
    },
    {
     "data": {
      "image/png": "[encoded data removed]",
      "text/plain": [
       "<Figure size 432x288 with 2 Axes>"
      ]
     },
     "metadata": {
      "needs_background": "light"
     },
     "output_type": "display_data"
    },
    {
     "data": {
      "image/png": "[encoded data removed]",
      "text/plain": [
       "<Figure size 432x288 with 1 Axes>"
      ]
     },
     "metadata": {
      "needs_background": "light"
     },
     "output_type": "display_data"
    },
    {
     "data": {
      "image/png": "[encoded data removed]",
      "text/plain": [
       "<Figure size 432x288 with 1 Axes>"
      ]
     },
     "metadata": {
      "needs_background": "light"
     },
     "output_type": "display_data"
    }
   ],
   "source": [
    "# 길이 분포 출력\n",
    "import matplotlib.pyplot as plt\n",
    "\n",
    "headlines_len = [len(s.split()) for s in data['headlines']]\n",
    "text_len = [len(s.split()) for s in data['text']]\n",
    "\n",
    "\n",
    "print('헤드라인의 최소 길이 : {}'.format(np.min(headlines_len)))\n",
    "print('헤드라인의 최대 길이 : {}'.format(np.max(headlines_len)))\n",
    "print('헤드라인의 평균 길이 : {}'.format(np.mean(headlines_len)))\n",
    "print('텍스트의 최소 길이 : {}'.format(np.min(text_len)))\n",
    "print('텍스트의 최대 길이 : {}'.format(np.max(text_len)))\n",
    "print('텍스트의 평균 길이 : {}'.format(np.mean(text_len)))\n",
    "\n",
    "plt.subplot(1,2,1)\n",
    "plt.boxplot(headlines_len)\n",
    "plt.title('headlines')\n",
    "plt.subplot(1,2,2)\n",
    "plt.boxplot(text_len)\n",
    "plt.title('text')\n",
    "plt.tight_layout()\n",
    "plt.show()\n",
    "\n",
    "plt.title('headlines')\n",
    "plt.hist(headlines_len, bins = 40)\n",
    "plt.xlabel('length of samples')\n",
    "plt.ylabel('number of samples')\n",
    "plt.show()\n",
    "\n",
    "plt.title('text')\n",
    "plt.hist(text_len, bins = 40)\n",
    "plt.xlabel('length of samples')\n",
    "plt.ylabel('number of samples')\n",
    "plt.show()"
   ]
  },
  {
   "cell_type": "code",
   "execution_count": 16,
   "metadata": {},
   "outputs": [],
   "source": [
    "# headlines와 text의 적절한 최대 길이를 지정\n",
    "headlines_max_len = 12\n",
    "text_max_len = 45"
   ]
  },
  {
   "cell_type": "code",
   "execution_count": 17,
   "metadata": {},
   "outputs": [],
   "source": [
    "# 훈련 데이터와 샘플의 길이를 입력하면, 데이터의 몇 %가 해당하는지 계산하는 함수\n",
    "def below_threshold_len(max_len, nested_list):\n",
    "  cnt = 0\n",
    "  for s in nested_list:\n",
    "    if(len(s.split()) <= max_len):\n",
    "        cnt = cnt + 1\n",
    "  print('전체 샘플 중 길이가 %s 이하인 샘플의 비율: %s'%(max_len, (cnt / len(nested_list))))"
   ]
  },
  {
   "cell_type": "code",
   "execution_count": 18,
   "metadata": {},
   "outputs": [
    {
     "name": "stdout",
     "output_type": "stream",
     "text": [
      "전체 샘플 중 길이가 12 이하인 샘플의 비율: 0.9791984693981397\n",
      "전체 샘플 중 길이가 45 이하인 샘플의 비율: 0.9880014654698662\n"
     ]
    }
   ],
   "source": [
    "# 지정한 최대 길이가 몇 % 샘플을 포함하는지 확인\n",
    "below_threshold_len(headlines_max_len, data['headlines'])\n",
    "below_threshold_len(text_max_len,  data['text'])"
   ]
  },
  {
   "cell_type": "code",
   "execution_count": 19,
   "metadata": {},
   "outputs": [
    {
     "name": "stdout",
     "output_type": "stream",
     "text": [
      "현재 전체 샘플수 : 95086\n"
     ]
    }
   ],
   "source": [
    "# 정한 길이 보다 길면 데이터 제외하는 방식으로 정제\n",
    "data = data[data['headlines'].apply(lambda x: len(x.split()) <= headlines_max_len)]\n",
    "data = data[data['text'].apply(lambda x: len(x.split()) <= text_max_len)]\n",
    "print('현재 전체 샘플수 :',(len(data)))"
   ]
  },
  {
   "cell_type": "markdown",
   "metadata": {},
   "source": [
    "### 시작 토큰과 종료 토큰 추가하기\n",
    "\n",
    "* 시작 토큰은 'sostoken', 종료 토큰은 'eostoken'이라 임의로 명명\n",
    "* decoder_input : 디코더의 입력에 해당하면서 시작 토큰이 맨 앞에 있는 문장의 이름\n",
    "* decoder_target : 디코더의 출력 또는 레이블에 해당되면서 종료 토큰이 맨 뒤에 붙는 문장의 이름"
   ]
  },
  {
   "cell_type": "code",
   "execution_count": 20,
   "metadata": {},
   "outputs": [
    {
     "data": {
      "text/html": [
       "<div>\n",
       "<style scoped>\n",
       "    .dataframe tbody tr th:only-of-type {\n",
       "        vertical-align: middle;\n",
       "    }\n",
       "\n",
       "    .dataframe tbody tr th {\n",
       "        vertical-align: top;\n",
       "    }\n",
       "\n",
       "    .dataframe thead th {\n",
       "        text-align: right;\n",
       "    }\n",
       "</style>\n",
       "<table border=\"1\" class=\"dataframe\">\n",
       "  <thead>\n",
       "    <tr style=\"text-align: right;\">\n",
       "      <th></th>\n",
       "      <th>headlines</th>\n",
       "      <th>text</th>\n",
       "      <th>decoder_input</th>\n",
       "      <th>decoder_target</th>\n",
       "    </tr>\n",
       "  </thead>\n",
       "  <tbody>\n",
       "    <tr>\n",
       "      <th>0</th>\n",
       "      <td>upgrad learner switches to career in ml al wit...</td>\n",
       "      <td>saurav kant, alumnus upgrad iiit b's pg progra...</td>\n",
       "      <td>sostoken upgrad learner switches to career in ...</td>\n",
       "      <td>upgrad learner switches to career in ml al wit...</td>\n",
       "    </tr>\n",
       "    <tr>\n",
       "      <th>2</th>\n",
       "      <td>new zealand end rohit sharma led india's 12 ma...</td>\n",
       "      <td>new zealand defeated india wickets fourth odi ...</td>\n",
       "      <td>sostoken new zealand end rohit sharma led indi...</td>\n",
       "      <td>new zealand end rohit sharma led india's 12 ma...</td>\n",
       "    </tr>\n",
       "    <tr>\n",
       "      <th>3</th>\n",
       "      <td>aegon life iterm insurance plan helps customer...</td>\n",
       "      <td>aegon life iterm insurance plan, customers enj...</td>\n",
       "      <td>sostoken aegon life iterm insurance plan helps...</td>\n",
       "      <td>aegon life iterm insurance plan helps customer...</td>\n",
       "    </tr>\n",
       "    <tr>\n",
       "      <th>5</th>\n",
       "      <td>rahat fateh ali khan denies getting notice for...</td>\n",
       "      <td>pakistani singer rahat fateh ali khan denied r...</td>\n",
       "      <td>sostoken rahat fateh ali khan denies getting n...</td>\n",
       "      <td>rahat fateh ali khan denies getting notice for...</td>\n",
       "    </tr>\n",
       "    <tr>\n",
       "      <th>7</th>\n",
       "      <td>govt directs alok verma to join work day befor...</td>\n",
       "      <td>weeks ex cbi director alok verma told departme...</td>\n",
       "      <td>sostoken govt directs alok verma to join work ...</td>\n",
       "      <td>govt directs alok verma to join work day befor...</td>\n",
       "    </tr>\n",
       "  </tbody>\n",
       "</table>\n",
       "</div>"
      ],
      "text/plain": [
       "                                           headlines  \\\n",
       "0  upgrad learner switches to career in ml al wit...   \n",
       "2  new zealand end rohit sharma led india's 12 ma...   \n",
       "3  aegon life iterm insurance plan helps customer...   \n",
       "5  rahat fateh ali khan denies getting notice for...   \n",
       "7  govt directs alok verma to join work day befor...   \n",
       "\n",
       "                                                text  \\\n",
       "0  saurav kant, alumnus upgrad iiit b's pg progra...   \n",
       "2  new zealand defeated india wickets fourth odi ...   \n",
       "3  aegon life iterm insurance plan, customers enj...   \n",
       "5  pakistani singer rahat fateh ali khan denied r...   \n",
       "7  weeks ex cbi director alok verma told departme...   \n",
       "\n",
       "                                       decoder_input  \\\n",
       "0  sostoken upgrad learner switches to career in ...   \n",
       "2  sostoken new zealand end rohit sharma led indi...   \n",
       "3  sostoken aegon life iterm insurance plan helps...   \n",
       "5  sostoken rahat fateh ali khan denies getting n...   \n",
       "7  sostoken govt directs alok verma to join work ...   \n",
       "\n",
       "                                      decoder_target  \n",
       "0  upgrad learner switches to career in ml al wit...  \n",
       "2  new zealand end rohit sharma led india's 12 ma...  \n",
       "3  aegon life iterm insurance plan helps customer...  \n",
       "5  rahat fateh ali khan denies getting notice for...  \n",
       "7  govt directs alok verma to join work day befor...  "
      ]
     },
     "execution_count": 20,
     "metadata": {},
     "output_type": "execute_result"
    }
   ],
   "source": [
    "# 헤드라인 데이터에 시작 토큰과 종료 토큰을 추가\n",
    "data['decoder_input'] = data['headlines'].apply(lambda x : 'sostoken '+ x)\n",
    "data['decoder_target'] = data['headlines'].apply(lambda x : x + ' eostoken')\n",
    "data.head()"
   ]
  },
  {
   "cell_type": "code",
   "execution_count": 21,
   "metadata": {},
   "outputs": [],
   "source": [
    "# 인코더의 입력, 디코더의 입력과 레이블을 각각 다시 Numpy 타입으로 저장\n",
    "encoder_input = np.array(data['text']) # 인코더의 입력\n",
    "decoder_input = np.array(data['decoder_input']) # 디코더의 입력\n",
    "decoder_target = np.array(data['decoder_target']) # 디코더의 레이블"
   ]
  },
  {
   "cell_type": "markdown",
   "metadata": {},
   "source": [
    "### 훈련 데이터와 테스트 데이터를 분리"
   ]
  },
  {
   "cell_type": "code",
   "execution_count": 22,
   "metadata": {},
   "outputs": [
    {
     "name": "stdout",
     "output_type": "stream",
     "text": [
      "[39964 16870 73879 ... 55643 21927  9085]\n"
     ]
    }
   ],
   "source": [
    "# encoder_input의 데이터 갯수와 같은 정수 시퀀스 만들기\n",
    "# (이 정수 시퀀스를 이용해서 샘플 데이터를 섞기 수행)\n",
    "\n",
    "indices = np.arange(encoder_input.shape[0])\n",
    "# np.arange : 시작 숫자와 끝 숫자를 주어주면 일정한 간격의 배열을 만들어줌\n",
    "\n",
    "# 순서를 섞어줌\n",
    "np.random.shuffle(indices)\n",
    "print(indices)"
   ]
  },
  {
   "cell_type": "code",
   "execution_count": 23,
   "metadata": {},
   "outputs": [],
   "source": [
    "# 이 정수 시퀀스를 이용해 다시 데이터의 샘플 순서를 정의\n",
    "# 리스트를 이용해 순서 섞기!!!\n",
    "encoder_input = encoder_input[indices]\n",
    "decoder_input = decoder_input[indices]\n",
    "decoder_target = decoder_target[indices]"
   ]
  },
  {
   "cell_type": "code",
   "execution_count": 24,
   "metadata": {},
   "outputs": [
    {
     "name": "stdout",
     "output_type": "stream",
     "text": [
      "테스트 데이터의 수 : 19017\n"
     ]
    }
   ],
   "source": [
    "# 섞인 데이터를 8:2의 비율로 훈련 데이터와 테스트 데이터로 분리\n",
    "# n_of_val : 테스트 데이터의 수\n",
    "n_of_val = int(len(encoder_input)*0.2)\n",
    "print('테스트 데이터의 수 :',n_of_val)"
   ]
  },
  {
   "cell_type": "code",
   "execution_count": 25,
   "metadata": {},
   "outputs": [
    {
     "name": "stdout",
     "output_type": "stream",
     "text": [
      "훈련 데이터의 개수 : 76069\n",
      "훈련 레이블의 개수 : 76069\n",
      "테스트 데이터의 개수 : 19017\n",
      "테스트 레이블의 개수 : 19017\n"
     ]
    }
   ],
   "source": [
    "# 데이터 분리 수행\n",
    "encoder_input_train = encoder_input[:-n_of_val]\n",
    "decoder_input_train = decoder_input[:-n_of_val]\n",
    "decoder_target_train = decoder_target[:-n_of_val]\n",
    "\n",
    "encoder_input_test = encoder_input[-n_of_val:]\n",
    "decoder_input_test = decoder_input[-n_of_val:]\n",
    "decoder_target_test = decoder_target[-n_of_val:]\n",
    "\n",
    "print('훈련 데이터의 개수 :', len(encoder_input_train))\n",
    "print('훈련 레이블의 개수 :',len(decoder_input_train))\n",
    "print('테스트 데이터의 개수 :',len(encoder_input_test))\n",
    "print('테스트 레이블의 개수 :',len(decoder_input_test))"
   ]
  },
  {
   "cell_type": "code",
   "execution_count": 26,
   "metadata": {},
   "outputs": [
    {
     "name": "stdout",
     "output_type": "stream",
     "text": [
      "consortium private equity firm tpg manipal health nearing deal acquire india's second largest hospital chain fortis healthcare, according reports. operations manipal, backed tpg, would combined fortis' business, reports added. notably, fortis probed fraud reports said promoters took 500 crore without board approval.\n"
     ]
    }
   ],
   "source": [
    "# 데이터 확인\n",
    "print(encoder_input_train[0])"
   ]
  },
  {
   "cell_type": "markdown",
   "metadata": {},
   "source": [
    "### 정수 인코딩\n",
    "    * Keras의 토크나이저를 사용하면, 입력된 훈련 데이터로부터 단어 집합을 만들 수 있음"
   ]
  },
  {
   "cell_type": "code",
   "execution_count": 27,
   "metadata": {},
   "outputs": [],
   "source": [
    "src_tokenizer = Tokenizer() # 토크나이저 정의\n",
    "src_tokenizer.fit_on_texts(encoder_input_train) # 입력된 데이터로부터 단어 집합 생성"
   ]
  },
  {
   "cell_type": "code",
   "execution_count": 28,
   "metadata": {},
   "outputs": [
    {
     "name": "stdout",
     "output_type": "stream",
     "text": [
      "key :  consortium\n",
      "value :  72\n",
      "<class 'int'>\n",
      "key :  private\n",
      "value :  1135\n",
      "<class 'int'>\n",
      "key :  equity\n",
      "value :  199\n",
      "<class 'int'>\n",
      "key :  firm\n",
      "value :  1235\n",
      "<class 'int'>\n",
      "단어 집합(vocabulary)의 크기 : 86509\n",
      "등장 빈도가 6번 이하인 희귀 단어의 수: 62635\n",
      "단어 집합에서 희귀 단어를 제외시킬 경우의 단어 집합의 크기 23874\n",
      "단어 집합에서 희귀 단어의 비율: 72.40287137754453\n",
      "전체 등장 빈도에서 희귀 단어 등장 빈도 비율: 4.331467225749788\n"
     ]
    }
   ],
   "source": [
    "threshold = 7\n",
    "total_cnt = len(src_tokenizer.word_index) # 단어의 수\n",
    "rare_cnt = 0 # 등장 빈도수가 threshold보다 작은 단어의 개수를 카운트\n",
    "total_freq = 0 # 훈련 데이터의 전체 단어 빈도수 총합\n",
    "rare_freq = 0 # 등장 빈도수가 threshold보다 작은 단어의 등장 빈도수의 총합\n",
    "\n",
    "\n",
    "temp = 0  # key, value 값 확인용 변수\n",
    "\n",
    "# 단어와 빈도수의 쌍(pair)을 key와 value로 받는다.\n",
    "# key : Tokenizer에 포함된 단어\n",
    "# value : 각 단어별 등장 빈도 수\n",
    "for key, value in src_tokenizer.word_counts.items():   \n",
    "    \n",
    "    # key, value 값 확인용 코드\n",
    "    if temp <= 3:\n",
    "        print('key : ', key)\n",
    "        print('value : ', value)\n",
    "        print(type(value))\n",
    "        temp += 1\n",
    "        \n",
    "    total_freq = total_freq + value\n",
    "\n",
    "    # 단어의 등장 빈도수가 threshold보다 작으면(6번 이하로 등장한 단어는 제외)\n",
    "    if(value < threshold):\n",
    "        rare_cnt = rare_cnt + 1\n",
    "        rare_freq = rare_freq + value\n",
    "\n",
    "print('단어 집합(vocabulary)의 크기 :',total_cnt)\n",
    "print('등장 빈도가 %s번 이하인 희귀 단어의 수: %s'%(threshold - 1, rare_cnt))\n",
    "print('단어 집합에서 희귀 단어를 제외시킬 경우의 단어 집합의 크기 %s'%(total_cnt - rare_cnt))\n",
    "print(\"단어 집합에서 희귀 단어의 비율:\", (rare_cnt / total_cnt)*100)\n",
    "print(\"전체 등장 빈도에서 희귀 단어 등장 빈도 비율:\", (rare_freq / total_freq)*100)"
   ]
  },
  {
   "cell_type": "code",
   "execution_count": 29,
   "metadata": {},
   "outputs": [],
   "source": [
    "# num_words를 설정하여 토크나이저를 정의할 때 단어 집합의 크기를 제한\n",
    "src_vocab = 21900\n",
    "src_tokenizer = Tokenizer(num_words = src_vocab) # 단어 집합의 크기를 21,900으로 제한\n",
    "src_tokenizer.fit_on_texts(encoder_input_train) # 단어 집합 재생성."
   ]
  },
  {
   "cell_type": "code",
   "execution_count": 30,
   "metadata": {},
   "outputs": [],
   "source": [
    "# 텍스트 시퀀스를 정수 시퀀스로 변환\n",
    "encoder_input_train = src_tokenizer.texts_to_sequences(encoder_input_train) \n",
    "encoder_input_test = src_tokenizer.texts_to_sequences(encoder_input_test)"
   ]
  },
  {
   "cell_type": "code",
   "execution_count": 31,
   "metadata": {},
   "outputs": [
    {
     "name": "stdout",
     "output_type": "stream",
     "text": [
      "[[5647, 388, 2543, 330, 13520, 11722, 439, 16899, 249, 2577, 99, 100, 334, 199, 1757, 5164, 2398, 48, 29, 748, 11722, 1537, 13520, 21, 2578, 364, 29, 2, 108, 5164, 7159, 1039, 29, 1, 5433, 74, 299, 18, 200, 192, 1806], [75, 863, 1415, 32, 3320, 1, 538, 4700, 13965, 3320, 1963, 21, 312, 306, 1339, 1963, 609, 2722, 5487, 8523, 6872, 2, 863, 1, 580, 1339, 7267, 3320, 54, 851, 11428, 2454, 10031], [2837, 94, 20, 1289, 69, 3670, 72, 497, 22, 118, 1256, 4936, 185, 246, 13099, 622, 114, 986, 256, 25, 735, 776, 2953, 942, 1112, 190, 78, 1912, 44, 1559, 14451, 13099, 1610, 1256, 648]]\n"
     ]
    }
   ],
   "source": [
    "#잘 진행되었는지 샘플 출력\n",
    "print(encoder_input_train[:3])"
   ]
  },
  {
   "cell_type": "markdown",
   "metadata": {},
   "source": [
    "### headlines 데이터 정수 인코딩"
   ]
  },
  {
   "cell_type": "code",
   "execution_count": 32,
   "metadata": {},
   "outputs": [],
   "source": [
    "tar_tokenizer = Tokenizer()\n",
    "tar_tokenizer.fit_on_texts(decoder_input_train)"
   ]
  },
  {
   "cell_type": "code",
   "execution_count": 33,
   "metadata": {},
   "outputs": [
    {
     "name": "stdout",
     "output_type": "stream",
     "text": [
      "단어 집합(vocabulary)의 크기 : 39109\n",
      "등장 빈도가 5번 이하인 희귀 단어의 수: 28068\n",
      "단어 집합에서 희귀 단어를 제외시킬 경우의 단어 집합의 크기 11041\n",
      "단어 집합에서 희귀 단어의 비율: 71.76864660308368\n",
      "전체 등장 빈도에서 희귀 단어 등장 빈도 비율: 6.251559054489578\n"
     ]
    }
   ],
   "source": [
    "# 등장 횟수 5회 이하 분포율 확인\n",
    "threshold = 6\n",
    "total_cnt = len(tar_tokenizer.word_index) # 단어의 수\n",
    "rare_cnt = 0 # 등장 빈도수가 threshold보다 작은 단어의 개수를 카운트\n",
    "total_freq = 0 # 훈련 데이터의 전체 단어 빈도수 총합\n",
    "rare_freq = 0 # 등장 빈도수가 threshold보다 작은 단어의 등장 빈도수의 총합\n",
    "\n",
    "# 단어와 빈도수의 쌍(pair)을 key와 value로 받는다.\n",
    "for key, value in tar_tokenizer.word_counts.items():\n",
    "    total_freq = total_freq + value\n",
    "\n",
    "    # 단어의 등장 빈도수가 threshold보다 작으면\n",
    "    if(value < threshold):\n",
    "        rare_cnt = rare_cnt + 1\n",
    "        rare_freq = rare_freq + value\n",
    "\n",
    "print('단어 집합(vocabulary)의 크기 :',total_cnt)\n",
    "print('등장 빈도가 %s번 이하인 희귀 단어의 수: %s'%(threshold - 1, rare_cnt))\n",
    "print('단어 집합에서 희귀 단어를 제외시킬 경우의 단어 집합의 크기 %s'%(total_cnt - rare_cnt))\n",
    "print(\"단어 집합에서 희귀 단어의 비율:\", (rare_cnt / total_cnt)*100)\n",
    "print(\"전체 등장 빈도에서 희귀 단어 등장 빈도 비율:\", (rare_freq / total_freq)*100)"
   ]
  },
  {
   "cell_type": "code",
   "execution_count": 34,
   "metadata": {},
   "outputs": [
    {
     "name": "stdout",
     "output_type": "stream",
     "text": [
      "input\n",
      "input  [[1, 9986, 3, 416, 2907, 2628, 55], [1, 1975, 6, 9167, 96, 2908, 910, 19, 794, 471, 406], [1, 3330, 129, 2375, 147, 2782, 308, 778, 2221, 110, 646, 39], [1, 511, 597, 411, 1214, 3, 3905, 3906, 821, 17, 1814], [1, 92, 1509, 4152, 7, 516, 1815, 1041, 2424]]\n",
      "target\n",
      "decoder  [[9986, 3, 416, 2907, 2628, 55, 2], [1975, 6, 9167, 96, 2908, 910, 19, 794, 471, 406, 2], [3330, 129, 2375, 147, 2782, 308, 778, 2221, 110, 646, 39, 2], [511, 597, 411, 1214, 3, 3905, 3906, 821, 17, 1814, 2], [92, 1509, 4152, 7, 516, 1815, 1041, 2424, 2]]\n"
     ]
    }
   ],
   "source": [
    "# 10334를 어림잡아 10000개로 설정\n",
    "tar_vocab = 10000\n",
    "tar_tokenizer = Tokenizer(num_words = tar_vocab) \n",
    "tar_tokenizer.fit_on_texts(decoder_input_train)\n",
    "tar_tokenizer.fit_on_texts(decoder_target_train)\n",
    "\n",
    "# 텍스트 시퀀스를 정수 시퀀스로 변환\n",
    "decoder_input_train = tar_tokenizer.texts_to_sequences(decoder_input_train) \n",
    "decoder_target_train = tar_tokenizer.texts_to_sequences(decoder_target_train)\n",
    "decoder_input_test = tar_tokenizer.texts_to_sequences(decoder_input_test)\n",
    "decoder_target_test = tar_tokenizer.texts_to_sequences(decoder_target_test)\n",
    "\n",
    "#잘 변환되었는지 확인\n",
    "print('input')\n",
    "print('input ',decoder_input_train[:5])\n",
    "print('target')\n",
    "print('decoder ',decoder_target_train[:5])"
   ]
  },
  {
   "cell_type": "markdown",
   "metadata": {},
   "source": [
    "* 빈도수 낮은 단어 제거 후 Null data 확인"
   ]
  },
  {
   "cell_type": "code",
   "execution_count": 35,
   "metadata": {},
   "outputs": [
    {
     "name": "stdout",
     "output_type": "stream",
     "text": [
      "삭제할 훈련 데이터의 개수 : 0\n",
      "삭제할 테스트 데이터의 개수 : 1\n"
     ]
    }
   ],
   "source": [
    "drop_train = [index for index, sentence in enumerate(decoder_input_train) if len(sentence) == 1]\n",
    "drop_test = [index for index, sentence in enumerate(decoder_input_test) if len(sentence) == 1]\n",
    "\n",
    "print('삭제할 훈련 데이터의 개수 :',len(drop_train))\n",
    "print('삭제할 테스트 데이터의 개수 :',len(drop_test))"
   ]
  },
  {
   "cell_type": "markdown",
   "metadata": {},
   "source": [
    "=> NULL data 없음"
   ]
  },
  {
   "cell_type": "markdown",
   "metadata": {},
   "source": [
    "### 패딩하기\n",
    "\n",
    "* 서로 다른 길이의 샘플들을 병렬 처리하기 위해 같은 길이로 맞춰주는 작업\n",
    "* 최대 길이보다 짧은 데이터들은 뒤의 공간에 숫자 0을 넣어 최대 길이를 맞춰줆"
   ]
  },
  {
   "cell_type": "code",
   "execution_count": 36,
   "metadata": {},
   "outputs": [],
   "source": [
    "encoder_input_train = pad_sequences(encoder_input_train, maxlen = text_max_len, padding='post')\n",
    "encoder_input_test = pad_sequences(encoder_input_test, maxlen = text_max_len, padding='post')\n",
    "decoder_input_train = pad_sequences(decoder_input_train, maxlen = headlines_max_len, padding='post')\n",
    "decoder_target_train = pad_sequences(decoder_target_train, maxlen = headlines_max_len, padding='post')\n",
    "decoder_input_test = pad_sequences(decoder_input_test, maxlen = headlines_max_len, padding='post')\n",
    "decoder_target_test = pad_sequences(decoder_target_test, maxlen = headlines_max_len, padding='post')"
   ]
  },
  {
   "cell_type": "markdown",
   "metadata": {},
   "source": [
    "## Step 3. 어텐션 메커니즘 사용하기 (추상적 요약)\n",
    "\n",
    "* 일반적인 seq2seq보다는 어텐션 메커니즘을 사용한 seq2seq를 사용하는 것이 더 나은 성능을 얻을 수 있어요. \n",
    "* 실습 내용을 참고하여 어텐션 메커니즘을 사용한 seq2seq를 설계해 보세요."
   ]
  },
  {
   "cell_type": "code",
   "execution_count": 37,
   "metadata": {},
   "outputs": [
    {
     "name": "stdout",
     "output_type": "stream",
     "text": [
      "WARNING:tensorflow:Layer lstm will not use cuDNN kernel since it doesn't meet the cuDNN kernel criteria. It will use generic GPU kernel as fallback when running on GPU\n",
      "WARNING:tensorflow:Layer lstm_1 will not use cuDNN kernel since it doesn't meet the cuDNN kernel criteria. It will use generic GPU kernel as fallback when running on GPU\n",
      "WARNING:tensorflow:Layer lstm_2 will not use cuDNN kernel since it doesn't meet the cuDNN kernel criteria. It will use generic GPU kernel as fallback when running on GPU\n"
     ]
    }
   ],
   "source": [
    "from tensorflow.keras.layers import Input, LSTM, Embedding, Dense, Concatenate\n",
    "from tensorflow.keras.models import Model\n",
    "from tensorflow.keras.callbacks import EarlyStopping, ModelCheckpoint\n",
    "\n",
    "\n",
    "# 인코더 설계 시작\n",
    "embedding_dim = 128\n",
    "hidden_size = 256\n",
    "\n",
    "# 인코더\n",
    "encoder_inputs = Input(shape=(text_max_len,))\n",
    "\n",
    "# 인코더의 임베딩 층\n",
    "enc_emb = Embedding(src_vocab, embedding_dim)(encoder_inputs)\n",
    "\n",
    "# 인코더의 LSTM 1\n",
    "encoder_lstm1 = LSTM(hidden_size, return_sequences=True, return_state=True ,dropout = 0.4, recurrent_dropout = 0.4)\n",
    "encoder_output1, state_h1, state_c1 = encoder_lstm1(enc_emb)\n",
    "\n",
    "# 인코더의 LSTM 2\n",
    "encoder_lstm2 = LSTM(hidden_size, return_sequences=True, return_state=True, dropout=0.4, recurrent_dropout=0.4)\n",
    "encoder_output2, state_h2, state_c2 = encoder_lstm2(encoder_output1)\n",
    "\n",
    "# 인코더의 LSTM 3\n",
    "encoder_lstm3 = LSTM(hidden_size, return_state=True, return_sequences=True, dropout=0.4, recurrent_dropout=0.4)\n",
    "encoder_outputs, state_h, state_c= encoder_lstm3(encoder_output2)"
   ]
  },
  {
   "cell_type": "code",
   "execution_count": 38,
   "metadata": {},
   "outputs": [
    {
     "name": "stdout",
     "output_type": "stream",
     "text": [
      "WARNING:tensorflow:Layer lstm_3 will not use cuDNN kernel since it doesn't meet the cuDNN kernel criteria. It will use generic GPU kernel as fallback when running on GPU\n"
     ]
    }
   ],
   "source": [
    "# 디코더 설계\n",
    "\n",
    "decoder_inputs = Input(shape=(None,))\n",
    "\n",
    "# 디코더의 임베딩 층\n",
    "dec_emb_layer = Embedding(tar_vocab, embedding_dim)\n",
    "dec_emb = dec_emb_layer(decoder_inputs)\n",
    "\n",
    "# 디코더의 LSTM\n",
    "decoder_lstm = LSTM(hidden_size, return_sequences = True, return_state = True, dropout = 0.4, recurrent_dropout=0.2)\n",
    "decoder_outputs, _, _ = decoder_lstm(dec_emb, initial_state = [state_h, state_c])"
   ]
  },
  {
   "cell_type": "code",
   "execution_count": 39,
   "metadata": {},
   "outputs": [
    {
     "name": "stdout",
     "output_type": "stream",
     "text": [
      "Model: \"model\"\n",
      "__________________________________________________________________________________________________\n",
      "Layer (type)                    Output Shape         Param #     Connected to                     \n",
      "==================================================================================================\n",
      "input_1 (InputLayer)            [(None, 45)]         0                                            \n",
      "__________________________________________________________________________________________________\n",
      "embedding (Embedding)           (None, 45, 128)      2803200     input_1[0][0]                    \n",
      "__________________________________________________________________________________________________\n",
      "lstm (LSTM)                     [(None, 45, 256), (N 394240      embedding[0][0]                  \n",
      "__________________________________________________________________________________________________\n",
      "input_2 (InputLayer)            [(None, None)]       0                                            \n",
      "__________________________________________________________________________________________________\n",
      "lstm_1 (LSTM)                   [(None, 45, 256), (N 525312      lstm[0][0]                       \n",
      "__________________________________________________________________________________________________\n",
      "embedding_1 (Embedding)         (None, None, 128)    1280000     input_2[0][0]                    \n",
      "__________________________________________________________________________________________________\n",
      "lstm_2 (LSTM)                   [(None, 45, 256), (N 525312      lstm_1[0][0]                     \n",
      "__________________________________________________________________________________________________\n",
      "lstm_3 (LSTM)                   [(None, None, 256),  394240      embedding_1[0][0]                \n",
      "                                                                 lstm_2[0][1]                     \n",
      "                                                                 lstm_2[0][2]                     \n",
      "__________________________________________________________________________________________________\n",
      "dense (Dense)                   (None, None, 10000)  2570000     lstm_3[0][0]                     \n",
      "==================================================================================================\n",
      "Total params: 8,492,304\n",
      "Trainable params: 8,492,304\n",
      "Non-trainable params: 0\n",
      "__________________________________________________________________________________________________\n"
     ]
    }
   ],
   "source": [
    "# 디코더의 출력층\n",
    "decoder_softmax_layer = Dense(tar_vocab, activation = 'softmax')\n",
    "decoder_softmax_outputs = decoder_softmax_layer(decoder_outputs) \n",
    "\n",
    "# 모델 정의\n",
    "model = Model([encoder_inputs, decoder_inputs], decoder_softmax_outputs)\n",
    "model.summary()"
   ]
  },
  {
   "cell_type": "code",
   "execution_count": 40,
   "metadata": {},
   "outputs": [],
   "source": [
    "urllib.request.urlretrieve(\"https://raw.githubusercontent.com/thushv89/attention_keras/master/src/layers/attention.py\", filename=\"attention.py\")\n",
    "from attention import AttentionLayer"
   ]
  },
  {
   "cell_type": "code",
   "execution_count": 41,
   "metadata": {},
   "outputs": [
    {
     "name": "stdout",
     "output_type": "stream",
     "text": [
      "Model: \"model_1\"\n",
      "__________________________________________________________________________________________________\n",
      "Layer (type)                    Output Shape         Param #     Connected to                     \n",
      "==================================================================================================\n",
      "input_1 (InputLayer)            [(None, 45)]         0                                            \n",
      "__________________________________________________________________________________________________\n",
      "embedding (Embedding)           (None, 45, 128)      2803200     input_1[0][0]                    \n",
      "__________________________________________________________________________________________________\n",
      "lstm (LSTM)                     [(None, 45, 256), (N 394240      embedding[0][0]                  \n",
      "__________________________________________________________________________________________________\n",
      "input_2 (InputLayer)            [(None, None)]       0                                            \n",
      "__________________________________________________________________________________________________\n",
      "lstm_1 (LSTM)                   [(None, 45, 256), (N 525312      lstm[0][0]                       \n",
      "__________________________________________________________________________________________________\n",
      "embedding_1 (Embedding)         (None, None, 128)    1280000     input_2[0][0]                    \n",
      "__________________________________________________________________________________________________\n",
      "lstm_2 (LSTM)                   [(None, 45, 256), (N 525312      lstm_1[0][0]                     \n",
      "__________________________________________________________________________________________________\n",
      "lstm_3 (LSTM)                   [(None, None, 256),  394240      embedding_1[0][0]                \n",
      "                                                                 lstm_2[0][1]                     \n",
      "                                                                 lstm_2[0][2]                     \n",
      "__________________________________________________________________________________________________\n",
      "attention_layer (AttentionLayer ((None, None, 256),  131328      lstm_2[0][0]                     \n",
      "                                                                 lstm_3[0][0]                     \n",
      "__________________________________________________________________________________________________\n",
      "concat_layer (Concatenate)      (None, None, 512)    0           lstm_3[0][0]                     \n",
      "                                                                 attention_layer[0][0]            \n",
      "__________________________________________________________________________________________________\n",
      "dense_1 (Dense)                 (None, None, 10000)  5130000     concat_layer[0][0]               \n",
      "==================================================================================================\n",
      "Total params: 11,183,632\n",
      "Trainable params: 11,183,632\n",
      "Non-trainable params: 0\n",
      "__________________________________________________________________________________________________\n"
     ]
    }
   ],
   "source": [
    "# 어텐션 층(어텐션 함수)\n",
    "attn_layer = AttentionLayer(name='attention_layer')\n",
    "# 인코더와 디코더의 모든 time step의 hidden state를 어텐션 층에 전달하고 결과를 리턴\n",
    "attn_out, attn_states = attn_layer([encoder_outputs, decoder_outputs])\n",
    "\n",
    "# 어텐션의 결과와 디코더의 hidden state들을 연결\n",
    "decoder_concat_input = Concatenate(axis = -1, name='concat_layer')([decoder_outputs, attn_out])\n",
    "\n",
    "# 디코더의 출력층\n",
    "decoder_softmax_layer = Dense(tar_vocab, activation='softmax')\n",
    "decoder_softmax_outputs = decoder_softmax_layer(decoder_concat_input)\n",
    "\n",
    "# 모델 정의\n",
    "model = Model([encoder_inputs, decoder_inputs], decoder_softmax_outputs)\n",
    "model.summary()"
   ]
  },
  {
   "cell_type": "code",
   "execution_count": 42,
   "metadata": {},
   "outputs": [
    {
     "name": "stdout",
     "output_type": "stream",
     "text": [
      "Epoch 1/50\n",
      "298/298 [==============================] - 87s 293ms/step - loss: 5.6725 - val_loss: 5.2753\n",
      "Epoch 2/50\n",
      "298/298 [==============================] - 87s 291ms/step - loss: 5.1043 - val_loss: 4.9034\n",
      "Epoch 3/50\n",
      "298/298 [==============================] - 87s 291ms/step - loss: 4.7541 - val_loss: 4.6075\n",
      "Epoch 4/50\n",
      "298/298 [==============================] - 87s 291ms/step - loss: 4.4907 - val_loss: 4.4462\n",
      "Epoch 5/50\n",
      "298/298 [==============================] - 87s 291ms/step - loss: 4.2812 - val_loss: 4.2810\n",
      "Epoch 6/50\n",
      "298/298 [==============================] - 87s 292ms/step - loss: 4.1047 - val_loss: 4.1744\n",
      "Epoch 7/50\n",
      "298/298 [==============================] - 87s 291ms/step - loss: 3.9546 - val_loss: 4.0656\n",
      "Epoch 8/50\n",
      "298/298 [==============================] - 87s 291ms/step - loss: 3.8274 - val_loss: 3.9969\n",
      "Epoch 9/50\n",
      "298/298 [==============================] - 87s 291ms/step - loss: 3.7130 - val_loss: 3.9305\n",
      "Epoch 10/50\n",
      "298/298 [==============================] - 87s 292ms/step - loss: 3.6120 - val_loss: 3.8927\n",
      "Epoch 11/50\n",
      "298/298 [==============================] - 87s 291ms/step - loss: 3.5244 - val_loss: 3.8378\n",
      "Epoch 12/50\n",
      "298/298 [==============================] - 87s 291ms/step - loss: 3.4437 - val_loss: 3.7933\n",
      "Epoch 13/50\n",
      "298/298 [==============================] - 87s 292ms/step - loss: 3.3706 - val_loss: 3.7747\n",
      "Epoch 14/50\n",
      "298/298 [==============================] - 87s 291ms/step - loss: 3.3043 - val_loss: 3.7442\n",
      "Epoch 15/50\n",
      "298/298 [==============================] - 87s 291ms/step - loss: 3.2438 - val_loss: 3.7072\n",
      "Epoch 16/50\n",
      "298/298 [==============================] - 87s 291ms/step - loss: 3.1880 - val_loss: 3.6993\n",
      "Epoch 17/50\n",
      "298/298 [==============================] - 87s 291ms/step - loss: 3.1346 - val_loss: 3.6911\n",
      "Epoch 18/50\n",
      "298/298 [==============================] - 87s 291ms/step - loss: 3.0856 - val_loss: 3.6737\n",
      "Epoch 19/50\n",
      "298/298 [==============================] - 87s 291ms/step - loss: 3.0373 - val_loss: 3.6637\n",
      "Epoch 20/50\n",
      "298/298 [==============================] - 87s 291ms/step - loss: 2.9939 - val_loss: 3.6428\n",
      "Epoch 21/50\n",
      "298/298 [==============================] - 87s 292ms/step - loss: 2.9544 - val_loss: 3.6383\n",
      "Epoch 22/50\n",
      "298/298 [==============================] - 87s 293ms/step - loss: 2.9187 - val_loss: 3.6377\n",
      "Epoch 23/50\n",
      "298/298 [==============================] - 87s 291ms/step - loss: 2.8802 - val_loss: 3.6287\n",
      "Epoch 24/50\n",
      "298/298 [==============================] - 87s 291ms/step - loss: 2.8423 - val_loss: 3.6271\n",
      "Epoch 25/50\n",
      "298/298 [==============================] - 87s 291ms/step - loss: 2.8071 - val_loss: 3.6262\n",
      "Epoch 26/50\n",
      "298/298 [==============================] - 87s 292ms/step - loss: 2.7713 - val_loss: 3.6180\n",
      "Epoch 27/50\n",
      "298/298 [==============================] - 87s 292ms/step - loss: 2.7374 - val_loss: 3.6178\n",
      "Epoch 28/50\n",
      "298/298 [==============================] - 87s 292ms/step - loss: 2.7089 - val_loss: 3.6083\n",
      "Epoch 29/50\n",
      "298/298 [==============================] - 87s 292ms/step - loss: 2.6804 - val_loss: 3.6132\n",
      "Epoch 30/50\n",
      "298/298 [==============================] - 87s 291ms/step - loss: 2.6532 - val_loss: 3.6127\n",
      "Epoch 00030: early stopping\n"
     ]
    }
   ],
   "source": [
    "# 설계한 모델 훈련\n",
    "model.compile(optimizer='rmsprop', loss='sparse_categorical_crossentropy')\n",
    "es = EarlyStopping(monitor='val_loss', mode='min', verbose=1, patience = 2)\n",
    "history = model.fit(x = [encoder_input_train, decoder_input_train], y = decoder_target_train, \\\n",
    "          validation_data = ([encoder_input_test, decoder_input_test], decoder_target_test),\n",
    "          batch_size = 256, callbacks=[es], epochs = 50)"
   ]
  },
  {
   "cell_type": "code",
   "execution_count": 43,
   "metadata": {},
   "outputs": [
    {
     "data": {
      "image/png": "[encoded data removed]",
      "text/plain": [
       "<Figure size 432x288 with 1 Axes>"
      ]
     },
     "metadata": {
      "needs_background": "light"
     },
     "output_type": "display_data"
    }
   ],
   "source": [
    "plt.plot(history.history['loss'], label='train')\n",
    "plt.plot(history.history['val_loss'], label='test')\n",
    "plt.legend()\n",
    "plt.show()"
   ]
  },
  {
   "cell_type": "markdown",
   "metadata": {},
   "source": [
    "## 18-10. 인퍼런스 모델 구현하기\n",
    "\n",
    "    * 인퍼런스 모델 : 훈련 할 때 모델과 다른 실제 동작 모델"
   ]
  },
  {
   "cell_type": "code",
   "execution_count": 44,
   "metadata": {},
   "outputs": [],
   "source": [
    "src_index_to_word = src_tokenizer.index_word # 원문 단어 집합에서 정수 -> 단어를 얻음\n",
    "tar_word_to_index = tar_tokenizer.word_index # 요약 단어 집합에서 단어 -> 정수를 얻음\n",
    "tar_index_to_word = tar_tokenizer.index_word # 요약 단어 집합에서 정수 -> 단어를 얻음"
   ]
  },
  {
   "cell_type": "code",
   "execution_count": 45,
   "metadata": {},
   "outputs": [],
   "source": [
    "# 인코더 설계\n",
    "encoder_model = Model(inputs=encoder_inputs, outputs=[encoder_outputs, state_h, state_c])\n",
    "\n",
    "# 이전 시점의 상태들을 저장하는 텐서\n",
    "decoder_state_input_h = Input(shape=(hidden_size,))\n",
    "decoder_state_input_c = Input(shape=(hidden_size,))\n",
    "\n",
    "dec_emb2 = dec_emb_layer(decoder_inputs)\n",
    "# 문장의 다음 단어를 예측하기 위해서 초기 상태(initial_state)를 이전 시점의 상태로 사용. 이는 뒤의 함수 decode_sequence()에 구현\n",
    "# 훈련 과정에서와 달리 LSTM의 리턴하는 은닉 상태와 셀 상태인 state_h와 state_c를 버리지 않음.\n",
    "decoder_outputs2, state_h2, state_c2 = decoder_lstm(dec_emb2, initial_state=[decoder_state_input_h, decoder_state_input_c])"
   ]
  },
  {
   "cell_type": "code",
   "execution_count": 46,
   "metadata": {},
   "outputs": [],
   "source": [
    "# 어텐션 메커니즘을 사용하는 출력층을 설계\n",
    "\n",
    "# 어텐션 함수\n",
    "decoder_hidden_state_input = Input(shape=(text_max_len, hidden_size))\n",
    "attn_out_inf, attn_states_inf = attn_layer([decoder_hidden_state_input, decoder_outputs2])\n",
    "decoder_inf_concat = Concatenate(axis=-1, name='concat')([decoder_outputs2, attn_out_inf])\n",
    "\n",
    "# 디코더의 출력층\n",
    "decoder_outputs2 = decoder_softmax_layer(decoder_inf_concat) \n",
    "\n",
    "# 최종 디코더 모델\n",
    "decoder_model = Model(\n",
    "    [decoder_inputs] + [decoder_hidden_state_input,decoder_state_input_h, decoder_state_input_c],\n",
    "    [decoder_outputs2] + [state_h2, state_c2])"
   ]
  },
  {
   "cell_type": "code",
   "execution_count": 47,
   "metadata": {},
   "outputs": [],
   "source": [
    "# 인퍼런스 단계에서 단어 시퀀스를 완성하는 함수 설계\n",
    "\n",
    "def decode_sequence(input_seq):\n",
    "    # 입력으로부터 인코더의 상태를 얻음\n",
    "    e_out, e_h, e_c = encoder_model.predict(input_seq)\n",
    "\n",
    "     # <SOS>에 해당하는 토큰 생성\n",
    "    target_seq = np.zeros((1,1))\n",
    "    target_seq[0, 0] = tar_word_to_index['sostoken']\n",
    "\n",
    "    stop_condition = False\n",
    "    decoded_sentence = ''\n",
    "    while not stop_condition: # stop_condition이 True가 될 때까지 루프 반복\n",
    "\n",
    "        output_tokens, h, c = decoder_model.predict([target_seq] + [e_out, e_h, e_c])\n",
    "        sampled_token_index = np.argmax(output_tokens[0, -1, :])\n",
    "        sampled_token = tar_index_to_word[sampled_token_index]\n",
    "\n",
    "        if(sampled_token!='eostoken'):\n",
    "            decoded_sentence += ' '+sampled_token\n",
    "\n",
    "        #  <eos>에 도달하거나 최대 길이를 넘으면 중단.\n",
    "        if (sampled_token == 'eostoken'  or len(decoded_sentence.split()) >= (headlines_max_len-1)):\n",
    "            stop_condition = True\n",
    "\n",
    "        # 길이가 1인 타겟 시퀀스를 업데이트\n",
    "        target_seq = np.zeros((1,1))\n",
    "        target_seq[0, 0] = sampled_token_index\n",
    "\n",
    "        # 상태를 업데이트 합니다.\n",
    "        e_h, e_c = h, c\n",
    "\n",
    "    return decoded_sentence"
   ]
  },
  {
   "cell_type": "markdown",
   "metadata": {},
   "source": [
    "## Step 4. 실제 결과와 요약문 비교하기 (추상적 요약)\n",
    "\n",
    "* 원래의 요약문(headlines 열)과 학습을 통해 얻은 추상적 요약의 결과를 비교해보세요."
   ]
  },
  {
   "cell_type": "code",
   "execution_count": 48,
   "metadata": {},
   "outputs": [],
   "source": [
    "# 원문의 정수 시퀀스를 텍스트 시퀀스로 변환\n",
    "def seq2text(input_seq):\n",
    "    temp=''\n",
    "    for i in input_seq:\n",
    "        if(i!=0):\n",
    "            temp = temp + src_index_to_word[i]+' '\n",
    "    return temp\n",
    "\n",
    "# 헤드라인의 정수 시퀀스를 텍스트 시퀀스로 변환\n",
    "def seq2headlines(input_seq):\n",
    "    temp=''\n",
    "    for i in input_seq:\n",
    "        if((i!=0 and i!=tar_word_to_index['sostoken']) and i!=tar_word_to_index['eostoken']):\n",
    "            temp = temp + tar_index_to_word[i] + ' '\n",
    "    return temp"
   ]
  },
  {
   "cell_type": "code",
   "execution_count": 49,
   "metadata": {},
   "outputs": [
    {
     "name": "stdout",
     "output_type": "stream",
     "text": [
      "원문 : composer duo salim dedicated song titled 'mera desh hi armed forces occasion india's 71st independence day tuesday talking idea behind song salim said months back met pm narendra modi suggested we make song country song penned sandeep shrivastava \n",
      "실제 요약 : song to armed forces on day \n",
      "예측 요약 :  music song from eid to be part of independence day\n",
      "\n",
      "\n",
      "원문 : emma watson winning first ever best actor movie award mtv movie tv awards said shows acting need separated two different categories indicates acting ability put someone else's shoes added emma beauty beast \n",
      "실제 요약 : acting does not need two emma on award \n",
      "예측 요약 :  emma watson awards best award for best actor\n",
      "\n",
      "\n",
      "원문 : former manchester united captain wayne rooney scored curling free kick playing new club dc united taking free kick around 25 yards out rooney placed kick top right beyond reach diving goalkeeper previous match rooney created assist right match saving tackle \n",
      "실제 요약 : rooney scores with free kick for his new club \n",
      "예측 요약 :  rooney scores free kick in his own hat kick\n",
      "\n",
      "\n",
      "원문 : media giant facebook's chief security officer alex stamos wednesday said platform shutting 10 lakh accounts every day deal spam fraud hate speech facebook ceo mark zuckerberg earlier said company hire 3 000 extra workers monitor remove offensive content june facebook reached billion monthly users worldwide \n",
      "실제 요약 : facebook shuts down over 10 lakh accounts every day \n",
      "예측 요약 :  facebook loses 1 000 people to help users do not fb\n",
      "\n",
      "\n",
      "원문 : jio payments bank 70 30 joint venture mukesh ambani led reliance industries sbi begin operations december according reports initially planned launch coincide delivery jiophone october reportedly delay rbi asked bank demonstrate capabilities ensure ready glitch free launch \n",
      "실제 요약 : jio payments bank to launch in december reports \n",
      "예측 요약 :  jio to launch digital payments service in 2019\n",
      "\n",
      "\n",
      "원문 : first usage phrase houston problem apollo 13 astronauts oxygen tank exploded space april 13 1970 explosion forced return moon abort landing attempt apollo mission commander jim previously moon aboard apollo 8 also without landing \n",
      "실제 요약 : we have was 1st used by explosion hit crew \n",
      "예측 요약 :  moon landing after us moon landing\n",
      "\n",
      "\n",
      "원문 : cases drink driving delhi new year's eve doubled compared 2016 police said year total 1 people penalised delhi police drunken driving midnight compared offenders last year majority offenders youngsters early officer said \n",
      "실제 요약 : drink driving cases in delhi double on compared to 2016 \n",
      "예측 요약 :  delhi police to get its own security rule in open defecation\n",
      "\n",
      "\n",
      "원문 : women groups led india democratic women association burnt effigy ram gopal varma visakhapatnam protesting release upcoming film 'god sex leader women's group said message varma would giving youth india dirty film \n",
      "실제 요약 : women burn effigy of rgv over his film god sex and truth \n",
      "예측 요약 :  women burn women in protest against women in padmaavat\n",
      "\n",
      "\n",
      "원문 : gujarat mla dalit leader jignesh mevani wednesday tweeted doubts anyone ever said 'i love you' pm narendra modi wishing happy valentine's day mevani said several people love him added popularity malayalam actress priya prakash video answer rss' valentine's day protest \n",
      "실제 요약 : doubt if anyone has said 'i love you' to pm modi mevani \n",
      "예측 요약 :  gujarat mla jignesh mevani to pm modi on birthday\n",
      "\n",
      "\n",
      "원문 : delhi airport operator dial told indigo court teach operate airport indigo moved delhi high court dial asked partially shift operations expansion work could carried out dial added overcrowded airport case fire terror threat would serious consequences \n",
      "실제 요약 : do not teach me how to run my airport dial tells indigo \n",
      "예측 요약 :  delhi airport to ban on flights by january\n",
      "\n",
      "\n",
      "원문 : former bihar chief minister rjd chief lalu prasad yadav's wife rabri devi said want cinema hall mall going girls sons looking girls instead one look house respect elders like me rabri added \n",
      "실제 요약 : no mall going brides for my sons want girls rabri \n",
      "예측 요약 :  lalu yadav is the same sex tej pratap yadav\n",
      "\n",
      "\n",
      "원문 : mouni roy reportedly star opposite rajkummar rao 'made china' rao said play struggling gujarati businessman film role yet confirmed film directed whose directorial debut side national film award best feature film gujarati \n",
      "실제 요약 : mouni roy to star in rajkummar rao's 'made in report \n",
      "예측 요약 :  mouni roy to star in anurag film report\n",
      "\n",
      "\n",
      "원문 : italian maker ducati launched special edition bike india priced 15 2 lakh gets cc engine generates 150 hp 10 500 torque 102 nm 9 000 further ducati offers three riding modes bike called race sport wet \n",
      "실제 요약 : launches in india at 15 2 lakh \n",
      "예측 요약 :  launches new india with 10 lakh for\n",
      "\n",
      "\n",
      "원문 : former indian cricketer sachin tendulkar's son arjun tendulkar seen bowling indian captain virat kohli nets lord's england 18 year old also seen interacting indian team's physiotherapist patrick left arm earlier bowled indian women's team world cup final england july \n",
      "실제 요약 : arjun tendulkar bowls to kohli in training session at lord's \n",
      "예측 요약 :  arjun tendulkar shares video of india's 100th match\n",
      "\n",
      "\n",
      "원문 : german automaker bmw mercedes parent company daimler agreed merge mobility services business unit company hold 50 stake joint venture expand existing demand mobility offering areas including car sharing ride hailing two companies remain competitors respective core businesses \n",
      "실제 요약 : bmw mercedes benz parent to merge services \n",
      "예측 요약 :  mercedes benz parent to invest in\n",
      "\n",
      "\n",
      "원문 : cbi filed fir special director rakesh asthana allegedly taking crore bribe settle case businessman qureshi cbi arrested dubai based middleman admitted paying bribe asthana behalf qureshi asthana currently investigation cbi total six cases \n",
      "실제 요약 : cbi files fir against its 2nd top officer for taking bribe \n",
      "예측 요약 :  cbi files case against flipkart for cheating in fy17\n",
      "\n",
      "\n",
      "원문 : new experimental vaccine used try control ebola outbreak african nation congo death toll increased 26 current outbreak total 46 cases fever including 21 confirmed cases reported ninth ebola outbreak since 1976 disease first identified \n",
      "실제 요약 : congo to use as deaths rise to 26 \n",
      "예측 요약 :  new zealand kill 100 in floods in 2018\n",
      "\n",
      "\n",
      "원문 : chinese bike sharing startup ofo signed deal develop free absorbs smog releases clean air using power generated bike part ongoing project dutch designer reduce pollution levels cities also designed 20 foot tall tower beijing \n",
      "실제 요약 : startup to make bicycle that releases clean air on \n",
      "예측 요약 :  chinese bike startup launches its first air india\n",
      "\n",
      "\n",
      "원문 : senior bjp leader shatrughan sinha saturday sought ban tobacco products saying would far effective impact human health preventing disease like cancer speaking laying foundation cancer awareness testing advisory centre bihar sinha appreciated liquor ban state demanding prohibition tobacco products \n",
      "실제 요약 : ban tobacco items as they cause cancer shatrughan sinha \n",
      "예측 요약 :  shatrughan sinha to ban on plastic ban in uttarakhand\n",
      "\n",
      "\n",
      "원문 : kangana ranaut talking big fan pm narendra modi said whenever pm it victory victory democracy kangana added fan success story said feel right role model \n",
      "실제 요약 : pm who is it is victory of our democracy kangana \n",
      "예측 요약 :  pm modi said he is not in the world cup kangana\n",
      "\n",
      "\n",
      "원문 : us food delivery startup shutdown week ago sued former employee behalf 250 others claiming owes 60 days' wages per lawsuit employees given legally required 60 day notice prior shutdown startup former employee reportedly blamed ceo james shutdown \n",
      "실제 요약 : ex workers sue us startup ceo blamed for shutdown \n",
      "예측 요약 :  uber sues ex employee for stealing sexual harassment\n",
      "\n",
      "\n",
      "원문 : speaking world economic forum davos wednesday chinese commerce giant alibaba's billionaire co founder jack said hire people hire people smarter me think 'in years could boss would like work added personality also vital factor said \n",
      "실제 요약 : hire people who are than me billionaire jack ma \n",
      "예측 요약 :  people are not billionaire billionaire jack ma\n",
      "\n",
      "\n",
      "원문 : four burglars stole 500 new laptops worth 2 5 crore warehouse noida burglars captured cctv camera first floor building despite connections damaging cameras police investigating matter based cctv visuals \n",
      "실제 요약 : 500 laptops worth 2 5 crore stolen from noida warehouse \n",
      "예측 요약 :  worth 2 000 stolen from bengaluru building\n",
      "\n",
      "\n",
      "원문 : newcastle 19 year old australian midfielder scored 18 yard behind back scorpion kick edge penalty area box received ball series passes hit ball move bundle right corner \n",
      "실제 요약 : australian teen scores with kick from edge of box \n"
     ]
    },
    {
     "name": "stdout",
     "output_type": "stream",
     "text": [
      "예측 요약 :  player scores from his own goal by\n",
      "\n",
      "\n",
      "원문 : cnn news 18 claimed audio tapes reveal pakistan funding terror outfit hizbul mujahideen carrying chemical attack kashmir according weapons attack already received plan next move eid will use chemical weapons hizbul operative reportedly says tapes \n",
      "실제 요약 : pakistan hizbul for chemical attack in kashmir report \n",
      "예측 요약 :  cnn anchor calls for isis attack on isis\n",
      "\n",
      "\n",
      "원문 : angelina jolie filed divorce brad pitt september 2016 reportedly dating justin announced split earlier year jennifer aniston two half years marriage earlier aniston married brad 2000 2005 got separated brad allegedly left jolie \n",
      "실제 요약 : estranged wife jolie dating 1st wife's ex husband reports \n",
      "예측 요약 :  angelina jolie to get engaged to girlfriend reports\n",
      "\n",
      "\n",
      "원문 : tesla spacex's billionaire ceo elon musk thursday said might visit india early next year february last year 47 year old entrepreneur said tesla cars could hit indian roads early summer 2017 however may tweeted challenging government regulations blame delay tesla's india launch \n",
      "실제 요약 : elon musk says he might visit india next year \n",
      "예측 요약 :  elon musk to elon musk on tesla india elon musk\n",
      "\n",
      "\n",
      "원문 : pankaj kapoor talking shahid kapoor's newborn son grandson zain kapoor said zain beautiful name we full joy absolutely delighted became two years back always new addition family added pankaj said shahid's family complete \n",
      "실제 요약 : is beautiful name pankaj kapoor on his grandson \n",
      "예측 요약 :  mira will not be the same as she is yet shahid\n",
      "\n",
      "\n",
      "원문 : kings xi punjab mumbai indians match thursday recorded second highest aggregate runs ipl runs scored game kings xi punjab scored 230 runs mumbai indians losing match seven runs chennai super kings rajasthan royals match 2010 saw runs scored ipl game \n",
      "실제 요약 : kxip mi match records second most runs scored in ipl \n",
      "예측 요약 :  kings xi punjab to score 10 runs in ipl 2017\n",
      "\n",
      "\n",
      "원문 : bcci written central information commission stating able implement rti act ruling since matter madras high court madras high court put stay issue following bcci's petition may cic monday ruled bcci answerable people india \n",
      "실제 요약 : will not be able to implement rti act ruling bcci \n",
      "예측 요약 :  govt should not be part of sc to stay in ayodhya\n",
      "\n",
      "\n",
      "원문 : kl rahul got practice match cricket australia xi batting coach sanjay bangar said batsman finding new ways get out ball quite played away body lost wicket he's playing ball well one hit away bangar added \n",
      "실제 요약 : rahul is finding new ways to get himself out batting coach \n",
      "예측 요약 :  rahul takes catch while batting in australia\n",
      "\n",
      "\n",
      "원문 : bolivia saturday claimed unfurled world's biggest flag stretched nearly 200 kilometres tens thousands held flag show support country amid maritime dispute chile bolivia demanding access pacific ocean lost chile war 19th century \n",
      "실제 요약 : 'world's biggest 200 km \n",
      "예측 요약 :  world's longest myanmar flag at myanmar\n",
      "\n",
      "\n",
      "원문 : filmmaker hansal mehta said rajkummar rao's success driven content difficult choices makes actor positive sign industry carved space himself added hansal said one finest actors today i've waiting day actors like become popular \n",
      "실제 요약 : rao's success driven by difficult choices he makes hansal \n",
      "예측 요약 :  it is no need to change and actors hansal on casting\n",
      "\n",
      "\n",
      "원문 : technology giant microsoft filed patent foldable device features two adjacent screens coupled another screen hinge device could folded per company's patent application two adjacent displays bigger size one device's hinge \n",
      "실제 요약 : microsoft files patent for foldable device with screens \n",
      "예측 요약 :  microsoft patents galaxy s8 screens\n",
      "\n",
      "\n",
      "원문 : yemen's houthi rebels seized full control country's capital past week detained 40 media staff press said wednesday rebels recently killed yemen's former president ali abdullah civil war renounced alliance group aligned forces saudi arabia \n",
      "실제 요약 : yemen rebels holding more than 40 media staff \n",
      "예측 요약 :  iraq to iraq rebels to iraq rebels\n",
      "\n",
      "\n",
      "원문 : congress monday said doubts late arrival electronic voting machines constituencies madhya pradesh clear even top poll officer's explanation security evms still clear evms reached 48 hours late congress said also clear 1 500 evms replaced polling added \n",
      "실제 요약 : not clear cong after poll officer's evm \n",
      "예측 요약 :  congress to evm evm tampering from evm tampering\n",
      "\n",
      "\n",
      "원문 : actress zaira wasim said getting praise 'secret superstar' got debut film 'dangal' people given immense love film best birthday gift love appreciation film getting i'm overwhelmed added zaira national award best supporting actor role 'dangal' \n",
      "실제 요약 : getting more praise for secret superstar than dangal zaira \n",
      "예측 요약 :  want to make bollywood debut with steve daughter\n",
      "\n",
      "\n",
      "원문 : delhi bjp planning move supreme court aap government non utilisation environment cess fund delhi bjp president manoj tiwari said friday cess meant improving transport system roads quarterly accounts fund submitted apex court delhi government failed either added \n",
      "실제 요약 : bjp to move sc against aap govt over not using green fund \n",
      "예측 요약 :  bjp to sell power to hike in delhi after sc verdict\n",
      "\n",
      "\n",
      "원문 : us headquartered investment firm tiger global may sell portion stake ride sharing startup ola japan's softbank 400 500 million according reports softbank already owns undisclosed stake ola become largest shareholder startup deal goes through tiger global currently holds around 15 stake homegrown cab aggregator \n",
      "실제 요약 : tiger global may sell ola stake to softbank for 500 mn \n",
      "예측 요약 :  tiger global may invest in stake in softbank\n",
      "\n",
      "\n",
      "원문 : indian batsman gautam gambhir turned 37 sunday top scorer india 2007 2011 world cup finals india won gambhir smashed 54 ball 75 pakistan final inaugural world t20 2007 india five runs 2011 world cup gambhir scored 97 sri lanka \n",
      "실제 요약 : gambhir top scored in india's 2007 and 2011 world cup finals \n",
      "예측 요약 :  gautam gambhir india beat pakistan to win 19 world cup final\n",
      "\n",
      "\n",
      "원문 : twitter revealed russian linked twitter bots shared us president donald trump's tweets almost 4 7 lakh times final months 2016 presidential elections accounted retweets trump received september november 15 candidate hillary clinton got less 50 000 retweets automated accounts period \n",
      "실제 요약 : russian bots trump 4 7 lakh times before us polls \n",
      "예측 요약 :  twitter reacts to trump's tweet on twitter\n",
      "\n",
      "\n",
      "원문 : microsoft wednesday said fixed bug windows 10 october update wiping users' data bug related users enabled feature like desktop documents pictures screenshots default location microsoft also trying recover data users affected bug \n",
      "실제 요약 : microsoft fixes bug that deleted data post windows 10 update \n",
      "예측 요약 :  microsoft reveals bug bug bug bug to steal data\n",
      "\n",
      "\n",
      "원문 : name deceased deputy superintendent police satya narain singh featured latest officers transfers list issued uttar pradesh police mistake noticed director general police op singh apologised error tweeted apologise take strict action \n",
      "실제 요약 : late name included in up police's latest transfers list \n",
      "예측 요약 :  police officer who accused of top ias officer gets police\n",
      "\n",
      "\n",
      "원문 : nagpur family court granted divorce couple recording wife's consent via whatsapp video call monday 35 year old woman living us student visa 37 year old husband also worked michigan visiting hometown nagpur court asked man pay sum one time 10 lakh \n",
      "실제 요약 : court grants divorce via whatsapp as husband in nagpur wife in us \n",
      "예측 요약 :  husband wife wife wife to marry woman in gurugram\n",
      "\n",
      "\n",
      "원문 : army chief general bipin rawat said women soon inducted combat roles army process started currently women allowed medical legal educational signals engineering wings army countries allow women combat roles usa uk germany among do \n",
      "실제 요약 : indian army to allow women in combat roles army chief \n",
      "예측 요약 :  army chief urges women to take citizenship to women\n",
      "\n",
      "\n",
      "원문 : estimated 50 000 people saturday marched anti government protests romanian capital protesters marched towards parliament waving flags chanting thieves resign opposed government's plans several corruption offences well proposed law could compromise independence judiciary \n",
      "실제 요약 : thousands take part in anti government protests in \n",
      "예측 요약 :  1 000 people protest against protesters in protest against\n",
      "\n",
      "\n",
      "원문 : minister state human resource development satya pal singh said ministry ready sponsor international conference scientists state stand theory evolution comes singh received criticism saying theory evolution wrong since ancestors see apes transform humans \n",
      "실제 요약 : minister who called evolution false calls for int'l meet on it \n",
      "예측 요약 :  govt to study theory of states in goa\n",
      "\n",
      "\n",
      "원문 : police officers thursday said arrested businessman took pet lion night time drive streets karachi pakistan meanwhile businessman claimed taking lion video incident shows lion back pick truck restrained collar \n",
      "실제 요약 : man drives pet lion through streets of pakistan arrested \n"
     ]
    },
    {
     "name": "stdout",
     "output_type": "stream",
     "text": [
      "예측 요약 :  man arrested for heart attack while taking selfie at\n",
      "\n",
      "\n",
      "원문 : mumbai police registered least 455 cases drunk driving till new year's day official said actions like imposition fine driving licenses taken them added till midnight december 31 police caught total 1 people 76 found drunk \n",
      "실제 요약 : people caught drunk driving in mumbai on new year \n",
      "예측 요약 :  mumbai police to get bullet proof for taxi drivers\n",
      "\n",
      "\n",
      "원문 : policemen deployed inner kashi vishwanath temple uttar pradesh's varanasi wear yellow white duty instead official uniform decision aimed ensuring atmosphere reportedly suggested prime minister's office incidentally varanasi also pm narendra modi's parliamentary constituency \n",
      "실제 요약 : cops at temple to wear on duty \n",
      "예측 요약 :  cops protest in telangana temple after residents\n",
      "\n",
      "\n"
     ]
    }
   ],
   "source": [
    "for i in range(50, 100):\n",
    "    print(\"원문 :\", seq2text(encoder_input_test[i]))\n",
    "    print(\"실제 요약 :\", seq2headlines(decoder_input_test[i]))\n",
    "    print(\"예측 요약 :\", decode_sequence(encoder_input_test[i].reshape(1, text_max_len)))\n",
    "    print(\"\\n\")"
   ]
  },
  {
   "cell_type": "markdown",
   "metadata": {},
   "source": [
    "## Step 5. Summa을 이용해서 추출적 요약해보기\n",
    "\n",
    "* 추상적 요약은 추출적 요약과는 달리 문장의 표현력을 다양하게 가져갈 수 있지만, 추출적 요약에 비해서 난이도가 높아요. \n",
    "* 반대로 말하면 추출적 요약은 추상적 요약에 비해 난이도가 낮고 기존 문장에서 문장을 꺼내오는 것이므로 잘못된 요약이 나올 가능성이 낮아요.\n",
    "\n",
    "* Summa의 summarize를 사용하여 추출적 요약을 해보세요."
   ]
  },
  {
   "cell_type": "code",
   "execution_count": 65,
   "metadata": {},
   "outputs": [],
   "source": [
    "# 패키지 설치\n",
    "import requests\n",
    "from summa.summarizer import summarize"
   ]
  },
  {
   "cell_type": "code",
   "execution_count": 66,
   "metadata": {},
   "outputs": [
    {
     "name": "stdout",
     "output_type": "stream",
     "text": [
      "원본 문장 :  london zoo offering people name cockroach exes valentine's day 1.50 quite require revenge, another way make feel better getting back ex, zoo said statement. names appear zoo's 'roach board' february 14.\n"
     ]
    }
   ],
   "source": [
    "# 요약할 text 저장\n",
    "origin_text = data['text'][26]\n",
    "print('원본 문장 : ', origin_text)"
   ]
  },
  {
   "cell_type": "code",
   "execution_count": 67,
   "metadata": {},
   "outputs": [
    {
     "name": "stdout",
     "output_type": "stream",
     "text": [
      "원본 headlines :  think the opposition even dreams about me pm modi\n"
     ]
    }
   ],
   "source": [
    ")#  headlines 원본 출력\n",
    "origin_headlines = data['headlines'][20]\n",
    "print('원본 headlines : ', origin_headlines)"
   ]
  },
  {
   "cell_type": "code",
   "execution_count": 82,
   "metadata": {},
   "outputs": [
    {
     "name": "stdout",
     "output_type": "stream",
     "text": [
      "추출적 요약본 : \n",
      "london zoo offering people name cockroach exes valentine's day 1.50 quite require revenge, another way make feel better getting back ex, zoo said statement.\n"
     ]
    }
   ],
   "source": [
    "#  summa를 사용한 요약본 출력\n",
    "print('추출적 요약본 : ')\n",
    "print(summarize(origin_text, ratio = 0.5))"
   ]
  },
  {
   "cell_type": "code",
   "execution_count": null,
   "metadata": {},
   "outputs": [],
   "source": []
  }
 ],
 "metadata": {
  "kernelspec": {
   "display_name": "aiffel",
   "language": "python",
   "name": "aiffel"
  },
  "language_info": {
   "codemirror_mode": {
    "name": "ipython",
    "version": 3
   },
   "file_extension": ".py",
   "mimetype": "text/x-python",
   "name": "python",
   "nbconvert_exporter": "python",
   "pygments_lexer": "ipython3",
   "version": "3.7.6"
  }
 },
 "nbformat": 4,
 "nbformat_minor": 4
}
