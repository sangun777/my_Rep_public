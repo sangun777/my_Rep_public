{
 "cells": [
  {
   "cell_type": "markdown",
   "metadata": {},
   "source": [
    "# 18-13. 프로젝트: 뉴스기사 요약해보기"
   ]
  },
  {
   "cell_type": "markdown",
   "metadata": {},
   "source": [
    "## Step 1. 데이터 수집하기\n",
    "\n",
    "* 데이터는 아래 링크에 있는 뉴스 기사 데이터(newssummarymore.csv)를 사용하세요.\n",
    "* sunnysai12345/News_Summary\n",
    "* https://github.com/sunnysai12345/News_Summary"
   ]
  },
  {
   "cell_type": "code",
   "execution_count": 1,
   "metadata": {},
   "outputs": [],
   "source": [
    "import pandas as pd\n",
    "import urllib.request\n",
    "\n",
    "# urllib.request.urlretrieve(\"https://raw.githubusercontent.com/sunnysai12345/News_Summary/master/news_summary_more.csv\", filename=\"news_summary_more.csv\")\n",
    "data = pd.read_csv('news_summary_more.csv', encoding='iso-8859-1')"
   ]
  },
  {
   "cell_type": "code",
   "execution_count": 2,
   "metadata": {},
   "outputs": [
    {
     "data": {
      "text/html": [
       "<div>\n",
       "<style scoped>\n",
       "    .dataframe tbody tr th:only-of-type {\n",
       "        vertical-align: middle;\n",
       "    }\n",
       "\n",
       "    .dataframe tbody tr th {\n",
       "        vertical-align: top;\n",
       "    }\n",
       "\n",
       "    .dataframe thead th {\n",
       "        text-align: right;\n",
       "    }\n",
       "</style>\n",
       "<table border=\"1\" class=\"dataframe\">\n",
       "  <thead>\n",
       "    <tr style=\"text-align: right;\">\n",
       "      <th></th>\n",
       "      <th>headlines</th>\n",
       "      <th>text</th>\n",
       "    </tr>\n",
       "  </thead>\n",
       "  <tbody>\n",
       "    <tr>\n",
       "      <th>42914</th>\n",
       "      <td>Lone survivor lying about seeing 39 Indians ge...</td>\n",
       "      <td>External Affairs Minister Sushma Swaraj has sa...</td>\n",
       "    </tr>\n",
       "    <tr>\n",
       "      <th>56998</th>\n",
       "      <td>iPhone X-like Face ID on Android phones Ã¢ÂÂ...</td>\n",
       "      <td>Talking about Android smartphones using iPhone...</td>\n",
       "    </tr>\n",
       "    <tr>\n",
       "      <th>12081</th>\n",
       "      <td>Smith debuts on Australian young rich list des...</td>\n",
       "      <td>Australian cricketer Steve Smith, who is curre...</td>\n",
       "    </tr>\n",
       "    <tr>\n",
       "      <th>82519</th>\n",
       "      <td>US company pays up to Ã¢ÂÂ¹12 lakh for its em...</td>\n",
       "      <td>Chieh Huang, the CEO of American company Boxed...</td>\n",
       "    </tr>\n",
       "    <tr>\n",
       "      <th>516</th>\n",
       "      <td>India's bullet train to say 'sorry' even if it...</td>\n",
       "      <td>India's bullet train service will say \"sorry\" ...</td>\n",
       "    </tr>\n",
       "    <tr>\n",
       "      <th>84621</th>\n",
       "      <td>Ex-London mayor's 'get stuffed' clip emerges p...</td>\n",
       "      <td>A 2013 video of the then London Mayor Boris Jo...</td>\n",
       "    </tr>\n",
       "    <tr>\n",
       "      <th>70648</th>\n",
       "      <td>Pahlaj's erotic thriller Julie 2 passed by CBF...</td>\n",
       "      <td>Erotic thriller 'Julie 2', which is being pres...</td>\n",
       "    </tr>\n",
       "    <tr>\n",
       "      <th>77688</th>\n",
       "      <td>Qatar complains to WTO against Saudi-led trade...</td>\n",
       "      <td>Qatar on Monday filed a legal complaint at the...</td>\n",
       "    </tr>\n",
       "    <tr>\n",
       "      <th>95755</th>\n",
       "      <td>AB de Villiers gets injured ahead of the IPL 2017</td>\n",
       "      <td>South African batsman AB de Villiers was ruled...</td>\n",
       "    </tr>\n",
       "    <tr>\n",
       "      <th>60186</th>\n",
       "      <td>No Arab capital safe from Iran's missiles: Sau...</td>\n",
       "      <td>Urging fellow Arab League nations to find a \"n...</td>\n",
       "    </tr>\n",
       "  </tbody>\n",
       "</table>\n",
       "</div>"
      ],
      "text/plain": [
       "                                               headlines  \\\n",
       "42914  Lone survivor lying about seeing 39 Indians ge...   \n",
       "56998  iPhone X-like Face ID on Android phones Ã¢ÂÂ...   \n",
       "12081  Smith debuts on Australian young rich list des...   \n",
       "82519  US company pays up to Ã¢ÂÂ¹12 lakh for its em...   \n",
       "516    India's bullet train to say 'sorry' even if it...   \n",
       "84621  Ex-London mayor's 'get stuffed' clip emerges p...   \n",
       "70648  Pahlaj's erotic thriller Julie 2 passed by CBF...   \n",
       "77688  Qatar complains to WTO against Saudi-led trade...   \n",
       "95755  AB de Villiers gets injured ahead of the IPL 2017   \n",
       "60186  No Arab capital safe from Iran's missiles: Sau...   \n",
       "\n",
       "                                                    text  \n",
       "42914  External Affairs Minister Sushma Swaraj has sa...  \n",
       "56998  Talking about Android smartphones using iPhone...  \n",
       "12081  Australian cricketer Steve Smith, who is curre...  \n",
       "82519  Chieh Huang, the CEO of American company Boxed...  \n",
       "516    India's bullet train service will say \"sorry\" ...  \n",
       "84621  A 2013 video of the then London Mayor Boris Jo...  \n",
       "70648  Erotic thriller 'Julie 2', which is being pres...  \n",
       "77688  Qatar on Monday filed a legal complaint at the...  \n",
       "95755  South African batsman AB de Villiers was ruled...  \n",
       "60186  Urging fellow Arab League nations to find a \"n...  "
      ]
     },
     "execution_count": 2,
     "metadata": {},
     "output_type": "execute_result"
    }
   ],
   "source": [
    "data.sample(10)"
   ]
  },
  {
   "cell_type": "markdown",
   "metadata": {},
   "source": [
    "* 이 데이터는 기사의 본문에 해당되는 text와 headlines 두 가지 열로 구성됨"
   ]
  },
  {
   "cell_type": "markdown",
   "metadata": {},
   "source": [
    "추상적 요약을 하는 경우에는 \n",
    "* text를 본문, headlines를 이미 요약된 데이터로 삼아서 모델을 학습할 수 있어요. \n",
    "\n",
    "추출적 요약을 하는 경우에는 \n",
    "* 오직 text열만을 사용하세요."
   ]
  },
  {
   "cell_type": "markdown",
   "metadata": {},
   "source": [
    "## Step 2. 데이터 전처리하기 (추상적 요약)\n",
    "\n",
    "* 실습에서 사용된 전처리를 참고하여 각자 필요하다고 생각하는 전처리를 추가 사용하여 텍스트를 정규화 또는 정제해 보세요. \n",
    "* 만약, 불용어 제거를 선택한다면 상대적으로 길이가 짧은 요약 데이터에 대해서도 불용어를 제거하는 것이 좋을지 고민해보세요"
   ]
  },
  {
   "cell_type": "code",
   "execution_count": 4,
   "metadata": {},
   "outputs": [
    {
     "name": "stderr",
     "output_type": "stream",
     "text": [
      "[nltk_data] Downloading package stopwords to\n",
      "[nltk_data]     /home/aiffel0042/nltk_data...\n",
      "[nltk_data]   Package stopwords is already up-to-date!\n"
     ]
    }
   ],
   "source": [
    "# 패키지 호출\n",
    "import nltk\n",
    "nltk.download('stopwords')\n",
    "\n",
    "import numpy as np\n",
    "import os\n",
    "import re\n",
    "import matplotlib.pyplot as plt\n",
    "from nltk.corpus import stopwords\n",
    "from bs4 import BeautifulSoup \n",
    "from tensorflow.keras.preprocessing.text import Tokenizer \n",
    "from tensorflow.keras.preprocessing.sequence import pad_sequences"
   ]
  },
  {
   "cell_type": "markdown",
   "metadata": {},
   "source": [
    "### 데이터 전처리 - 중복 제거, NULL 제거"
   ]
  },
  {
   "cell_type": "code",
   "execution_count": 5,
   "metadata": {},
   "outputs": [
    {
     "name": "stdout",
     "output_type": "stream",
     "text": [
      "전체 data 수 :  98401\n"
     ]
    }
   ],
   "source": [
    "# 전체 data 수 확인\n",
    "print('전체 data 수 : ', len(data))"
   ]
  },
  {
   "cell_type": "code",
   "execution_count": 6,
   "metadata": {},
   "outputs": [
    {
     "name": "stdout",
     "output_type": "stream",
     "text": [
      "headlines 열에서 중복을 배제한 유일한 샘플의 수 : 98280\n",
      "text 열에서 중복을 배제한 유일한 샘플의 수 : 98360\n"
     ]
    }
   ],
   "source": [
    "# 각 열별 유일한 샘플 수 확인\n",
    "print('headlines 열에서 중복을 배제한 유일한 샘플의 수 :', data['headlines'].nunique())\n",
    "print('text 열에서 중복을 배제한 유일한 샘플의 수 :', data['text'].nunique())"
   ]
  },
  {
   "cell_type": "code",
   "execution_count": 9,
   "metadata": {},
   "outputs": [
    {
     "name": "stdout",
     "output_type": "stream",
     "text": [
      "중복 제거 후 전체 샘플수 : 98262\n"
     ]
    }
   ],
   "source": [
    "# 중복 값 제거\n",
    "data.drop_duplicates(subset = ['headlines'], inplace = True)\n",
    "data.drop_duplicates(subset = ['text'], inplace = True)\n",
    "\n",
    "# 중복 제거 후 전체 data갯수 확인\n",
    "print('중복 제거 후 전체 샘플수 :', len(data))"
   ]
  },
  {
   "cell_type": "code",
   "execution_count": 10,
   "metadata": {},
   "outputs": [
    {
     "name": "stdout",
     "output_type": "stream",
     "text": [
      "headlines    0\n",
      "text         0\n",
      "dtype: int64\n"
     ]
    }
   ],
   "source": [
    "# 열별 null 갯수 확인 \n",
    "print(data.isnull().sum())"
   ]
  },
  {
   "cell_type": "markdown",
   "metadata": {},
   "source": [
    "=> 제거할 null 없음"
   ]
  },
  {
   "cell_type": "markdown",
   "metadata": {},
   "source": [
    "### 텍스트 정규화, 불용어 제거"
   ]
  },
  {
   "cell_type": "markdown",
   "metadata": {},
   "source": [
    "### 텍스트 정규화(text normalization)\n",
    "\n",
    "* 기계 학습 전에 '같은 의미 다른 표현 단어'를 미리 같은 표현으로 통일시켜주는 것\n",
    "* 예시 'it'll'은 'it will'과 같고, 'mustn't과 'must not'은 사실 같은 표현\n",
    "\n",
    "* 여기서는 텍스트 정규화를 위한 사전(dictionary)을 아래와 같이 구성\n",
    "* 이 사전은 아래의 링크에서 참고하여 만들었어요. 정규화 사전 출처 : https://stackoverflow.com/questions/19790188/expanding-english-language-contractions-in-python"
   ]
  },
  {
   "cell_type": "code",
   "execution_count": 11,
   "metadata": {},
   "outputs": [
    {
     "name": "stdout",
     "output_type": "stream",
     "text": [
      "정규화 사전의 수:  120\n"
     ]
    }
   ],
   "source": [
    "contractions = {\"ain't\": \"is not\", \"aren't\": \"are not\",\"can't\": \"cannot\", \"'cause\": \"because\", \"could've\": \"could have\", \"couldn't\": \"could not\",\n",
    "                           \"didn't\": \"did not\",  \"doesn't\": \"does not\", \"don't\": \"do not\", \"hadn't\": \"had not\", \"hasn't\": \"has not\", \"haven't\": \"have not\",\n",
    "                           \"he'd\": \"he would\",\"he'll\": \"he will\", \"he's\": \"he is\", \"how'd\": \"how did\", \"how'd'y\": \"how do you\", \"how'll\": \"how will\", \"how's\": \"how is\",\n",
    "                           \"I'd\": \"I would\", \"I'd've\": \"I would have\", \"I'll\": \"I will\", \"I'll've\": \"I will have\",\"I'm\": \"I am\", \"I've\": \"I have\", \"i'd\": \"i would\",\n",
    "                           \"i'd've\": \"i would have\", \"i'll\": \"i will\",  \"i'll've\": \"i will have\",\"i'm\": \"i am\", \"i've\": \"i have\", \"isn't\": \"is not\", \"it'd\": \"it would\",\n",
    "                           \"it'd've\": \"it would have\", \"it'll\": \"it will\", \"it'll've\": \"it will have\",\"it's\": \"it is\", \"let's\": \"let us\", \"ma'am\": \"madam\",\n",
    "                           \"mayn't\": \"may not\", \"might've\": \"might have\",\"mightn't\": \"might not\",\"mightn't've\": \"might not have\", \"must've\": \"must have\",\n",
    "                           \"mustn't\": \"must not\", \"mustn't've\": \"must not have\", \"needn't\": \"need not\", \"needn't've\": \"need not have\",\"o'clock\": \"of the clock\",\n",
    "                           \"oughtn't\": \"ought not\", \"oughtn't've\": \"ought not have\", \"shan't\": \"shall not\", \"sha'n't\": \"shall not\", \"shan't've\": \"shall not have\",\n",
    "                           \"she'd\": \"she would\", \"she'd've\": \"she would have\", \"she'll\": \"she will\", \"she'll've\": \"she will have\", \"she's\": \"she is\",\n",
    "                           \"should've\": \"should have\", \"shouldn't\": \"should not\", \"shouldn't've\": \"should not have\", \"so've\": \"so have\",\"so's\": \"so as\",\n",
    "                           \"this's\": \"this is\",\"that'd\": \"that would\", \"that'd've\": \"that would have\", \"that's\": \"that is\", \"there'd\": \"there would\",\n",
    "                           \"there'd've\": \"there would have\", \"there's\": \"there is\", \"here's\": \"here is\",\"they'd\": \"they would\", \"they'd've\": \"they would have\",\n",
    "                           \"they'll\": \"they will\", \"they'll've\": \"they will have\", \"they're\": \"they are\", \"they've\": \"they have\", \"to've\": \"to have\",\n",
    "                           \"wasn't\": \"was not\", \"we'd\": \"we would\", \"we'd've\": \"we would have\", \"we'll\": \"we will\", \"we'll've\": \"we will have\", \"we're\": \"we are\",\n",
    "                           \"we've\": \"we have\", \"weren't\": \"were not\", \"what'll\": \"what will\", \"what'll've\": \"what will have\", \"what're\": \"what are\",\n",
    "                           \"what's\": \"what is\", \"what've\": \"what have\", \"when's\": \"when is\", \"when've\": \"when have\", \"where'd\": \"where did\", \"where's\": \"where is\",\n",
    "                           \"where've\": \"where have\", \"who'll\": \"who will\", \"who'll've\": \"who will have\", \"who's\": \"who is\", \"who've\": \"who have\",\n",
    "                           \"why's\": \"why is\", \"why've\": \"why have\", \"will've\": \"will have\", \"won't\": \"will not\", \"won't've\": \"will not have\",\n",
    "                           \"would've\": \"would have\", \"wouldn't\": \"would not\", \"wouldn't've\": \"would not have\", \"y'all\": \"you all\",\n",
    "                           \"y'all'd\": \"you all would\",\"y'all'd've\": \"you all would have\",\"y'all're\": \"you all are\",\"y'all've\": \"you all have\",\n",
    "                           \"you'd\": \"you would\", \"you'd've\": \"you would have\", \"you'll\": \"you will\", \"you'll've\": \"you will have\",\n",
    "                           \"you're\": \"you are\", \"you've\": \"you have\"}\n",
    "\n",
    "print(\"정규화 사전의 수: \",len(contractions))"
   ]
  },
  {
   "cell_type": "markdown",
   "metadata": {},
   "source": [
    "\n",
    "### 불용어(stopwords) 제거\n",
    "\n",
    "* 불용어 : 텍스트에는 자주 등장하지만 자연어 처리를 할 때 실질적으로 별 도움이 되지 않는 단어\n",
    "* 여기서는 NLTK에서 제공하는 불용어 리스트를 참조해, 샘플에서 불용어를 제거할 것\n"
   ]
  },
  {
   "cell_type": "code",
   "execution_count": 12,
   "metadata": {},
   "outputs": [
    {
     "name": "stdout",
     "output_type": "stream",
     "text": [
      "불용어 개수 : 179\n",
      "['i', 'me', 'my', 'myself', 'we', 'our', 'ours', 'ourselves', 'you', \"you're\", \"you've\", \"you'll\", \"you'd\", 'your', 'yours', 'yourself', 'yourselves', 'he', 'him', 'his', 'himself', 'she', \"she's\", 'her', 'hers', 'herself', 'it', \"it's\", 'its', 'itself', 'they', 'them', 'their', 'theirs', 'themselves', 'what', 'which', 'who', 'whom', 'this', 'that', \"that'll\", 'these', 'those', 'am', 'is', 'are', 'was', 'were', 'be', 'been', 'being', 'have', 'has', 'had', 'having', 'do', 'does', 'did', 'doing', 'a', 'an', 'the', 'and', 'but', 'if', 'or', 'because', 'as', 'until', 'while', 'of', 'at', 'by', 'for', 'with', 'about', 'against', 'between', 'into', 'through', 'during', 'before', 'after', 'above', 'below', 'to', 'from', 'up', 'down', 'in', 'out', 'on', 'off', 'over', 'under', 'again', 'further', 'then', 'once', 'here', 'there', 'when', 'where', 'why', 'how', 'all', 'any', 'both', 'each', 'few', 'more', 'most', 'other', 'some', 'such', 'no', 'nor', 'not', 'only', 'own', 'same', 'so', 'than', 'too', 'very', 's', 't', 'can', 'will', 'just', 'don', \"don't\", 'should', \"should've\", 'now', 'd', 'll', 'm', 'o', 're', 've', 'y', 'ain', 'aren', \"aren't\", 'couldn', \"couldn't\", 'didn', \"didn't\", 'doesn', \"doesn't\", 'hadn', \"hadn't\", 'hasn', \"hasn't\", 'haven', \"haven't\", 'isn', \"isn't\", 'ma', 'mightn', \"mightn't\", 'mustn', \"mustn't\", 'needn', \"needn't\", 'shan', \"shan't\", 'shouldn', \"shouldn't\", 'wasn', \"wasn't\", 'weren', \"weren't\", 'won', \"won't\", 'wouldn', \"wouldn't\"]\n"
     ]
    }
   ],
   "source": [
    "print('불용어 개수 :', len(stopwords.words('english') ))\n",
    "print(stopwords.words('english'))"
   ]
  },
  {
   "cell_type": "markdown",
   "metadata": {},
   "source": [
    "* 텍스트 정규화, 불용어 제거 수행하는 전처리 함수 설계"
   ]
  },
  {
   "cell_type": "code",
   "execution_count": 13,
   "metadata": {},
   "outputs": [],
   "source": [
    "# 데이터 전처리 함수\n",
    "# 함수의 2번째 인자를 False로 설정하면 불용어는 제거되지 않음\n",
    "def preprocess_sentence(sentence, remove_stopwords=True):\n",
    "    sentence = sentence.lower() # 텍스트 소문자화\n",
    "    sentence = BeautifulSoup(sentence, \"lxml\").text # <br />, <a href = ...> 등의 html 태그 제거\n",
    "    sentence = re.sub(r'\\([^)]*\\)', '', sentence) # 괄호로 닫힌 문자열 (...) 제거 Ex) my husband (and myself!) for => my husband for\n",
    "    sentence = re.sub('\"','', sentence) # 쌍따옴표 \" 제거\n",
    "    sentence = ' '.join([contractions[t] if t in contractions else t for t in sentence.split(\" \")]) # 약어 정규화\n",
    "    sentence = re.sub(r\"'s\\b\",\"\",sentence) # 소유격 제거. Ex) roland's -> roland\n",
    "    sentence = re.sub(\"[^a-zA-Z]\", \" \", sentence) # 영어 외 문자(숫자, 특수문자 등) 공백으로 변환\n",
    "    sentence = re.sub('[m]{2,}', 'mm', sentence) # m이 3개 이상이면 2개로 변경. Ex) ummmmmmm yeah -> umm yeah\n",
    "    \n",
    "    # 불용어 제거 (text)\n",
    "    if remove_stopwords:\n",
    "        tokens = ' '.join(word for word in sentence.split() if not word in stopwords.words('english') if len(word) > 1)\n",
    "    # 불용어 미제거 (headlines)\n",
    "    else:\n",
    "        tokens = ' '.join(word for word in sentence.split() if len(word) > 1)\n",
    "    return tokens"
   ]
  },
  {
   "cell_type": "code",
   "execution_count": 14,
   "metadata": {},
   "outputs": [
    {
     "data": {
      "text/plain": [
       "['saurav kant alumnus upgrad iiit pg program machine learning artificial intelligence sr systems engineer infosys almost years work experience program upgrad degree career support helped transition data scientist tech mahindra salary hike upgrad online power learning powered lakh careers',\n",
       " 'kunal shah credit card bill payment platform cred gave users chance win free food swiggy one year pranav kaushik delhi techie bagged reward spending cred coins users get one cred coin per rupee bill paid used avail rewards brands like ixigo bookmyshow ubereats cult fit',\n",
       " 'new zealand defeated india wickets fourth odi hamilton thursday win first match five match odi series india lost international match rohit sharma captaincy consecutive victories dating back march match witnessed india getting seventh lowest total odi cricket history',\n",
       " 'aegon life iterm insurance plan customers enjoy tax benefits premiums paid save taxes plan provides life cover age years also customers options insure critical illnesses disability accidental death benefit rider life cover age years',\n",
       " 'speaking sexual harassment allegations rajkumar hirani sonam kapoor said known hirani many years true metoo movement get derailed metoo movement always believe woman case need reserve judgment added hirani accused assistant worked sanju']"
      ]
     },
     "execution_count": 14,
     "metadata": {},
     "output_type": "execute_result"
    }
   ],
   "source": [
    "# data[text]에 대하여 함수 실행\n",
    "\n",
    "clean_text = []\n",
    "\n",
    "# 전체 text 데이터에 대한 전처리 : 10분 이상 시간이 걸릴 수 있음. \n",
    "for s in data['text']:\n",
    "    clean_text.append(preprocess_sentence(s))\n",
    "\n",
    "# 전처리 후 출력\n",
    "clean_text[:5]"
   ]
  },
  {
   "cell_type": "code",
   "execution_count": 15,
   "metadata": {},
   "outputs": [
    {
     "data": {
      "text/plain": [
       "['upgrad learner switches to career in ml al with salary hike',\n",
       " 'delhi techie wins free food from swiggy for one year on cred',\n",
       " 'new zealand end rohit sharma led india match winning streak',\n",
       " 'aegon life iterm insurance plan helps customers save tax',\n",
       " 'have known hirani for yrs what if metoo claims are not true sonam']"
      ]
     },
     "execution_count": 15,
     "metadata": {},
     "output_type": "execute_result"
    }
   ],
   "source": [
    "# data[headlines]에 대하여 함수 실행\n",
    "clean_headlines = []\n",
    "\n",
    "# 전체 data[headlines] 데이터에 대한 전처리 : 5분 이상 시간이 걸릴 수 있음. \n",
    "for s in data['headlines']:\n",
    "    clean_headlines.append(preprocess_sentence(s, False))\n",
    "    # headlines에 대해서 전처리 함수를 호출해줄 때는, 불용어 제거를 수행하지 않는다는 의미에서 두번째 인자로 False를 넣음\n",
    "    \n",
    "clean_headlines[:5]"
   ]
  },
  {
   "cell_type": "code",
   "execution_count": 16,
   "metadata": {},
   "outputs": [],
   "source": [
    "# 다시 data 변수에 넣어주기\n",
    "data['text'] = clean_text\n",
    "data['headlines'] = clean_headlines"
   ]
  },
  {
   "cell_type": "markdown",
   "metadata": {},
   "source": [
    "### 전처리(정규화, 불용어 제거) 후 NULL 값 재확인 및 제거"
   ]
  },
  {
   "cell_type": "code",
   "execution_count": 18,
   "metadata": {},
   "outputs": [
    {
     "data": {
      "text/plain": [
       "headlines    0\n",
       "text         0\n",
       "dtype: int64"
      ]
     },
     "execution_count": 18,
     "metadata": {},
     "output_type": "execute_result"
    }
   ],
   "source": [
    "# 빈 값('')을 Null 값으로 변환\n",
    "data.replace('', np.nan, inplace=True)\n",
    "\n",
    "# Null 값 존재 재확인\n",
    "data.isnull().sum()"
   ]
  },
  {
   "cell_type": "markdown",
   "metadata": {},
   "source": [
    "=> Null 없음"
   ]
  },
  {
   "cell_type": "markdown",
   "metadata": {},
   "source": [
    "### 샘플 최대 길이 설정"
   ]
  },
  {
   "cell_type": "code",
   "execution_count": 19,
   "metadata": {},
   "outputs": [
    {
     "name": "stdout",
     "output_type": "stream",
     "text": [
      "헤드라인의 최소 길이 : 1\n",
      "헤드라인의 최대 길이 : 16\n",
      "헤드라인의 평균 길이 : 9.299444342675704\n",
      "텍스트의 최소 길이 : 1\n",
      "텍스트의 최대 길이 : 60\n",
      "텍스트의 평균 길이 : 35.10029309397326\n"
     ]
    },
    {
     "data": {
      "image/png": "[encoded data removed]",
      "text/plain": [
       "<Figure size 432x288 with 2 Axes>"
      ]
     },
     "metadata": {
      "needs_background": "light"
     },
     "output_type": "display_data"
    },
    {
     "data": {
      "image/png": "[encoded data removed]",
      "text/plain": [
       "<Figure size 432x288 with 1 Axes>"
      ]
     },
     "metadata": {
      "needs_background": "light"
     },
     "output_type": "display_data"
    },
    {
     "data": {
      "image/png": "[encoded data removed]",
      "text/plain": [
       "<Figure size 432x288 with 1 Axes>"
      ]
     },
     "metadata": {
      "needs_background": "light"
     },
     "output_type": "display_data"
    }
   ],
   "source": [
    "# 길이 분포 출력\n",
    "import matplotlib.pyplot as plt\n",
    "\n",
    "headlines_len = [len(s.split()) for s in data['headlines']]\n",
    "text_len = [len(s.split()) for s in data['text']]\n",
    "\n",
    "\n",
    "print('헤드라인의 최소 길이 : {}'.format(np.min(headlines_len)))\n",
    "print('헤드라인의 최대 길이 : {}'.format(np.max(headlines_len)))\n",
    "print('헤드라인의 평균 길이 : {}'.format(np.mean(headlines_len)))\n",
    "print('텍스트의 최소 길이 : {}'.format(np.min(text_len)))\n",
    "print('텍스트의 최대 길이 : {}'.format(np.max(text_len)))\n",
    "print('텍스트의 평균 길이 : {}'.format(np.mean(text_len)))\n",
    "\n",
    "plt.subplot(1,2,1)\n",
    "plt.boxplot(headlines_len)\n",
    "plt.title('headlines')\n",
    "plt.subplot(1,2,2)\n",
    "plt.boxplot(text_len)\n",
    "plt.title('text')\n",
    "plt.tight_layout()\n",
    "plt.show()\n",
    "\n",
    "plt.title('headlines')\n",
    "plt.hist(headlines_len, bins = 40)\n",
    "plt.xlabel('length of samples')\n",
    "plt.ylabel('number of samples')\n",
    "plt.show()\n",
    "\n",
    "plt.title('text')\n",
    "plt.hist(text_len, bins = 40)\n",
    "plt.xlabel('length of samples')\n",
    "plt.ylabel('number of samples')\n",
    "plt.show()"
   ]
  },
  {
   "cell_type": "code",
   "execution_count": 25,
   "metadata": {},
   "outputs": [],
   "source": [
    "# headlines와 text의 적절한 최대 길이를 지정\n",
    "headlines_max_len = 12\n",
    "text_max_len = 45"
   ]
  },
  {
   "cell_type": "code",
   "execution_count": 26,
   "metadata": {},
   "outputs": [],
   "source": [
    "# 훈련 데이터와 샘플의 길이를 입력하면, 데이터의 몇 %가 해당하는지 계산하는 함수\n",
    "def below_threshold_len(max_len, nested_list):\n",
    "  cnt = 0\n",
    "  for s in nested_list:\n",
    "    if(len(s.split()) <= max_len):\n",
    "        cnt = cnt + 1\n",
    "  print('전체 샘플 중 길이가 %s 이하인 샘플의 비율: %s'%(max_len, (cnt / len(nested_list))))"
   ]
  },
  {
   "cell_type": "code",
   "execution_count": 27,
   "metadata": {},
   "outputs": [
    {
     "name": "stdout",
     "output_type": "stream",
     "text": [
      "전체 샘플 중 길이가 12 이하인 샘플의 비율: 0.9880319960920804\n",
      "전체 샘플 중 길이가 45 이하인 샘플의 비율: 0.9967739309193788\n"
     ]
    }
   ],
   "source": [
    "# 지정한 최대 길이가 몇 % 샘플을 포함하는지 확인\n",
    "below_threshold_len(headlines_max_len, data['headlines'])\n",
    "below_threshold_len(text_max_len,  data['text'])"
   ]
  },
  {
   "cell_type": "code",
   "execution_count": 28,
   "metadata": {},
   "outputs": [
    {
     "name": "stdout",
     "output_type": "stream",
     "text": [
      "현재 전체 샘플수 : 96774\n"
     ]
    }
   ],
   "source": [
    "# 정한 길이 보다 길면 데이터 제외하는 방식으로 정제\n",
    "data = data[data['headlines'].apply(lambda x: len(x.split()) <= headlines_max_len)]\n",
    "data = data[data['text'].apply(lambda x: len(x.split()) <= text_max_len)]\n",
    "print('현재 전체 샘플수 :',(len(data)))"
   ]
  },
  {
   "cell_type": "markdown",
   "metadata": {},
   "source": [
    "### 시작 토큰과 종료 토큰 추가하기\n",
    "\n",
    "* 시작 토큰은 'sostoken', 종료 토큰은 'eostoken'이라 임의로 명명\n",
    "* decoder_input : 디코더의 입력에 해당하면서 시작 토큰이 맨 앞에 있는 문장의 이름\n",
    "* decoder_target : 디코더의 출력 또는 레이블에 해당되면서 종료 토큰이 맨 뒤에 붙는 문장의 이름"
   ]
  },
  {
   "cell_type": "code",
   "execution_count": 29,
   "metadata": {},
   "outputs": [
    {
     "data": {
      "text/html": [
       "<div>\n",
       "<style scoped>\n",
       "    .dataframe tbody tr th:only-of-type {\n",
       "        vertical-align: middle;\n",
       "    }\n",
       "\n",
       "    .dataframe tbody tr th {\n",
       "        vertical-align: top;\n",
       "    }\n",
       "\n",
       "    .dataframe thead th {\n",
       "        text-align: right;\n",
       "    }\n",
       "</style>\n",
       "<table border=\"1\" class=\"dataframe\">\n",
       "  <thead>\n",
       "    <tr style=\"text-align: right;\">\n",
       "      <th></th>\n",
       "      <th>headlines</th>\n",
       "      <th>text</th>\n",
       "      <th>decoder_input</th>\n",
       "      <th>decoder_target</th>\n",
       "    </tr>\n",
       "  </thead>\n",
       "  <tbody>\n",
       "    <tr>\n",
       "      <th>0</th>\n",
       "      <td>upgrad learner switches to career in ml al wit...</td>\n",
       "      <td>saurav kant alumnus upgrad iiit pg program mac...</td>\n",
       "      <td>sostoken upgrad learner switches to career in ...</td>\n",
       "      <td>upgrad learner switches to career in ml al wit...</td>\n",
       "    </tr>\n",
       "    <tr>\n",
       "      <th>1</th>\n",
       "      <td>delhi techie wins free food from swiggy for on...</td>\n",
       "      <td>kunal shah credit card bill payment platform c...</td>\n",
       "      <td>sostoken delhi techie wins free food from swig...</td>\n",
       "      <td>delhi techie wins free food from swiggy for on...</td>\n",
       "    </tr>\n",
       "    <tr>\n",
       "      <th>2</th>\n",
       "      <td>new zealand end rohit sharma led india match w...</td>\n",
       "      <td>new zealand defeated india wickets fourth odi ...</td>\n",
       "      <td>sostoken new zealand end rohit sharma led indi...</td>\n",
       "      <td>new zealand end rohit sharma led india match w...</td>\n",
       "    </tr>\n",
       "    <tr>\n",
       "      <th>3</th>\n",
       "      <td>aegon life iterm insurance plan helps customer...</td>\n",
       "      <td>aegon life iterm insurance plan customers enjo...</td>\n",
       "      <td>sostoken aegon life iterm insurance plan helps...</td>\n",
       "      <td>aegon life iterm insurance plan helps customer...</td>\n",
       "    </tr>\n",
       "    <tr>\n",
       "      <th>5</th>\n",
       "      <td>rahat fateh ali khan denies getting notice for...</td>\n",
       "      <td>pakistani singer rahat fateh ali khan denied r...</td>\n",
       "      <td>sostoken rahat fateh ali khan denies getting n...</td>\n",
       "      <td>rahat fateh ali khan denies getting notice for...</td>\n",
       "    </tr>\n",
       "  </tbody>\n",
       "</table>\n",
       "</div>"
      ],
      "text/plain": [
       "                                           headlines  \\\n",
       "0  upgrad learner switches to career in ml al wit...   \n",
       "1  delhi techie wins free food from swiggy for on...   \n",
       "2  new zealand end rohit sharma led india match w...   \n",
       "3  aegon life iterm insurance plan helps customer...   \n",
       "5  rahat fateh ali khan denies getting notice for...   \n",
       "\n",
       "                                                text  \\\n",
       "0  saurav kant alumnus upgrad iiit pg program mac...   \n",
       "1  kunal shah credit card bill payment platform c...   \n",
       "2  new zealand defeated india wickets fourth odi ...   \n",
       "3  aegon life iterm insurance plan customers enjo...   \n",
       "5  pakistani singer rahat fateh ali khan denied r...   \n",
       "\n",
       "                                       decoder_input  \\\n",
       "0  sostoken upgrad learner switches to career in ...   \n",
       "1  sostoken delhi techie wins free food from swig...   \n",
       "2  sostoken new zealand end rohit sharma led indi...   \n",
       "3  sostoken aegon life iterm insurance plan helps...   \n",
       "5  sostoken rahat fateh ali khan denies getting n...   \n",
       "\n",
       "                                      decoder_target  \n",
       "0  upgrad learner switches to career in ml al wit...  \n",
       "1  delhi techie wins free food from swiggy for on...  \n",
       "2  new zealand end rohit sharma led india match w...  \n",
       "3  aegon life iterm insurance plan helps customer...  \n",
       "5  rahat fateh ali khan denies getting notice for...  "
      ]
     },
     "execution_count": 29,
     "metadata": {},
     "output_type": "execute_result"
    }
   ],
   "source": [
    "# 헤드라인 데이터에 시작 토큰과 종료 토큰을 추가\n",
    "data['decoder_input'] = data['headlines'].apply(lambda x : 'sostoken '+ x)\n",
    "data['decoder_target'] = data['headlines'].apply(lambda x : x + ' eostoken')\n",
    "data.head()"
   ]
  },
  {
   "cell_type": "code",
   "execution_count": 30,
   "metadata": {},
   "outputs": [],
   "source": [
    "# 인코더의 입력, 디코더의 입력과 레이블을 각각 다시 Numpy 타입으로 저장\n",
    "encoder_input = np.array(data['text']) # 인코더의 입력\n",
    "decoder_input = np.array(data['decoder_input']) # 디코더의 입력\n",
    "decoder_target = np.array(data['decoder_target']) # 디코더의 레이블"
   ]
  },
  {
   "cell_type": "markdown",
   "metadata": {},
   "source": [
    "### 훈련 데이터와 테스트 데이터를 분리"
   ]
  },
  {
   "cell_type": "code",
   "execution_count": 31,
   "metadata": {},
   "outputs": [
    {
     "name": "stdout",
     "output_type": "stream",
     "text": [
      "[59885 45408 18213 ... 33723 45650 42132]\n"
     ]
    }
   ],
   "source": [
    "# encoder_input의 데이터 갯수와 같은 정수 시퀀스 만들기\n",
    "# (이 정수 시퀀스를 이용해서 샘플 데이터를 섞기 수행)\n",
    "\n",
    "indices = np.arange(encoder_input.shape[0])\n",
    "# np.arange : 시작 숫자와 끝 숫자를 주어주면 일정한 간격의 배열을 만들어줌\n",
    "\n",
    "# 순서를 섞어줌\n",
    "np.random.shuffle(indices)\n",
    "print(indices)"
   ]
  },
  {
   "cell_type": "code",
   "execution_count": 32,
   "metadata": {},
   "outputs": [],
   "source": [
    "# 이 정수 시퀀스를 이용해 다시 데이터의 샘플 순서를 정의\n",
    "# 리스트를 이용해 순서 섞기!!!\n",
    "encoder_input = encoder_input[indices]\n",
    "decoder_input = decoder_input[indices]\n",
    "decoder_target = decoder_target[indices]"
   ]
  },
  {
   "cell_type": "code",
   "execution_count": 33,
   "metadata": {},
   "outputs": [
    {
     "name": "stdout",
     "output_type": "stream",
     "text": [
      "테스트 데이터의 수 : 19354\n"
     ]
    }
   ],
   "source": [
    "# 섞인 데이터를 8:2의 비율로 훈련 데이터와 테스트 데이터로 분리\n",
    "# n_of_val : 테스트 데이터의 수\n",
    "n_of_val = int(len(encoder_input)*0.2)\n",
    "print('테스트 데이터의 수 :',n_of_val)"
   ]
  },
  {
   "cell_type": "code",
   "execution_count": 34,
   "metadata": {},
   "outputs": [
    {
     "name": "stdout",
     "output_type": "stream",
     "text": [
      "훈련 데이터의 개수 : 77420\n",
      "훈련 레이블의 개수 : 77420\n",
      "테스트 데이터의 개수 : 19354\n",
      "테스트 레이블의 개수 : 19354\n"
     ]
    }
   ],
   "source": [
    "# 데이터 분리 수행\n",
    "encoder_input_train = encoder_input[:-n_of_val]\n",
    "decoder_input_train = decoder_input[:-n_of_val]\n",
    "decoder_target_train = decoder_target[:-n_of_val]\n",
    "\n",
    "encoder_input_test = encoder_input[-n_of_val:]\n",
    "decoder_input_test = decoder_input[-n_of_val:]\n",
    "decoder_target_test = decoder_target[-n_of_val:]\n",
    "\n",
    "print('훈련 데이터의 개수 :', len(encoder_input_train))\n",
    "print('훈련 레이블의 개수 :',len(decoder_input_train))\n",
    "print('테스트 데이터의 개수 :',len(encoder_input_test))\n",
    "print('테스트 레이블의 개수 :',len(decoder_input_test))"
   ]
  },
  {
   "cell_type": "code",
   "execution_count": 36,
   "metadata": {},
   "outputs": [
    {
     "name": "stdout",
     "output_type": "stream",
     "text": [
      "rohtak jail prisoner currently bail revealed rape convict gurmeet ram rahim participate jail work comes reports claimed ram rahim earning per day spending eight hours cultivating vegetables jail also allowed meet visitors hours prisoner claimed\n"
     ]
    }
   ],
   "source": [
    "# 데이터 확인\n",
    "print(encoder_input_train[0])"
   ]
  },
  {
   "cell_type": "markdown",
   "metadata": {},
   "source": [
    "### 정수 인코딩\n",
    "    * Keras의 토크나이저를 사용하면, 입력된 훈련 데이터로부터 단어 집합을 만들 수 있음"
   ]
  },
  {
   "cell_type": "code",
   "execution_count": 37,
   "metadata": {},
   "outputs": [],
   "source": [
    "src_tokenizer = Tokenizer() # 토크나이저 정의\n",
    "src_tokenizer.fit_on_texts(encoder_input_train) # 입력된 데이터로부터 단어 집합 생성"
   ]
  },
  {
   "cell_type": "code",
   "execution_count": 38,
   "metadata": {},
   "outputs": [
    {
     "name": "stdout",
     "output_type": "stream",
     "text": [
      "key :  rohtak\n",
      "value :  44\n",
      "<class 'int'>\n",
      "key :  jail\n",
      "value :  893\n",
      "<class 'int'>\n",
      "key :  prisoner\n",
      "value :  47\n",
      "<class 'int'>\n",
      "key :  currently\n",
      "value :  1178\n",
      "<class 'int'>\n",
      "단어 집합(vocabulary)의 크기 : 69152\n",
      "등장 빈도가 6번 이하인 희귀 단어의 수: 47170\n",
      "단어 집합에서 희귀 단어를 제외시킬 경우의 단어 집합의 크기 21982\n",
      "단어 집합에서 희귀 단어의 비율: 68.21205460434983\n",
      "전체 등장 빈도에서 희귀 단어 등장 빈도 비율: 3.5166086839922137\n"
     ]
    }
   ],
   "source": [
    "threshold = 7\n",
    "total_cnt = len(src_tokenizer.word_index) # 단어의 수\n",
    "rare_cnt = 0 # 등장 빈도수가 threshold보다 작은 단어의 개수를 카운트\n",
    "total_freq = 0 # 훈련 데이터의 전체 단어 빈도수 총합\n",
    "rare_freq = 0 # 등장 빈도수가 threshold보다 작은 단어의 등장 빈도수의 총합\n",
    "\n",
    "\n",
    "temp = 0  # key, value 값 확인용 변수\n",
    "\n",
    "# 단어와 빈도수의 쌍(pair)을 key와 value로 받는다.\n",
    "# key : Tokenizer에 포함된 단어\n",
    "# value : 각 단어별 등장 빈도 수\n",
    "for key, value in src_tokenizer.word_counts.items():   \n",
    "    \n",
    "    # key, value 값 확인용 코드\n",
    "    if temp <= 3:\n",
    "        print('key : ', key)\n",
    "        print('value : ', value)\n",
    "        print(type(value))\n",
    "        temp += 1\n",
    "        \n",
    "    total_freq = total_freq + value\n",
    "\n",
    "    # 단어의 등장 빈도수가 threshold보다 작으면(6번 이하로 등장한 단어는 제외)\n",
    "    if(value < threshold):\n",
    "        rare_cnt = rare_cnt + 1\n",
    "        rare_freq = rare_freq + value\n",
    "\n",
    "print('단어 집합(vocabulary)의 크기 :',total_cnt)\n",
    "print('등장 빈도가 %s번 이하인 희귀 단어의 수: %s'%(threshold - 1, rare_cnt))\n",
    "print('단어 집합에서 희귀 단어를 제외시킬 경우의 단어 집합의 크기 %s'%(total_cnt - rare_cnt))\n",
    "print(\"단어 집합에서 희귀 단어의 비율:\", (rare_cnt / total_cnt)*100)\n",
    "print(\"전체 등장 빈도에서 희귀 단어 등장 빈도 비율:\", (rare_freq / total_freq)*100)"
   ]
  },
  {
   "cell_type": "code",
   "execution_count": 39,
   "metadata": {},
   "outputs": [],
   "source": [
    "# num_words를 설정하여 토크나이저를 정의할 때 단어 집합의 크기를 제한\n",
    "src_vocab = 21900\n",
    "src_tokenizer = Tokenizer(num_words = src_vocab) # 단어 집합의 크기를 21,900으로 제한\n",
    "src_tokenizer.fit_on_texts(encoder_input_train) # 단어 집합 재생성."
   ]
  },
  {
   "cell_type": "code",
   "execution_count": 40,
   "metadata": {},
   "outputs": [],
   "source": [
    "# 텍스트 시퀀스를 정수 시퀀스로 변환\n",
    "encoder_input_train = src_tokenizer.texts_to_sequences(encoder_input_train) \n",
    "encoder_input_test = src_tokenizer.texts_to_sequences(encoder_input_test)"
   ]
  },
  {
   "cell_type": "code",
   "execution_count": 41,
   "metadata": {},
   "outputs": [
    {
     "name": "stdout",
     "output_type": "stream",
     "text": [
      "[[7589, 512, 7302, 353, 1213, 84, 451, 3917, 3568, 343, 2113, 2687, 512, 139, 63, 30, 42, 343, 2113, 4294, 123, 41, 2611, 372, 272, 6900, 512, 6, 492, 708, 2750, 272, 7302, 42], [81, 934, 1697, 151, 2725, 10163, 1615, 183, 15, 4610, 1571, 4529, 948, 212, 81, 22, 5378, 18226, 523, 15, 886, 233, 602, 10374, 15, 383, 154, 389], [38, 1075, 14182, 61, 318, 12490, 2088, 850, 270, 2550, 506, 242, 1192, 5175, 141, 170, 1235, 754, 36, 1392, 809, 1150, 6473, 2550, 506, 1385]]\n"
     ]
    }
   ],
   "source": [
    "#잘 진행되었는지 샘플 출력\n",
    "print(encoder_input_train[:3])"
   ]
  },
  {
   "cell_type": "markdown",
   "metadata": {},
   "source": [
    "### headlines 데이터 정수 인코딩"
   ]
  },
  {
   "cell_type": "code",
   "execution_count": 42,
   "metadata": {},
   "outputs": [],
   "source": [
    "tar_tokenizer = Tokenizer()\n",
    "tar_tokenizer.fit_on_texts(decoder_input_train)"
   ]
  },
  {
   "cell_type": "code",
   "execution_count": 43,
   "metadata": {},
   "outputs": [
    {
     "name": "stdout",
     "output_type": "stream",
     "text": [
      "단어 집합(vocabulary)의 크기 : 29847\n",
      "등장 빈도가 5번 이하인 희귀 단어의 수: 19513\n",
      "단어 집합에서 희귀 단어를 제외시킬 경우의 단어 집합의 크기 10334\n",
      "단어 집합에서 희귀 단어의 비율: 65.37675478272523\n",
      "전체 등장 빈도에서 희귀 단어 등장 빈도 비율: 4.705285116117362\n"
     ]
    }
   ],
   "source": [
    "# 등장 횟수 5회 이하 분포율 확인\n",
    "threshold = 6\n",
    "total_cnt = len(tar_tokenizer.word_index) # 단어의 수\n",
    "rare_cnt = 0 # 등장 빈도수가 threshold보다 작은 단어의 개수를 카운트\n",
    "total_freq = 0 # 훈련 데이터의 전체 단어 빈도수 총합\n",
    "rare_freq = 0 # 등장 빈도수가 threshold보다 작은 단어의 등장 빈도수의 총합\n",
    "\n",
    "# 단어와 빈도수의 쌍(pair)을 key와 value로 받는다.\n",
    "for key, value in tar_tokenizer.word_counts.items():\n",
    "    total_freq = total_freq + value\n",
    "\n",
    "    # 단어의 등장 빈도수가 threshold보다 작으면\n",
    "    if(value < threshold):\n",
    "        rare_cnt = rare_cnt + 1\n",
    "        rare_freq = rare_freq + value\n",
    "\n",
    "print('단어 집합(vocabulary)의 크기 :',total_cnt)\n",
    "print('등장 빈도가 %s번 이하인 희귀 단어의 수: %s'%(threshold - 1, rare_cnt))\n",
    "print('단어 집합에서 희귀 단어를 제외시킬 경우의 단어 집합의 크기 %s'%(total_cnt - rare_cnt))\n",
    "print(\"단어 집합에서 희귀 단어의 비율:\", (rare_cnt / total_cnt)*100)\n",
    "print(\"전체 등장 빈도에서 희귀 단어 등장 빈도 비율:\", (rare_freq / total_freq)*100)"
   ]
  },
  {
   "cell_type": "code",
   "execution_count": 44,
   "metadata": {},
   "outputs": [
    {
     "name": "stdout",
     "output_type": "stream",
     "text": [
      "input\n",
      "input  [[1, 45, 122, 76, 1035, 131, 234, 6425, 232, 7158, 7, 303, 1219], [1, 428, 159, 17, 2081, 7617, 13, 56, 260, 2806, 286], [1, 33, 1068, 372, 7618, 3, 1434, 332, 613, 93], [1, 1832, 2110, 5150, 3, 7619, 5, 64], [1, 2185, 7620, 96, 3770, 491, 7, 365, 5, 31]]\n",
      "target\n",
      "decoder  [[45, 122, 76, 1035, 131, 234, 6425, 232, 7158, 7, 303, 1219, 2], [428, 159, 17, 2081, 7617, 13, 56, 260, 2806, 286, 2], [33, 1068, 372, 7618, 3, 1434, 332, 613, 93, 2], [1832, 2110, 5150, 3, 7619, 5, 64, 2], [2185, 7620, 96, 3770, 491, 7, 365, 5, 31, 2]]\n"
     ]
    }
   ],
   "source": [
    "# 10334를 어림잡아 10000개로 설정\n",
    "tar_vocab = 10000\n",
    "tar_tokenizer = Tokenizer(num_words = tar_vocab) \n",
    "tar_tokenizer.fit_on_texts(decoder_input_train)\n",
    "tar_tokenizer.fit_on_texts(decoder_target_train)\n",
    "\n",
    "# 텍스트 시퀀스를 정수 시퀀스로 변환\n",
    "decoder_input_train = tar_tokenizer.texts_to_sequences(decoder_input_train) \n",
    "decoder_target_train = tar_tokenizer.texts_to_sequences(decoder_target_train)\n",
    "decoder_input_test = tar_tokenizer.texts_to_sequences(decoder_input_test)\n",
    "decoder_target_test = tar_tokenizer.texts_to_sequences(decoder_target_test)\n",
    "\n",
    "#잘 변환되었는지 확인\n",
    "print('input')\n",
    "print('input ',decoder_input_train[:5])\n",
    "print('target')\n",
    "print('decoder ',decoder_target_train[:5])"
   ]
  },
  {
   "cell_type": "markdown",
   "metadata": {},
   "source": [
    "* 빈도수 낮은 단어 제거 후 Null data 확인"
   ]
  },
  {
   "cell_type": "code",
   "execution_count": 45,
   "metadata": {},
   "outputs": [
    {
     "name": "stdout",
     "output_type": "stream",
     "text": [
      "삭제할 훈련 데이터의 개수 : 0\n",
      "삭제할 테스트 데이터의 개수 : 0\n"
     ]
    }
   ],
   "source": [
    "drop_train = [index for index, sentence in enumerate(decoder_input_train) if len(sentence) == 1]\n",
    "drop_test = [index for index, sentence in enumerate(decoder_input_test) if len(sentence) == 1]\n",
    "\n",
    "print('삭제할 훈련 데이터의 개수 :',len(drop_train))\n",
    "print('삭제할 테스트 데이터의 개수 :',len(drop_test))"
   ]
  },
  {
   "cell_type": "markdown",
   "metadata": {},
   "source": [
    "=> NULL data 없음"
   ]
  },
  {
   "cell_type": "markdown",
   "metadata": {},
   "source": [
    "### 패딩하기\n",
    "\n",
    "* 서로 다른 길이의 샘플들을 병렬 처리하기 위해 같은 길이로 맞춰주는 작업\n",
    "* 최대 길이보다 짧은 데이터들은 뒤의 공간에 숫자 0을 넣어 최대 길이를 맞춰줆"
   ]
  },
  {
   "cell_type": "code",
   "execution_count": 46,
   "metadata": {},
   "outputs": [],
   "source": [
    "encoder_input_train = pad_sequences(encoder_input_train, maxlen = text_max_len, padding='post')\n",
    "encoder_input_test = pad_sequences(encoder_input_test, maxlen = text_max_len, padding='post')\n",
    "decoder_input_train = pad_sequences(decoder_input_train, maxlen = headlines_max_len, padding='post')\n",
    "decoder_target_train = pad_sequences(decoder_target_train, maxlen = headlines_max_len, padding='post')\n",
    "decoder_input_test = pad_sequences(decoder_input_test, maxlen = headlines_max_len, padding='post')\n",
    "decoder_target_test = pad_sequences(decoder_target_test, maxlen = headlines_max_len, padding='post')"
   ]
  },
  {
   "cell_type": "markdown",
   "metadata": {},
   "source": [
    "## Step 3. 어텐션 메커니즘 사용하기 (추상적 요약)\n",
    "\n",
    "* 일반적인 seq2seq보다는 어텐션 메커니즘을 사용한 seq2seq를 사용하는 것이 더 나은 성능을 얻을 수 있어요. \n",
    "* 실습 내용을 참고하여 어텐션 메커니즘을 사용한 seq2seq를 설계해 보세요."
   ]
  },
  {
   "cell_type": "code",
   "execution_count": 49,
   "metadata": {},
   "outputs": [
    {
     "name": "stdout",
     "output_type": "stream",
     "text": [
      "WARNING:tensorflow:Layer lstm will not use cuDNN kernel since it doesn't meet the cuDNN kernel criteria. It will use generic GPU kernel as fallback when running on GPU\n",
      "WARNING:tensorflow:Layer lstm_1 will not use cuDNN kernel since it doesn't meet the cuDNN kernel criteria. It will use generic GPU kernel as fallback when running on GPU\n",
      "WARNING:tensorflow:Layer lstm_2 will not use cuDNN kernel since it doesn't meet the cuDNN kernel criteria. It will use generic GPU kernel as fallback when running on GPU\n"
     ]
    }
   ],
   "source": [
    "from tensorflow.keras.layers import Input, LSTM, Embedding, Dense, Concatenate\n",
    "from tensorflow.keras.models import Model\n",
    "from tensorflow.keras.callbacks import EarlyStopping, ModelCheckpoint\n",
    "\n",
    "\n",
    "# 인코더 설계 시작\n",
    "embedding_dim = 128\n",
    "hidden_size = 256\n",
    "\n",
    "# 인코더\n",
    "encoder_inputs = Input(shape=(text_max_len,))\n",
    "\n",
    "# 인코더의 임베딩 층\n",
    "enc_emb = Embedding(src_vocab, embedding_dim)(encoder_inputs)\n",
    "\n",
    "# 인코더의 LSTM 1\n",
    "encoder_lstm1 = LSTM(hidden_size, return_sequences=True, return_state=True ,dropout = 0.4, recurrent_dropout = 0.4)\n",
    "encoder_output1, state_h1, state_c1 = encoder_lstm1(enc_emb)\n",
    "\n",
    "# 인코더의 LSTM 2\n",
    "encoder_lstm2 = LSTM(hidden_size, return_sequences=True, return_state=True, dropout=0.4, recurrent_dropout=0.4)\n",
    "encoder_output2, state_h2, state_c2 = encoder_lstm2(encoder_output1)\n",
    "\n",
    "# 인코더의 LSTM 3\n",
    "encoder_lstm3 = LSTM(hidden_size, return_state=True, return_sequences=True, dropout=0.4, recurrent_dropout=0.4)\n",
    "encoder_outputs, state_h, state_c= encoder_lstm3(encoder_output2)"
   ]
  },
  {
   "cell_type": "code",
   "execution_count": 50,
   "metadata": {},
   "outputs": [
    {
     "name": "stdout",
     "output_type": "stream",
     "text": [
      "WARNING:tensorflow:Layer lstm_3 will not use cuDNN kernel since it doesn't meet the cuDNN kernel criteria. It will use generic GPU kernel as fallback when running on GPU\n"
     ]
    }
   ],
   "source": [
    "# 디코더 설계\n",
    "\n",
    "decoder_inputs = Input(shape=(None,))\n",
    "\n",
    "# 디코더의 임베딩 층\n",
    "dec_emb_layer = Embedding(tar_vocab, embedding_dim)\n",
    "dec_emb = dec_emb_layer(decoder_inputs)\n",
    "\n",
    "# 디코더의 LSTM\n",
    "decoder_lstm = LSTM(hidden_size, return_sequences = True, return_state = True, dropout = 0.4, recurrent_dropout=0.2)\n",
    "decoder_outputs, _, _ = decoder_lstm(dec_emb, initial_state = [state_h, state_c])"
   ]
  },
  {
   "cell_type": "code",
   "execution_count": 51,
   "metadata": {},
   "outputs": [
    {
     "name": "stdout",
     "output_type": "stream",
     "text": [
      "Model: \"model\"\n",
      "__________________________________________________________________________________________________\n",
      "Layer (type)                    Output Shape         Param #     Connected to                     \n",
      "==================================================================================================\n",
      "input_1 (InputLayer)            [(None, 45)]         0                                            \n",
      "__________________________________________________________________________________________________\n",
      "embedding (Embedding)           (None, 45, 128)      2803200     input_1[0][0]                    \n",
      "__________________________________________________________________________________________________\n",
      "lstm (LSTM)                     [(None, 45, 256), (N 394240      embedding[0][0]                  \n",
      "__________________________________________________________________________________________________\n",
      "input_2 (InputLayer)            [(None, None)]       0                                            \n",
      "__________________________________________________________________________________________________\n",
      "lstm_1 (LSTM)                   [(None, 45, 256), (N 525312      lstm[0][0]                       \n",
      "__________________________________________________________________________________________________\n",
      "embedding_1 (Embedding)         (None, None, 128)    1280000     input_2[0][0]                    \n",
      "__________________________________________________________________________________________________\n",
      "lstm_2 (LSTM)                   [(None, 45, 256), (N 525312      lstm_1[0][0]                     \n",
      "__________________________________________________________________________________________________\n",
      "lstm_3 (LSTM)                   [(None, None, 256),  394240      embedding_1[0][0]                \n",
      "                                                                 lstm_2[0][1]                     \n",
      "                                                                 lstm_2[0][2]                     \n",
      "__________________________________________________________________________________________________\n",
      "dense (Dense)                   (None, None, 10000)  2570000     lstm_3[0][0]                     \n",
      "==================================================================================================\n",
      "Total params: 8,492,304\n",
      "Trainable params: 8,492,304\n",
      "Non-trainable params: 0\n",
      "__________________________________________________________________________________________________\n"
     ]
    }
   ],
   "source": [
    "# 디코더의 출력층\n",
    "decoder_softmax_layer = Dense(tar_vocab, activation = 'softmax')\n",
    "decoder_softmax_outputs = decoder_softmax_layer(decoder_outputs) \n",
    "\n",
    "# 모델 정의\n",
    "model = Model([encoder_inputs, decoder_inputs], decoder_softmax_outputs)\n",
    "model.summary()"
   ]
  },
  {
   "cell_type": "code",
   "execution_count": 52,
   "metadata": {},
   "outputs": [],
   "source": [
    "urllib.request.urlretrieve(\"https://raw.githubusercontent.com/thushv89/attention_keras/master/src/layers/attention.py\", filename=\"attention.py\")\n",
    "from attention import AttentionLayer"
   ]
  },
  {
   "cell_type": "code",
   "execution_count": 53,
   "metadata": {},
   "outputs": [
    {
     "name": "stdout",
     "output_type": "stream",
     "text": [
      "Model: \"model_1\"\n",
      "__________________________________________________________________________________________________\n",
      "Layer (type)                    Output Shape         Param #     Connected to                     \n",
      "==================================================================================================\n",
      "input_1 (InputLayer)            [(None, 45)]         0                                            \n",
      "__________________________________________________________________________________________________\n",
      "embedding (Embedding)           (None, 45, 128)      2803200     input_1[0][0]                    \n",
      "__________________________________________________________________________________________________\n",
      "lstm (LSTM)                     [(None, 45, 256), (N 394240      embedding[0][0]                  \n",
      "__________________________________________________________________________________________________\n",
      "input_2 (InputLayer)            [(None, None)]       0                                            \n",
      "__________________________________________________________________________________________________\n",
      "lstm_1 (LSTM)                   [(None, 45, 256), (N 525312      lstm[0][0]                       \n",
      "__________________________________________________________________________________________________\n",
      "embedding_1 (Embedding)         (None, None, 128)    1280000     input_2[0][0]                    \n",
      "__________________________________________________________________________________________________\n",
      "lstm_2 (LSTM)                   [(None, 45, 256), (N 525312      lstm_1[0][0]                     \n",
      "__________________________________________________________________________________________________\n",
      "lstm_3 (LSTM)                   [(None, None, 256),  394240      embedding_1[0][0]                \n",
      "                                                                 lstm_2[0][1]                     \n",
      "                                                                 lstm_2[0][2]                     \n",
      "__________________________________________________________________________________________________\n",
      "attention_layer (AttentionLayer ((None, None, 256),  131328      lstm_2[0][0]                     \n",
      "                                                                 lstm_3[0][0]                     \n",
      "__________________________________________________________________________________________________\n",
      "concat_layer (Concatenate)      (None, None, 512)    0           lstm_3[0][0]                     \n",
      "                                                                 attention_layer[0][0]            \n",
      "__________________________________________________________________________________________________\n",
      "dense_1 (Dense)                 (None, None, 10000)  5130000     concat_layer[0][0]               \n",
      "==================================================================================================\n",
      "Total params: 11,183,632\n",
      "Trainable params: 11,183,632\n",
      "Non-trainable params: 0\n",
      "__________________________________________________________________________________________________\n"
     ]
    }
   ],
   "source": [
    "# 어텐션 층(어텐션 함수)\n",
    "attn_layer = AttentionLayer(name='attention_layer')\n",
    "# 인코더와 디코더의 모든 time step의 hidden state를 어텐션 층에 전달하고 결과를 리턴\n",
    "attn_out, attn_states = attn_layer([encoder_outputs, decoder_outputs])\n",
    "\n",
    "# 어텐션의 결과와 디코더의 hidden state들을 연결\n",
    "decoder_concat_input = Concatenate(axis = -1, name='concat_layer')([decoder_outputs, attn_out])\n",
    "\n",
    "# 디코더의 출력층\n",
    "decoder_softmax_layer = Dense(tar_vocab, activation='softmax')\n",
    "decoder_softmax_outputs = decoder_softmax_layer(decoder_concat_input)\n",
    "\n",
    "# 모델 정의\n",
    "model = Model([encoder_inputs, decoder_inputs], decoder_softmax_outputs)\n",
    "model.summary()"
   ]
  },
  {
   "cell_type": "code",
   "execution_count": 54,
   "metadata": {},
   "outputs": [
    {
     "name": "stdout",
     "output_type": "stream",
     "text": [
      "Epoch 1/50\n",
      "303/303 [==============================] - 95s 315ms/step - loss: 5.6058 - val_loss: 5.2011\n",
      "Epoch 2/50\n",
      "303/303 [==============================] - 94s 312ms/step - loss: 5.0452 - val_loss: 4.8312\n",
      "Epoch 3/50\n",
      "303/303 [==============================] - 96s 317ms/step - loss: 4.6879 - val_loss: 4.5277\n",
      "Epoch 4/50\n",
      "303/303 [==============================] - 98s 322ms/step - loss: 4.4209 - val_loss: 4.3319\n",
      "Epoch 5/50\n",
      "303/303 [==============================] - 97s 320ms/step - loss: 4.2130 - val_loss: 4.2000\n",
      "Epoch 6/50\n",
      "303/303 [==============================] - 97s 320ms/step - loss: 4.0412 - val_loss: 4.0730\n",
      "Epoch 7/50\n",
      "303/303 [==============================] - 97s 320ms/step - loss: 3.8927 - val_loss: 3.9981\n",
      "Epoch 8/50\n",
      "303/303 [==============================] - 97s 320ms/step - loss: 3.7629 - val_loss: 3.9036\n",
      "Epoch 9/50\n",
      "303/303 [==============================] - 95s 314ms/step - loss: 3.6507 - val_loss: 3.8524\n",
      "Epoch 10/50\n",
      "303/303 [==============================] - 93s 306ms/step - loss: 3.5522 - val_loss: 3.8090\n",
      "Epoch 11/50\n",
      "303/303 [==============================] - 93s 307ms/step - loss: 3.4653 - val_loss: 3.7531\n",
      "Epoch 12/50\n",
      "303/303 [==============================] - 93s 306ms/step - loss: 3.3873 - val_loss: 3.7199\n",
      "Epoch 13/50\n",
      "303/303 [==============================] - 93s 306ms/step - loss: 3.3136 - val_loss: 3.6919\n",
      "Epoch 14/50\n",
      "303/303 [==============================] - 93s 307ms/step - loss: 3.2474 - val_loss: 3.6540\n",
      "Epoch 15/50\n",
      "303/303 [==============================] - 93s 306ms/step - loss: 3.1887 - val_loss: 3.6435\n",
      "Epoch 16/50\n",
      "303/303 [==============================] - 93s 305ms/step - loss: 3.1322 - val_loss: 3.6198\n",
      "Epoch 17/50\n",
      "303/303 [==============================] - 92s 305ms/step - loss: 3.0773 - val_loss: 3.6022\n",
      "Epoch 18/50\n",
      "303/303 [==============================] - 89s 294ms/step - loss: 3.0297 - val_loss: 3.5883\n",
      "Epoch 19/50\n",
      "303/303 [==============================] - 89s 294ms/step - loss: 2.9859 - val_loss: 3.5796\n",
      "Epoch 20/50\n",
      "303/303 [==============================] - 89s 294ms/step - loss: 2.9417 - val_loss: 3.5628\n",
      "Epoch 21/50\n",
      "303/303 [==============================] - 89s 293ms/step - loss: 2.8993 - val_loss: 3.5493\n",
      "Epoch 22/50\n",
      "303/303 [==============================] - 89s 294ms/step - loss: 2.8584 - val_loss: 3.5414\n",
      "Epoch 23/50\n",
      "303/303 [==============================] - 89s 295ms/step - loss: 2.8215 - val_loss: 3.5445\n",
      "Epoch 24/50\n",
      "303/303 [==============================] - 90s 296ms/step - loss: 2.7879 - val_loss: 3.5369\n",
      "Epoch 25/50\n",
      "303/303 [==============================] - 90s 296ms/step - loss: 2.7512 - val_loss: 3.5330\n",
      "Epoch 26/50\n",
      "303/303 [==============================] - 89s 295ms/step - loss: 2.7190 - val_loss: 3.5247\n",
      "Epoch 27/50\n",
      "303/303 [==============================] - 90s 296ms/step - loss: 2.6888 - val_loss: 3.5317\n",
      "Epoch 28/50\n",
      "303/303 [==============================] - 90s 296ms/step - loss: 2.6573 - val_loss: 3.5229\n",
      "Epoch 29/50\n",
      "303/303 [==============================] - 89s 294ms/step - loss: 2.6293 - val_loss: 3.5211\n",
      "Epoch 30/50\n",
      "303/303 [==============================] - 89s 294ms/step - loss: 2.6010 - val_loss: 3.5255\n",
      "Epoch 31/50\n",
      "303/303 [==============================] - 89s 295ms/step - loss: 2.5763 - val_loss: 3.5227\n",
      "Epoch 00031: early stopping\n"
     ]
    }
   ],
   "source": [
    "# 설계한 모델 훈련\n",
    "model.compile(optimizer='rmsprop', loss='sparse_categorical_crossentropy')\n",
    "es = EarlyStopping(monitor='val_loss', mode='min', verbose=1, patience = 2)\n",
    "history = model.fit(x = [encoder_input_train, decoder_input_train], y = decoder_target_train, \\\n",
    "          validation_data = ([encoder_input_test, decoder_input_test], decoder_target_test),\n",
    "          batch_size = 256, callbacks=[es], epochs = 50)"
   ]
  },
  {
   "cell_type": "code",
   "execution_count": 55,
   "metadata": {},
   "outputs": [
    {
     "data": {
      "image/png": "[encoded data removed]",
      "text/plain": [
       "<Figure size 432x288 with 1 Axes>"
      ]
     },
     "metadata": {
      "needs_background": "light"
     },
     "output_type": "display_data"
    }
   ],
   "source": [
    "plt.plot(history.history['loss'], label='train')\n",
    "plt.plot(history.history['val_loss'], label='test')\n",
    "plt.legend()\n",
    "plt.show()"
   ]
  },
  {
   "cell_type": "markdown",
   "metadata": {},
   "source": [
    "## 18-10. 인퍼런스 모델 구현하기\n",
    "\n",
    "    * 인퍼런스 모델 : 훈련 할 때 모델과 다른 실제 동작 모델"
   ]
  },
  {
   "cell_type": "code",
   "execution_count": 56,
   "metadata": {},
   "outputs": [],
   "source": [
    "src_index_to_word = src_tokenizer.index_word # 원문 단어 집합에서 정수 -> 단어를 얻음\n",
    "tar_word_to_index = tar_tokenizer.word_index # 요약 단어 집합에서 단어 -> 정수를 얻음\n",
    "tar_index_to_word = tar_tokenizer.index_word # 요약 단어 집합에서 정수 -> 단어를 얻음"
   ]
  },
  {
   "cell_type": "code",
   "execution_count": 57,
   "metadata": {},
   "outputs": [],
   "source": [
    "# 인코더 설계\n",
    "encoder_model = Model(inputs=encoder_inputs, outputs=[encoder_outputs, state_h, state_c])\n",
    "\n",
    "# 이전 시점의 상태들을 저장하는 텐서\n",
    "decoder_state_input_h = Input(shape=(hidden_size,))\n",
    "decoder_state_input_c = Input(shape=(hidden_size,))\n",
    "\n",
    "dec_emb2 = dec_emb_layer(decoder_inputs)\n",
    "# 문장의 다음 단어를 예측하기 위해서 초기 상태(initial_state)를 이전 시점의 상태로 사용. 이는 뒤의 함수 decode_sequence()에 구현\n",
    "# 훈련 과정에서와 달리 LSTM의 리턴하는 은닉 상태와 셀 상태인 state_h와 state_c를 버리지 않음.\n",
    "decoder_outputs2, state_h2, state_c2 = decoder_lstm(dec_emb2, initial_state=[decoder_state_input_h, decoder_state_input_c])"
   ]
  },
  {
   "cell_type": "code",
   "execution_count": 58,
   "metadata": {},
   "outputs": [],
   "source": [
    "# 어텐션 메커니즘을 사용하는 출력층을 설계\n",
    "\n",
    "# 어텐션 함수\n",
    "decoder_hidden_state_input = Input(shape=(text_max_len, hidden_size))\n",
    "attn_out_inf, attn_states_inf = attn_layer([decoder_hidden_state_input, decoder_outputs2])\n",
    "decoder_inf_concat = Concatenate(axis=-1, name='concat')([decoder_outputs2, attn_out_inf])\n",
    "\n",
    "# 디코더의 출력층\n",
    "decoder_outputs2 = decoder_softmax_layer(decoder_inf_concat) \n",
    "\n",
    "# 최종 디코더 모델\n",
    "decoder_model = Model(\n",
    "    [decoder_inputs] + [decoder_hidden_state_input,decoder_state_input_h, decoder_state_input_c],\n",
    "    [decoder_outputs2] + [state_h2, state_c2])"
   ]
  },
  {
   "cell_type": "code",
   "execution_count": 62,
   "metadata": {},
   "outputs": [],
   "source": [
    "# 인퍼런스 단계에서 단어 시퀀스를 완성하는 함수 설계\n",
    "\n",
    "def decode_sequence(input_seq):\n",
    "    # 입력으로부터 인코더의 상태를 얻음\n",
    "    e_out, e_h, e_c = encoder_model.predict(input_seq)\n",
    "\n",
    "     # <SOS>에 해당하는 토큰 생성\n",
    "    target_seq = np.zeros((1,1))\n",
    "    target_seq[0, 0] = tar_word_to_index['sostoken']\n",
    "\n",
    "    stop_condition = False\n",
    "    decoded_sentence = ''\n",
    "    while not stop_condition: # stop_condition이 True가 될 때까지 루프 반복\n",
    "\n",
    "        output_tokens, h, c = decoder_model.predict([target_seq] + [e_out, e_h, e_c])\n",
    "        sampled_token_index = np.argmax(output_tokens[0, -1, :])\n",
    "        sampled_token = tar_index_to_word[sampled_token_index]\n",
    "\n",
    "        if(sampled_token!='eostoken'):\n",
    "            decoded_sentence += ' '+sampled_token\n",
    "\n",
    "        #  <eos>에 도달하거나 최대 길이를 넘으면 중단.\n",
    "        if (sampled_token == 'eostoken'  or len(decoded_sentence.split()) >= (headlines_max_len-1)):\n",
    "            stop_condition = True\n",
    "\n",
    "        # 길이가 1인 타겟 시퀀스를 업데이트\n",
    "        target_seq = np.zeros((1,1))\n",
    "        target_seq[0, 0] = sampled_token_index\n",
    "\n",
    "        # 상태를 업데이트 합니다.\n",
    "        e_h, e_c = h, c\n",
    "\n",
    "    return decoded_sentence"
   ]
  },
  {
   "cell_type": "markdown",
   "metadata": {},
   "source": [
    "## Step 4. 실제 결과와 요약문 비교하기 (추상적 요약)\n",
    "\n",
    "* 원래의 요약문(headlines 열)과 학습을 통해 얻은 추상적 요약의 결과를 비교해보세요."
   ]
  },
  {
   "cell_type": "code",
   "execution_count": 63,
   "metadata": {},
   "outputs": [],
   "source": [
    "# 원문의 정수 시퀀스를 텍스트 시퀀스로 변환\n",
    "def seq2text(input_seq):\n",
    "    temp=''\n",
    "    for i in input_seq:\n",
    "        if(i!=0):\n",
    "            temp = temp + src_index_to_word[i]+' '\n",
    "    return temp\n",
    "\n",
    "# 헤드라인의 정수 시퀀스를 텍스트 시퀀스로 변환\n",
    "def seq2headlines(input_seq):\n",
    "    temp=''\n",
    "    for i in input_seq:\n",
    "        if((i!=0 and i!=tar_word_to_index['sostoken']) and i!=tar_word_to_index['eostoken']):\n",
    "            temp = temp + tar_index_to_word[i] + ' '\n",
    "    return temp"
   ]
  },
  {
   "cell_type": "code",
   "execution_count": 64,
   "metadata": {},
   "outputs": [
    {
     "name": "stdout",
     "output_type": "stream",
     "text": [
      "원문 : uttar pradesh director general police op singh claimed fear criminals voluntarily cancelling bail pleas surrender state many criminals surrendered far added police issued instructions every district state nab criminals said \n",
      "실제 요약 : criminals are cancelling own bail and up dgp \n",
      "예측 요약 :  criminals will be arrested in jail for anti romeo squads dgp\n",
      "\n",
      "\n",
      "원문 : windies defeated india wickets one kingston sunday chasing register highest successful chase home windies lewis became third batsman score two centuries cricket chris gayle first international match since april dinesh karthik featured seven years \n",
      "실제 요약 : windies defeat india by wickets in one off \n",
      "예측 요약 :  india beat windies to win their nd straight series win\n",
      "\n",
      "\n",
      "원문 : designs nine year old english boy chosen upcoming iaaf world championships world para athletics championships hero bee chosen entries competition run organisers animals chosen winning designer since endangered species survivors \n",
      "실제 요약 : yr old designs chosen as for world championship \n",
      "예측 요약 :  year old boy wins world record for silver\n",
      "\n",
      "\n",
      "원문 : union minister uma bharti thursday said congress gained maximum benefit mahatma gandhi assassination mahatma gandhi plans disperse congress said rashtriya swayamsevak sangh suffered due mahatma gandhi killing notably petition filed supreme court urging reopen gandhi assassination case \n",
      "실제 요약 : mahatma gandhi assassination congress bharti \n",
      "예측 요약 :  sonia gandhi will not be pm candidate for rajiv gandhi\n",
      "\n",
      "\n",
      "원문 : fox star india friday suspended mukesh chhabra directorial debut aur manny till internal complaints committee concludes inquiry sexual harassment claims chhabra accused sexual harassment two women audition process slated release aur manny stars sushant singh rajput sanjana sanghi \n",
      "실제 요약 : mukesh suspended from his directorial debut over harassment claims \n",
      "예측 요약 :  oscars board member quits after sexual harassment row\n",
      "\n",
      "\n",
      "원문 : singer chris brown released wednesday day arrested french police following rape accusations took social media wrote daughter family disrespectful character morals wanna make clear false added chris accused aggravated rape drug violations \n",
      "실제 요약 : against my chris brown after arrest over rape allegations \n",
      "예측 요약 :  chris chris chris arrested for raping minor girl\n",
      "\n",
      "\n",
      "원문 : rjd supremo lalu prasad yadav sons tej tejashwi cut kg cake lalu st birthday monday mother rabri stood side lalu bail health grounds reportedly watched celebrations television residence comes amid reports claiming tej upset sidelined lalu absence \n",
      "실제 요약 : lalu sons cut cake on his birthday amid reports of rift \n",
      "예측 요약 :  lalu prasad shares old pic of tej pratap yadav\n",
      "\n",
      "\n",
      "원문 : italian luxury supercar manufacturer lamborghini unveiled concept car detect cracks body structure also capable storing energy carbon fibre nanotubes release energy faster lighter electric car batteries concept car designed lamborghini collaboration massachusetts institute technology \n",
      "실제 요약 : lamborghini unveils concept car that can detect cracks \n",
      "예측 요약 :  suv car that can be made in car with car made\n",
      "\n",
      "\n",
      "원문 : bjp karnataka cm candidate bs yeddyurappa saturday said get seats going make government may people fed siddaramaiah government urge people come vote bjp assure people karnataka going give good governance added \n",
      "실제 요약 : bjp will get over seats in taka party cm candidate \n",
      "예측 요약 :  will not be bjp candidate for taka cm candidate siddaramaiah\n",
      "\n",
      "\n",
      "원문 : bjp president amit shah friday hailed pm narendra modi led nda government win confidence motion called victory democracy defeat shah termed congress unconstitutional politically bankrupt saying party reaffirmed hatred towards prime minister born poor family casteism appeasement \n",
      "실제 요약 : pm modi win in no trust vote defeat of shah \n",
      "예측 요약 :  pm modi victory is only of nda politics amit shah\n",
      "\n",
      "\n",
      "원문 : rajya sabha mp former samajwadi party general secretary amar singh likened sp chief akhilesh yadav aurangzeb said father mulayam singh yadav like shah jahan one cannot honour father loses trust people well added mughal emperor aurangzeb held father shah jahan captive tussle throne \n",
      "실제 요약 : akhilesh is aurangzeb mulayam is shah jahan amar singh \n",
      "예측 요약 :  akhilesh yadav to akhilesh son to akhilesh\n",
      "\n",
      "\n",
      "원문 : mexican lawyer antonio rolled trump toilet paper marketed slogans like without borders trademark trump toilet paper said really bothered us president donald trump remarks migrants profits toilet paper sales go towards programs supporting migrants \n",
      "실제 요약 : mexican launches without border trump toilet roll \n",
      "예측 요약 :  trump admits to use paper bottle to trump\n",
      "\n",
      "\n",
      "원문 : mumbai based detective pandit said cut foot knife excuse escape murder suspect house working undercover maid told go get said ran went booth called client bring police added \n",
      "실제 요약 : cut my foot to escape murder suspect house \n",
      "예측 요약 :  mumbai civic body stabbed to death in jail\n",
      "\n",
      "\n",
      "원문 : first song sanjay dutt comeback film bhoomi released starring sunny leone song composed sachin jigar vocals neha kakkar dayal brijesh badshah lyrics penned priya badshah directed omung kumar bhoomi scheduled release september \n",
      "실제 요약 : song starring sunny leone from bhoomi out \n",
      "예측 요약 :  first look poster of sanju featuring dutt out of judwaa unveiled\n",
      "\n",
      "\n",
      "원문 : election commission removed collector madhya pradesh discrepancies found voters list ahead bypolls assembly seat february comes congress alleged voter name recorded electoral list five places commission constituted probe confirmed discrepancies \n",
      "실제 요약 : ec removes mp collector over in voters list \n",
      "예측 요약 :  voter turnout recorded in tripura assembly elections\n",
      "\n",
      "\n",
      "원문 : mumbai crime branch arrested man year old nephew death boy refused unnatural sex earlier month accused desperate unnatural sex took boy bushes killed screamed help officials said \n",
      "실제 요약 : mumbai man kills nephew for refusing to have unnatural sex \n",
      "예측 요약 :  mumbai man kills year old for sexual assault\n",
      "\n",
      "\n",
      "원문 : billionaire elon musk led electric carmaker tesla posted record revenue billion first quarter billion quarter last year however company also reported record loss million quarter tesla said cash balance billion end quarter \n",
      "실제 요약 : tesla posts record revenue at bn record loss at mn \n",
      "예측 요약 :  tesla posts record billion in value in days\n",
      "\n",
      "\n",
      "원문 : side leg side coined travel done carriages side one rider would mount carriage slip position named fielder could take advantage slip batsman silly point named silly stand close batsman \n",
      "실제 요약 : how did cricket positions get their names \n",
      "예측 요약 :  team takes one handed catch to end of the year\n",
      "\n",
      "\n",
      "원문 : year old boy kerala called india youngest father dna test confirmed fathered child born year old girl girl boy first cousin neighbour however alleged raped protection children sexual offences case filed matter \n",
      "실제 요약 : year old kerala boy said to be india youngest father \n",
      "예측 요약 :  kerala youngest cricketer to have youngest girl to death\n",
      "\n",
      "\n",
      "원문 : pakistani lashkar taiba terrorist jat escaped police custody tuesday reportedly gunmen started firing outside srinagar hospital taken medical check policeman martyred another injured firing srinagar deputy inspector general ghulam hassan bhat claimed planned militant attack \n",
      "실제 요약 : pakistani militant escapes during srinagar hospital firing \n",
      "예측 요약 :  pak cops militant killed in encounter in pulwama\n",
      "\n",
      "\n",
      "원문 : special cbi judge sharma acquitting accused sohrabuddin sheikh encounter case said helpless due lack evidence adding feels sorry sohrabuddin family sharma said way evidence brought could help added cbi produced witnesses tried best prove case \n",
      "실제 요약 : am judge while accused in sohrabuddin case \n",
      "예측 요약 :  was not going to be called alia on sohrabuddin case\n",
      "\n",
      "\n",
      "원문 : mos civil aviation jayant sinha challenged congress president rahul gandhi live debate rahul slammed jayant garlanding eight men convicted ramgarh lynching case rahul urged people sign petition seeking withdraw jayant harvard alumnus status stating rahul personally attacked jayant asked hide behind social media \n",
      "실제 요약 : jayant asks rahul to debate after he targets his harvard tag \n",
      "예측 요약 :  rahul gandhi campaign for riots on sikh riots\n",
      "\n",
      "\n",
      "원문 : one uber biggest investors benchmark capital sued uber co founder former ceo travis kalanick accusing fraud breach contract accused kalanick concealing range board retain power company kalanick forced resign uber ceo june series scandals \n",
      "실제 요약 : one of biggest uber investors sues founder travis for fraud \n"
     ]
    },
    {
     "name": "stdout",
     "output_type": "stream",
     "text": [
      "예측 요약 :  uber ceo travis kalanick kalanick kalanick ex ceo\n",
      "\n",
      "\n",
      "원문 : claiming favour ram mandir ayodhya samajwadi party founder mulayam singh yadav daughter law aparna yadav wednesday said bjp lord ram aparna contest general elections uncle shivpal singh samajwadi party added full faith process respected court \n",
      "실제 요약 : am with lord ram mulayam daughter in law on ram mandir \n",
      "예측 요약 :  ram mandir will be allowed to fight polls mulayam\n",
      "\n",
      "\n",
      "원문 : ceremony white house tuesday us president donald trump said seriously thinking sixth military branch would space force us getting big space reasons added notably us signed treaty bans space warfare \n",
      "실제 요약 : seriously thinking of creating space force trump \n",
      "예측 요약 :  trump will not be in the us president donald trump\n",
      "\n",
      "\n",
      "원문 : narayana murthy co founder giant infosys commented recent reports companies sacking employees part cost cutting strategies saying sad earlier infosys announced could lay mid senior level employees bi annual performance review comes amid peers including wipro taking similar measures control costs \n",
      "실제 요약 : it is sad says infosys narayana murthy about it \n",
      "예측 요약 :  infosys co founder murthy quits\n",
      "\n",
      "\n",
      "원문 : state run indian oil corporation monday signed agreement supply lakh tonnes petroleum products annually nepal next five years chairman ashok said supply agreement meet full requirements demand quantities major oil products including petrol diesel kerosene aviation turbine fuel lpg added \n",
      "실제 요약 : ioc to supply tonnes of fuel to nepal for next years \n",
      "예측 요약 :  india largest oil firms to oil firms in oil\n",
      "\n",
      "\n",
      "원문 : thirty five days miners trapped inside illegal coal mine meghalaya navy thursday found body one body found depth feet least rescuers involved multi agency rescue operation also monitored supreme court \n",
      "실제 요약 : body of out of trapped in meghalaya mine found after days \n",
      "예측 요약 :  trapped in meghalaya rescued due to meghalaya coal mine mine\n",
      "\n",
      "\n",
      "원문 : cm yogi adityanath said nothing happened girls deoria shelter home compared muzaffarpur shelter home girls raped high court investigating matter added least girls rescued deoria shelter home girl escaped told police inmates treated like servants \n",
      "실제 요약 : nothing happened with girls at shelter home up cm \n",
      "예측 요약 :  girls raped in shelter bihar shelter home cm yogi\n",
      "\n",
      "\n",
      "원문 : people gathered together set guinness world record largest image human brain united states missouri alzheimer association organised event said participants wore colour coded outfits represent different parts brain notably alzheimer disease destroys memory important mental functions \n",
      "실제 요약 : people set world record for largest image of brain \n",
      "예측 요약 :  world largest dinosaur holds world record\n",
      "\n",
      "\n",
      "원문 : television personality rob kardashian instagram account blocked posted nude pictures ex fianc responding wrote snapchat rob beat try act never happened supposed quiet kardashian rob got engaged announced split year \n",
      "실제 요약 : rob kardashian instagram blocked on posting ex nude pics \n",
      "예측 요약 :  actress slams kylie taapsee pannu over instagram\n",
      "\n",
      "\n",
      "원문 : windies chris gayle cricketer hit first ball test match maximum gayle turned friday achieved feat smashing bangladesh debutant spinner six first ball test st test history gayle hit sixes joint international cricket \n",
      "실제 요약 : chris gayle only batsman to hit six off test st ball \n",
      "예측 요약 :  gayle hit his st ton in st test innings in years\n",
      "\n",
      "\n",
      "원문 : jewellery maker pc jeweller market value plunged nearly crore company shares fell nearly intraday trade friday came reports company affiliation financial services firm reportedly probed sebi possible stock manipulation last week purchased stake pc jeweller \n",
      "실제 요약 : pc jeweller loses crore in cap as shares tank \n",
      "예측 요약 :  jewellery loses cr in value after shares shares pic of\n",
      "\n",
      "\n",
      "원문 : asian games triple medallist hima das appointed first ever youth ambassador united nations international children emergency fund india occasion children day wednesday honoured chosen unicef india youth ambassador hope able inspire children follow dreams year old said \n",
      "실제 요약 : hima das appointed first ever youth ambassador of unicef india \n",
      "예측 요약 :  india st class nation to enter un camp for kids\n",
      "\n",
      "\n",
      "원문 : new york university scientists successfully created dna scratch customised dna say inserted living cells change function even cure diseases could one day help create entirely new life forms team far reported building one third genome contains millions dna molecules \n",
      "실제 요약 : scientists successfully create dna from \n",
      "예측 요약 :  scientists claim to make new human cells\n",
      "\n",
      "\n",
      "원문 : public works department started constructing delhi first mega skywalk traffic junction reports said skywalk would metres long connect four major roads maidan supreme court centre would provide funding project estimated cost crore rest would paid state government \n",
      "실제 요약 : construction begins at for delhi first mega \n",
      "예측 요약 :  delhi to get electric electric buses\n",
      "\n",
      "\n",
      "원문 : delhi court monday directed police file fir aap leader ashutosh alleged vulgar remarks late pm jawaharlal nehru mahatma gandhi blog ashutosh referred reported relationships nehru gandhi women defend former aap mla sandeep kumar sex scandal \n",
      "실제 요약 : aap leader to be booked for vulgar remark on nehru gandhi \n",
      "예측 요약 :  hc orders fir against kejriwal over pm modi speech\n",
      "\n",
      "\n",
      "원문 : year old school girl jumped moving train mumbai man entered ladies compartment fearing would molest girl suffered head leg injuries panicked man told keep quiet moved closer police searching man suspect robber \n",
      "실제 요약 : mumbai girl jumps off moving train as man enters \n",
      "예측 요약 :  yr old girl dies after falling from train in delhi\n",
      "\n",
      "\n",
      "원문 : prime minister narendra modi launching book president pranab mukherjee statesman dedicated outgoing president said like father figure pranab da guided modi added big privilege eased life delhi holding pranab da hand meanwhile mukherjee said despite views acted close cooperation \n",
      "실제 요약 : like father figure pranab da has me modi on prez \n",
      "예측 요약 :  pm modi pays tribute to pranab mukherjee\n",
      "\n",
      "\n",
      "원문 : fossil tick preserved million year old amber specimen led researchers believe fed blood feathered dinosaurs researchers noted discovery reminded mosquito amber jurassic park attempts extract dna amber specimens unsuccessful due molecule short life \n",
      "실제 요약 : fed on dinosaur blood mn year old fossil reveals \n",
      "예측 요약 :  fossil of found in found in the found in\n",
      "\n",
      "\n",
      "원문 : tvf ceo arunabh kumar accused sexual harassment case reportedly said statement police clicked selfie alleged victim neither communicated electronic medium arunabh claimed never stripped front pose wrong gestures added \n",
      "실제 요약 : clicked selfie with her never or tvf ceo \n",
      "예측 요약 :  tvf ceo responds to tvf ceo sexual harassment\n",
      "\n",
      "\n",
      "원문 : former leader wednesday accused european union behaving like mafia holding britain hostage ransom demands brexit negotiations however retracted comments branded gangsters instead european parliament president antonio called comments unacceptable \n",
      "실제 요약 : eu holding uk hostage like mafia former leader \n",
      "예측 요약 :  ex prez pranab mukherjee remark on ex prez aide\n",
      "\n",
      "\n",
      "원문 : us city give several hundred low income residents month part experimental program called economic empowerment demonstration program introduced year old mayor michael hoping eliminate city economic burden notably filed bankruptcy year \n",
      "실제 요약 : us city to give poor residents over month \n",
      "예측 요약 :  us to get special status for the year\n",
      "\n",
      "\n",
      "원문 : tonga carried flag shirtless rio olympics qualified winter olympics cross country skier never last year fought taekwondo rio olympics drove two hours blizzard arctic circle reach final qualification race attempt iceland \n",
      "실제 요약 : topless rio flag bearer qualifies for winter olympics \n",
      "예측 요약 :  video of olympic olympics final olympic champion\n",
      "\n",
      "\n",
      "원문 : usa global entry program allows people land country airports enter automatic kiosks without waiting queues people entering program present machine passport us permanent resident card complete fingerprint verification customs declaration transaction receipt issued baggage claimed \n",
      "실제 요약 : what is the us program opened for fast entry to indians \n",
      "예측 요약 :  us to introduce airports to check citizens\n",
      "\n",
      "\n",
      "원문 : recent renaming cities uttar pradesh minister op rajbhar said bjp national spokesperson hussain union minister mukhtar abbas naqvi uttar pradesh minister mohsin raza three muslim faces bjp change names first drama distract backward people whenever raise voices rights rajbhar added \n",
      "실제 요약 : change names of your muslim ministers first up minister to bjp \n"
     ]
    },
    {
     "name": "stdout",
     "output_type": "stream",
     "text": [
      "예측 요약 :  bjp minister calls bjp minister for tripura minister\n",
      "\n",
      "\n",
      "원문 : th australia innings first india australia wednesday rounder glenn maxwell smashed krunal pandya delivery went hit spider ball fell inside yard circle hitting spider declared dead umpire krunal conceded runs four overs match \n",
      "실제 요약 : maxwell smashes ball into spider umpire declares dead ball \n",
      "예측 요약 :  bowler who was the longest wicket hit wicket in australia\n",
      "\n",
      "\n",
      "원문 : australian researchers discovered year old spider recently died previous world record holder year old found mexico research project initiated barbara york main monitored long term spider population years region western australia said university researcher mason \n",
      "실제 요약 : world oldest known spider dies aged in australia \n",
      "예측 요약 :  oldest man aged oldest ever to be world oldest\n",
      "\n",
      "\n",
      "원문 : slammed tweet wherein described morning azaan played loudspeakers extreme imposed singer suchitra krishnamoorthi said sonu nigam tweet azaan area become louder almost like retaliation added suchitra said temple church bells playing loudly right either \n",
      "실제 요약 : azaan in my area became after sonu tweet \n",
      "예측 요약 :  twitter users react to azaan tweet on azaan\n",
      "\n",
      "\n",
      "원문 : total credit card outstanding payments increased months ended september per rbi data outstanding amount surged crore september crore september end august number credit cards stood million million end august \n",
      "실제 요약 : credit card outstanding payments increase in year \n",
      "예측 요약 :  payments bank losses rises to crore in fy\n",
      "\n",
      "\n"
     ]
    }
   ],
   "source": [
    "for i in range(50, 100):\n",
    "    print(\"원문 :\", seq2text(encoder_input_test[i]))\n",
    "    print(\"실제 요약 :\", seq2headlines(decoder_input_test[i]))\n",
    "    print(\"예측 요약 :\", decode_sequence(encoder_input_test[i].reshape(1, text_max_len)))\n",
    "    print(\"\\n\")"
   ]
  },
  {
   "cell_type": "markdown",
   "metadata": {},
   "source": [
    "## Step 5. Summa을 이용해서 추출적 요약해보기\n",
    "\n",
    "* 추상적 요약은 추출적 요약과는 달리 문장의 표현력을 다양하게 가져갈 수 있지만, 추출적 요약에 비해서 난이도가 높아요. \n",
    "* 반대로 말하면 추출적 요약은 추상적 요약에 비해 난이도가 낮고 기존 문장에서 문장을 꺼내오는 것이므로 잘못된 요약이 나올 가능성이 낮아요.\n",
    "\n",
    "* Summa의 summarize를 사용하여 추출적 요약을 해보세요."
   ]
  },
  {
   "cell_type": "code",
   "execution_count": 114,
   "metadata": {},
   "outputs": [],
   "source": [
    "# 패키지 설치\n",
    "import requests\n",
    "from summa.summarizer import summarize"
   ]
  },
  {
   "cell_type": "code",
   "execution_count": 126,
   "metadata": {},
   "outputs": [
    {
     "name": "stdout",
     "output_type": "stream",
     "text": [
      "원본 문장 :  london zoo offering people name cockroach exes valentine day quite require revenge another way make feel better getting back ex zoo said statement names appear zoo roach board february\n"
     ]
    }
   ],
   "source": [
    "# 요약할 text 저장\n",
    "origin_text = data['text'][26]\n",
    "print('원본 문장 : ', origin_text)"
   ]
  },
  {
   "cell_type": "code",
   "execution_count": 120,
   "metadata": {},
   "outputs": [
    {
     "name": "stdout",
     "output_type": "stream",
     "text": [
      "원본 headlines :  think the opposition even dreams about me pm modi\n"
     ]
    }
   ],
   "source": [
    "#  headlines 원본 출력\n",
    "origin_headlines = data['headlines'][20]\n",
    "print('원본 headlines : ', origin_headlines)"
   ]
  },
  {
   "cell_type": "code",
   "execution_count": 128,
   "metadata": {},
   "outputs": [
    {
     "name": "stdout",
     "output_type": "stream",
     "text": [
      "추출적 요약본 : \n",
      "\n"
     ]
    }
   ],
   "source": [
    "#  summa를 사용한 요약본 출력\n",
    "print('추출적 요약본 : ')\n",
    "print(summarize(origin_text, ratio=0.2))"
   ]
  }
 ],
 "metadata": {
  "kernelspec": {
   "display_name": "aiffel",
   "language": "python",
   "name": "aiffel"
  },
  "language_info": {
   "codemirror_mode": {
    "name": "ipython",
    "version": 3
   },
   "file_extension": ".py",
   "mimetype": "text/x-python",
   "name": "python",
   "nbconvert_exporter": "python",
   "pygments_lexer": "ipython3",
   "version": "3.7.6"
  }
 },
 "nbformat": 4,
 "nbformat_minor": 4
}
