{
 "cells": [
  {
   "cell_type": "markdown",
   "metadata": {},
   "source": [
    "## 28-8. 프로젝트 : 개구리는 안돼요(CIFAR-10)"
   ]
  },
  {
   "cell_type": "markdown",
   "metadata": {},
   "source": [
    "* 이번 프로젝트는 CIFAR-10 데이터셋에 대해 진행\n",
    "* 만들어야 할 모델은 CIFAR-10의 10가지 클래스 중 개구리 라벨을 이상 데이터로 처리하는 모델\n",
    "* 혹시 개구리가 출현할 경우 이를 감지하여 이상감지 경고를 발생시키는 개구리 감지 모델\n",
    "\n",
    "다음의 순서을 따라 진행해 주세요.\n",
    "\n",
    "1. 이상감지용 데이터셋 구축 (개구리 데이터를 학습데이터셋에서 제외하여 테스트 데이터셋에 포함)\n",
    "2. Skip-GANomaly 모델의 구현\n",
    "3. 모델의 학습과 검증\n",
    "4. 검증 결과의 시각화 (정상-이상 데이터의 anomaly score 분포 시각화, 적절한 threshold에 따른 이삼감지율 계산, 감지 성공/실패사례 시각화 포함)"
   ]
  },
  {
   "cell_type": "code",
   "execution_count": 1,
   "metadata": {},
   "outputs": [],
   "source": [
    "import tensorflow as tf\n",
    "\n",
    "from sklearn.metrics import roc_curve, auc, accuracy_score, confusion_matrix, precision_recall_curve, average_precision_score\n",
    "from scipy.interpolate import interp1d\n",
    "from inspect import signature\n",
    "from scipy.optimize import brentq\n",
    "\n",
    "import glob\n",
    "import imageio\n",
    "import matplotlib.pyplot as plt\n",
    "import numpy as np\n",
    "\n",
    "\n",
    "import PIL\n",
    "from tensorflow.keras import layers\n",
    "import time\n",
    "from scipy.stats import norm\n",
    "\n",
    "from IPython import display"
   ]
  },
  {
   "cell_type": "markdown",
   "metadata": {},
   "source": [
    " * cifar10 data 불러오기"
   ]
  },
  {
   "cell_type": "code",
   "execution_count": 41,
   "metadata": {},
   "outputs": [
    {
     "name": "stdout",
     "output_type": "stream",
     "text": [
      "(50000, 32, 32, 3)\n",
      "(10000, 32, 32, 3)\n"
     ]
    }
   ],
   "source": [
    "(train_data, train_labels), (test_data, test_labels) = tf.keras.datasets.cifar10.load_data()\n",
    "\n",
    "train_data = (train_data - 127.5) / 127.5\n",
    "test_data = (test_data - 127.5) / 127.5\n",
    "\n",
    "from PIL import Image\n",
    "\n",
    "# padding to 32 X 32\n",
    "train_data_32 = np.zeros((train_data.shape[0], 32, 32)).astype('float32')\n",
    "test_data_32 = np.zeros((test_data.shape[0], 32, 32)).astype('float32')     \n",
    "# train_data_32[:, 2:30, 2:30] = train_data\n",
    "# test_data_32[:, 2:30, 2:30] = test_data\n",
    "\n",
    "# # 1channel data reshape\n",
    "# train_data = train_data_32.reshape(train_data_32.shape[0], 32, 32, 3).astype('float32')\n",
    "# test_data = test_data_32.reshape(test_data_32.shape[0], 32, 32, 3).astype('float32')\n",
    "\n",
    "print(train_data.shape)\n",
    "print(test_data.shape)"
   ]
  },
  {
   "cell_type": "code",
   "execution_count": 47,
   "metadata": {},
   "outputs": [
    {
     "name": "stderr",
     "output_type": "stream",
     "text": [
      "Clipping input data to the valid range for imshow with RGB data ([0..1] for floats or [0..255] for integers).\n",
      "Clipping input data to the valid range for imshow with RGB data ([0..1] for floats or [0..255] for integers).\n",
      "Clipping input data to the valid range for imshow with RGB data ([0..1] for floats or [0..255] for integers).\n",
      "Clipping input data to the valid range for imshow with RGB data ([0..1] for floats or [0..255] for integers).\n",
      "Clipping input data to the valid range for imshow with RGB data ([0..1] for floats or [0..255] for integers).\n",
      "Clipping input data to the valid range for imshow with RGB data ([0..1] for floats or [0..255] for integers).\n",
      "Clipping input data to the valid range for imshow with RGB data ([0..1] for floats or [0..255] for integers).\n",
      "Clipping input data to the valid range for imshow with RGB data ([0..1] for floats or [0..255] for integers).\n",
      "Clipping input data to the valid range for imshow with RGB data ([0..1] for floats or [0..255] for integers).\n",
      "Clipping input data to the valid range for imshow with RGB data ([0..1] for floats or [0..255] for integers).\n"
     ]
    },
    {
     "data": {
      "image/png": "[encoded data removed]",
      "text/plain": [
       "<Figure size 720x360 with 10 Axes>"
      ]
     },
     "metadata": {
      "needs_background": "light"
     },
     "output_type": "display_data"
    }
   ],
   "source": [
    "plt.figure(figsize=(10, 5))\n",
    "\n",
    "for i in range(10):\n",
    "    plt.subplot(2, 5, i+1)\n",
    "    plt.imshow(train_data[i])\n",
    "#     plt.imshow(train_data[i].reshape(32, 32), cmap='gray')\n",
    "    plt.title(f'index: {i}')\n",
    "    plt.axis('off')\n",
    "plt.show()"
   ]
  },
  {
   "cell_type": "code",
   "execution_count": 49,
   "metadata": {},
   "outputs": [],
   "source": [
    "def set_labels(labels):\n",
    "    new_t_labels = []\n",
    "    for old_label in labels:\n",
    "        if old_label == 6:   # frog:6\n",
    "            new_t_labels.append([0])  # Bag을 이상치로 처리\n",
    "        else:\n",
    "            new_t_labels.append([1])  # 그 외의 경우는 정상치\n",
    "             \n",
    "    return np.array(new_t_labels)"
   ]
  },
  {
   "cell_type": "code",
   "execution_count": 50,
   "metadata": {},
   "outputs": [],
   "source": [
    "bol_train_labels = set_labels(train_labels)\n",
    "bol_test_labels = set_labels(test_labels)"
   ]
  },
  {
   "cell_type": "code",
   "execution_count": 51,
   "metadata": {},
   "outputs": [],
   "source": [
    "normal_data = []\n",
    "normal_labels = []\n",
    "anomaly_data = []\n",
    "anomaly_labels = []\n",
    "for data, label in zip(train_data, bol_train_labels):\n",
    "    if label == 0:\n",
    "        anomaly_data.append(data)\n",
    "        anomaly_labels.append(label)\n",
    "    else:\n",
    "        normal_data.append(data)\n",
    "        normal_labels.append(label)\n",
    "        \n",
    "normal_data = np.array(normal_data)\n",
    "normal_labels = np.array(normal_labels)\n",
    "anomaly_data = np.array(anomaly_data)\n",
    "anomaly_labels = np.array(anomaly_labels)"
   ]
  },
  {
   "cell_type": "code",
   "execution_count": 52,
   "metadata": {},
   "outputs": [
    {
     "name": "stdout",
     "output_type": "stream",
     "text": [
      "(45000, 32, 32, 3) (45000, 1)\n",
      "(5000, 32, 32, 3) (5000, 1)\n"
     ]
    }
   ],
   "source": [
    "print(normal_data.shape, normal_labels.shape)\n",
    "print(anomaly_data.shape, anomaly_labels.shape)"
   ]
  },
  {
   "cell_type": "code",
   "execution_count": 53,
   "metadata": {},
   "outputs": [],
   "source": [
    "train_data = normal_data\n",
    "bol_train_labels = normal_labels\n",
    "test_data = tf.concat([test_data, anomaly_data], 0)\n",
    "bol_test_labels = tf.concat([bol_test_labels, anomaly_labels], 0)"
   ]
  },
  {
   "cell_type": "code",
   "execution_count": 54,
   "metadata": {},
   "outputs": [
    {
     "name": "stdout",
     "output_type": "stream",
     "text": [
      "(45000, 32, 32, 3) (45000, 1)\n",
      "(5000, 32, 32, 3) (5000, 1)\n"
     ]
    }
   ],
   "source": [
    "print(normal_data.shape, normal_labels.shape)\n",
    "print(anomaly_data.shape, anomaly_labels.shape)"
   ]
  },
  {
   "cell_type": "code",
   "execution_count": 55,
   "metadata": {},
   "outputs": [
    {
     "name": "stdout",
     "output_type": "stream",
     "text": [
      "(45000, 1)\n",
      "(15000, 1)\n"
     ]
    }
   ],
   "source": [
    "print(bol_train_labels.shape)\n",
    "print(bol_test_labels.shape)"
   ]
  },
  {
   "cell_type": "code",
   "execution_count": 56,
   "metadata": {},
   "outputs": [
    {
     "name": "stdout",
     "output_type": "stream",
     "text": [
      "Done\n"
     ]
    }
   ],
   "source": [
    "for label in bol_train_labels:\n",
    "    if label == 0:\n",
    "        print(label)\n",
    "print(\"Done\")"
   ]
  },
  {
   "cell_type": "code",
   "execution_count": 57,
   "metadata": {},
   "outputs": [],
   "source": [
    "BUFFER_SIZE = 10000\n",
    "BATCH_SIZE = 8\n",
    "\n",
    "train_dataset = tf.data.Dataset.from_tensor_slices((train_data, bol_train_labels))\n",
    "train_dataset = train_dataset.shuffle(BUFFER_SIZE).batch(BATCH_SIZE)\n",
    "\n",
    "test_dataset = tf.data.Dataset.from_tensor_slices((test_data, bol_test_labels))\n",
    "test_dataset = test_dataset.shuffle(BUFFER_SIZE).batch(BATCH_SIZE)"
   ]
  },
  {
   "cell_type": "markdown",
   "metadata": {},
   "source": [
    "### Generator 모델 구성"
   ]
  },
  {
   "cell_type": "markdown",
   "metadata": {},
   "source": [
    " * Generator는 U-net 구조를 따름\n"
   ]
  },
  {
   "cell_type": "code",
   "execution_count": 60,
   "metadata": {},
   "outputs": [],
   "source": [
    "class Conv_block(tf.keras.Model):\n",
    "    def __init__(self, num_filters):\n",
    "        super(Conv_block, self).__init__()\n",
    "        self.conv_layer = tf.keras.Sequential([\n",
    "            layers.Conv2D(num_filters, 3, strides=2, padding='same', use_bias=False,\n",
    "                          kernel_initializer=tf.random_normal_initializer(0., 0.02)),\n",
    "            layers.BatchNormalization(),\n",
    "            layers.LeakyReLU(0.2),\n",
    "        ])\n",
    "        \n",
    "    def call(self, inputs, training=False):\n",
    "        outputs = self.conv_layer(inputs)\n",
    "        \n",
    "        return outputs"
   ]
  },
  {
   "cell_type": "code",
   "execution_count": 61,
   "metadata": {},
   "outputs": [],
   "source": [
    "class Conv_T_block(tf.keras.Model):\n",
    "    def __init__(self, num_filters):\n",
    "        super(Conv_T_block, self).__init__()\n",
    "        self.conv_T_layer = tf.keras.Sequential([\n",
    "            layers.Conv2DTranspose(num_filters, 3, strides=2, padding='same', use_bias=False,\n",
    "                                   kernel_initializer=tf.random_normal_initializer(0., 0.02)),\n",
    "            layers.BatchNormalization(),\n",
    "            layers.ReLU(),\n",
    "        ])\n",
    "        \n",
    "    def call(self, inputs, concat, training=False):\n",
    "        upsample = self.conv_T_layer(inputs)\n",
    "        outputs = tf.concat([upsample, concat], -1)\n",
    "        \n",
    "        return outputs"
   ]
  },
  {
   "cell_type": "code",
   "execution_count": 62,
   "metadata": {},
   "outputs": [],
   "source": [
    "class Generator(tf.keras.Model):\n",
    "    def __init__(self, num_output_channel=3):\n",
    "        super(Generator, self).__init__()\n",
    "        self.encoder_1 = Conv_block(64) # 16\n",
    "        self.encoder_2 = Conv_block(128) # 8\n",
    "        self.encoder_3 = Conv_block(256) # 4\n",
    "        self.encoder_4 = Conv_block(512) # 2\n",
    "        \n",
    "        self.center = Conv_block(512) # 1\n",
    "        \n",
    "        self.decoder_4 = Conv_T_block(512) # 2\n",
    "        self.decoder_3 = Conv_T_block(256) # 4\n",
    "        self.decoder_2 = Conv_T_block(128) # 8\n",
    "        self.decoder_1 = Conv_T_block(64) # 16\n",
    "        \n",
    "        self.output_layer = layers.Conv2DTranspose(num_output_channel, 1, strides=2, padding='same', use_bias=False, # 32\n",
    "                                                   kernel_initializer=tf.random_normal_initializer(0., 0.02))\n",
    "                \n",
    "    def call(self, inputs, training=False):\n",
    "        en_1 = self.encoder_1(inputs) # gen\n",
    "        en_2 = self.encoder_2(en_1)\n",
    "        en_3 = self.encoder_3(en_2)\n",
    "        en_4 = self.encoder_4(en_3)\n",
    "        \n",
    "        center = self.center(en_4)\n",
    "        \n",
    "        de_4 = self.decoder_4(center, en_4)\n",
    "        de_3 = self.decoder_3(de_4, en_3)\n",
    "        de_2 = self.decoder_2(de_3, en_2)\n",
    "        de_1 = self.decoder_1(de_2, en_1)\n",
    "        \n",
    "        outputs = self.output_layer(de_1)\n",
    "        \n",
    "        return outputs"
   ]
  },
  {
   "cell_type": "markdown",
   "metadata": {},
   "source": [
    "### Discriminator 구성"
   ]
  },
  {
   "cell_type": "markdown",
   "metadata": {},
   "source": [
    " * Discriminator도 Generator처럼 Conv_block을 활용\n",
    " * 최종적으로 sigmoid를 거쳐 0~1 사이의 숫자를 리턴"
   ]
  },
  {
   "cell_type": "code",
   "execution_count": 63,
   "metadata": {},
   "outputs": [],
   "source": [
    "class Discriminator(tf.keras.Model):\n",
    "    def __init__(self):\n",
    "        super(Discriminator, self).__init__()\n",
    "        self.encoder_1 = Conv_block(64) # 16\n",
    "        self.encoder_2 = Conv_block(128) # 8\n",
    "        self.encoder_3 = Conv_block(256) # 4\n",
    "        self.encoder_4 = Conv_block(512) # 2\n",
    "        \n",
    "        self.center = Conv_block(100) # 1\n",
    "        \n",
    "        self.outputs = layers.Conv2D(1, 3, strides=1, padding='same',\n",
    "                                          use_bias=False, activation='sigmoid')\n",
    "    \n",
    "    def call(self, inputs, training=False):\n",
    "        en_1 = self.encoder_1(inputs) # dis\n",
    "        en_2 = self.encoder_2(en_1)\n",
    "        en_3 = self.encoder_3(en_2)\n",
    "        en_4 = self.encoder_4(en_3)\n",
    "        \n",
    "        center = self.center(en_4)\n",
    "        \n",
    "        outputs = self.outputs(center)\n",
    "        \n",
    "        return outputs, center"
   ]
  },
  {
   "cell_type": "markdown",
   "metadata": {},
   "source": [
    "### 전체 모델 구성\n",
    "\n",
    " * Generator와 Discriminator을 합쳐 전체 모델을 구성"
   ]
  },
  {
   "cell_type": "code",
   "execution_count": 72,
   "metadata": {},
   "outputs": [],
   "source": [
    "generator = Generator()  # Generator가 32X32X1 짜리 이미지를 생성해야 합니다. \n",
    "discriminator = Discriminator()"
   ]
  },
  {
   "cell_type": "markdown",
   "metadata": {},
   "source": [
    "### Loss 함수\n",
    "\n",
    " * GAN 모델의 핵심은 Loss 함수의 구성방법임\n",
    " * Skip-GANomaly는 이전 모델들과 달리 일반적인 GAN의 학습 절차와 같은 형태의 Loss 구성이 진행"
   ]
  },
  {
   "cell_type": "code",
   "execution_count": 73,
   "metadata": {},
   "outputs": [],
   "source": [
    "l2_loss = tf.keras.losses.MeanSquaredError()\n",
    "l1_loss = tf.keras.losses.MeanAbsoluteError()\n",
    "cross_entropy = tf.keras.losses.BinaryCrossentropy(from_logits=False)"
   ]
  },
  {
   "cell_type": "code",
   "execution_count": 74,
   "metadata": {},
   "outputs": [],
   "source": [
    "def discriminator_loss(pred_real, pred_fake):\n",
    "    real_loss = cross_entropy(tf.ones_like(pred_real), pred_real)\n",
    "    fake_loss = cross_entropy(tf.zeros_like(pred_fake), pred_fake)\n",
    "    \n",
    "    total_dis_loss = (real_loss + fake_loss) * 0.5\n",
    "    \n",
    "    return total_dis_loss"
   ]
  },
  {
   "cell_type": "markdown",
   "metadata": {},
   "source": [
    " * 아래 Generator Loss에는 이전 스텝에서 설명했던 Skip-GANomaly의 주요 loss 함수들이 포함되어 있음을 주목"
   ]
  },
  {
   "cell_type": "code",
   "execution_count": 75,
   "metadata": {},
   "outputs": [],
   "source": [
    "def generator_loss(real_output, fake_output, input_data, gen_data, latent_first, latent_sec):\n",
    "    w_adv = 1.\n",
    "    w_context = 40.\n",
    "    w_encoder = 1.\n",
    "    \n",
    "    adv_loss = cross_entropy(real_output, fake_output)\n",
    "    context_loss = l1_loss(input_data, gen_data)\n",
    "    encoder_loss = l2_loss(latent_first, latent_sec)\n",
    "    \n",
    "    total_gen_loss = w_adv * adv_loss + \\\n",
    "                     w_context * context_loss + \\\n",
    "                     w_encoder * encoder_loss\n",
    "    \n",
    "    return total_gen_loss"
   ]
  },
  {
   "cell_type": "code",
   "execution_count": 76,
   "metadata": {},
   "outputs": [],
   "source": [
    "# Optimizer 설정\n",
    "generator_optimizer = tf.keras.optimizers.Adam(2e-3, 0.5)\n",
    "discriminator_optimizer = tf.keras.optimizers.Adam(2e-3, 0.5)"
   ]
  },
  {
   "cell_type": "markdown",
   "metadata": {},
   "source": [
    "## 모델 학습과 평가\n",
    "\n",
    "### Model Train\n",
    "\n",
    " * 모델 학습(총 25Epoch 대략 1시간 정도 소요)"
   ]
  },
  {
   "cell_type": "code",
   "execution_count": 77,
   "metadata": {},
   "outputs": [],
   "source": [
    "def train_step(images):\n",
    "    with tf.GradientTape() as gen_tape, tf.GradientTape() as disc_tape:\n",
    "        generated_images = generator(images, training=True)\n",
    "        \n",
    "        pred_real, feat_real = discriminator(images, training=True)\n",
    "        pred_fake, feat_fake = discriminator(generated_images, training=True)\n",
    "\n",
    "        gen_loss = generator_loss(pred_real, pred_fake,\n",
    "                                  images, generated_images,\n",
    "                                  feat_real, feat_fake)\n",
    "\n",
    "        disc_loss = discriminator_loss(pred_real, pred_fake)        \n",
    "\n",
    "    gradients_of_generator = gen_tape.gradient(gen_loss, generator.trainable_variables)\n",
    "    gradients_of_discriminator = disc_tape.gradient(disc_loss, discriminator.trainable_variables)\n",
    "\n",
    "    generator_optimizer.apply_gradients(zip(gradients_of_generator, generator.trainable_variables))\n",
    "    discriminator_optimizer.apply_gradients(zip(gradients_of_discriminator, discriminator.trainable_variables))\n",
    "    \n",
    "    return gen_loss, disc_loss"
   ]
  },
  {
   "cell_type": "code",
   "execution_count": 78,
   "metadata": {},
   "outputs": [],
   "source": [
    "import os\n",
    "checkpoint_path = os.path.join(os.getenv('HOME'),'aiffel/ganomaly_skip_no_norm/ckpt')\n",
    "\n",
    "if not os.path.isdir(checkpoint_path):\n",
    "    os.makedirs(checkpoint_path)\n",
    "checkpoint = tf.train.Checkpoint(generator_optimizer=generator_optimizer,\n",
    "                                 discriminator_optimizer=discriminator_optimizer,\n",
    "                                 generator=generator,\n",
    "                                 discriminator=discriminator)"
   ]
  },
  {
   "cell_type": "code",
   "execution_count": 80,
   "metadata": {},
   "outputs": [
    {
     "name": "stdout",
     "output_type": "stream",
     "text": [
      "Steps : 100, \t Total Gen Loss : 20.564992904663086, \t Total Dis Loss : 0.0657399371266365\n",
      "Steps : 200, \t Total Gen Loss : 19.48797035217285, \t Total Dis Loss : 0.07077478617429733\n",
      "Steps : 300, \t Total Gen Loss : 17.96833038330078, \t Total Dis Loss : 0.029569678008556366\n",
      "Steps : 400, \t Total Gen Loss : 18.0872745513916, \t Total Dis Loss : 0.10709141194820404\n",
      "Steps : 500, \t Total Gen Loss : 18.820566177368164, \t Total Dis Loss : 0.050186291337013245\n",
      "Steps : 600, \t Total Gen Loss : 16.895036697387695, \t Total Dis Loss : 0.05767148733139038\n",
      "Steps : 700, \t Total Gen Loss : 17.987316131591797, \t Total Dis Loss : 0.019682899117469788\n",
      "Steps : 800, \t Total Gen Loss : 21.32130241394043, \t Total Dis Loss : 0.00723644532263279\n",
      "Steps : 900, \t Total Gen Loss : 21.35956382751465, \t Total Dis Loss : 0.04263981804251671\n",
      "Steps : 1000, \t Total Gen Loss : 20.344135284423828, \t Total Dis Loss : 0.009212363511323929\n",
      "Steps : 1100, \t Total Gen Loss : 22.68040657043457, \t Total Dis Loss : 0.00827875453978777\n",
      "Steps : 1200, \t Total Gen Loss : 20.90276336669922, \t Total Dis Loss : 0.00592968100681901\n",
      "Steps : 1300, \t Total Gen Loss : 19.468151092529297, \t Total Dis Loss : 0.030293188989162445\n",
      "Steps : 1400, \t Total Gen Loss : 22.668630599975586, \t Total Dis Loss : 0.011544713750481606\n",
      "Steps : 1500, \t Total Gen Loss : 19.05991554260254, \t Total Dis Loss : 0.04607577621936798\n",
      "Steps : 1600, \t Total Gen Loss : 19.735952377319336, \t Total Dis Loss : 0.004152372479438782\n",
      "Steps : 1700, \t Total Gen Loss : 22.695234298706055, \t Total Dis Loss : 0.01153586246073246\n",
      "Steps : 1800, \t Total Gen Loss : 20.242834091186523, \t Total Dis Loss : 0.008059510961174965\n",
      "Steps : 1900, \t Total Gen Loss : 22.285396575927734, \t Total Dis Loss : 0.005132993217557669\n",
      "Steps : 2000, \t Total Gen Loss : 22.373613357543945, \t Total Dis Loss : 0.019999917596578598\n",
      "Steps : 2100, \t Total Gen Loss : 22.71770477294922, \t Total Dis Loss : 0.014905874617397785\n",
      "Steps : 2200, \t Total Gen Loss : 23.6165771484375, \t Total Dis Loss : 0.006878497079014778\n",
      "Steps : 2300, \t Total Gen Loss : 21.52639389038086, \t Total Dis Loss : 0.014518403448164463\n",
      "Steps : 2400, \t Total Gen Loss : 22.151756286621094, \t Total Dis Loss : 0.003646776545792818\n",
      "Steps : 2500, \t Total Gen Loss : 23.03559684753418, \t Total Dis Loss : 0.005252940580248833\n",
      "Steps : 2600, \t Total Gen Loss : 20.313522338867188, \t Total Dis Loss : 0.009419810026884079\n",
      "Steps : 2700, \t Total Gen Loss : 21.195972442626953, \t Total Dis Loss : 0.0022319958079606295\n",
      "Steps : 2800, \t Total Gen Loss : 21.814531326293945, \t Total Dis Loss : 0.019764311611652374\n",
      "Steps : 2900, \t Total Gen Loss : 18.7005615234375, \t Total Dis Loss : 0.03337731957435608\n",
      "Steps : 3000, \t Total Gen Loss : 21.19904136657715, \t Total Dis Loss : 0.04165373742580414\n",
      "Steps : 3100, \t Total Gen Loss : 22.667346954345703, \t Total Dis Loss : 0.04101957753300667\n",
      "Steps : 3200, \t Total Gen Loss : 23.12282943725586, \t Total Dis Loss : 0.005644750781357288\n",
      "Steps : 3300, \t Total Gen Loss : 21.60370445251465, \t Total Dis Loss : 0.006221435964107513\n",
      "Steps : 3400, \t Total Gen Loss : 20.16488265991211, \t Total Dis Loss : 0.027027931064367294\n",
      "Steps : 3500, \t Total Gen Loss : 20.306657791137695, \t Total Dis Loss : 0.010272569954395294\n",
      "Steps : 3600, \t Total Gen Loss : 21.69727897644043, \t Total Dis Loss : 0.005382409319281578\n",
      "Steps : 3700, \t Total Gen Loss : 20.266801834106445, \t Total Dis Loss : 0.007372194901108742\n",
      "Steps : 3800, \t Total Gen Loss : 17.558147430419922, \t Total Dis Loss : 0.04038923606276512\n",
      "Steps : 3900, \t Total Gen Loss : 19.4814395904541, \t Total Dis Loss : 0.007345322519540787\n",
      "Steps : 4000, \t Total Gen Loss : 20.209674835205078, \t Total Dis Loss : 0.007881715893745422\n",
      "Steps : 4100, \t Total Gen Loss : 20.99263572692871, \t Total Dis Loss : 0.006530274171382189\n",
      "Steps : 4200, \t Total Gen Loss : 22.612253189086914, \t Total Dis Loss : 0.03620737046003342\n",
      "Steps : 4300, \t Total Gen Loss : 23.71783447265625, \t Total Dis Loss : 0.022084014490246773\n",
      "Steps : 4400, \t Total Gen Loss : 25.612287521362305, \t Total Dis Loss : 0.005042863078415394\n",
      "Steps : 4500, \t Total Gen Loss : 21.631864547729492, \t Total Dis Loss : 0.0026140406262129545\n",
      "Steps : 4600, \t Total Gen Loss : 24.133577346801758, \t Total Dis Loss : 0.0029334528371691704\n",
      "Steps : 4700, \t Total Gen Loss : 24.400583267211914, \t Total Dis Loss : 0.007727804593741894\n",
      "Steps : 4800, \t Total Gen Loss : 26.363094329833984, \t Total Dis Loss : 0.03885285183787346\n",
      "Steps : 4900, \t Total Gen Loss : 22.755481719970703, \t Total Dis Loss : 0.062449678778648376\n",
      "Steps : 5000, \t Total Gen Loss : 21.53975486755371, \t Total Dis Loss : 0.011713074520230293\n",
      "Steps : 5100, \t Total Gen Loss : 23.488157272338867, \t Total Dis Loss : 0.009796719066798687\n",
      "Steps : 5200, \t Total Gen Loss : 21.947187423706055, \t Total Dis Loss : 0.004182748030871153\n",
      "Steps : 5300, \t Total Gen Loss : 22.49203109741211, \t Total Dis Loss : 0.057053446769714355\n",
      "Steps : 5400, \t Total Gen Loss : 21.385862350463867, \t Total Dis Loss : 0.0038126397412270308\n",
      "Steps : 5500, \t Total Gen Loss : 25.451271057128906, \t Total Dis Loss : 0.00528713408857584\n",
      "Steps : 5600, \t Total Gen Loss : 22.936588287353516, \t Total Dis Loss : 0.0038189429324120283\n",
      "Time for epoch 1 is 299.396831035614 sec\n",
      "Steps : 5700, \t Total Gen Loss : 19.24980354309082, \t Total Dis Loss : 0.003627295373007655\n",
      "Steps : 5800, \t Total Gen Loss : 21.08821678161621, \t Total Dis Loss : 0.002177378162741661\n",
      "Steps : 5900, \t Total Gen Loss : 19.310985565185547, \t Total Dis Loss : 0.006163087673485279\n",
      "Steps : 6000, \t Total Gen Loss : 21.961238861083984, \t Total Dis Loss : 0.006858369335532188\n",
      "Steps : 6100, \t Total Gen Loss : 17.71271514892578, \t Total Dis Loss : 0.015887802466750145\n",
      "Steps : 6200, \t Total Gen Loss : 21.393795013427734, \t Total Dis Loss : 0.004488527309149504\n",
      "Steps : 6300, \t Total Gen Loss : 19.527257919311523, \t Total Dis Loss : 0.01649521104991436\n",
      "Steps : 6400, \t Total Gen Loss : 24.82059097290039, \t Total Dis Loss : 0.007785050198435783\n",
      "Steps : 6500, \t Total Gen Loss : 22.03603744506836, \t Total Dis Loss : 0.003218911588191986\n",
      "Steps : 6600, \t Total Gen Loss : 23.311246871948242, \t Total Dis Loss : 0.00633683055639267\n",
      "Steps : 6700, \t Total Gen Loss : 23.28752899169922, \t Total Dis Loss : 0.005610331892967224\n",
      "Steps : 6800, \t Total Gen Loss : 23.538501739501953, \t Total Dis Loss : 0.005289884749799967\n",
      "Steps : 6900, \t Total Gen Loss : 23.421724319458008, \t Total Dis Loss : 0.0037577205803245306\n",
      "Steps : 7000, \t Total Gen Loss : 23.754281997680664, \t Total Dis Loss : 0.004065344110131264\n",
      "Steps : 7100, \t Total Gen Loss : 24.85009765625, \t Total Dis Loss : 0.005445726215839386\n",
      "Steps : 7200, \t Total Gen Loss : 21.950115203857422, \t Total Dis Loss : 0.0014910583849996328\n",
      "Steps : 7300, \t Total Gen Loss : 19.938169479370117, \t Total Dis Loss : 0.008306168019771576\n",
      "Steps : 7400, \t Total Gen Loss : 24.4106388092041, \t Total Dis Loss : 0.0012941870372742414\n",
      "Steps : 7500, \t Total Gen Loss : 25.0750675201416, \t Total Dis Loss : 0.001103849383071065\n",
      "Steps : 7600, \t Total Gen Loss : 24.69374656677246, \t Total Dis Loss : 0.0017285788198933005\n",
      "Steps : 7700, \t Total Gen Loss : 22.327495574951172, \t Total Dis Loss : 0.003110162913799286\n",
      "Steps : 7800, \t Total Gen Loss : 21.41340446472168, \t Total Dis Loss : 0.007895276881754398\n",
      "Steps : 7900, \t Total Gen Loss : 21.041872024536133, \t Total Dis Loss : 0.0048238858580589294\n",
      "Steps : 8000, \t Total Gen Loss : 19.4588623046875, \t Total Dis Loss : 0.004620802588760853\n",
      "Steps : 8100, \t Total Gen Loss : 24.024473190307617, \t Total Dis Loss : 0.0022972675506025553\n",
      "Steps : 8200, \t Total Gen Loss : 23.520158767700195, \t Total Dis Loss : 0.0020611160434782505\n",
      "Steps : 8300, \t Total Gen Loss : 23.059551239013672, \t Total Dis Loss : 0.004331786185503006\n",
      "Steps : 8400, \t Total Gen Loss : 24.142419815063477, \t Total Dis Loss : 0.01051664724946022\n",
      "Steps : 8500, \t Total Gen Loss : 22.173492431640625, \t Total Dis Loss : 0.0012775528011843562\n",
      "Steps : 8600, \t Total Gen Loss : 21.280193328857422, \t Total Dis Loss : 0.03056708723306656\n",
      "Steps : 8700, \t Total Gen Loss : 23.930469512939453, \t Total Dis Loss : 0.002952195703983307\n",
      "Steps : 8800, \t Total Gen Loss : 23.407245635986328, \t Total Dis Loss : 0.003863271325826645\n",
      "Steps : 8900, \t Total Gen Loss : 20.710494995117188, \t Total Dis Loss : 0.0032867263071238995\n"
     ]
    },
    {
     "name": "stdout",
     "output_type": "stream",
     "text": [
      "Steps : 9000, \t Total Gen Loss : 22.24791717529297, \t Total Dis Loss : 0.0009502823813818395\n",
      "Steps : 9100, \t Total Gen Loss : 22.989059448242188, \t Total Dis Loss : 0.006876026280224323\n",
      "Steps : 9200, \t Total Gen Loss : 20.594064712524414, \t Total Dis Loss : 0.0023791957646608353\n",
      "Steps : 9300, \t Total Gen Loss : 23.47322654724121, \t Total Dis Loss : 0.004483907483518124\n",
      "Steps : 9400, \t Total Gen Loss : 23.7493953704834, \t Total Dis Loss : 0.007385968696326017\n",
      "Steps : 9500, \t Total Gen Loss : 20.801794052124023, \t Total Dis Loss : 0.0018227086402475834\n",
      "Steps : 9600, \t Total Gen Loss : 19.941381454467773, \t Total Dis Loss : 0.0023810085840523243\n",
      "Steps : 9700, \t Total Gen Loss : 19.82233428955078, \t Total Dis Loss : 0.0019157397327944636\n",
      "Steps : 9800, \t Total Gen Loss : 20.534713745117188, \t Total Dis Loss : 0.00527633260935545\n",
      "Steps : 9900, \t Total Gen Loss : 24.230140686035156, \t Total Dis Loss : 0.0012544840574264526\n",
      "Steps : 10000, \t Total Gen Loss : 21.464881896972656, \t Total Dis Loss : 0.0018546768696978688\n",
      "Steps : 10100, \t Total Gen Loss : 23.716943740844727, \t Total Dis Loss : 0.00108530989382416\n",
      "Steps : 10200, \t Total Gen Loss : 22.2044677734375, \t Total Dis Loss : 0.0012489487417042255\n",
      "Steps : 10300, \t Total Gen Loss : 19.910633087158203, \t Total Dis Loss : 0.0010252450592815876\n",
      "Steps : 10400, \t Total Gen Loss : 21.668561935424805, \t Total Dis Loss : 0.001592978835105896\n",
      "Steps : 10500, \t Total Gen Loss : 20.82491111755371, \t Total Dis Loss : 0.031341537833213806\n",
      "Steps : 10600, \t Total Gen Loss : 23.324247360229492, \t Total Dis Loss : 0.056031499058008194\n",
      "Steps : 10700, \t Total Gen Loss : 28.22640609741211, \t Total Dis Loss : 0.000727212056517601\n",
      "Steps : 10800, \t Total Gen Loss : 23.154922485351562, \t Total Dis Loss : 0.005289824213832617\n",
      "Steps : 10900, \t Total Gen Loss : 21.197681427001953, \t Total Dis Loss : 0.0025645243003964424\n",
      "Steps : 11000, \t Total Gen Loss : 22.560922622680664, \t Total Dis Loss : 0.0032645908650010824\n",
      "Steps : 11100, \t Total Gen Loss : 22.949281692504883, \t Total Dis Loss : 0.0006821402348577976\n",
      "Steps : 11200, \t Total Gen Loss : 22.01395034790039, \t Total Dis Loss : 0.0017975801602005959\n",
      "Time for epoch 2 is 285.51734614372253 sec\n",
      "Steps : 11300, \t Total Gen Loss : 22.297842025756836, \t Total Dis Loss : 0.0029454929754137993\n",
      "Steps : 11400, \t Total Gen Loss : 21.23322296142578, \t Total Dis Loss : 0.0004424685030244291\n",
      "Steps : 11500, \t Total Gen Loss : 22.65293312072754, \t Total Dis Loss : 0.0033570793457329273\n",
      "Steps : 11600, \t Total Gen Loss : 24.686662673950195, \t Total Dis Loss : 0.0009107389487326145\n",
      "Steps : 11700, \t Total Gen Loss : 19.524646759033203, \t Total Dis Loss : 0.0033572849351912737\n",
      "Steps : 11800, \t Total Gen Loss : 23.40022850036621, \t Total Dis Loss : 0.0019718960393220186\n",
      "Steps : 11900, \t Total Gen Loss : 24.315446853637695, \t Total Dis Loss : 0.0037758166436105967\n",
      "Steps : 12000, \t Total Gen Loss : 21.925081253051758, \t Total Dis Loss : 0.002351584378629923\n",
      "Steps : 12100, \t Total Gen Loss : 20.995832443237305, \t Total Dis Loss : 0.0011334508890286088\n",
      "Steps : 12200, \t Total Gen Loss : 23.772706985473633, \t Total Dis Loss : 0.0015026740729808807\n",
      "Steps : 12300, \t Total Gen Loss : 24.226520538330078, \t Total Dis Loss : 0.001957213506102562\n",
      "Steps : 12400, \t Total Gen Loss : 24.285634994506836, \t Total Dis Loss : 0.002447732025757432\n",
      "Steps : 12500, \t Total Gen Loss : 25.126399993896484, \t Total Dis Loss : 0.0027682494837790728\n",
      "Steps : 12600, \t Total Gen Loss : 20.686918258666992, \t Total Dis Loss : 0.027903802692890167\n",
      "Steps : 12700, \t Total Gen Loss : 26.922040939331055, \t Total Dis Loss : 0.0005272249109111726\n",
      "Steps : 12800, \t Total Gen Loss : 25.611093521118164, \t Total Dis Loss : 0.0009792187483981252\n",
      "Steps : 12900, \t Total Gen Loss : 23.17319107055664, \t Total Dis Loss : 0.0005770393181592226\n",
      "Steps : 13000, \t Total Gen Loss : 22.28416633605957, \t Total Dis Loss : 0.0016823920886963606\n",
      "Steps : 13100, \t Total Gen Loss : 27.709110260009766, \t Total Dis Loss : 0.00045389230945147574\n",
      "Steps : 13200, \t Total Gen Loss : 24.756582260131836, \t Total Dis Loss : 0.0004492096195463091\n",
      "Steps : 13300, \t Total Gen Loss : 21.850505828857422, \t Total Dis Loss : 0.0009806312154978514\n",
      "Steps : 13400, \t Total Gen Loss : 24.81774139404297, \t Total Dis Loss : 0.002143442863598466\n",
      "Steps : 13500, \t Total Gen Loss : 21.136362075805664, \t Total Dis Loss : 0.0011746801901608706\n",
      "Steps : 13600, \t Total Gen Loss : 21.180871963500977, \t Total Dis Loss : 0.0019113689195364714\n",
      "Steps : 13700, \t Total Gen Loss : 24.831987380981445, \t Total Dis Loss : 0.0008762144716456532\n",
      "Steps : 13800, \t Total Gen Loss : 25.325504302978516, \t Total Dis Loss : 0.0018422692082822323\n",
      "Steps : 13900, \t Total Gen Loss : 24.1599063873291, \t Total Dis Loss : 0.0007924809469841421\n",
      "Steps : 14000, \t Total Gen Loss : 24.940597534179688, \t Total Dis Loss : 0.00047775913844816387\n",
      "Steps : 14100, \t Total Gen Loss : 22.748491287231445, \t Total Dis Loss : 0.0006915067788213491\n",
      "Steps : 14200, \t Total Gen Loss : 25.34367561340332, \t Total Dis Loss : 0.0013319012941792607\n",
      "Steps : 14300, \t Total Gen Loss : 20.106582641601562, \t Total Dis Loss : 0.001417116611264646\n",
      "Steps : 14400, \t Total Gen Loss : 22.52220916748047, \t Total Dis Loss : 0.0004629665636457503\n",
      "Steps : 14500, \t Total Gen Loss : 26.774002075195312, \t Total Dis Loss : 0.001253547496162355\n",
      "Steps : 14600, \t Total Gen Loss : 23.322193145751953, \t Total Dis Loss : 0.002183922566473484\n",
      "Steps : 14700, \t Total Gen Loss : 23.06507682800293, \t Total Dis Loss : 0.0034031295217573643\n",
      "Steps : 14800, \t Total Gen Loss : 23.730667114257812, \t Total Dis Loss : 0.0018639451591297984\n",
      "Steps : 14900, \t Total Gen Loss : 20.924448013305664, \t Total Dis Loss : 0.743198573589325\n",
      "Steps : 15000, \t Total Gen Loss : 23.316909790039062, \t Total Dis Loss : 0.006660223472863436\n",
      "Steps : 15100, \t Total Gen Loss : 23.794658660888672, \t Total Dis Loss : 0.00032775162253528833\n",
      "Steps : 15200, \t Total Gen Loss : 27.455429077148438, \t Total Dis Loss : 0.06115203723311424\n",
      "Steps : 15300, \t Total Gen Loss : 23.18109130859375, \t Total Dis Loss : 0.010727087035775185\n",
      "Steps : 15400, \t Total Gen Loss : 21.83058738708496, \t Total Dis Loss : 0.006696528755128384\n",
      "Steps : 15500, \t Total Gen Loss : 19.296831130981445, \t Total Dis Loss : 0.012113838456571102\n",
      "Steps : 15600, \t Total Gen Loss : 18.60296630859375, \t Total Dis Loss : 0.00806146115064621\n",
      "Steps : 15700, \t Total Gen Loss : 23.446502685546875, \t Total Dis Loss : 0.0028391426894813776\n",
      "Steps : 15800, \t Total Gen Loss : 21.45088768005371, \t Total Dis Loss : 0.006524050608277321\n",
      "Steps : 15900, \t Total Gen Loss : 22.6829891204834, \t Total Dis Loss : 0.005666411481797695\n",
      "Steps : 16000, \t Total Gen Loss : 22.402851104736328, \t Total Dis Loss : 0.0013590316521003842\n",
      "Steps : 16100, \t Total Gen Loss : 20.650657653808594, \t Total Dis Loss : 0.000999347772449255\n",
      "Steps : 16200, \t Total Gen Loss : 22.128082275390625, \t Total Dis Loss : 0.005082554649561644\n",
      "Steps : 16300, \t Total Gen Loss : 22.036405563354492, \t Total Dis Loss : 0.0014096935046836734\n",
      "Steps : 16400, \t Total Gen Loss : 22.729007720947266, \t Total Dis Loss : 0.02302853763103485\n",
      "Steps : 16500, \t Total Gen Loss : 25.493335723876953, \t Total Dis Loss : 0.0011698001762852073\n",
      "Steps : 16600, \t Total Gen Loss : 24.181537628173828, \t Total Dis Loss : 0.014950419776141644\n",
      "Steps : 16700, \t Total Gen Loss : 24.604883193969727, \t Total Dis Loss : 0.0013912711292505264\n",
      "Steps : 16800, \t Total Gen Loss : 25.13642692565918, \t Total Dis Loss : 0.0007995879859663546\n",
      "Time for epoch 3 is 285.16479754447937 sec\n",
      "Steps : 16900, \t Total Gen Loss : 23.135848999023438, \t Total Dis Loss : 0.0003543072962202132\n",
      "Steps : 17000, \t Total Gen Loss : 26.66286277770996, \t Total Dis Loss : 0.00026831350987777114\n",
      "Steps : 17100, \t Total Gen Loss : 24.01205062866211, \t Total Dis Loss : 0.00021209463011473417\n",
      "Steps : 17200, \t Total Gen Loss : 23.656864166259766, \t Total Dis Loss : 0.0017220956506207585\n",
      "Steps : 17300, \t Total Gen Loss : 27.709930419921875, \t Total Dis Loss : 0.002049773931503296\n",
      "Steps : 17400, \t Total Gen Loss : 21.20499610900879, \t Total Dis Loss : 0.002354808384552598\n",
      "Steps : 17500, \t Total Gen Loss : 22.424182891845703, \t Total Dis Loss : 0.004475975874811411\n",
      "Steps : 17600, \t Total Gen Loss : 22.339248657226562, \t Total Dis Loss : 0.0027887937612831593\n"
     ]
    },
    {
     "name": "stdout",
     "output_type": "stream",
     "text": [
      "Steps : 17700, \t Total Gen Loss : 24.63616180419922, \t Total Dis Loss : 0.0013797483406960964\n",
      "Steps : 17800, \t Total Gen Loss : 22.77141571044922, \t Total Dis Loss : 0.0012469749199226499\n",
      "Steps : 17900, \t Total Gen Loss : 23.44056510925293, \t Total Dis Loss : 0.0012601364869624376\n",
      "Steps : 18000, \t Total Gen Loss : 25.036584854125977, \t Total Dis Loss : 0.00022416969295591116\n",
      "Steps : 18100, \t Total Gen Loss : 22.666587829589844, \t Total Dis Loss : 0.0005528422771021724\n",
      "Steps : 18200, \t Total Gen Loss : 24.222370147705078, \t Total Dis Loss : 0.000584521098062396\n",
      "Steps : 18300, \t Total Gen Loss : 24.70542335510254, \t Total Dis Loss : 0.0006694335024803877\n",
      "Steps : 18400, \t Total Gen Loss : 25.41066551208496, \t Total Dis Loss : 0.0003224338870495558\n",
      "Steps : 18500, \t Total Gen Loss : 25.034574508666992, \t Total Dis Loss : 0.0010606974828988314\n",
      "Steps : 18600, \t Total Gen Loss : 23.37576675415039, \t Total Dis Loss : 0.000211805003345944\n",
      "Steps : 18700, \t Total Gen Loss : 21.18553924560547, \t Total Dis Loss : 0.001617514411918819\n",
      "Steps : 18800, \t Total Gen Loss : 24.985754013061523, \t Total Dis Loss : 0.0007849982939660549\n",
      "Steps : 18900, \t Total Gen Loss : 26.933975219726562, \t Total Dis Loss : 0.00022637589427176863\n",
      "Steps : 19000, \t Total Gen Loss : 20.301101684570312, \t Total Dis Loss : 0.004888938739895821\n",
      "Steps : 19100, \t Total Gen Loss : 26.003576278686523, \t Total Dis Loss : 0.0006191466236487031\n",
      "Steps : 19200, \t Total Gen Loss : 22.84303092956543, \t Total Dis Loss : 0.0030846090521663427\n",
      "Steps : 19300, \t Total Gen Loss : 22.088241577148438, \t Total Dis Loss : 0.0022928882390260696\n",
      "Steps : 19400, \t Total Gen Loss : 20.13191032409668, \t Total Dis Loss : 0.0019239900866523385\n",
      "Steps : 19500, \t Total Gen Loss : 21.4324951171875, \t Total Dis Loss : 0.0016108483541756868\n",
      "Steps : 19600, \t Total Gen Loss : 25.566661834716797, \t Total Dis Loss : 0.0005352570442482829\n",
      "Steps : 19700, \t Total Gen Loss : 22.884279251098633, \t Total Dis Loss : 0.0002658909070305526\n",
      "Steps : 19800, \t Total Gen Loss : 24.301414489746094, \t Total Dis Loss : 0.0003083031333517283\n",
      "Steps : 19900, \t Total Gen Loss : 27.209157943725586, \t Total Dis Loss : 0.0003162992652505636\n",
      "Steps : 20000, \t Total Gen Loss : 22.560806274414062, \t Total Dis Loss : 0.006368403788655996\n",
      "Steps : 20100, \t Total Gen Loss : 22.747615814208984, \t Total Dis Loss : 0.0003476293059065938\n",
      "Steps : 20200, \t Total Gen Loss : 26.08991050720215, \t Total Dis Loss : 0.0002681083569768816\n",
      "Steps : 20300, \t Total Gen Loss : 25.6328182220459, \t Total Dis Loss : 0.000577134545892477\n",
      "Steps : 20400, \t Total Gen Loss : 22.40876007080078, \t Total Dis Loss : 0.00048503183643333614\n",
      "Steps : 20500, \t Total Gen Loss : 24.509445190429688, \t Total Dis Loss : 0.003637220710515976\n",
      "Steps : 20600, \t Total Gen Loss : 23.528892517089844, \t Total Dis Loss : 0.0008975067758001387\n",
      "Steps : 20700, \t Total Gen Loss : 23.323097229003906, \t Total Dis Loss : 0.0016725021414458752\n",
      "Steps : 20800, \t Total Gen Loss : 24.720216751098633, \t Total Dis Loss : 0.0011351137654855847\n",
      "Steps : 20900, \t Total Gen Loss : 21.893848419189453, \t Total Dis Loss : 0.005653118249028921\n",
      "Steps : 21000, \t Total Gen Loss : 19.891761779785156, \t Total Dis Loss : 0.0014727412490174174\n",
      "Steps : 21100, \t Total Gen Loss : 25.08713150024414, \t Total Dis Loss : 0.00021475888206623495\n",
      "Steps : 21200, \t Total Gen Loss : 21.443744659423828, \t Total Dis Loss : 0.000889256305526942\n",
      "Steps : 21300, \t Total Gen Loss : 24.619735717773438, \t Total Dis Loss : 0.0003949740494135767\n",
      "Steps : 21400, \t Total Gen Loss : 22.833913803100586, \t Total Dis Loss : 0.00621948204934597\n",
      "Steps : 21500, \t Total Gen Loss : 22.2656192779541, \t Total Dis Loss : 0.002206578152254224\n",
      "Steps : 21600, \t Total Gen Loss : 23.65536117553711, \t Total Dis Loss : 0.0002974783128593117\n",
      "Steps : 21700, \t Total Gen Loss : 23.29796600341797, \t Total Dis Loss : 0.00118598947301507\n",
      "Steps : 21800, \t Total Gen Loss : 22.0603084564209, \t Total Dis Loss : 0.001391692436300218\n",
      "Steps : 21900, \t Total Gen Loss : 29.22575569152832, \t Total Dis Loss : 0.0026709274388849735\n",
      "Steps : 22000, \t Total Gen Loss : 26.635778427124023, \t Total Dis Loss : 0.006155386101454496\n",
      "Steps : 22100, \t Total Gen Loss : 22.35683250427246, \t Total Dis Loss : 0.0023477699141949415\n",
      "Steps : 22200, \t Total Gen Loss : 27.786958694458008, \t Total Dis Loss : 0.0019918435718864202\n",
      "Steps : 22300, \t Total Gen Loss : 27.56842041015625, \t Total Dis Loss : 0.009149933233857155\n",
      "Steps : 22400, \t Total Gen Loss : 21.473548889160156, \t Total Dis Loss : 0.0008337624021805823\n",
      "Steps : 22500, \t Total Gen Loss : 29.14731216430664, \t Total Dis Loss : 0.005104703363031149\n",
      "Time for epoch 4 is 287.0422420501709 sec\n",
      "Steps : 22600, \t Total Gen Loss : 23.93507957458496, \t Total Dis Loss : 0.004635968711227179\n",
      "Steps : 22700, \t Total Gen Loss : 26.504287719726562, \t Total Dis Loss : 0.000205230011488311\n",
      "Steps : 22800, \t Total Gen Loss : 24.45354652404785, \t Total Dis Loss : 0.0005107539473101497\n",
      "Steps : 22900, \t Total Gen Loss : 26.48212432861328, \t Total Dis Loss : 0.0001868557301349938\n",
      "Steps : 23000, \t Total Gen Loss : 27.754920959472656, \t Total Dis Loss : 0.0001621348492335528\n",
      "Steps : 23100, \t Total Gen Loss : 26.848060607910156, \t Total Dis Loss : 0.00022332099615596235\n",
      "Steps : 23200, \t Total Gen Loss : 27.71189308166504, \t Total Dis Loss : 0.00024755686172284186\n",
      "Steps : 23300, \t Total Gen Loss : 24.855871200561523, \t Total Dis Loss : 0.00032940207165665925\n",
      "Steps : 23400, \t Total Gen Loss : 26.321664810180664, \t Total Dis Loss : 0.0005611213855445385\n",
      "Steps : 23500, \t Total Gen Loss : 29.109689712524414, \t Total Dis Loss : 0.000428281316999346\n",
      "Steps : 23600, \t Total Gen Loss : 26.20696258544922, \t Total Dis Loss : 0.0003374753287062049\n",
      "Steps : 23700, \t Total Gen Loss : 30.69809913635254, \t Total Dis Loss : 0.0007977363420650363\n",
      "Steps : 23800, \t Total Gen Loss : 24.504728317260742, \t Total Dis Loss : 0.00012460451398510486\n",
      "Steps : 23900, \t Total Gen Loss : 27.672143936157227, \t Total Dis Loss : 0.00012464493920560926\n",
      "Steps : 24000, \t Total Gen Loss : 31.93950843811035, \t Total Dis Loss : 0.00041275896364822984\n",
      "Steps : 24100, \t Total Gen Loss : 23.32821273803711, \t Total Dis Loss : 0.031241973862051964\n",
      "Steps : 24200, \t Total Gen Loss : 27.2065486907959, \t Total Dis Loss : 0.0003500121529214084\n",
      "Steps : 24300, \t Total Gen Loss : 26.053136825561523, \t Total Dis Loss : 0.0002560737484600395\n",
      "Steps : 24400, \t Total Gen Loss : 28.107654571533203, \t Total Dis Loss : 0.0002956140087917447\n",
      "Steps : 24500, \t Total Gen Loss : 26.87529182434082, \t Total Dis Loss : 0.00016799024888314307\n",
      "Steps : 24600, \t Total Gen Loss : 26.176372528076172, \t Total Dis Loss : 0.0005456204526126385\n",
      "Steps : 24700, \t Total Gen Loss : 30.74959945678711, \t Total Dis Loss : 0.003102552378550172\n",
      "Steps : 24800, \t Total Gen Loss : 31.25048828125, \t Total Dis Loss : 0.0007902411743998528\n",
      "Steps : 24900, \t Total Gen Loss : 26.14080810546875, \t Total Dis Loss : 0.0016099631320685148\n",
      "Steps : 25000, \t Total Gen Loss : 25.215974807739258, \t Total Dis Loss : 0.000651578651741147\n",
      "Steps : 25100, \t Total Gen Loss : 25.476783752441406, \t Total Dis Loss : 0.0011673307744786143\n",
      "Steps : 25200, \t Total Gen Loss : 25.85263442993164, \t Total Dis Loss : 0.0007249806076288223\n",
      "Steps : 25300, \t Total Gen Loss : 28.733402252197266, \t Total Dis Loss : 0.054251208901405334\n",
      "Steps : 25400, \t Total Gen Loss : 29.544862747192383, \t Total Dis Loss : 0.000370706693502143\n",
      "Steps : 25500, \t Total Gen Loss : 29.043670654296875, \t Total Dis Loss : 0.0015464597381651402\n",
      "Steps : 25600, \t Total Gen Loss : 25.763811111450195, \t Total Dis Loss : 0.0015804218128323555\n",
      "Steps : 25700, \t Total Gen Loss : 27.00289535522461, \t Total Dis Loss : 0.00013638715608976781\n",
      "Steps : 25800, \t Total Gen Loss : 26.80801773071289, \t Total Dis Loss : 0.0026693656109273434\n",
      "Steps : 25900, \t Total Gen Loss : 28.551376342773438, \t Total Dis Loss : 0.0005964020965620875\n",
      "Steps : 26000, \t Total Gen Loss : 26.245681762695312, \t Total Dis Loss : 0.0004033008881378919\n",
      "Steps : 26100, \t Total Gen Loss : 26.099082946777344, \t Total Dis Loss : 0.007516120560467243\n",
      "Steps : 26200, \t Total Gen Loss : 24.459674835205078, \t Total Dis Loss : 0.002267600502818823\n",
      "Steps : 26300, \t Total Gen Loss : 25.54596519470215, \t Total Dis Loss : 0.004335529636591673\n"
     ]
    },
    {
     "name": "stdout",
     "output_type": "stream",
     "text": [
      "Steps : 26400, \t Total Gen Loss : 26.870819091796875, \t Total Dis Loss : 0.00015712552703917027\n",
      "Steps : 26500, \t Total Gen Loss : 23.715002059936523, \t Total Dis Loss : 0.00041427236283198\n",
      "Steps : 26600, \t Total Gen Loss : 25.96163558959961, \t Total Dis Loss : 0.0004280090215615928\n",
      "Steps : 26700, \t Total Gen Loss : 24.18981170654297, \t Total Dis Loss : 0.0010532104643061757\n",
      "Steps : 26800, \t Total Gen Loss : 26.270965576171875, \t Total Dis Loss : 0.00023123652499634773\n",
      "Steps : 26900, \t Total Gen Loss : 24.298980712890625, \t Total Dis Loss : 0.00041509734001010656\n",
      "Steps : 27000, \t Total Gen Loss : 23.91424560546875, \t Total Dis Loss : 0.00022978364722803235\n",
      "Steps : 27100, \t Total Gen Loss : 29.056568145751953, \t Total Dis Loss : 0.00013229696196503937\n",
      "Steps : 27200, \t Total Gen Loss : 21.315608978271484, \t Total Dis Loss : 0.0016825663624331355\n",
      "Steps : 27300, \t Total Gen Loss : 23.703983306884766, \t Total Dis Loss : 0.0002876531798392534\n",
      "Steps : 27400, \t Total Gen Loss : 22.46372413635254, \t Total Dis Loss : 0.0014482252299785614\n",
      "Steps : 27500, \t Total Gen Loss : 24.057708740234375, \t Total Dis Loss : 0.00016903407231438905\n",
      "Steps : 27600, \t Total Gen Loss : 26.390798568725586, \t Total Dis Loss : 0.0006864981260150671\n",
      "Steps : 27700, \t Total Gen Loss : 22.485563278198242, \t Total Dis Loss : 0.0010539707727730274\n",
      "Steps : 27800, \t Total Gen Loss : 22.87744140625, \t Total Dis Loss : 0.00029738908051513135\n",
      "Steps : 27900, \t Total Gen Loss : 26.08902359008789, \t Total Dis Loss : 0.0003875145339407027\n",
      "Steps : 28000, \t Total Gen Loss : 23.40536880493164, \t Total Dis Loss : 0.0002950996276922524\n",
      "Steps : 28100, \t Total Gen Loss : 22.131017684936523, \t Total Dis Loss : 0.0018748430302366614\n"
     ]
    },
    {
     "ename": "NameError",
     "evalue": "name 'checkpoint_prefix' is not defined",
     "output_type": "error",
     "traceback": [
      "\u001b[0;31m---------------------------------------------------------------------------\u001b[0m",
      "\u001b[0;31mNameError\u001b[0m                                 Traceback (most recent call last)",
      "\u001b[0;32m<ipython-input-80-eea3e1423a5d>\u001b[0m in \u001b[0;36m<module>\u001b[0;34m\u001b[0m\n\u001b[1;32m     13\u001b[0m \u001b[0;34m\u001b[0m\u001b[0m\n\u001b[1;32m     14\u001b[0m     \u001b[0;32mif\u001b[0m \u001b[0;34m(\u001b[0m\u001b[0mepoch\u001b[0m \u001b[0;34m+\u001b[0m \u001b[0;36m1\u001b[0m\u001b[0;34m)\u001b[0m \u001b[0;34m%\u001b[0m \u001b[0;36m5\u001b[0m \u001b[0;34m==\u001b[0m \u001b[0;36m0\u001b[0m\u001b[0;34m:\u001b[0m\u001b[0;34m\u001b[0m\u001b[0;34m\u001b[0m\u001b[0m\n\u001b[0;32m---> 15\u001b[0;31m         \u001b[0mcheckpoint\u001b[0m\u001b[0;34m.\u001b[0m\u001b[0msave\u001b[0m\u001b[0;34m(\u001b[0m\u001b[0mfile_prefix\u001b[0m \u001b[0;34m=\u001b[0m \u001b[0mcheckpoint_prefix\u001b[0m\u001b[0;34m)\u001b[0m\u001b[0;34m\u001b[0m\u001b[0;34m\u001b[0m\u001b[0m\n\u001b[0m\u001b[1;32m     16\u001b[0m \u001b[0;34m\u001b[0m\u001b[0m\n\u001b[1;32m     17\u001b[0m     \u001b[0mprint\u001b[0m \u001b[0;34m(\u001b[0m\u001b[0;34m'Time for epoch {} is {} sec'\u001b[0m\u001b[0;34m.\u001b[0m\u001b[0mformat\u001b[0m\u001b[0;34m(\u001b[0m\u001b[0mepoch\u001b[0m \u001b[0;34m+\u001b[0m \u001b[0;36m1\u001b[0m\u001b[0;34m,\u001b[0m \u001b[0mtime\u001b[0m\u001b[0;34m.\u001b[0m\u001b[0mtime\u001b[0m\u001b[0;34m(\u001b[0m\u001b[0;34m)\u001b[0m \u001b[0;34m-\u001b[0m \u001b[0mstart\u001b[0m\u001b[0;34m)\u001b[0m\u001b[0;34m)\u001b[0m\u001b[0;34m\u001b[0m\u001b[0;34m\u001b[0m\u001b[0m\n",
      "\u001b[0;31mNameError\u001b[0m: name 'checkpoint_prefix' is not defined"
     ]
    }
   ],
   "source": [
    "max_epochs = 25\n",
    "steps = 0\n",
    "\n",
    "for epoch in range(max_epochs):\n",
    "    start = time.time()\n",
    "\n",
    "    for images, labels in train_dataset:\n",
    "        steps += 1\n",
    "        gen_loss, disc_loss = train_step(images)\n",
    "        \n",
    "        if steps % 100 == 0:\n",
    "            print ('Steps : {}, \\t Total Gen Loss : {}, \\t Total Dis Loss : {}'.format(steps, gen_loss.numpy(), disc_loss.numpy()))\n",
    "        \n",
    "    if (epoch + 1) % 5 == 0:\n",
    "        checkpoint.save(file_prefix = checkpoint_prefix)\n",
    "        \n",
    "    print ('Time for epoch {} is {} sec'.format(epoch + 1, time.time() - start))"
   ]
  },
  {
   "cell_type": "markdown",
   "metadata": {},
   "source": [
    "### Model Evaluation\n",
    "\n",
    " * 학습 도중 저장된 Checkpoint를 아래와 같이 활용할 수 있음"
   ]
  },
  {
   "cell_type": "code",
   "execution_count": 81,
   "metadata": {},
   "outputs": [
    {
     "data": {
      "text/plain": [
       "<tensorflow.python.training.tracking.util.InitializationOnlyStatus at 0x7f9e8dda9f70>"
      ]
     },
     "execution_count": 81,
     "metadata": {},
     "output_type": "execute_result"
    }
   ],
   "source": [
    "checkpoint.restore(tf.train.latest_checkpoint(checkpoint_path))"
   ]
  },
  {
   "cell_type": "code",
   "execution_count": 82,
   "metadata": {},
   "outputs": [],
   "source": [
    "def _evaluate(test_dataset, set_lambda=0.9):\n",
    "    an_scores = []\n",
    "    gt_labels = []\n",
    "    for step, (x_batch_train, y_batch_train) in enumerate(test_dataset):\n",
    "        generated_images = generator(x_batch_train, training=True)\n",
    "        _, feat_real = discriminator(x_batch_train, training=True)\n",
    "        _, feat_fake = discriminator(generated_images, training=True)\n",
    "\n",
    "        generated_images, feat_real, feat_fake = generated_images.numpy(), feat_real.numpy(), feat_fake.numpy()        \n",
    "\n",
    "        rec = abs(x_batch_train - generated_images)\n",
    "        lat = (feat_real - feat_fake) ** 2\n",
    "\n",
    "        rec = tf.reduce_sum(rec, [1,2,3])\n",
    "        lat = tf.reduce_sum(lat, [1,2,3])\n",
    "        \n",
    "        error = (set_lambda * tf.cast(rec, tf.float32)) + ((1 - set_lambda) * tf.cast(lat, tf.float32))\n",
    "        \n",
    "        an_scores.append(error)\n",
    "        gt_labels.append(y_batch_train)\n",
    "        \n",
    "    an_scores = np.concatenate(an_scores, axis=0).reshape([-1])\n",
    "    gt_labels = np.concatenate(gt_labels, axis=0).reshape([-1])\n",
    "    \n",
    "    an_scores = (an_scores - np.amin(an_scores)) / (np.amax(an_scores) - np.amin(an_scores))\n",
    "    \n",
    "    return an_scores, gt_labels"
   ]
  },
  {
   "cell_type": "code",
   "execution_count": 83,
   "metadata": {},
   "outputs": [
    {
     "name": "stdout",
     "output_type": "stream",
     "text": [
      "15000 15000\n"
     ]
    }
   ],
   "source": [
    "an_scores, gt_labels = _evaluate(test_dataset)\n",
    "\n",
    "print(len(an_scores), len(gt_labels))"
   ]
  },
  {
   "cell_type": "markdown",
   "metadata": {},
   "source": [
    " * 아래와 같이 테스트 결과를 원래 라벨에 따라 anomaly 데이터와 normal 데이터로 나누어 따로 분석\n",
    " * 라벨에 따라 anomaly score의 분포가 다르게 나타나는지를 검증"
   ]
  },
  {
   "cell_type": "code",
   "execution_count": 84,
   "metadata": {},
   "outputs": [
    {
     "name": "stdout",
     "output_type": "stream",
     "text": [
      "(9000,)\n",
      "(6000,)\n"
     ]
    }
   ],
   "source": [
    "normal = []\n",
    "anormaly = []\n",
    "for score, label in zip(an_scores, gt_labels):\n",
    "    if label == 0:\n",
    "        anormaly.append(score)\n",
    "    else:\n",
    "        normal.append(score)\n",
    "\n",
    "normal = np.array(normal)\n",
    "print(normal.shape)\n",
    "anormaly = np.array(anormaly)\n",
    "print(anormaly.shape)"
   ]
  },
  {
   "cell_type": "code",
   "execution_count": 85,
   "metadata": {},
   "outputs": [
    {
     "data": {
      "image/png": "[encoded data removed]",
      "text/plain": [
       "<Figure size 432x288 with 1 Axes>"
      ]
     },
     "metadata": {
      "needs_background": "light"
     },
     "output_type": "display_data"
    }
   ],
   "source": [
    "plt.hist(normal, bins=np.linspace(0.0, 1.0, num=100))\n",
    "plt.hist(anormaly, bins=np.linspace(0.0, 1.0, num=100))\n",
    "plt.show()"
   ]
  },
  {
   "cell_type": "code",
   "execution_count": 86,
   "metadata": {},
   "outputs": [
    {
     "name": "stdout",
     "output_type": "stream",
     "text": [
      "0.3768786 0.35720283\n",
      "0.13266867 0.1343133\n"
     ]
    },
    {
     "data": {
      "image/png": "[encoded data removed]",
      "text/plain": [
       "<Figure size 432x288 with 1 Axes>"
      ]
     },
     "metadata": {
      "needs_background": "light"
     },
     "output_type": "display_data"
    }
   ],
   "source": [
    "plt.plot(normal, norm.pdf(normal, np.mean(normal), np.std(normal)), 'o')\n",
    "plt.plot(anormaly, norm.pdf(anormaly, np.mean(anormaly), np.std(anormaly)), 'o')\n",
    "\n",
    "print(np.mean(normal), np.mean(anormaly))\n",
    "print(np.std(normal), np.std(anormaly))"
   ]
  }
 ],
 "metadata": {
  "kernelspec": {
   "display_name": "aiffel",
   "language": "python",
   "name": "aiffel"
  },
  "language_info": {
   "codemirror_mode": {
    "name": "ipython",
    "version": 3
   },
   "file_extension": ".py",
   "mimetype": "text/x-python",
   "name": "python",
   "nbconvert_exporter": "python",
   "pygments_lexer": "ipython3",
   "version": "3.8.5"
  }
 },
 "nbformat": 4,
 "nbformat_minor": 4
}
