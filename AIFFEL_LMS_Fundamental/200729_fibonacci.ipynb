{
 "cells": [
  {
   "cell_type": "code",
   "execution_count": 1,
   "metadata": {},
   "outputs": [],
   "source": [
    "# 피보나치 수열 함수 정의\n",
    "def fi(n):\n",
    "    if n <= 2:\n",
    "        num = 1\n",
    "    else:\n",
    "        num = fi(n-1) + fi(n-2)\n",
    "    return num"
   ]
  },
  {
   "cell_type": "code",
   "execution_count": 5,
   "metadata": {},
   "outputs": [
    {
     "name": "stdout",
     "output_type": "stream",
     "text": [
      "1\n",
      "1\n",
      "2\n",
      "3\n",
      "5\n",
      "8\n",
      "13\n",
      "21\n",
      "34\n",
      "55\n"
     ]
    }
   ],
   "source": [
    "# 함수 실행\n",
    "for n in range(10):\n",
    "    \n",
    "    # n 시작이 0부터 이므로 +1 해준다\n",
    "    print(fi(n+1))"
   ]
  },
  {
   "cell_type": "markdown",
   "metadata": {},
   "source": [
    "- 피보나치 수열은 느리다\n",
    "- 계산을 2^n 번 해야함\n",
    "- 해결방안 : 한번 계산한 내용을 기억해서 불러올수 있도록 하여 중복 계산을 없앤다.\n",
    "\n",
    "- 아이디어\n",
    "1. 딕셔너리를 이용하여 값을 저장할 메모리를 만듬\n",
    "2. 계산할 n번째 피보나치 수가 그전에 계산된적이 있으면(메모리에 저장되어 있으면)\n",
    "   메모리를 통해 불러옴\n",
    "3. 계산된 피보나치수는 메모리에 저장됨"
   ]
  },
  {
   "cell_type": "code",
   "execution_count": 6,
   "metadata": {},
   "outputs": [],
   "source": [
    "# 아이디어 1\n",
    "memory = {1: 1, 2: 1}\n",
    "\n",
    "def fibonacci(n):\n",
    "\n",
    "\t\t# 아이디어 2\n",
    "    if n in memory:\n",
    "        number = memory[n]\n",
    "\n",
    "    else:\n",
    "       number = fibonacci(n-1) + fibonacci(n-2)\n",
    "\t\t\t # 아이디어 3\n",
    "       memory[n] = number\n",
    "    return number"
   ]
  },
  {
   "cell_type": "code",
   "execution_count": 7,
   "metadata": {},
   "outputs": [
    {
     "name": "stdout",
     "output_type": "stream",
     "text": [
      "55\n"
     ]
    }
   ],
   "source": [
    "print(fibonacci(10))"
   ]
  }
 ],
 "metadata": {
  "kernelspec": {
   "display_name": "aiffel",
   "language": "python",
   "name": "aiffel"
  },
  "language_info": {
   "codemirror_mode": {
    "name": "ipython",
    "version": 3
   },
   "file_extension": ".py",
   "mimetype": "text/x-python",
   "name": "python",
   "nbconvert_exporter": "python",
   "pygments_lexer": "ipython3",
   "version": "3.7.6"
  }
 },
 "nbformat": 4,
 "nbformat_minor": 4
}
