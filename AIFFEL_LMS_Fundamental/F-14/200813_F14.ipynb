{
 "cells": [
  {
   "cell_type": "code",
   "execution_count": 13,
   "metadata": {},
   "outputs": [
    {
     "name": "stdout",
     "output_type": "stream",
     "text": [
      "코드 실행 중..🛸\n",
      "완료!\n"
     ]
    }
   ],
   "source": [
    "from tkinter import *\n",
    "import tkinter.ttk as ttk\n",
    "\n",
    "print('코드 실행 중..🛸')\n",
    "window = Tk()   \n",
    "window.title(\"ex3_Button\")   \n",
    "window.geometry(\"1024x512\")     # 윈도우 크기를 좀더 키웁시다.\n",
    "\n",
    "label1 = ttk.Label(window, text=\"Label\")\n",
    "label1.grid(column=0, row=0)\n",
    "\n",
    "combo = ttk.Combobox(window, width=10)\n",
    "combo['values']= (\"A\", \"B\", \"C\")\n",
    "combo.current(0) #set the selected item\n",
    "combo.grid(row=1, column=1)\n",
    "\n",
    "# 텍스트 박스 2개 생성\n",
    "text1 = Text(window, width=60, height=40)\n",
    "text2 = Text(window, width=60, height=40)\n",
    "text1.grid(row=2, column=0, padx=20, pady=10)   \n",
    "text2.grid(row=2, column=1, padx=20, pady=10)\n",
    "\n",
    "# 버튼클릭 이벤트 핸들러 정의\n",
    "def click():\n",
    "    label1.configure(text='버튼이 눌렸습니다.') \n",
    "    \n",
    "    # text1이라는 텍스트 박스에서 \"10.0\" 번째 줄부터 \"end\"(마지막 줄)까지 가져옴\n",
    "    text1_string = text1.get(\"10.0\",\"end\")   \n",
    "    text2_string = \"{} and {}\".format(text1_string, combo.get()) # text2에 들어갈 텍스트값을 생성한 후\n",
    "    text2.delete(1.0, \"end\")     # text2의 텍스트값을 초기화하고 나서 \n",
    "    text2.insert(\"end\", text2_string)   # text2에 새로 생성한 텍스트를 넣어줍니다.  \n",
    "\n",
    "action = ttk.Button(window, text=\"버튼을 눌러주세요\", command=click)   \n",
    "action.grid(row=0, column=1)\n",
    "\n",
    "window.mainloop()\n",
    "print('완료!')"
   ]
  },
  {
   "cell_type": "code",
   "execution_count": 9,
   "metadata": {},
   "outputs": [
    {
     "name": "stdout",
     "output_type": "stream",
     "text": [
      ".!text\n"
     ]
    }
   ],
   "source": [
    "print(text1)"
   ]
  }
 ],
 "metadata": {
  "kernelspec": {
   "display_name": "aiffel",
   "language": "python",
   "name": "aiffel"
  },
  "language_info": {
   "codemirror_mode": {
    "name": "ipython",
    "version": 3
   },
   "file_extension": ".py",
   "mimetype": "text/x-python",
   "name": "python",
   "nbconvert_exporter": "python",
   "pygments_lexer": "ipython3",
   "version": "3.7.6"
  }
 },
 "nbformat": 4,
 "nbformat_minor": 4
}
